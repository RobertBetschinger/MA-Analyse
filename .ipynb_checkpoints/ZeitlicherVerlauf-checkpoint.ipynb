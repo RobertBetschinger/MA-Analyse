{
 "cells": [
  {
   "cell_type": "code",
   "execution_count": 570,
   "id": "04d87ad0",
   "metadata": {},
   "outputs": [
    {
     "name": "stdout",
     "output_type": "stream",
     "text": [
      "Es gibt insgesamt 1966 verschiedene Verkäufer\n",
      "Es gibt insgesamt 1719 Non-Algo Verkäufer\n",
      "Es gibt insgesamt 256 Algo Verkäufer\n",
      "Es gibt insgesamt 1719 Non-Algo Verkäufer\n",
      "Es gibt insgesamt 256 Algo Verkäufer\n"
     ]
    }
   ],
   "source": [
    "import pandas as pd\n",
    "import numpy as np\n",
    "\n",
    "df = pd.read_csv('cleaned_data.csv')\n",
    "df[\"time\"] = pd.to_datetime(df[\"time\"], format=\"%Y-%m-%d %H:%M:%S\")\n",
    "##Transform CrawlTime Column to Fortmat\n",
    "df['crawlTime'] = pd.to_datetime(df['crawlTime'])\n",
    "## Exclude all Rows where condition isnt New and which where a reactive Crawl\n",
    "df = df[df['trigByReactive'] != True]\n",
    "df = df[df['condition'].isin(['Neu', 'New'])]\n",
    "\n",
    "distinct_values_verkäufer = df['sellerName'].unique()\n",
    "print(f\"Es gibt insgesamt {len(distinct_values_verkäufer)} verschiedene Verkäufer\")\n",
    "\n",
    "df_algorithmic_seller_names = pd.read_csv('df_algorithmic_seller_names.csv')\n",
    "df_algorithmic_seller_names = df_algorithmic_seller_names.rename(columns={'AlgorithmicSellerNames': 'sellerName'})  # rename column\n",
    "\n",
    "df_non_algorithmic_seller_names = set(distinct_values_verkäufer) - set(df_algorithmic_seller_names['sellerName'].values)\n",
    "df_non_algorithmic_seller_names = pd.DataFrame({'sellerName': list(df_non_algorithmic_seller_names)})\n",
    "\n",
    "\n",
    "print(f\"Es gibt insgesamt {len(df_non_algorithmic_seller_names)} Non-Algo Verkäufer\")\n",
    "print(f\"Es gibt insgesamt {len(df_algorithmic_seller_names) } Algo Verkäufer\")\n",
    "\n",
    "#Drop Duplicates if necessary. Shoudnt be the case\n",
    "df_non_algorithmic_seller_names = df_non_algorithmic_seller_names.drop_duplicates()\n",
    "df_algorithmic_seller_names = df_algorithmic_seller_names.drop_duplicates()\n",
    "\n",
    "print(f\"Es gibt insgesamt {len(df_non_algorithmic_seller_names)} Non-Algo Verkäufer\")\n",
    "print(f\"Es gibt insgesamt {len(df_algorithmic_seller_names) } Algo Verkäufer\")"
   ]
  },
  {
   "cell_type": "code",
   "execution_count": 571,
   "id": "adba7bd3",
   "metadata": {},
   "outputs": [
    {
     "name": "stdout",
     "output_type": "stream",
     "text": [
      "Es gibt insgesamt 1717 Non-Algo Verkäufer\n",
      "Es gibt insgesamt 254 Algo Verkäufer\n",
      "Es gibt insgesamt 4 Amazon Verkäufer\n"
     ]
    }
   ],
   "source": [
    "seller_names = ['amazon', 'Amazon US', 'Amazon UK','Amazon Warehouse ']\n",
    "\n",
    "# Drop rows with seller names in the seller_names list\n",
    "df_algorithmic_seller_names = df_algorithmic_seller_names[~df_algorithmic_seller_names['sellerName'].isin(seller_names)]\n",
    "df_non_algorithmic_seller_names = df_non_algorithmic_seller_names[~df_non_algorithmic_seller_names['sellerName'].isin(seller_names)]\n",
    "\n",
    "# Transform the seller_names list into a DataFrame\n",
    "amazon_seller_names_df = pd.DataFrame(seller_names, columns=['sellerName'])\n",
    "\n",
    "print(f\"Es gibt insgesamt {len(df_non_algorithmic_seller_names)} Non-Algo Verkäufer\")\n",
    "print(f\"Es gibt insgesamt {len(df_algorithmic_seller_names) } Algo Verkäufer\")\n",
    "print(f\"Es gibt insgesamt {len(amazon_seller_names_df) } Amazon Verkäufer\")"
   ]
  },
  {
   "cell_type": "code",
   "execution_count": 572,
   "id": "4d82a6c3",
   "metadata": {},
   "outputs": [
    {
     "name": "stdout",
     "output_type": "stream",
     "text": [
      "An so vielen Asins ist Amazon als Verkäufer eingetragen:661\n",
      "An so vielen Asins ist Amazon nicht als Verkäufer eingetragen:313\n",
      "So Viele unterschiedliche Asins gibt es maximal 974\n"
     ]
    }
   ],
   "source": [
    "amazon_asin_values = df.loc[df['sellerName'].isin(['amazon', 'Amazon Warehouse ', 'Amazon US', 'Amazon UK']), 'asin'].unique()\n",
    "print(f\"An so vielen Asins ist Amazon als Verkäufer eingetragen:{len(amazon_asin_values)}\")\n",
    "\n",
    "# Assuming the DataFrame is named 'df'\n",
    "all_asin_values = df['asin'].unique()\n",
    "\n",
    "# Subtract the values that exist in the 'amazon_asin_values' list\n",
    "non_amazon_asin_values = set(all_asin_values) - set(amazon_asin_values)\n",
    "print(f\"An so vielen Asins ist Amazon nicht als Verkäufer eingetragen:{len(non_amazon_asin_values)}\")\n",
    "print(f\"So Viele unterschiedliche Asins gibt es maximal {len(all_asin_values)}\")\n",
    "\n",
    "# Create a DataFrame with only Amazon-sold products\n",
    "amazon_df = df[df['asin'].isin(amazon_asin_values)]\n",
    "# Create a DataFrame with only non-Amazon-sold products\n",
    "non_amazon_df = df[df['asin'].isin(non_amazon_asin_values)]"
   ]
  },
  {
   "cell_type": "code",
   "execution_count": 573,
   "id": "d3e603b3",
   "metadata": {},
   "outputs": [],
   "source": [
    "## Zeitlicher Verlauf bei Non-Amazon Produkten\n",
    "\n",
    "# Step 1: Group non_amazon_df by 'asin' and 'time'\n",
    "amazon_df = amazon_df.groupby(['asin'])\n",
    "# Step 2: Define a function to filter groups with at least one algorithmic and one non-algorithmic seller\n",
    "def filter_mixed_sellers(group):\n",
    "    algorithmic_present = group['sellerName'].isin(df_algorithmic_seller_names['sellerName']).any()\n",
    "    non_algorithmic_present = group['sellerName'].isin(df_non_algorithmic_seller_names['sellerName']).any()\n",
    "    return algorithmic_present and non_algorithmic_present\n",
    "\n",
    "# Step 3: Apply the function to the grouped data and save the results in a new DataFrame\n",
    "mixed_sellers_df_amazon_products = amazon_df.filter(filter_mixed_sellers)"
   ]
  },
  {
   "cell_type": "code",
   "execution_count": 574,
   "id": "ebb657c3",
   "metadata": {},
   "outputs": [],
   "source": [
    "# define a function to extract hour from datetime column\n",
    "def get_hour(datetime_val):\n",
    "    return datetime_val.hour\n",
    "\n",
    "# apply the get_hour function to the 'time' column using apply method\n",
    "mixed_sellers_df_amazon_products['hourTime'] = mixed_sellers_df_amazon_products['time'].apply(get_hour)\n",
    "\n",
    "# print the updated DataFrame"
   ]
  },
  {
   "cell_type": "code",
   "execution_count": null,
   "id": "d11fc229",
   "metadata": {},
   "outputs": [],
   "source": []
  },
  {
   "cell_type": "code",
   "execution_count": null,
   "id": "51516440",
   "metadata": {},
   "outputs": [],
   "source": []
  },
  {
   "cell_type": "code",
   "execution_count": null,
   "id": "798254b3",
   "metadata": {},
   "outputs": [],
   "source": []
  },
  {
   "cell_type": "code",
   "execution_count": null,
   "id": "94f536bd",
   "metadata": {},
   "outputs": [],
   "source": []
  },
  {
   "cell_type": "code",
   "execution_count": 575,
   "id": "276cbe81",
   "metadata": {
    "scrolled": false
   },
   "outputs": [],
   "source": [
    "import matplotlib.pyplot as plt\n",
    "import matplotlib.dates as mdates\n",
    "import pandas as pd\n",
    "import random\n",
    "\n",
    "# Step 1: Filter the ASINs with a range of 4-5 sellers\n",
    "asin_seller_counts = mixed_sellers_df_amazon_products.groupby('asin')['sellerName'].nunique()\n",
    "filtered_asins = asin_seller_counts[(asin_seller_counts >= 3) & (asin_seller_counts <= 5)].index\n",
    "\n",
    "# Step 2: Select a random ASIN from the filtered ASINs\n",
    "random_asin = random.choice(filtered_asins)\n",
    "\n",
    "# Step 3: Filter the DataFrame for the selected ASIN\n",
    "asin_specific_df = mixed_sellers_df_amazon_products[mixed_sellers_df_amazon_products['asin'] == random_asin].copy()\n",
    "\n",
    "# assuming your original dataframe is called 'asin_specific_df'\n",
    "selected_cols = ['time','crawlTime','asin','price', 'sellerName', 'hourTime']\n",
    "asin_specific_df = asin_specific_df[selected_cols]\n",
    "# swap hourTime values that are equal to 0 with 24\n",
    "asin_specific_df.loc[asin_specific_df['hourTime'] == 0, 'hourTime'] = 24\n",
    "\n",
    "# sort the dataframe by hourTime in descending order\n",
    "asin_specific_df_sorted = asin_specific_df.sort_values(by=['hourTime'], ascending=True)\n",
    "\n",
    "# display the sorted dataframe as an HTML table\n",
    "#HTML(asin_specific_df_sorted.to_html(index=False))\n",
    "asin = asin_specific_df['asin'].unique()"
   ]
  },
  {
   "cell_type": "code",
   "execution_count": 576,
   "id": "20ec0c21",
   "metadata": {
    "scrolled": true
   },
   "outputs": [
    {
     "name": "stderr",
     "output_type": "stream",
     "text": [
      "C:\\Users\\Robert Betschinger\\AppData\\Local\\Temp\\ipykernel_29424\\3007220296.py:12: FutureWarning: The default value of numeric_only in DataFrameGroupBy.mean is deprecated. In a future version, numeric_only will default to False. Either specify numeric_only or select only columns which should be valid for the function.\n",
      "  grouped_df = asin_specific_df.groupby(['time', 'sellerName']).mean().reset_index()\n"
     ]
    },
    {
     "data": {
      "image/png": "[encoded data removed]",
      "text/plain": [
       "<Figure size 640x480 with 1 Axes>"
      ]
     },
     "metadata": {},
     "output_type": "display_data"
    }
   ],
   "source": [
    "import pandas as pd\n",
    "import matplotlib.pyplot as plt\n",
    "\n",
    "# assuming your dataframe is called 'asin_specific_df'\n",
    "selected_cols = ['price', 'sellerName', 'time','crawlTime']\n",
    "asin_specific_df = asin_specific_df[selected_cols]\n",
    "\n",
    "# ensure 'time' column is in datetime64[ns] format\n",
    "asin_specific_df['time'] = pd.to_datetime(asin_specific_df['time'])\n",
    "\n",
    "# group the data by time and sellerName and calculate the average price\n",
    "grouped_df = asin_specific_df.groupby(['time', 'sellerName']).mean().reset_index()\n",
    "\n",
    "# add seller type to sellerName\n",
    "grouped_df['sellerName'] = grouped_df['sellerName'].apply(\n",
    "    lambda x: f\"{x} (Algorithmic)\" if x in df_algorithmic_seller_names['sellerName'].values else f\"{x}\"\n",
    ")\n",
    "\n",
    "# pivot the table to get a separate column for each seller\n",
    "pivot_df = grouped_df.pivot(index='time', columns='sellerName', values='price')\n",
    "\n",
    "# plot the price history for each seller\n",
    "pivot_df.plot(kind='line')\n",
    "\n",
    "# set the x-axis label\n",
    "plt.xlabel('Time')\n",
    "\n",
    "# set the y-axis label\n",
    "plt.ylabel('Price')\n",
    "\n",
    "# set the plot title\n",
    "plt.title(f'Price History Across Sellers for Asin: {asin}')\n",
    "\n",
    "# move legend to the right\n",
    "plt.legend(loc='center left', bbox_to_anchor=(1.0, 0.5))\n",
    "\n",
    "# show the plot\n",
    "plt.show()\n"
   ]
  },
  {
   "cell_type": "code",
   "execution_count": null,
   "id": "60a4987e",
   "metadata": {},
   "outputs": [],
   "source": []
  }
 ],
 "metadata": {
  "kernelspec": {
   "display_name": "Python 3 (ipykernel)",
   "language": "python",
   "name": "python3"
  },
  "language_info": {
   "codemirror_mode": {
    "name": "ipython",
    "version": 3
   },
   "file_extension": ".py",
   "mimetype": "text/x-python",
   "name": "python",
   "nbconvert_exporter": "python",
   "pygments_lexer": "ipython3",
   "version": "3.10.9"
  }
 },
 "nbformat": 4,
 "nbformat_minor": 5
}
