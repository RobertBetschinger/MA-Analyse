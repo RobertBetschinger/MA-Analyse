{
 "cells": [
  {
   "cell_type": "markdown",
   "id": "6951ce2f",
   "metadata": {},
   "source": [
    "## Random Forrest but with relative Data (Similar to Chen Paper)"
   ]
  },
  {
   "cell_type": "code",
   "execution_count": 93,
   "id": "78a19c0f",
   "metadata": {},
   "outputs": [
    {
     "name": "stderr",
     "output_type": "stream",
     "text": [
      "C:\\Users\\Robert Betschinger\\AppData\\Local\\Temp\\ipykernel_1952\\2869518112.py:15: FutureWarning: Not prepending group keys to the result index of transform-like apply. In the future, the group keys will be included in the index, regardless of whether the applied function returns a like-indexed object.\n",
      "To preserve the previous behavior, use\n",
      "\n",
      "\t>>> .groupby(..., group_keys=False)\n",
      "\n",
      "To adopt the future behavior and silence this warning, use \n",
      "\n",
      "\t>>> .groupby(..., group_keys=True)\n",
      "  df = grouped_df.apply(calculate_price_diff_and_ratio)\n"
     ]
    },
    {
     "name": "stdout",
     "output_type": "stream",
     "text": [
      "Number of rows sold by Amazon: 63066\n"
     ]
    }
   ],
   "source": [
    "import pandas as pd\n",
    "import numpy as np\n",
    "df = pd.read_csv('cleaned_data.csv')\n",
    "## Exclude all Rows where condition isnt New and which where a reactive Crawl\n",
    "df = df[df['trigByReactive'] != True]\n",
    "df = df[df['condition'].isin(['Neu', 'New'])]\n",
    "\n",
    "def calculate_price_diff_and_ratio(group):\n",
    "    min_price = group['price'].min()\n",
    "    group['price_diff'] = group['price'] - min_price\n",
    "    group['price_ratio'] = group['price'] / min_price\n",
    "    return group\n",
    "\n",
    "grouped_df = df.groupby(['asin', 'time'])\n",
    "df = grouped_df.apply(calculate_price_diff_and_ratio)\n",
    "\n",
    "# Create a new column 'is_amazon' and set its value to True if the sellerName is 'Amazon', else set it to False\n",
    "df['is_amazon'] = df['sellerName'] == 'amazon'\n",
    "\n",
    "# Count the number of rows where 'is_amazon' is True\n",
    "amazon_count = df['is_amazon'].sum()\n",
    "\n",
    "print(f\"Number of rows sold by Amazon: {amazon_count}\")\n"
   ]
  },
  {
   "cell_type": "code",
   "execution_count": 94,
   "id": "dafbeb41",
   "metadata": {},
   "outputs": [
    {
     "name": "stdout",
     "output_type": "stream",
     "text": [
      "Length of NAN Values for Lieferpreis: 0\n",
      "75258\n",
      "21277.529429281847\n",
      "<class 'pandas.core.frame.DataFrame'>\n",
      "Int64Index: 807616 entries, 0 to 1009328\n",
      "Data columns (total 25 columns):\n",
      " #   Column                Non-Null Count   Dtype  \n",
      "---  ------                --------------   -----  \n",
      " 0   asin                  807616 non-null  object \n",
      " 1   time                  807616 non-null  object \n",
      " 2   id                    807616 non-null  float64\n",
      " 3   price                 807616 non-null  float64\n",
      " 4   currency              807616 non-null  object \n",
      " 5   crawlTime             807616 non-null  object \n",
      " 6   condition             807616 non-null  object \n",
      " 7   sellerName            807616 non-null  object \n",
      " 8   sellerId              807616 non-null  object \n",
      " 9   sellerbewertung       807616 non-null  int32  \n",
      " 10  seller_sterne         807616 non-null  float64\n",
      " 11  lieferdatum           776241 non-null  object \n",
      " 12  lieferpreis           807616 non-null  float64\n",
      " 13  lieferung_durch       807616 non-null  object \n",
      " 14  ranking               807616 non-null  float64\n",
      " 15  buyBoxWinner          807616 non-null  bool   \n",
      " 16  numberOfSellers       807616 non-null  float64\n",
      " 17  trigByReactive        807616 non-null  bool   \n",
      " 18  time_gap              807616 non-null  float64\n",
      " 19  copyed_cause_missing  807616 non-null  bool   \n",
      " 20  Fulfillment_type      807616 non-null  object \n",
      " 21  date_diff             761224 non-null  float64\n",
      " 22  price_diff            807616 non-null  float64\n",
      " 23  price_ratio           807616 non-null  float64\n",
      " 24  is_amazon             807616 non-null  bool   \n",
      "dtypes: bool(4), float64(10), int32(1), object(10)\n",
      "memory usage: 167.8+ MB\n"
     ]
    }
   ],
   "source": [
    "## Encode Features with Label Encoding\n",
    "##Lieferpreis\n",
    "nan_rows = df[df['lieferpreis'].isna()]\n",
    "amazon_count = nan_rows['sellerName'].str.contains('amazon', case=False).sum()\n",
    "amazon_count\n",
    "df['lieferpreis'] = df['lieferpreis'].fillna(0)\n",
    "nan_rows = df[df['lieferpreis'].isna()]\n",
    "print(f\"Length of NAN Values for Lieferpreis: {len(nan_rows)}\")\n",
    "## Sellerbewertung\n",
    "nan_rows = df[df['sellerbewertung'].isna()]\n",
    "print(len(nan_rows))\n",
    "amazon_count = nan_rows['sellerName'].str.contains('amazon', case=False).sum()\n",
    "amazon_count\n",
    "\n",
    "# Calculate the mean value of the \"sellerbewertung\" column\n",
    "mean_sellerbewertung = df['sellerbewertung'].mean()\n",
    "print(mean_sellerbewertung)\n",
    "\n",
    "# Replace all NaN values in the \"sellerbewertung\" column with the mean value\n",
    "df['sellerbewertung'] = df['sellerbewertung'].fillna(mean_sellerbewertung)\n",
    "df['sellerbewertung'] = df['sellerbewertung'].round().astype(int)\n",
    "df.info()"
   ]
  },
  {
   "cell_type": "code",
   "execution_count": 95,
   "id": "6424f988",
   "metadata": {},
   "outputs": [],
   "source": [
    "##Datediff\n",
    "fba_rows = df[df['Fulfillment_type'] == 'FBA']\n",
    "if fba_rows.empty:\n",
    "    print('There are no rows where \"Fulfillment_type\" is \"fba\".')\n",
    "else:\n",
    "    # Calculate the mean value of the \"date_diff\" column where \"fulfillment_type\" is \"fba\"\n",
    "    mean_date_diff_fba = fba_rows['date_diff'].mean()\n",
    "    #print(f'The mean value of \"date_diff\" where \"Fulfillment_type  \" is \"fba\" is: {mean_date_diff_fba}')\n",
    "\n",
    "# Round the mean value to the nearest integer\n",
    "rounded_mean_date_diff_fba = round(mean_date_diff_fba)\n",
    "# Replace all NaN values in the \"date_diff\" column with the rounded mean value\n",
    "df['date_diff'] = df['date_diff'].fillna(rounded_mean_date_diff_fba).astype(int)"
   ]
  },
  {
   "cell_type": "code",
   "execution_count": 96,
   "id": "28e19c00",
   "metadata": {},
   "outputs": [],
   "source": [
    "from sklearn.preprocessing import LabelEncoder\n",
    "categorical_features = ['asin', 'sellerId', 'Fulfillment_type']\n",
    "\n",
    "# Create a LabelEncoder object and fit it to each categorical feature\n",
    "for feature in categorical_features:\n",
    "    le = LabelEncoder()\n",
    "    df[feature] = le.fit_transform(df[feature])"
   ]
  },
  {
   "cell_type": "code",
   "execution_count": 97,
   "id": "0cd5895e",
   "metadata": {},
   "outputs": [
    {
     "data": {
      "text/html": [
       "<div>\n",
       "<style scoped>\n",
       "    .dataframe tbody tr th:only-of-type {\n",
       "        vertical-align: middle;\n",
       "    }\n",
       "\n",
       "    .dataframe tbody tr th {\n",
       "        vertical-align: top;\n",
       "    }\n",
       "\n",
       "    .dataframe thead th {\n",
       "        text-align: right;\n",
       "    }\n",
       "</style>\n",
       "<table border=\"1\" class=\"dataframe\">\n",
       "  <thead>\n",
       "    <tr style=\"text-align: right;\">\n",
       "      <th></th>\n",
       "      <th>asin</th>\n",
       "      <th>time</th>\n",
       "      <th>id</th>\n",
       "      <th>price</th>\n",
       "      <th>currency</th>\n",
       "      <th>crawlTime</th>\n",
       "      <th>condition</th>\n",
       "      <th>sellerName</th>\n",
       "      <th>sellerId</th>\n",
       "      <th>sellerbewertung</th>\n",
       "      <th>...</th>\n",
       "      <th>buyBoxWinner</th>\n",
       "      <th>numberOfSellers</th>\n",
       "      <th>trigByReactive</th>\n",
       "      <th>time_gap</th>\n",
       "      <th>copyed_cause_missing</th>\n",
       "      <th>Fulfillment_type</th>\n",
       "      <th>date_diff</th>\n",
       "      <th>price_diff</th>\n",
       "      <th>price_ratio</th>\n",
       "      <th>is_amazon</th>\n",
       "    </tr>\n",
       "  </thead>\n",
       "  <tbody>\n",
       "    <tr>\n",
       "      <th>1009324</th>\n",
       "      <td>973</td>\n",
       "      <td>1.679249e+09</td>\n",
       "      <td>39396.0</td>\n",
       "      <td>44.95</td>\n",
       "      <td>€</td>\n",
       "      <td>2023-03-19 17:58:12.228703</td>\n",
       "      <td>New</td>\n",
       "      <td>BERSERK MEDIA</td>\n",
       "      <td>806</td>\n",
       "      <td>461</td>\n",
       "      <td>...</td>\n",
       "      <td>False</td>\n",
       "      <td>6.0</td>\n",
       "      <td>False</td>\n",
       "      <td>-1.0</td>\n",
       "      <td>True</td>\n",
       "      <td>1</td>\n",
       "      <td>32</td>\n",
       "      <td>8.06</td>\n",
       "      <td>1.218487</td>\n",
       "      <td>False</td>\n",
       "    </tr>\n",
       "    <tr>\n",
       "      <th>1009325</th>\n",
       "      <td>973</td>\n",
       "      <td>1.679249e+09</td>\n",
       "      <td>39397.0</td>\n",
       "      <td>46.99</td>\n",
       "      <td>€</td>\n",
       "      <td>2023-03-19 17:58:12.229013</td>\n",
       "      <td>New</td>\n",
       "      <td>Brickcomplete - Rasche Lieferung!</td>\n",
       "      <td>101</td>\n",
       "      <td>506</td>\n",
       "      <td>...</td>\n",
       "      <td>False</td>\n",
       "      <td>6.0</td>\n",
       "      <td>False</td>\n",
       "      <td>-1.0</td>\n",
       "      <td>True</td>\n",
       "      <td>1</td>\n",
       "      <td>4</td>\n",
       "      <td>10.10</td>\n",
       "      <td>1.273787</td>\n",
       "      <td>False</td>\n",
       "    </tr>\n",
       "    <tr>\n",
       "      <th>1009326</th>\n",
       "      <td>973</td>\n",
       "      <td>1.679249e+09</td>\n",
       "      <td>39398.0</td>\n",
       "      <td>43.36</td>\n",
       "      <td>€</td>\n",
       "      <td>2023-03-19 17:58:12.229350</td>\n",
       "      <td>New</td>\n",
       "      <td>Taschengelddieb</td>\n",
       "      <td>699</td>\n",
       "      <td>284</td>\n",
       "      <td>...</td>\n",
       "      <td>False</td>\n",
       "      <td>6.0</td>\n",
       "      <td>False</td>\n",
       "      <td>-1.0</td>\n",
       "      <td>True</td>\n",
       "      <td>1</td>\n",
       "      <td>4</td>\n",
       "      <td>6.47</td>\n",
       "      <td>1.175386</td>\n",
       "      <td>False</td>\n",
       "    </tr>\n",
       "    <tr>\n",
       "      <th>1009327</th>\n",
       "      <td>973</td>\n",
       "      <td>1.679249e+09</td>\n",
       "      <td>39399.0</td>\n",
       "      <td>36.89</td>\n",
       "      <td>€</td>\n",
       "      <td>2023-03-19 17:58:12.229680</td>\n",
       "      <td>New</td>\n",
       "      <td>Renax Toys - Schnelle Lieferung</td>\n",
       "      <td>1928</td>\n",
       "      <td>234</td>\n",
       "      <td>...</td>\n",
       "      <td>False</td>\n",
       "      <td>6.0</td>\n",
       "      <td>False</td>\n",
       "      <td>-1.0</td>\n",
       "      <td>True</td>\n",
       "      <td>1</td>\n",
       "      <td>4</td>\n",
       "      <td>0.00</td>\n",
       "      <td>1.000000</td>\n",
       "      <td>False</td>\n",
       "    </tr>\n",
       "    <tr>\n",
       "      <th>1009328</th>\n",
       "      <td>973</td>\n",
       "      <td>1.679249e+09</td>\n",
       "      <td>39400.0</td>\n",
       "      <td>42.99</td>\n",
       "      <td>€</td>\n",
       "      <td>2023-03-19 17:58:12.229983</td>\n",
       "      <td>New</td>\n",
       "      <td>ms-plueth</td>\n",
       "      <td>1169</td>\n",
       "      <td>305</td>\n",
       "      <td>...</td>\n",
       "      <td>False</td>\n",
       "      <td>6.0</td>\n",
       "      <td>False</td>\n",
       "      <td>-1.0</td>\n",
       "      <td>True</td>\n",
       "      <td>1</td>\n",
       "      <td>4</td>\n",
       "      <td>6.10</td>\n",
       "      <td>1.165356</td>\n",
       "      <td>False</td>\n",
       "    </tr>\n",
       "  </tbody>\n",
       "</table>\n",
       "<p>5 rows × 25 columns</p>\n",
       "</div>"
      ],
      "text/plain": [
       "         asin          time       id  price currency  \\\n",
       "1009324   973  1.679249e+09  39396.0  44.95        €   \n",
       "1009325   973  1.679249e+09  39397.0  46.99        €   \n",
       "1009326   973  1.679249e+09  39398.0  43.36        €   \n",
       "1009327   973  1.679249e+09  39399.0  36.89        €   \n",
       "1009328   973  1.679249e+09  39400.0  42.99        €   \n",
       "\n",
       "                          crawlTime condition  \\\n",
       "1009324  2023-03-19 17:58:12.228703       New   \n",
       "1009325  2023-03-19 17:58:12.229013       New   \n",
       "1009326  2023-03-19 17:58:12.229350       New   \n",
       "1009327  2023-03-19 17:58:12.229680       New   \n",
       "1009328  2023-03-19 17:58:12.229983       New   \n",
       "\n",
       "                                sellerName  sellerId  sellerbewertung  ...  \\\n",
       "1009324                      BERSERK MEDIA       806              461  ...   \n",
       "1009325  Brickcomplete - Rasche Lieferung!       101              506  ...   \n",
       "1009326                    Taschengelddieb       699              284  ...   \n",
       "1009327    Renax Toys - Schnelle Lieferung      1928              234  ...   \n",
       "1009328                          ms-plueth      1169              305  ...   \n",
       "\n",
       "         buyBoxWinner numberOfSellers  trigByReactive time_gap  \\\n",
       "1009324         False             6.0           False     -1.0   \n",
       "1009325         False             6.0           False     -1.0   \n",
       "1009326         False             6.0           False     -1.0   \n",
       "1009327         False             6.0           False     -1.0   \n",
       "1009328         False             6.0           False     -1.0   \n",
       "\n",
       "         copyed_cause_missing  Fulfillment_type  date_diff  price_diff  \\\n",
       "1009324                  True                 1         32        8.06   \n",
       "1009325                  True                 1          4       10.10   \n",
       "1009326                  True                 1          4        6.47   \n",
       "1009327                  True                 1          4        0.00   \n",
       "1009328                  True                 1          4        6.10   \n",
       "\n",
       "         price_ratio  is_amazon  \n",
       "1009324     1.218487      False  \n",
       "1009325     1.273787      False  \n",
       "1009326     1.175386      False  \n",
       "1009327     1.000000      False  \n",
       "1009328     1.165356      False  \n",
       "\n",
       "[5 rows x 25 columns]"
      ]
     },
     "execution_count": 97,
     "metadata": {},
     "output_type": "execute_result"
    }
   ],
   "source": [
    "# Convert the datetime column to a numeric value\n",
    "df[\"time\"] = pd.to_datetime(df[\"time\"], format=\"%Y-%m-%d %H:%M:%S\")\n",
    "df[\"time\"] = df[\"time\"].apply(lambda x: x.timestamp())\n",
    "df.tail()"
   ]
  },
  {
   "cell_type": "markdown",
   "id": "9714a4aa",
   "metadata": {},
   "source": [
    "# Actual Random Forrest Classifier"
   ]
  },
  {
   "cell_type": "code",
   "execution_count": 98,
   "id": "09e5006c",
   "metadata": {},
   "outputs": [
    {
     "data": {
      "image/png": "[encoded data removed]",
      "text/plain": [
       "<Figure size 300x300 with 1 Axes>"
      ]
     },
     "metadata": {},
     "output_type": "display_data"
    },
    {
     "name": "stdout",
     "output_type": "stream",
     "text": [
      "AUC: 0.9817412477330703\n"
     ]
    }
   ],
   "source": [
    "from sklearn.model_selection import train_test_split\n",
    "from sklearn.ensemble import RandomForestClassifier\n",
    "from sklearn.metrics import accuracy_score, classification_report, confusion_matrix\n",
    "from sklearn.metrics import roc_auc_score\n",
    "from sklearn.metrics import balanced_accuracy_score\n",
    "import matplotlib.pyplot as plt\n",
    "\n",
    "#Maybe its better to ignore the Column Sellerbewertung\n",
    "#Testing without SellerID\n",
    "\n",
    "#X = df[['asin','time', 'price','sellerbewertung','seller_sterne','lieferpreis','Fulfillment_type','date_diff','numberOfSellers']]\n",
    "X = df[['price_diff','price_ratio','seller_sterne','sellerbewertung','Fulfillment_type','lieferpreis','date_diff','is_amazon','numberOfSellers']]\n",
    "#X = df[['price_diff','price_ratio','seller_sterne','sellerbewertung','Fulfillment_type','is_amazon']]\n",
    "y = df['buyBoxWinner']\n",
    "\n",
    "X_train, X_test, y_train, y_test = train_test_split(X, y, test_size=0.3, random_state=42,stratify=y)\n",
    "\n",
    "# Create and train the Random Forest Classifier\n",
    "rfc = RandomForestClassifier(n_estimators=100, random_state=42)\n",
    "rfc.fit(X_train, y_train)\n",
    "\n",
    "# Make predictions on the test set\n",
    "y_pred = rfc.predict(X_test)\n",
    "\n",
    "\n",
    "# Calculate the confusion matrix\n",
    "# The Printing of the confusion matrix, is partially buggy. Follow this Tutorial to retrive the right matrix:\n",
    "##This Code is based on the Example from: https://vitalflux.com/python-draw-confusion-matrix-matplotlib/\n",
    "conf_matrix = confusion_matrix(y_true=y_test, y_pred=y_pred)\n",
    "\n",
    "# Swap True Positives and True Negatives\n",
    "conf_matrix[0,0], conf_matrix[1,1] = conf_matrix[1,1], conf_matrix[0,0]\n",
    "\n",
    "# Print the confusion matrix using Matplotlib\n",
    "fig, ax = plt.subplots(figsize=(3, 3))\n",
    "ax.matshow(conf_matrix, cmap=plt.cm.Blues, alpha=0.3)\n",
    "for i in range(conf_matrix.shape[0]):\n",
    "    for j in range(conf_matrix.shape[1]):\n",
    "        ax.text(x=j, y=i,s=conf_matrix[i, j], va='center', ha='center', size='x-large')\n",
    "\n",
    "plt.xlabel('Actuals', fontsize=15)\n",
    "plt.ylabel('Predictions', fontsize=15)\n",
    "plt.title('Confusion Matrix', fontsize=15)\n",
    "plt.show()\n",
    "\n",
    "\n",
    "#Area under The Curve ausrechnen lassen\n",
    "# Calculate the AUC\n",
    "#The AUC (area under the ROC curve) is a measure of the performance of a binary classification model. \n",
    "#It represents the degree to which the model is able to distinguish between positive and negative examples. \n",
    "#The AUC ranges from 0 to 1, with higher values indicating better performance.\n",
    "auc = roc_auc_score(y_test, y_pred)\n",
    "print(\"AUC:\", auc)\n",
    "\n",
    "#Balanced ACC\n",
    "#bal_acc = balanced_accuracy_score(y_test, y_pred)\n",
    "#print(\"Balanced accuracy:\", bal_acc)"
   ]
  },
  {
   "cell_type": "code",
   "execution_count": 99,
   "id": "d48c2839",
   "metadata": {},
   "outputs": [
    {
     "name": "stdout",
     "output_type": "stream",
     "text": [
      "The Number of Rows winning the BuyBox in the total Dataframe is 91337\n",
      "The Number of Rows winning the BuyBox in the Test-Set is 27401\n"
     ]
    }
   ],
   "source": [
    "num_true = (df['buyBoxWinner'] == True).sum()\n",
    "num_true\n",
    "print(f\"The Number of Rows winning the BuyBox in the total Dataframe is {num_true}\")\n",
    "print(f\"The Number of Rows winning the BuyBox in the Test-Set is {conf_matrix[0,0] + conf_matrix[1,0]}\")"
   ]
  },
  {
   "cell_type": "code",
   "execution_count": 100,
   "id": "d1e0ec5d",
   "metadata": {},
   "outputs": [
    {
     "name": "stdout",
     "output_type": "stream",
     "text": [
      "False    214884\n",
      "True      27401\n",
      "Name: buyBoxWinner, dtype: int64\n",
      "The number of rows in the train set is: 565331\n",
      "The number of rows in the test set is: 242285\n"
     ]
    }
   ],
   "source": [
    "value_counts = y_test.value_counts()\n",
    "# print the result\n",
    "print(value_counts)\n",
    "# Count the number of rows in the train and test sets\n",
    "num_rows_train = X_train.shape[0]\n",
    "num_rows_test = X_test.shape[0]\n",
    "# Print the results\n",
    "print(f'The number of rows in the train set is: {num_rows_train}')\n",
    "print(f'The number of rows in the test set is: {num_rows_test}')"
   ]
  },
  {
   "cell_type": "code",
   "execution_count": 101,
   "id": "91a5e287",
   "metadata": {},
   "outputs": [
    {
     "name": "stdout",
     "output_type": "stream",
     "text": [
      "Accuracy: 99.27%\n",
      "Classification Report:\n",
      "               precision    recall  f1-score   support\n",
      "\n",
      "       False       1.00      1.00      1.00    214884\n",
      "        True       0.97      0.97      0.97     27401\n",
      "\n",
      "    accuracy                           0.99    242285\n",
      "   macro avg       0.98      0.98      0.98    242285\n",
      "weighted avg       0.99      0.99      0.99    242285\n",
      "\n"
     ]
    }
   ],
   "source": [
    "##Qualitätsmaße\n",
    "# Calculate the accuracy, aber ansich nicht so gutes Maß, da imbalanced Verteilung von BuyBox\n",
    "#Gewichtete Accuracy berechnen\n",
    "acc = accuracy_score(y_test, y_pred)\n",
    "print(\"Accuracy: {:.2f}%\".format(acc * 100))\n",
    "print(\"Classification Report:\\n\", classification_report(y_test, y_pred))\n"
   ]
  },
  {
   "cell_type": "code",
   "execution_count": 102,
   "id": "d6306e16",
   "metadata": {
    "scrolled": true
   },
   "outputs": [
    {
     "name": "stdout",
     "output_type": "stream",
     "text": [
      "            Feature  Importance\n",
      "7         is_amazon    0.212245\n",
      "2     seller_sterne    0.156255\n",
      "1       price_ratio    0.142265\n",
      "0        price_diff    0.114495\n",
      "4  Fulfillment_type    0.098187\n",
      "3   sellerbewertung    0.096832\n",
      "8   numberOfSellers    0.080292\n",
      "5       lieferpreis    0.055252\n",
      "6         date_diff    0.044176\n"
     ]
    }
   ],
   "source": [
    "## Print out Feature Importances\n",
    "feature_importances = rfc.feature_importances_\n",
    "feature_names = X.columns\n",
    "# Create a DataFrame of the feature importances and their names\n",
    "feature_importances_df = pd.DataFrame({'Feature': feature_names, 'Importance': feature_importances})\n",
    "\n",
    "# Sort the DataFrame by feature importances in descending order\n",
    "feature_importances_df = feature_importances_df.sort_values(by='Importance', ascending=False)\n",
    "\n",
    "# Print the DataFrame of feature importances and their names\n",
    "print(feature_importances_df)"
   ]
  },
  {
   "cell_type": "markdown",
   "id": "0cc3d9b0",
   "metadata": {},
   "source": [
    "## Test the Dataset on Unseen Data"
   ]
  },
  {
   "cell_type": "code",
   "execution_count": 103,
   "id": "8e940c55",
   "metadata": {},
   "outputs": [
    {
     "data": {
      "image/png": "[encoded data removed]",
      "text/plain": [
       "<Figure size 300x300 with 1 Axes>"
      ]
     },
     "metadata": {},
     "output_type": "display_data"
    },
    {
     "name": "stdout",
     "output_type": "stream",
     "text": [
      "AUC: 0.8477499464606806\n"
     ]
    }
   ],
   "source": [
    "import pandas as pd\n",
    "from sklearn.model_selection import train_test_split\n",
    "from sklearn.ensemble import RandomForestClassifier\n",
    "from sklearn.metrics import accuracy_score, classification_report, confusion_matrix\n",
    "from sklearn.metrics import roc_auc_score\n",
    "from sklearn.metrics import balanced_accuracy_score\n",
    "import matplotlib.pyplot as plt\n",
    "\n",
    "\n",
    "# Get unique 'asin' values and split them into train and test sets\n",
    "unique_asins = df['asin'].unique()\n",
    "train_asins, test_asins = train_test_split(unique_asins, test_size=0.25, random_state=42)\n",
    "\n",
    "# Split the DataFrame into seen (training) and unseen (testing) data based on the train and test 'asin' sets\n",
    "seen_data = df[df['asin'].isin(train_asins)]\n",
    "unseen_data = df[df['asin'].isin(test_asins)]\n",
    "\n",
    "# Prepare the seen and unseen data for the model\n",
    "X_train_seen = seen_data[['is_amazon','price_diff','price_ratio','seller_sterne','sellerbewertung','Fulfillment_type','lieferpreis','date_diff','numberOfSellers']]\n",
    "y_train_seen = seen_data['buyBoxWinner']\n",
    "\n",
    "X_test_unseen = unseen_data[['is_amazon','price_diff','price_ratio','seller_sterne','sellerbewertung','Fulfillment_type','lieferpreis','date_diff','numberOfSellers']]\n",
    "y_test_unseen = unseen_data['buyBoxWinner']\n",
    "\n",
    "# Your original code to train the model and evaluate it (unchanged)\n",
    "# Create and train the Random Forest Classifier\n",
    "rfc = RandomForestClassifier(n_estimators=100, random_state=42)\n",
    "rfc.fit(X_train_seen, y_train_seen)\n",
    "\n",
    "# Make predictions on the test set\n",
    "y_pred = rfc.predict(X_test_unseen)\n",
    "\n",
    "\n",
    "# Calculate the confusion matrix\n",
    "# The Printing of the confusion matrix, is partially buggy. Follow this Tutorial to retrive the right matrix:\n",
    "##This Code is based on the Example from: https://vitalflux.com/python-draw-confusion-matrix-matplotlib/\n",
    "conf_matrix = confusion_matrix(y_true=y_test_unseen, y_pred=y_pred)\n",
    "\n",
    "# Swap True Positives and True Negatives\n",
    "conf_matrix[0,0], conf_matrix[1,1] = conf_matrix[1,1], conf_matrix[0,0]\n",
    "\n",
    "# Print the confusion matrix using Matplotlib\n",
    "fig, ax = plt.subplots(figsize=(3, 3))\n",
    "ax.matshow(conf_matrix, cmap=plt.cm.Blues, alpha=0.3)\n",
    "for i in range(conf_matrix.shape[0]):\n",
    "    for j in range(conf_matrix.shape[1]):\n",
    "        ax.text(x=j, y=i,s=conf_matrix[i, j], va='center', ha='center', size='x-large')\n",
    "\n",
    "plt.xlabel('Actuals', fontsize=15)\n",
    "plt.ylabel('Predictions', fontsize=15)\n",
    "plt.title('Confusion Matrix', fontsize=15)\n",
    "plt.show()\n",
    "\n",
    "\n",
    "#Area under The Curve ausrechnen lassen\n",
    "# Calculate the AUC\n",
    "#The AUC (area under the ROC curve) is a measure of the performance of a binary classification model. \n",
    "#It represents the degree to which the model is able to distinguish between positive and negative examples. \n",
    "#The AUC ranges from 0 to 1, with higher values indicating better performance.\n",
    "auc = roc_auc_score(y_test_unseen, y_pred)\n",
    "print(\"AUC:\", auc)\n",
    "\n",
    "#Balanced ACC\n",
    "#bal_acc = balanced_accuracy_score(y_test, y_pred)\n",
    "#print(\"Balanced accuracy:\", bal_acc)"
   ]
  },
  {
   "cell_type": "code",
   "execution_count": 104,
   "id": "68e3fc9e",
   "metadata": {
    "scrolled": true
   },
   "outputs": [
    {
     "name": "stdout",
     "output_type": "stream",
     "text": [
      "The Number of Rows winning the BuyBox in the total Dataframe is 91337\n",
      "The Number of Rows winning the BuyBox in the Test-Set is 23210\n"
     ]
    }
   ],
   "source": [
    "num_true = (df['buyBoxWinner'] == True).sum()\n",
    "num_true\n",
    "print(f\"The Number of Rows winning the BuyBox in the total Dataframe is {num_true}\")\n",
    "print(f\"The Number of Rows winning the BuyBox in the Test-Set is {conf_matrix[0,0] + conf_matrix[1,0]}\")"
   ]
  },
  {
   "cell_type": "code",
   "execution_count": 105,
   "id": "4c245a6e",
   "metadata": {},
   "outputs": [
    {
     "name": "stdout",
     "output_type": "stream",
     "text": [
      "False    176303\n",
      "True      23210\n",
      "Name: buyBoxWinner, dtype: int64\n",
      "The number of rows in the train set is: 608103\n",
      "The number of rows in the test set is: 199513\n"
     ]
    }
   ],
   "source": [
    "value_counts = y_test_unseen.value_counts()\n",
    "# print the result\n",
    "print(value_counts)\n",
    "# Count the number of rows in the train and test sets\n",
    "num_rows_train = X_train_seen.shape[0]\n",
    "num_rows_test = X_test_unseen.shape[0]\n",
    "# Print the results\n",
    "print(f'The number of rows in the train set is: {num_rows_train}')\n",
    "print(f'The number of rows in the test set is: {num_rows_test}')"
   ]
  },
  {
   "cell_type": "code",
   "execution_count": 107,
   "id": "dd13eaaf",
   "metadata": {
    "scrolled": true
   },
   "outputs": [
    {
     "name": "stdout",
     "output_type": "stream",
     "text": [
      "Accuracy: 94.97%\n",
      "Classification Report:\n",
      "               precision    recall  f1-score   support\n",
      "\n",
      "       False       0.96      0.98      0.97    176303\n",
      "        True       0.83      0.71      0.77     23210\n",
      "\n",
      "    accuracy                           0.95    199513\n",
      "   macro avg       0.90      0.85      0.87    199513\n",
      "weighted avg       0.95      0.95      0.95    199513\n",
      "\n"
     ]
    }
   ],
   "source": [
    "##Qualitätsmaße\n",
    "# Calculate the accuracy, aber ansich nicht so gutes Maß, da imbalanced Verteilung von BuyBox\n",
    "#Gewichtete Accuracy berechnen\n",
    "acc = accuracy_score(y_test_unseen, y_pred)\n",
    "print(\"Accuracy: {:.2f}%\".format(acc * 100))\n",
    "print(\"Classification Report:\\n\", classification_report(y_test_unseen, y_pred))\n"
   ]
  },
  {
   "cell_type": "code",
   "execution_count": 108,
   "id": "13669650",
   "metadata": {},
   "outputs": [
    {
     "name": "stdout",
     "output_type": "stream",
     "text": [
      "Index(['is_amazon', 'price_diff', 'price_ratio', 'seller_sterne',\n",
      "       'sellerbewertung', 'Fulfillment_type', 'lieferpreis', 'date_diff',\n",
      "       'numberOfSellers'],\n",
      "      dtype='object')\n",
      "            Feature  Importance\n",
      "0         is_amazon    0.207672\n",
      "2       price_ratio    0.176019\n",
      "3     seller_sterne    0.135594\n",
      "1        price_diff    0.117179\n",
      "4   sellerbewertung    0.100871\n",
      "8   numberOfSellers    0.084010\n",
      "5  Fulfillment_type    0.075508\n",
      "6       lieferpreis    0.060771\n",
      "7         date_diff    0.042376\n"
     ]
    }
   ],
   "source": [
    "## Print out Feature Importances\n",
    "feature_importances = rfc.feature_importances_\n",
    "feature_names = X_train_seen.columns\n",
    "print(feature_names)\n",
    "# Create a DataFrame of the feature importances and their names\n",
    "feature_importances_df = pd.DataFrame({'Feature': feature_names, 'Importance': feature_importances})\n",
    "\n",
    "# Sort the DataFrame by feature importances in descending order\n",
    "feature_importances_df = feature_importances_df.sort_values(by='Importance', ascending=False)\n",
    "\n",
    "# Print the DataFrame of feature importances and their names\n",
    "print(feature_importances_df)"
   ]
  },
  {
   "cell_type": "code",
   "execution_count": null,
   "id": "71de9241",
   "metadata": {},
   "outputs": [],
   "source": []
  },
  {
   "cell_type": "code",
   "execution_count": null,
   "id": "0c3f886f",
   "metadata": {},
   "outputs": [],
   "source": []
  },
  {
   "cell_type": "code",
   "execution_count": null,
   "id": "dbb2a659",
   "metadata": {},
   "outputs": [],
   "source": []
  },
  {
   "cell_type": "code",
   "execution_count": null,
   "id": "a31ab349",
   "metadata": {},
   "outputs": [],
   "source": []
  },
  {
   "cell_type": "code",
   "execution_count": null,
   "id": "28b93358",
   "metadata": {},
   "outputs": [],
   "source": []
  },
  {
   "cell_type": "code",
   "execution_count": null,
   "id": "9ce9d711",
   "metadata": {},
   "outputs": [],
   "source": []
  },
  {
   "cell_type": "code",
   "execution_count": null,
   "id": "0bef84e5",
   "metadata": {},
   "outputs": [],
   "source": []
  },
  {
   "cell_type": "code",
   "execution_count": null,
   "id": "3b5814a7",
   "metadata": {},
   "outputs": [],
   "source": []
  },
  {
   "cell_type": "code",
   "execution_count": null,
   "id": "2a3259be",
   "metadata": {},
   "outputs": [],
   "source": []
  },
  {
   "cell_type": "code",
   "execution_count": null,
   "id": "c9eec4fb",
   "metadata": {},
   "outputs": [],
   "source": []
  },
  {
   "cell_type": "code",
   "execution_count": null,
   "id": "0871e7cd",
   "metadata": {},
   "outputs": [],
   "source": []
  },
  {
   "cell_type": "code",
   "execution_count": null,
   "id": "6d885e6a",
   "metadata": {},
   "outputs": [],
   "source": []
  }
 ],
 "metadata": {
  "kernelspec": {
   "display_name": "Python 3 (ipykernel)",
   "language": "python",
   "name": "python3"
  },
  "language_info": {
   "codemirror_mode": {
    "name": "ipython",
    "version": 3
   },
   "file_extension": ".py",
   "mimetype": "text/x-python",
   "name": "python",
   "nbconvert_exporter": "python",
   "pygments_lexer": "ipython3",
   "version": "3.10.9"
  }
 },
 "nbformat": 4,
 "nbformat_minor": 5
}
