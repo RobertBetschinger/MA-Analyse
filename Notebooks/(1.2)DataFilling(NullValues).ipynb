{
 "cells": [
  {
   "cell_type": "markdown",
   "id": "bb888bee",
   "metadata": {},
   "source": [
    "## Replace Null Values by Mean Values"
   ]
  },
  {
   "cell_type": "code",
   "execution_count": 2,
   "id": "044cbdaf",
   "metadata": {},
   "outputs": [],
   "source": [
    "import pandas as pd\n",
    "import numpy as np\n",
    "df = pd.read_csv('../Grunddatein/Zwischendatein/CleanedDataComplete.csv')"
   ]
  },
  {
   "cell_type": "markdown",
   "id": "2de2be64",
   "metadata": {},
   "source": [
    "### Seller Sterne"
   ]
  },
  {
   "cell_type": "code",
   "execution_count": 3,
   "id": "01141af2",
   "metadata": {},
   "outputs": [
    {
     "name": "stdout",
     "output_type": "stream",
     "text": [
      "4.3098022738892325\n",
      "4.5\n",
      "Distinct values for seller_sterne after replacement: ['1.0', '1.5', '2.0', '2.5', '3.0', '3.5', '4.0', '4.5', '5.0']\n"
     ]
    }
   ],
   "source": [
    "    # Select the rows where 'sellerName' does not contain 'amazon'\n",
    "    no_amazon_df = df[~df['sellerName'].str.contains('amazon', case=False)]\n",
    "\n",
    "    # Calculate the rounded value of 'seller_sterne'\n",
    "    average_sterne = no_amazon_df['seller_sterne'].mean()\n",
    "    print(average_sterne)\n",
    "    # Round to the nearest 0.5 or full value\n",
    "    rounded_sterne = round(average_sterne * 2) / 2\n",
    "    print(rounded_sterne)\n",
    "\n",
    "    # Replace the null values in 'seller_sterne' with the rounded value for non-amazon rows, and with 5.0 for amazon rows\n",
    "    df.loc[df['seller_sterne'].isnull() & ~df['sellerName'].str.contains('amazon', case=False), 'seller_sterne'] = rounded_sterne\n",
    "    df.loc[df['seller_sterne'].isnull() & df['sellerName'].str.contains('amazon', case=False), 'seller_sterne'] = 5.0\n",
    "\n",
    "    # Check the distinct values for 'seller_sterne' after the replacement\n",
    "    new_distinct_seller_sterne = df['seller_sterne'].unique()\n",
    "    new_distinct_seller_sterne = np.sort(new_distinct_seller_sterne)\n",
    "    print(\"Distinct values for seller_sterne after replacement:\", [f\"{value:.1f}\" for value in new_distinct_seller_sterne])"
   ]
  },
  {
   "cell_type": "markdown",
   "id": "5c6f8a26",
   "metadata": {},
   "source": [
    "### Seller Bewertung"
   ]
  },
  {
   "cell_type": "code",
   "execution_count": 4,
   "id": "bfdf6f1c",
   "metadata": {},
   "outputs": [],
   "source": [
    "mean_score = round(df['sellerbewertung'].mean(), 2)\n",
    "sd_score = round(df['sellerbewertung'].std(), 2)\n",
    "df.loc[df['sellerbewertung'].isnull() & ~df['sellerName'].str.contains('amazon', case=False), 'sellerbewertung'] = mean_score"
   ]
  },
  {
   "cell_type": "markdown",
   "id": "33b55d38",
   "metadata": {},
   "source": [
    "### FBA Delivery Price and Delivery Duration"
   ]
  },
  {
   "cell_type": "code",
   "execution_count": null,
   "id": "e3030380",
   "metadata": {},
   "outputs": [],
   "source": [
    "sub_df = df[df['Fulfillment_type'] == 'FBA']\n",
    "mean_price = round(sub_df['lieferpreis'].mean(), 2)\n",
    "standard_deviation = round(sub_df['lieferpreis'].std(), 2)\n",
    "mean_delivery_time = round(sub_df['date_diff'].mean(), 2)\n",
    "delivery_time_sd = round(sub_df['date_diff'].std(), 2)\n",
    "\n",
    "print(f\"Mean Delivery Price: {mean_price}\")\n",
    "print(f\"Standard Deviation: {standard_deviation}\")\n",
    "\n",
    "df.loc[(df['date_diff'].isnull()) & (df['fulfilment_type'] == 'FBA'), 'lieferpreis'] = mean_price\n",
    "df.loc[(df['date_diff'].isnull()) & (df['fulfilment_type'] == 'FBA'), 'date_diff'] = mean_delivery_time"
   ]
  },
  {
   "cell_type": "markdown",
   "id": "5cb7dd6d",
   "metadata": {},
   "source": [
    "### FBM Delivery Price and Delivery Duration"
   ]
  },
  {
   "cell_type": "code",
   "execution_count": null,
   "id": "f189198c",
   "metadata": {},
   "outputs": [],
   "source": [
    "sub_df = df[df['Fulfillment_type'] == 'FBM']\n",
    "mean_price = round(sub_df['lieferpreis'].mean(), 2)\n",
    "standard_deviation = round(sub_df['lieferpreis'].std(), 2)\n",
    "mean_delivery_time = round(sub_df['date_diff'].mean(), 2)\n",
    "delivery_time_sd = round(sub_df['date_diff'].std(), 2)\n",
    "\n",
    "print(f\"Mean Delivery Price: {mean_price}\")\n",
    "print(f\"Standard Deviation: {standard_deviation}\")\n",
    "\n",
    "df.loc[(df['date_diff'].isnull()) & (df['fulfilment_type'] == 'FBM'), 'lieferpreis'] = mean_price\n",
    "df.loc[(df['date_diff'].isnull()) & (df['fulfilment_type'] == 'FBM'), 'date_diff'] = mean_delivery_time"
   ]
  },
  {
   "cell_type": "code",
   "execution_count": null,
   "id": "3ed3eaa0",
   "metadata": {},
   "outputs": [],
   "source": [
    "## Overwrite File\n",
    "df.to_csv('../Grunddatein/Zwischendatein/CleanedDataComplete.csv', index=False)"
   ]
  }
 ],
 "metadata": {
  "kernelspec": {
   "display_name": "Python 3 (ipykernel)",
   "language": "python",
   "name": "python3"
  },
  "language_info": {
   "codemirror_mode": {
    "name": "ipython",
    "version": 3
   },
   "file_extension": ".py",
   "mimetype": "text/x-python",
   "name": "python",
   "nbconvert_exporter": "python",
   "pygments_lexer": "ipython3",
   "version": "3.10.9"
  }
 },
 "nbformat": 4,
 "nbformat_minor": 5
}
