{
 "cells": [
  {
   "cell_type": "markdown",
   "id": "bb888bee",
   "metadata": {},
   "source": [
    "## Replace Null Values by Mean Values"
   ]
  },
  {
   "cell_type": "code",
   "execution_count": 17,
   "id": "044cbdaf",
   "metadata": {
    "scrolled": true
   },
   "outputs": [
    {
     "name": "stderr",
     "output_type": "stream",
     "text": [
      "C:\\Users\\Robert Betschinger\\AppData\\Local\\Temp\\ipykernel_8876\\2860131813.py:3: DtypeWarning: Columns (11) have mixed types. Specify dtype option on import or set low_memory=False.\n",
      "  df = pd.read_csv('../Grunddatein/Zwischendatein/CleanedDataComplete.csv')\n"
     ]
    }
   ],
   "source": [
    "import pandas as pd\n",
    "import numpy as np\n",
    "df = pd.read_csv('../Grunddatein/Zwischendatein/CleanedDataComplete.csv')"
   ]
  },
  {
   "cell_type": "markdown",
   "id": "2de2be64",
   "metadata": {},
   "source": [
    "### Seller Sterne"
   ]
  },
  {
   "cell_type": "code",
   "execution_count": 18,
   "id": "01141af2",
   "metadata": {},
   "outputs": [
    {
     "name": "stdout",
     "output_type": "stream",
     "text": [
      "4.307894265875879\n",
      "4.5\n",
      "Distinct values for seller_sterne after replacement: ['1.0', '1.5', '2.0', '2.5', '3.0', '3.5', '4.0', '4.5', '5.0']\n"
     ]
    }
   ],
   "source": [
    "    # Select the rows where 'sellerName' does not contain 'amazon'\n",
    "    no_amazon_df = df[~df['sellerName'].str.contains('amazon', case=False)]\n",
    "\n",
    "    # Calculate the rounded value of 'seller_sterne'\n",
    "    average_sterne = no_amazon_df['seller_sterne'].mean()\n",
    "    print(average_sterne)\n",
    "    # Round to the nearest 0.5 or full value\n",
    "    rounded_sterne = round(average_sterne * 2) / 2\n",
    "    print(rounded_sterne)\n",
    "\n",
    "    # Replace the null values in 'seller_sterne' with the rounded value for non-amazon rows, and with 5.0 for amazon rows\n",
    "    df.loc[df['seller_sterne'].isnull() & ~df['sellerName'].str.contains('amazon', case=False), 'seller_sterne'] = rounded_sterne\n",
    "    df.loc[df['seller_sterne'].isnull() & df['sellerName'].str.contains('amazon', case=False), 'seller_sterne'] = 5.0\n",
    "\n",
    "    # Check the distinct values for 'seller_sterne' after the replacement\n",
    "    new_distinct_seller_sterne = df['seller_sterne'].unique()\n",
    "    new_distinct_seller_sterne = np.sort(new_distinct_seller_sterne)\n",
    "    print(\"Distinct values for seller_sterne after replacement:\", [f\"{value:.1f}\" for value in new_distinct_seller_sterne])"
   ]
  },
  {
   "cell_type": "markdown",
   "id": "5c6f8a26",
   "metadata": {},
   "source": [
    "### Seller Bewertung"
   ]
  },
  {
   "cell_type": "code",
   "execution_count": 19,
   "id": "bfdf6f1c",
   "metadata": {},
   "outputs": [],
   "source": [
    "mean_score = round(df['sellerbewertung'].mean(), 2)\n",
    "sd_score = round(df['sellerbewertung'].std(), 2)\n",
    "df.loc[df['sellerbewertung'].isnull() & ~df['sellerName'].str.contains('amazon', case=False), 'sellerbewertung'] = mean_score\n",
    "\n",
    "# Replace all NaN values in the \"sellerbewertung\" column with the mean value\n",
    "df['sellerbewertung'] = df['sellerbewertung'].fillna(mean_score)\n",
    "df['sellerbewertung'] = df['sellerbewertung'].round().astype(int)"
   ]
  },
  {
   "cell_type": "code",
   "execution_count": 20,
   "id": "22f63c7a",
   "metadata": {},
   "outputs": [],
   "source": [
    "mean_score = round(df['sellerbewertung'].mean(), 2)\n",
    "sd_score = round(df['sellerbewertung'].std(), 2)\n",
    "df.loc[df['sellerbewertung'].isnull() & ~df['sellerName'].str.contains('amazon', case=True), 'sellerbewertung'] = mean_score\n",
    "\n",
    "# Replace all NaN values in the \"sellerbewertung\" column with the mean value\n",
    "df['sellerbewertung'] = df['sellerbewertung'].fillna(mean_score)\n",
    "df['sellerbewertung'] = df['sellerbewertung'].round().astype(int)"
   ]
  },
  {
   "cell_type": "markdown",
   "id": "33b55d38",
   "metadata": {},
   "source": [
    "### FBA Delivery Price and Delivery Duration"
   ]
  },
  {
   "cell_type": "code",
   "execution_count": 21,
   "id": "e3030380",
   "metadata": {},
   "outputs": [
    {
     "name": "stdout",
     "output_type": "stream",
     "text": [
      "Mean Delivery Price: 0.12\n",
      "Standard Deviation: 1.32\n"
     ]
    }
   ],
   "source": [
    "sub_df = df[df['Fulfillment_type'] == 'FBA']\n",
    "mean_price = round(sub_df['lieferpreis'].mean(), 2)\n",
    "standard_deviation = round(sub_df['lieferpreis'].std(), 2)\n",
    "mean_delivery_time = round(sub_df['date_diff'].mean(), 2)\n",
    "delivery_time_sd = round(sub_df['date_diff'].std(), 2)\n",
    "\n",
    "print(f\"Mean Delivery Price: {mean_price}\")\n",
    "print(f\"Standard Deviation: {standard_deviation}\")\n",
    "\n",
    "df.loc[(df['date_diff'].isnull()) & (df['Fulfillment_type'] == 'FBA'), 'lieferpreis'] = mean_price\n",
    "df.loc[(df['date_diff'].isnull()) & (df['Fulfillment_type'] == 'FBA'), 'date_diff'] = mean_delivery_time"
   ]
  },
  {
   "cell_type": "markdown",
   "id": "5cb7dd6d",
   "metadata": {},
   "source": [
    "### FBM Delivery Price and Delivery Duration"
   ]
  },
  {
   "cell_type": "code",
   "execution_count": 22,
   "id": "f189198c",
   "metadata": {},
   "outputs": [
    {
     "name": "stdout",
     "output_type": "stream",
     "text": [
      "Mean Delivery Price: 10.07\n",
      "Standard Deviation: 14.64\n"
     ]
    }
   ],
   "source": [
    "sub_df = df[df['Fulfillment_type'] == 'FBM']\n",
    "mean_price = round(sub_df['lieferpreis'].mean(), 2)\n",
    "standard_deviation = round(sub_df['lieferpreis'].std(), 2)\n",
    "mean_delivery_time = round(sub_df['date_diff'].mean(), 2)\n",
    "delivery_time_sd = round(sub_df['date_diff'].std(), 2)\n",
    "\n",
    "print(f\"Mean Delivery Price: {mean_price}\")\n",
    "print(f\"Standard Deviation: {standard_deviation}\")\n",
    "\n",
    "df.loc[(df['date_diff'].isnull()) & (df['Fulfillment_type'] == 'FBM'), 'lieferpreis'] = mean_price\n",
    "df.loc[(df['date_diff'].isnull()) & (df['Fulfillment_type'] == 'FBM'), 'date_diff'] = mean_delivery_time"
   ]
  },
  {
   "cell_type": "code",
   "execution_count": 23,
   "id": "3ed3eaa0",
   "metadata": {},
   "outputs": [],
   "source": [
    "## Overwrite File\n",
    "df.to_csv('../Grunddatein/Zwischendatein/CleanedDataCompleteNoNulls.csv', index=False)"
   ]
  },
  {
   "cell_type": "code",
   "execution_count": 24,
   "id": "1b0e2f15",
   "metadata": {},
   "outputs": [
    {
     "name": "stdout",
     "output_type": "stream",
     "text": [
      "Number of null values per column in df:\n",
      "id                       0\n",
      "asin                     0\n",
      "price                    0\n",
      "currency                 0\n",
      "time                     0\n",
      "crawlTime                0\n",
      "condition                0\n",
      "sellerName               0\n",
      "sellerId                 0\n",
      "sellerbewertung          0\n",
      "seller_sterne            0\n",
      "lieferdatum         208608\n",
      "lieferpreis              0\n",
      "lieferung_durch          0\n",
      "ranking                  0\n",
      "buyBoxWinner             0\n",
      "numberOfSellers          0\n",
      "trigByReactive           0\n",
      "Fulfillment_type         0\n",
      "date_diff                0\n",
      "dtype: int64\n"
     ]
    }
   ],
   "source": [
    "# Count the null values in each column of the DataFrame\n",
    "null_values_count_per_column = df.isnull().sum()\n",
    "\n",
    "# Print the number of null values for each column\n",
    "print(\"Number of null values per column in df:\")\n",
    "print(null_values_count_per_column)"
   ]
  },
  {
   "cell_type": "code",
   "execution_count": null,
   "id": "5f5ba0d7",
   "metadata": {},
   "outputs": [],
   "source": []
  }
 ],
 "metadata": {
  "kernelspec": {
   "display_name": "Python 3 (ipykernel)",
   "language": "python",
   "name": "python3"
  },
  "language_info": {
   "codemirror_mode": {
    "name": "ipython",
    "version": 3
   },
   "file_extension": ".py",
   "mimetype": "text/x-python",
   "name": "python",
   "nbconvert_exporter": "python",
   "pygments_lexer": "ipython3",
   "version": "3.10.9"
  }
 },
 "nbformat": 4,
 "nbformat_minor": 5
}
