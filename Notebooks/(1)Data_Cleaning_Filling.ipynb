{
 "cells": [
  {
   "cell_type": "code",
   "execution_count": 214,
   "id": "d037d742",
   "metadata": {
    "scrolled": false
   },
   "outputs": [],
   "source": [
    "import pandas as pd\n",
    "import numpy as np\n",
    "\n",
    "\n",
    "df = pd.read_csv('../Grunddatein/OffersData1MillionRows.csv')\n",
    "name_for_save_file = '../Grunddatein/Zwischendatein/cleaned_data.csv'\n",
    "\n",
    "asins2 = pd.read_csv('../Grunddatein/ASINS.csv')\n",
    "#df = pd.read_csv('Offer21Million.csv')\n",
    "#name_for_save_file = 'cleaned_data_million.csv'"
   ]
  },
  {
   "cell_type": "code",
   "execution_count": 215,
   "id": "f73c092a",
   "metadata": {
    "scrolled": true
   },
   "outputs": [
    {
     "name": "stdout",
     "output_type": "stream",
     "text": [
      "<class 'pandas.core.frame.DataFrame'>\n",
      "RangeIndex: 1000000 entries, 0 to 999999\n",
      "Data columns (total 18 columns):\n",
      " #   Column           Non-Null Count    Dtype  \n",
      "---  ------           --------------    -----  \n",
      " 0   id               1000000 non-null  int64  \n",
      " 1   asin             1000000 non-null  object \n",
      " 2   price            1000000 non-null  float64\n",
      " 3   currency         1000000 non-null  object \n",
      " 4   time             1000000 non-null  object \n",
      " 5   crawlTime        1000000 non-null  object \n",
      " 6   condition        1000000 non-null  object \n",
      " 7   sellerName       1000000 non-null  object \n",
      " 8   sellerId         1000000 non-null  object \n",
      " 9   sellerbewertung  753605 non-null   object \n",
      " 10  seller_sterne    745503 non-null   object \n",
      " 11  lieferdatum      964682 non-null   object \n",
      " 12  lieferpreis      964682 non-null   object \n",
      " 13  lieferung_durch  1000000 non-null  object \n",
      " 14  ranking          1000000 non-null  int64  \n",
      " 15  buyBoxWinner     1000000 non-null  bool   \n",
      " 16  numberOfSellers  1000000 non-null  int64  \n",
      " 17  trigByReactive   1000000 non-null  bool   \n",
      "dtypes: bool(2), float64(1), int64(3), object(12)\n",
      "memory usage: 124.0+ MB\n"
     ]
    }
   ],
   "source": [
    "df.info()"
   ]
  },
  {
   "cell_type": "code",
   "execution_count": 216,
   "id": "a0e34a72",
   "metadata": {
    "scrolled": true
   },
   "outputs": [
    {
     "name": "stdout",
     "output_type": "stream",
     "text": [
      "Length of the DataFrame: 1000000\n",
      "The Number of Offers winning the BuyBox is 93396\n",
      "Number of distinct asins: 988\n",
      "ASINs not present in both: {'B00L4XU430', 'B08J2VHWM7', 'B09L6247P8', 'B0BH9FKPWM', 'B09W8GB7KY', 'B0B2RRZLY6', 'B000095Z2Z', 'B0741D7LRD', 'B07GB2GC62', 'B09MY48N93', 'B07H4FRQ4T', 'B00TQU7HCO'}\n"
     ]
    }
   ],
   "source": [
    "print(\"Length of the DataFrame:\", df.shape[0])\n",
    "num_true = (df['buyBoxWinner'] == True).sum()\n",
    "print(f\"The Number of Offers winning the BuyBox is {num_true}\")\n",
    "distinct_asins = df['asin'].unique()\n",
    "asins_complete = asins2['id'].unique()\n",
    "print(\"Number of distinct asins:\", len(distinct_asins))\n",
    "set_distinct_asins = set(distinct_asins)\n",
    "set_asins_complete = set(asins_complete)\n",
    "\n",
    "asins_not_in_both = set_distinct_asins.symmetric_difference(set_asins_complete)\n",
    "print(\"ASINs not present in both:\", asins_not_in_both)"
   ]
  },
  {
   "cell_type": "markdown",
   "id": "ce77a5b3",
   "metadata": {},
   "source": [
    "## Transform Time Column to Datetime Format"
   ]
  },
  {
   "cell_type": "code",
   "execution_count": 217,
   "id": "24452563",
   "metadata": {
    "scrolled": false
   },
   "outputs": [
    {
     "data": {
      "text/html": [
       "<div>\n",
       "<style scoped>\n",
       "    .dataframe tbody tr th:only-of-type {\n",
       "        vertical-align: middle;\n",
       "    }\n",
       "\n",
       "    .dataframe tbody tr th {\n",
       "        vertical-align: top;\n",
       "    }\n",
       "\n",
       "    .dataframe thead th {\n",
       "        text-align: right;\n",
       "    }\n",
       "</style>\n",
       "<table border=\"1\" class=\"dataframe\">\n",
       "  <thead>\n",
       "    <tr style=\"text-align: right;\">\n",
       "      <th></th>\n",
       "      <th>id</th>\n",
       "      <th>asin</th>\n",
       "      <th>price</th>\n",
       "      <th>currency</th>\n",
       "      <th>time</th>\n",
       "      <th>crawlTime</th>\n",
       "      <th>condition</th>\n",
       "      <th>sellerName</th>\n",
       "      <th>sellerId</th>\n",
       "      <th>sellerbewertung</th>\n",
       "      <th>seller_sterne</th>\n",
       "      <th>lieferdatum</th>\n",
       "      <th>lieferpreis</th>\n",
       "      <th>lieferung_durch</th>\n",
       "      <th>ranking</th>\n",
       "      <th>buyBoxWinner</th>\n",
       "      <th>numberOfSellers</th>\n",
       "      <th>trigByReactive</th>\n",
       "    </tr>\n",
       "  </thead>\n",
       "  <tbody>\n",
       "    <tr>\n",
       "      <th>0</th>\n",
       "      <td>341683</td>\n",
       "      <td>B09SBXZV9V</td>\n",
       "      <td>141.55</td>\n",
       "      <td>€</td>\n",
       "      <td>2023-03-22 16:00:00</td>\n",
       "      <td>2023-03-22 16:54:19.521639</td>\n",
       "      <td>Neu</td>\n",
       "      <td>belli-shop</td>\n",
       "      <td>AOZ9PW800A1WK</td>\n",
       "      <td>(4211 Bewertungen) 100 % positiv in...</td>\n",
       "      <td>5 von 5</td>\n",
       "      <td>Samstag, 25. März</td>\n",
       "      <td>GRATIS</td>\n",
       "      <td>Amazon</td>\n",
       "      <td>0</td>\n",
       "      <td>True</td>\n",
       "      <td>13</td>\n",
       "      <td>False</td>\n",
       "    </tr>\n",
       "    <tr>\n",
       "      <th>1</th>\n",
       "      <td>341684</td>\n",
       "      <td>B0000C72GD</td>\n",
       "      <td>79.90</td>\n",
       "      <td>€</td>\n",
       "      <td>2023-03-22 16:00:00</td>\n",
       "      <td>2023-03-22 16:54:19.522425</td>\n",
       "      <td>Neu</td>\n",
       "      <td>STILE IMMAGINE DIGITAL HD</td>\n",
       "      <td>A16E8RFMSALSSB</td>\n",
       "      <td>(29 Bewertungen) 97 % positiv über ...</td>\n",
       "      <td>5 von 5</td>\n",
       "      <td>29. - 31. März</td>\n",
       "      <td>9,90 €</td>\n",
       "      <td>STILE IMMAGINE DIGITAL HD</td>\n",
       "      <td>0</td>\n",
       "      <td>True</td>\n",
       "      <td>2</td>\n",
       "      <td>False</td>\n",
       "    </tr>\n",
       "    <tr>\n",
       "      <th>2</th>\n",
       "      <td>341685</td>\n",
       "      <td>B0001GRVJQ</td>\n",
       "      <td>55.31</td>\n",
       "      <td>€</td>\n",
       "      <td>2023-03-22 16:00:00</td>\n",
       "      <td>2023-03-22 16:54:19.523125</td>\n",
       "      <td>Neu</td>\n",
       "      <td>amazon</td>\n",
       "      <td>amazon</td>\n",
       "      <td>NaN</td>\n",
       "      <td>NaN</td>\n",
       "      <td>NaN</td>\n",
       "      <td>NaN</td>\n",
       "      <td>Amazon</td>\n",
       "      <td>0</td>\n",
       "      <td>True</td>\n",
       "      <td>8</td>\n",
       "      <td>False</td>\n",
       "    </tr>\n",
       "    <tr>\n",
       "      <th>3</th>\n",
       "      <td>341686</td>\n",
       "      <td>B0002CZU1U</td>\n",
       "      <td>273.28</td>\n",
       "      <td>€</td>\n",
       "      <td>2023-03-22 16:00:00</td>\n",
       "      <td>2023-03-22 16:54:19.523736</td>\n",
       "      <td>Neu</td>\n",
       "      <td>Musikhaus Kirstein GmbH</td>\n",
       "      <td>A2LUZCVBLA57KT</td>\n",
       "      <td>(38466 Bewertungen) 95 % positiv in...</td>\n",
       "      <td>4.5 von 5</td>\n",
       "      <td>27. - 28. März</td>\n",
       "      <td>2,99 €</td>\n",
       "      <td>Musikhaus Kirstein GmbH</td>\n",
       "      <td>0</td>\n",
       "      <td>True</td>\n",
       "      <td>3</td>\n",
       "      <td>False</td>\n",
       "    </tr>\n",
       "    <tr>\n",
       "      <th>4</th>\n",
       "      <td>341687</td>\n",
       "      <td>B0002HOS7M</td>\n",
       "      <td>75.62</td>\n",
       "      <td>€</td>\n",
       "      <td>2023-03-22 16:00:00</td>\n",
       "      <td>2023-03-22 16:54:19.524467</td>\n",
       "      <td>Neu</td>\n",
       "      <td>amazon</td>\n",
       "      <td>amazon</td>\n",
       "      <td>NaN</td>\n",
       "      <td>NaN</td>\n",
       "      <td>Samstag, 25. März</td>\n",
       "      <td>GRATIS</td>\n",
       "      <td>Amazon</td>\n",
       "      <td>0</td>\n",
       "      <td>True</td>\n",
       "      <td>23</td>\n",
       "      <td>False</td>\n",
       "    </tr>\n",
       "  </tbody>\n",
       "</table>\n",
       "</div>"
      ],
      "text/plain": [
       "       id        asin   price currency                time  \\\n",
       "0  341683  B09SBXZV9V  141.55        € 2023-03-22 16:00:00   \n",
       "1  341684  B0000C72GD   79.90        € 2023-03-22 16:00:00   \n",
       "2  341685  B0001GRVJQ   55.31        € 2023-03-22 16:00:00   \n",
       "3  341686  B0002CZU1U  273.28        € 2023-03-22 16:00:00   \n",
       "4  341687  B0002HOS7M   75.62        € 2023-03-22 16:00:00   \n",
       "\n",
       "                    crawlTime condition                 sellerName  \\\n",
       "0  2023-03-22 16:54:19.521639       Neu                 belli-shop   \n",
       "1  2023-03-22 16:54:19.522425       Neu  STILE IMMAGINE DIGITAL HD   \n",
       "2  2023-03-22 16:54:19.523125       Neu                     amazon   \n",
       "3  2023-03-22 16:54:19.523736       Neu    Musikhaus Kirstein GmbH   \n",
       "4  2023-03-22 16:54:19.524467       Neu                     amazon   \n",
       "\n",
       "         sellerId                                    sellerbewertung  \\\n",
       "0   AOZ9PW800A1WK             (4211 Bewertungen) 100 % positiv in...   \n",
       "1  A16E8RFMSALSSB             (29 Bewertungen) 97 % positiv über ...   \n",
       "2          amazon                                                NaN   \n",
       "3  A2LUZCVBLA57KT             (38466 Bewertungen) 95 % positiv in...   \n",
       "4          amazon                                                NaN   \n",
       "\n",
       "  seller_sterne        lieferdatum lieferpreis            lieferung_durch  \\\n",
       "0       5 von 5  Samstag, 25. März      GRATIS                     Amazon   \n",
       "1       5 von 5     29. - 31. März      9,90 €  STILE IMMAGINE DIGITAL HD   \n",
       "2           NaN                NaN         NaN                     Amazon   \n",
       "3     4.5 von 5     27. - 28. März      2,99 €    Musikhaus Kirstein GmbH   \n",
       "4           NaN  Samstag, 25. März      GRATIS                     Amazon   \n",
       "\n",
       "   ranking  buyBoxWinner  numberOfSellers  trigByReactive  \n",
       "0        0          True               13           False  \n",
       "1        0          True                2           False  \n",
       "2        0          True                8           False  \n",
       "3        0          True                3           False  \n",
       "4        0          True               23           False  "
      ]
     },
     "execution_count": 217,
     "metadata": {},
     "output_type": "execute_result"
    }
   ],
   "source": [
    "# convert the 'time' column to datetime format\n",
    "df['time'] = pd.to_datetime(df['time'], format=\"%Y-%m-%d-%H\")\n",
    "df.head()"
   ]
  },
  {
   "cell_type": "markdown",
   "id": "20011c95",
   "metadata": {},
   "source": [
    "## Transforming/Adding Missing Rows/Times\n",
    "Missing Rows are \"Replaced\" by the rows for the same asin one hour before\n",
    "Search For Asins with an Hour Gap"
   ]
  },
  {
   "cell_type": "code",
   "execution_count": 218,
   "id": "02da5024",
   "metadata": {
    "scrolled": true
   },
   "outputs": [
    {
     "name": "stdout",
     "output_type": "stream",
     "text": [
      "For 987 there is at least one time Gap\n",
      "In Total there are 987 time Gaps\n"
     ]
    }
   ],
   "source": [
    "import pandas as pd\n",
    "\n",
    "# assuming your CSV file is called \"offers_data.csv\"\n",
    "#df = pd.read_csv('offers_data.csv', parse_dates=['time'], date_parser=lambda x: pd.to_datetime(x, format='%Y-%m-%d-%H'))\n",
    "\n",
    "# create a MultiIndex using columns \"asin\", \"time\", and \"id\"\n",
    "df.set_index(['asin', 'time', 'id'], inplace=True)\n",
    "\n",
    "# sort the DataFrame by the MultiIndex\n",
    "df.sort_index(inplace=True)\n",
    "\n",
    "# Initialize an empty list called asins_and_gaps\n",
    "asins_and_gaps = []\n",
    "\n",
    "def check_one_hour_gap(group):\n",
    "    group = group.reset_index()  # reset index before indexing with missing_gap Series\n",
    "    time_diff = group['time'].diff()\n",
    "    one_hour_gap = pd.Timedelta(hours=1)\n",
    "    missing_gap = time_diff > one_hour_gap\n",
    "\n",
    "    if missing_gap.any():\n",
    "        gap_start_time = group['time'][missing_gap].iloc[0] - one_hour_gap\n",
    "        missing_hour = gap_start_time.strftime(\"%Y-%m-%d %H\")\n",
    "        asin = group[\"asin\"].iloc[0]\n",
    "        #print(f'Missing one-hour gap in ASIN {asin} at {missing_hour}')\n",
    "        #print(\"-------------------------\")\n",
    "        #print(\"\\n\")\n",
    "\n",
    "        # Add the ASIN and the missing hour to the asins_and_gaps list\n",
    "        asins_and_gaps.append((asin, missing_hour))\n",
    "\n",
    "# apply custom function to each group\n",
    "df.groupby('asin').apply(check_one_hour_gap)\n",
    "\n",
    "#print(\"ASINs and gaps:\")\n",
    "#print(asins_and_gaps)\n",
    "#asins_and_gaps\n",
    "distinct_asins = {tup[0] for tup in asins_and_gaps}\n",
    "print(f\"For {len(distinct_asins)} there is at least one time Gap\")\n",
    "print(f\"In Total there are {len(asins_and_gaps)} time Gaps\")"
   ]
  },
  {
   "cell_type": "markdown",
   "id": "00b1dfc1",
   "metadata": {},
   "source": [
    "### Find Rows from one hour before and insert them into missing_data_df"
   ]
  },
  {
   "cell_type": "code",
   "execution_count": 219,
   "id": "f4bd95a3",
   "metadata": {
    "scrolled": true
   },
   "outputs": [
    {
     "name": "stdout",
     "output_type": "stream",
     "text": [
      "For 976 there could be found rows from 1/2/3 hourls earlier to replace the time gap\n"
     ]
    }
   ],
   "source": [
    "import pandas as pd\n",
    "\n",
    "# Assuming you already have the DataFrame df and the asins_and_gaps list\n",
    "\n",
    "# Initialize an empty DataFrame called missing_data_df\n",
    "missing_data_df = pd.DataFrame()\n",
    "\n",
    "for asin, gap_time_str in asins_and_gaps:\n",
    "    # Convert the gap time string to a datetime object\n",
    "    gap_time = pd.to_datetime(gap_time_str, format='%Y-%m-%d %H')\n",
    "\n",
    "    matching_rows = pd.DataFrame()\n",
    "    gap_found = 0\n",
    "\n",
    "    # Search for rows up to 3 hours earlier\n",
    "    for hours in range(1, 4):\n",
    "        time_earlier = gap_time - pd.Timedelta(hours=hours)\n",
    "        matching_rows = df.loc[(df.index.get_level_values('asin') == asin) & (df.index.get_level_values('time') == time_earlier)]\n",
    "\n",
    "        if not matching_rows.empty:\n",
    "            gap_found = -hours\n",
    "            break\n",
    "\n",
    "    # If matching rows are found\n",
    "    if not matching_rows.empty:\n",
    "        # Make a copy of matching_rows before modifying it\n",
    "        matching_rows = matching_rows.copy()\n",
    "\n",
    "        # Update the time column value for the copied rows to the appropriate gap\n",
    "        matching_rows.reset_index(inplace=True)\n",
    "        matching_rows[matching_rows.columns[matching_rows.columns.get_loc('time')]] = matching_rows['time'] - pd.Timedelta(hours=gap_found)\n",
    "\n",
    "        # Add a new column named \"time_gap\" to indicate the gap at which the rows were found\n",
    "        matching_rows['time_gap'] = gap_found\n",
    "\n",
    "        # Append the matching rows to the missing_data_df DataFrame\n",
    "        missing_data_df = pd.concat([missing_data_df, matching_rows])\n",
    "\n",
    "# Reset the index of the missing_data_df DataFrame\n",
    "missing_data_df.reset_index(drop=True, inplace=True)\n",
    "#missing_data_df.info()\n",
    "distinct_values = missing_data_df['asin'].nunique()\n",
    "distinct_values\n",
    "print(f\"For {distinct_values} there could be found rows from 1/2/3 hourls earlier to replace the time gap\")"
   ]
  },
  {
   "cell_type": "markdown",
   "id": "269a693b",
   "metadata": {},
   "source": [
    "## Concat Missing Dataframe to Normal Dataframe"
   ]
  },
  {
   "cell_type": "code",
   "execution_count": 220,
   "id": "93ce3c87",
   "metadata": {
    "scrolled": false
   },
   "outputs": [
    {
     "name": "stdout",
     "output_type": "stream",
     "text": [
      "The Old Size was 1000000 and the New Size is 1009221. This Means 9221 have been added\n"
     ]
    }
   ],
   "source": [
    "df['time_gap'] = 0\n",
    "df['copyed_cause_missing'] = False\n",
    "df = df.reset_index()\n",
    "missing_data_df['copyed_cause_missing'] = True\n",
    "old_size = df.shape[0]\n",
    "df = pd.concat([df, missing_data_df])\n",
    "new_size = df.shape[0]\n",
    "del missing_data_df\n",
    "print(f\"The Old Size was {old_size} and the New Size is {new_size}. This Means {new_size-old_size} have been added\")"
   ]
  },
  {
   "cell_type": "markdown",
   "id": "15042e38",
   "metadata": {},
   "source": [
    "## Save File"
   ]
  },
  {
   "cell_type": "code",
   "execution_count": 221,
   "id": "75cf0e9c",
   "metadata": {},
   "outputs": [],
   "source": [
    "## Save Offers_data to File with filled Data\n",
    "df.to_csv('../Grunddatein/Zwischendatein/offers_without_gaps.csv', index=False)\n",
    "df = pd.read_csv('../Grunddatein/Zwischendatein/offers_without_gaps.csv')"
   ]
  },
  {
   "cell_type": "markdown",
   "id": "19b6bcb3",
   "metadata": {},
   "source": [
    "## Transforming Dataframe Seller Sterne"
   ]
  },
  {
   "cell_type": "code",
   "execution_count": 222,
   "id": "d25849a5",
   "metadata": {
    "scrolled": true
   },
   "outputs": [
    {
     "name": "stdout",
     "output_type": "stream",
     "text": [
      "There are rows where 'seller_sterne' is not null for the null seller names.\n"
     ]
    }
   ],
   "source": [
    "null_sterne_df = df[df['seller_sterne'].isnull()]\n",
    "unique_seller_names = null_sterne_df['sellerName'].unique()\n",
    "unique_seller_names\n",
    "\n",
    "# get the seller names where 'seller_sterne' is null\n",
    "null_seller_names = df.loc[df['seller_sterne'].isnull(), 'sellerName']\n",
    "\n",
    "# check if there are any rows where 'seller_sterne' is not null for the null seller names\n",
    "has_sterne_values = df.loc[df['sellerName'].isin(null_seller_names) & ~df['seller_sterne'].isnull()]\n",
    "\n",
    "# print the result\n",
    "if has_sterne_values.empty:\n",
    "    print(\"There are no rows where 'seller_sterne' is not null for the null seller names.\")\n",
    "else:\n",
    "    print(\"There are rows where 'seller_sterne' is not null for the null seller names.\")"
   ]
  },
  {
   "cell_type": "code",
   "execution_count": 223,
   "id": "0f199103",
   "metadata": {},
   "outputs": [],
   "source": [
    "\n",
    "# define a lambda function to convert the string to a float or return None for null values\n",
    "str_to_float_or_none = lambda x: float(x.split()[0].replace(\",\", \".\")) if isinstance(x, str) and len(x.split()) > 0 else None\n",
    "\n",
    "# apply the lambda function to the 'seller_sterne' column to replace the string values with their corresponding float values\n",
    "df['seller_sterne'] = df['seller_sterne'].apply(str_to_float_or_none)\n",
    "\n",
    "# select the rows where 'sellerName' does not contain 'amazon'\n",
    "no_amazon_df = df[~df['sellerName'].str.contains('amazon', case=False)]\n",
    "\n",
    "# calculate the rounded value of 'seller_sterne'\n",
    "average_sterne = no_amazon_df['seller_sterne'].mean()\n",
    "rounded_sterne = round(average_sterne * 2) / 2\n",
    "\n",
    "# replace the null values in 'seller_sterne' with the rounded value for non-amazon rows, and with 5.0 for amazon rows\n",
    "df.loc[~df['sellerName'].str.contains('amazon', case=False), 'seller_sterne'] = rounded_sterne\n",
    "df.loc[df['sellerName'].str.contains('amazon', case=False), 'seller_sterne'] = 5.0"
   ]
  },
  {
   "cell_type": "markdown",
   "id": "bafa2b22",
   "metadata": {},
   "source": [
    "## Transformin Dataframe Lieferpreis\n"
   ]
  },
  {
   "cell_type": "code",
   "execution_count": 224,
   "id": "9e353f3c",
   "metadata": {},
   "outputs": [
    {
     "name": "stdout",
     "output_type": "stream",
     "text": [
      "The column 'lieferpreis' has 35638 missing values.\n"
     ]
    }
   ],
   "source": [
    "df['lieferpreis'] = df['lieferpreis'].replace(['GRATIS', 'FREE'], 0.0)\n",
    "##Replace Euro Signs\n",
    "df['lieferpreis'] = df['lieferpreis'].replace('€', '', regex=True)\n",
    "df = df.replace(',', '.', regex=True)\n",
    "df['lieferpreis'] = df['lieferpreis'].astype(float, errors='ignore')\n",
    "num_missing = df['lieferpreis'].isna().sum()\n",
    "print(f\"The column 'lieferpreis' has {num_missing} missing values.\")\n"
   ]
  },
  {
   "cell_type": "code",
   "execution_count": 225,
   "id": "8fc13304",
   "metadata": {},
   "outputs": [
    {
     "data": {
      "text/plain": [
       "array([], dtype=object)"
      ]
     },
     "execution_count": 225,
     "metadata": {},
     "output_type": "execute_result"
    }
   ],
   "source": [
    "null_sterne_df = df[df['seller_sterne'].isnull()]\n",
    "unique_seller_names = null_sterne_df['sellerName'].unique()\n",
    "unique_seller_names"
   ]
  },
  {
   "cell_type": "markdown",
   "id": "629a8ff6",
   "metadata": {},
   "source": [
    "## Transform Dataframe Sellerbewertung\n"
   ]
  },
  {
   "cell_type": "code",
   "execution_count": 226,
   "id": "4ed03872",
   "metadata": {},
   "outputs": [
    {
     "name": "stderr",
     "output_type": "stream",
     "text": [
      "C:\\Users\\Robert Betschinger\\AppData\\Local\\Temp\\ipykernel_12788\\2410512019.py:2: FutureWarning: In a future version of pandas all arguments of StringMethods.split except for the argument 'pat' will be keyword-only.\n",
      "  df[['vorderer_Teil', 'hinterer_Teil']] = df['sellerbewertung'].str.split(')', 1, expand=True)\n"
     ]
    }
   ],
   "source": [
    "# Split values into two columns based on first space\n",
    "df[['vorderer_Teil', 'hinterer_Teil']] = df['sellerbewertung'].str.split(')', 1, expand=True)\n",
    "df['hinterer_Teil'] = df['hinterer_Teil'].str.replace('%.*', '', regex=True)\n",
    "# Replace NaN values in vorderer_Teil column with 0\n",
    "df['vorderer_Teil'] = df['vorderer_Teil'].fillna(0)\n",
    "df['vorderer_Teil'] = df['vorderer_Teil'].str.extract('(\\d+)').astype(float)\n",
    "df['hinterer_Teil'] = df['hinterer_Teil'].astype(float) / 100.0\n",
    "df['sellerbewertung_ausgerechnet'] = df['vorderer_Teil'] * df['hinterer_Teil']\n",
    "df['sellerbewertung'] = df['sellerbewertung_ausgerechnet']\n",
    "\n",
    "# Drop columns that were created in the process\n",
    "df = df.drop(['vorderer_Teil', 'hinterer_Teil', 'sellerbewertung_ausgerechnet'], axis=1)"
   ]
  },
  {
   "cell_type": "code",
   "execution_count": 227,
   "id": "7fab49ce",
   "metadata": {},
   "outputs": [],
   "source": [
    "#print(df[['sellerName', 'lieferung_durch']].head(5000).to_string(index=False))\n",
    "df['Fulfillment_type'] = ['FBA' if 'amazon' in x.lower() else 'FBM' for x in df['lieferung_durch']]"
   ]
  },
  {
   "cell_type": "markdown",
   "id": "8fdbf7be",
   "metadata": {},
   "source": [
    "## Transform Dataframe Lieferdauer"
   ]
  },
  {
   "cell_type": "code",
   "execution_count": 228,
   "id": "3a8704c7",
   "metadata": {},
   "outputs": [],
   "source": [
    "df['month'] = -1\n",
    "\n",
    "# loop over each row in the dataframe\n",
    "for i, row in df.iterrows():\n",
    "    # check if the 'lieferdatum' value contains the word \"April\"\n",
    "    if 'April' in str(row['lieferdatum']):\n",
    "        # if it does, set the 'month' value to 4\n",
    "        df.at[i, 'month'] = 4\n",
    "    # if it does not, check if the 'lieferdatum' value contains the word \"März\"\n",
    "    elif 'März' in str(row['lieferdatum']):\n",
    "        # if it does, set the 'month' value to 3\n",
    "        df.at[i, 'month'] = 3"
   ]
  },
  {
   "cell_type": "code",
   "execution_count": 229,
   "id": "97ab3c17",
   "metadata": {
    "pycharm": {
     "is_executing": true
    },
    "scrolled": true
   },
   "outputs": [],
   "source": [
    "import re\n",
    "df['days'] = [[] for _ in range(len(df.index))]\n",
    "\n",
    "# loop over each row in the dataframe\n",
    "for i, row in df.iterrows():\n",
    "    # extract all the numeric values from the 'lieferdatum' value using regular expressions\n",
    "    nums = re.findall(r'\\d+', str(row['lieferdatum']))\n",
    "    # add the numeric values as a list to the 'days' column for this row\n",
    "    df.at[i, 'days'] = [int(num) for num in nums]"
   ]
  },
  {
   "cell_type": "code",
   "execution_count": 230,
   "id": "b1e11019",
   "metadata": {
    "pycharm": {
     "is_executing": true
    }
   },
   "outputs": [],
   "source": [
    "# calculate the average value of each non-empty array in the 'days' column\n",
    "avg_days = df['days'].apply(lambda x: sum(x)/len(x) if x else np.nan)\n",
    "\n",
    "# replace the 'days' column with the average values\n",
    "df['days'] = avg_days.astype(float)\n",
    "#df['lieferdatum']"
   ]
  },
  {
   "cell_type": "code",
   "execution_count": 231,
   "id": "5720cf07",
   "metadata": {
    "pycharm": {
     "is_executing": true
    },
    "scrolled": false
   },
   "outputs": [
    {
     "data": {
      "text/html": [
       "<div>\n",
       "<style scoped>\n",
       "    .dataframe tbody tr th:only-of-type {\n",
       "        vertical-align: middle;\n",
       "    }\n",
       "\n",
       "    .dataframe tbody tr th {\n",
       "        vertical-align: top;\n",
       "    }\n",
       "\n",
       "    .dataframe thead th {\n",
       "        text-align: right;\n",
       "    }\n",
       "</style>\n",
       "<table border=\"1\" class=\"dataframe\">\n",
       "  <thead>\n",
       "    <tr style=\"text-align: right;\">\n",
       "      <th></th>\n",
       "      <th>asin</th>\n",
       "      <th>time</th>\n",
       "      <th>id</th>\n",
       "      <th>price</th>\n",
       "      <th>currency</th>\n",
       "      <th>crawlTime</th>\n",
       "      <th>condition</th>\n",
       "      <th>sellerName</th>\n",
       "      <th>sellerId</th>\n",
       "      <th>sellerbewertung</th>\n",
       "      <th>...</th>\n",
       "      <th>lieferpreis</th>\n",
       "      <th>lieferung_durch</th>\n",
       "      <th>ranking</th>\n",
       "      <th>buyBoxWinner</th>\n",
       "      <th>numberOfSellers</th>\n",
       "      <th>trigByReactive</th>\n",
       "      <th>time_gap</th>\n",
       "      <th>copyed_cause_missing</th>\n",
       "      <th>Fulfillment_type</th>\n",
       "      <th>date_diff</th>\n",
       "    </tr>\n",
       "  </thead>\n",
       "  <tbody>\n",
       "    <tr>\n",
       "      <th>0</th>\n",
       "      <td>B00000JD6K</td>\n",
       "      <td>2023-03-22 16:00:00</td>\n",
       "      <td>343568</td>\n",
       "      <td>95.8</td>\n",
       "      <td>€</td>\n",
       "      <td>2023-03-22 16:55:20.125842</td>\n",
       "      <td>Neu</td>\n",
       "      <td>Kidia</td>\n",
       "      <td>A2XUKJNGI8V9XU</td>\n",
       "      <td>46.56</td>\n",
       "      <td>...</td>\n",
       "      <td>0.0</td>\n",
       "      <td>Amazon</td>\n",
       "      <td>0</td>\n",
       "      <td>True</td>\n",
       "      <td>2</td>\n",
       "      <td>False</td>\n",
       "      <td>0</td>\n",
       "      <td>False</td>\n",
       "      <td>FBA</td>\n",
       "      <td>3.0</td>\n",
       "    </tr>\n",
       "    <tr>\n",
       "      <th>1</th>\n",
       "      <td>B00000JD6K</td>\n",
       "      <td>2023-03-22 16:00:00</td>\n",
       "      <td>344038</td>\n",
       "      <td>86.9</td>\n",
       "      <td>€</td>\n",
       "      <td>2023-03-22 16:55:20.315580</td>\n",
       "      <td>Neu</td>\n",
       "      <td>STILE IMMAGINE DIGITAL HD</td>\n",
       "      <td>A16E8RFMSALSSB</td>\n",
       "      <td>28.13</td>\n",
       "      <td>...</td>\n",
       "      <td>9.9</td>\n",
       "      <td>STILE IMMAGINE DIGITAL HD</td>\n",
       "      <td>1</td>\n",
       "      <td>False</td>\n",
       "      <td>1</td>\n",
       "      <td>False</td>\n",
       "      <td>0</td>\n",
       "      <td>False</td>\n",
       "      <td>FBM</td>\n",
       "      <td>27.0</td>\n",
       "    </tr>\n",
       "    <tr>\n",
       "      <th>2</th>\n",
       "      <td>B00000JD6K</td>\n",
       "      <td>2023-03-22 18:00:00</td>\n",
       "      <td>352772</td>\n",
       "      <td>95.8</td>\n",
       "      <td>€</td>\n",
       "      <td>2023-03-22 18:00:22.914723</td>\n",
       "      <td>Neu</td>\n",
       "      <td>Kidia</td>\n",
       "      <td>A2XUKJNGI8V9XU</td>\n",
       "      <td>46.56</td>\n",
       "      <td>...</td>\n",
       "      <td>0.0</td>\n",
       "      <td>Amazon</td>\n",
       "      <td>0</td>\n",
       "      <td>True</td>\n",
       "      <td>2</td>\n",
       "      <td>False</td>\n",
       "      <td>0</td>\n",
       "      <td>False</td>\n",
       "      <td>FBA</td>\n",
       "      <td>3.0</td>\n",
       "    </tr>\n",
       "    <tr>\n",
       "      <th>3</th>\n",
       "      <td>B00000JD6K</td>\n",
       "      <td>2023-03-22 18:00:00</td>\n",
       "      <td>353250</td>\n",
       "      <td>86.9</td>\n",
       "      <td>€</td>\n",
       "      <td>2023-03-22 18:00:23.106664</td>\n",
       "      <td>Neu</td>\n",
       "      <td>STILE IMMAGINE DIGITAL HD</td>\n",
       "      <td>A16E8RFMSALSSB</td>\n",
       "      <td>28.13</td>\n",
       "      <td>...</td>\n",
       "      <td>9.9</td>\n",
       "      <td>STILE IMMAGINE DIGITAL HD</td>\n",
       "      <td>1</td>\n",
       "      <td>False</td>\n",
       "      <td>1</td>\n",
       "      <td>False</td>\n",
       "      <td>0</td>\n",
       "      <td>False</td>\n",
       "      <td>FBM</td>\n",
       "      <td>27.0</td>\n",
       "    </tr>\n",
       "    <tr>\n",
       "      <th>4</th>\n",
       "      <td>B00000JD6K</td>\n",
       "      <td>2023-03-22 19:00:00</td>\n",
       "      <td>361969</td>\n",
       "      <td>86.9</td>\n",
       "      <td>€</td>\n",
       "      <td>2023-03-22 19:05:33.089028</td>\n",
       "      <td>Neu</td>\n",
       "      <td>STILE IMMAGINE DIGITAL HD</td>\n",
       "      <td>A16E8RFMSALSSB</td>\n",
       "      <td>28.13</td>\n",
       "      <td>...</td>\n",
       "      <td>9.9</td>\n",
       "      <td>STILE IMMAGINE DIGITAL HD</td>\n",
       "      <td>0</td>\n",
       "      <td>True</td>\n",
       "      <td>2</td>\n",
       "      <td>False</td>\n",
       "      <td>0</td>\n",
       "      <td>False</td>\n",
       "      <td>FBM</td>\n",
       "      <td>25.0</td>\n",
       "    </tr>\n",
       "  </tbody>\n",
       "</table>\n",
       "<p>5 rows × 22 columns</p>\n",
       "</div>"
      ],
      "text/plain": [
       "         asin                 time      id  price currency  \\\n",
       "0  B00000JD6K  2023-03-22 16:00:00  343568   95.8        €   \n",
       "1  B00000JD6K  2023-03-22 16:00:00  344038   86.9        €   \n",
       "2  B00000JD6K  2023-03-22 18:00:00  352772   95.8        €   \n",
       "3  B00000JD6K  2023-03-22 18:00:00  353250   86.9        €   \n",
       "4  B00000JD6K  2023-03-22 19:00:00  361969   86.9        €   \n",
       "\n",
       "                    crawlTime condition                 sellerName  \\\n",
       "0  2023-03-22 16:55:20.125842       Neu                      Kidia   \n",
       "1  2023-03-22 16:55:20.315580       Neu  STILE IMMAGINE DIGITAL HD   \n",
       "2  2023-03-22 18:00:22.914723       Neu                      Kidia   \n",
       "3  2023-03-22 18:00:23.106664       Neu  STILE IMMAGINE DIGITAL HD   \n",
       "4  2023-03-22 19:05:33.089028       Neu  STILE IMMAGINE DIGITAL HD   \n",
       "\n",
       "         sellerId  sellerbewertung  ...  lieferpreis  \\\n",
       "0  A2XUKJNGI8V9XU            46.56  ...          0.0   \n",
       "1  A16E8RFMSALSSB            28.13  ...          9.9   \n",
       "2  A2XUKJNGI8V9XU            46.56  ...          0.0   \n",
       "3  A16E8RFMSALSSB            28.13  ...          9.9   \n",
       "4  A16E8RFMSALSSB            28.13  ...          9.9   \n",
       "\n",
       "             lieferung_durch  ranking buyBoxWinner  numberOfSellers  \\\n",
       "0                     Amazon        0         True                2   \n",
       "1  STILE IMMAGINE DIGITAL HD        1        False                1   \n",
       "2                     Amazon        0         True                2   \n",
       "3  STILE IMMAGINE DIGITAL HD        1        False                1   \n",
       "4  STILE IMMAGINE DIGITAL HD        0         True                2   \n",
       "\n",
       "   trigByReactive  time_gap  copyed_cause_missing  Fulfillment_type  date_diff  \n",
       "0           False         0                 False               FBA        3.0  \n",
       "1           False         0                 False               FBM       27.0  \n",
       "2           False         0                 False               FBA        3.0  \n",
       "3           False         0                 False               FBM       27.0  \n",
       "4           False         0                 False               FBM       25.0  \n",
       "\n",
       "[5 rows x 22 columns]"
      ]
     },
     "execution_count": 231,
     "metadata": {},
     "output_type": "execute_result"
    }
   ],
   "source": [
    "df['datetime'] = pd.to_datetime(df['time'].str[:10], format='%Y-%m-%d')\n",
    "# create a new column called 'lieferdatum_datetime' and initialize it to NaN\n",
    "df['lieferdatum_datetime'] = np.nan\n",
    "\n",
    "# loop over each row in the dataframe\n",
    "for i, row in df.iterrows():\n",
    "    # get the 'month' and 'days' values for this row\n",
    "    month = row['month']\n",
    "    days = row['days']\n",
    "    \n",
    "    # skip this row if the 'month' or 'days' value is NaN or -1\n",
    "    if np.isnan(days) or month == -1:\n",
    "        continue\n",
    "    \n",
    "    # create a datetime object for this row and extract only the date portion\n",
    "    date_str = f\"2023-{int(month):02d}-{int(days):02d}\"\n",
    "    datetime_obj = pd.to_datetime(date_str, format='%Y-%m-%d')\n",
    "    date_only = datetime_obj.date()\n",
    "    \n",
    "    # save the date object to the 'lieferdatum_datetime' column for this row\n",
    "    df.at[i, 'lieferdatum_datetime'] = date_only\n",
    "df.head()\n",
    "\n",
    "# convert 'lieferdatum_datetime' column to a Pandas Timestamp object\n",
    "df['lieferdatum_datetime'] = pd.to_datetime(df['lieferdatum_datetime'])\n",
    "df['date_diff'] = np.where(df['lieferdatum_datetime'].isna(), np.nan, (df['lieferdatum_datetime'] - df['datetime']).dt.days)\n",
    "df = df.drop(['days', 'month', 'datetime','lieferdatum_datetime'], axis=1)\n",
    "df.head()\n"
   ]
  },
  {
   "cell_type": "markdown",
   "id": "e272bfa8",
   "metadata": {},
   "source": [
    "## Transform Price"
   ]
  },
  {
   "cell_type": "code",
   "execution_count": 232,
   "id": "ae963e68",
   "metadata": {
    "pycharm": {
     "is_executing": true
    }
   },
   "outputs": [
    {
     "data": {
      "text/html": [
       "<div>\n",
       "<style scoped>\n",
       "    .dataframe tbody tr th:only-of-type {\n",
       "        vertical-align: middle;\n",
       "    }\n",
       "\n",
       "    .dataframe tbody tr th {\n",
       "        vertical-align: top;\n",
       "    }\n",
       "\n",
       "    .dataframe thead th {\n",
       "        text-align: right;\n",
       "    }\n",
       "</style>\n",
       "<table border=\"1\" class=\"dataframe\">\n",
       "  <thead>\n",
       "    <tr style=\"text-align: right;\">\n",
       "      <th></th>\n",
       "      <th>asin</th>\n",
       "      <th>time</th>\n",
       "      <th>id</th>\n",
       "      <th>price</th>\n",
       "      <th>currency</th>\n",
       "      <th>crawlTime</th>\n",
       "      <th>condition</th>\n",
       "      <th>sellerName</th>\n",
       "      <th>sellerId</th>\n",
       "      <th>sellerbewertung</th>\n",
       "      <th>...</th>\n",
       "      <th>lieferpreis</th>\n",
       "      <th>lieferung_durch</th>\n",
       "      <th>ranking</th>\n",
       "      <th>buyBoxWinner</th>\n",
       "      <th>numberOfSellers</th>\n",
       "      <th>trigByReactive</th>\n",
       "      <th>time_gap</th>\n",
       "      <th>copyed_cause_missing</th>\n",
       "      <th>Fulfillment_type</th>\n",
       "      <th>date_diff</th>\n",
       "    </tr>\n",
       "  </thead>\n",
       "  <tbody>\n",
       "    <tr>\n",
       "      <th>263872</th>\n",
       "      <td>B01FE7K184</td>\n",
       "      <td>2023-03-22 16:00:00</td>\n",
       "      <td>342473</td>\n",
       "      <td>1.118</td>\n",
       "      <td>€</td>\n",
       "      <td>2023-03-22 16:54:19.836242</td>\n",
       "      <td>Neu</td>\n",
       "      <td>GetMarket</td>\n",
       "      <td>AKAKN0OST1C61</td>\n",
       "      <td>59.22</td>\n",
       "      <td>...</td>\n",
       "      <td>9.99</td>\n",
       "      <td>GetMarket</td>\n",
       "      <td>1</td>\n",
       "      <td>False</td>\n",
       "      <td>3</td>\n",
       "      <td>False</td>\n",
       "      <td>0</td>\n",
       "      <td>False</td>\n",
       "      <td>FBM</td>\n",
       "      <td>24.0</td>\n",
       "    </tr>\n",
       "    <tr>\n",
       "      <th>263873</th>\n",
       "      <td>B01FE7K184</td>\n",
       "      <td>2023-03-22 16:00:00</td>\n",
       "      <td>342474</td>\n",
       "      <td>1.242</td>\n",
       "      <td>€</td>\n",
       "      <td>2023-03-22 16:54:19.836543</td>\n",
       "      <td>Neu</td>\n",
       "      <td>Solution 4YOU</td>\n",
       "      <td>A3UY995ZKNNQ2M</td>\n",
       "      <td>84.46</td>\n",
       "      <td>...</td>\n",
       "      <td>0.00</td>\n",
       "      <td>Solution 4YOU</td>\n",
       "      <td>2</td>\n",
       "      <td>False</td>\n",
       "      <td>3</td>\n",
       "      <td>False</td>\n",
       "      <td>0</td>\n",
       "      <td>False</td>\n",
       "      <td>FBM</td>\n",
       "      <td>18.0</td>\n",
       "    </tr>\n",
       "    <tr>\n",
       "      <th>263874</th>\n",
       "      <td>B01FE7K184</td>\n",
       "      <td>2023-03-22 16:00:00</td>\n",
       "      <td>342475</td>\n",
       "      <td>1.326</td>\n",
       "      <td>€</td>\n",
       "      <td>2023-03-22 16:54:19.836840</td>\n",
       "      <td>Neu</td>\n",
       "      <td>E-Mistero</td>\n",
       "      <td>A1T7OOZ029MPBM</td>\n",
       "      <td>48.40</td>\n",
       "      <td>...</td>\n",
       "      <td>78.57</td>\n",
       "      <td>E-Mistero</td>\n",
       "      <td>3</td>\n",
       "      <td>False</td>\n",
       "      <td>3</td>\n",
       "      <td>False</td>\n",
       "      <td>0</td>\n",
       "      <td>False</td>\n",
       "      <td>FBM</td>\n",
       "      <td>17.0</td>\n",
       "    </tr>\n",
       "    <tr>\n",
       "      <th>263875</th>\n",
       "      <td>B01FE7K184</td>\n",
       "      <td>2023-03-22 17:00:00</td>\n",
       "      <td>351643</td>\n",
       "      <td>1.109</td>\n",
       "      <td>€</td>\n",
       "      <td>2023-03-22 17:59:25.866981</td>\n",
       "      <td>Neu</td>\n",
       "      <td>GetMarket</td>\n",
       "      <td>AKAKN0OST1C61</td>\n",
       "      <td>59.22</td>\n",
       "      <td>...</td>\n",
       "      <td>9.99</td>\n",
       "      <td>GetMarket</td>\n",
       "      <td>1</td>\n",
       "      <td>False</td>\n",
       "      <td>3</td>\n",
       "      <td>False</td>\n",
       "      <td>0</td>\n",
       "      <td>False</td>\n",
       "      <td>FBM</td>\n",
       "      <td>7.0</td>\n",
       "    </tr>\n",
       "    <tr>\n",
       "      <th>263876</th>\n",
       "      <td>B01FE7K184</td>\n",
       "      <td>2023-03-22 17:00:00</td>\n",
       "      <td>351644</td>\n",
       "      <td>1.242</td>\n",
       "      <td>€</td>\n",
       "      <td>2023-03-22 17:59:25.867302</td>\n",
       "      <td>Neu</td>\n",
       "      <td>Solution 4YOU</td>\n",
       "      <td>A3UY995ZKNNQ2M</td>\n",
       "      <td>84.46</td>\n",
       "      <td>...</td>\n",
       "      <td>0.00</td>\n",
       "      <td>Solution 4YOU</td>\n",
       "      <td>2</td>\n",
       "      <td>False</td>\n",
       "      <td>3</td>\n",
       "      <td>False</td>\n",
       "      <td>0</td>\n",
       "      <td>False</td>\n",
       "      <td>FBM</td>\n",
       "      <td>12.0</td>\n",
       "    </tr>\n",
       "  </tbody>\n",
       "</table>\n",
       "<p>5 rows × 22 columns</p>\n",
       "</div>"
      ],
      "text/plain": [
       "              asin                 time      id  price currency  \\\n",
       "263872  B01FE7K184  2023-03-22 16:00:00  342473  1.118        €   \n",
       "263873  B01FE7K184  2023-03-22 16:00:00  342474  1.242        €   \n",
       "263874  B01FE7K184  2023-03-22 16:00:00  342475  1.326        €   \n",
       "263875  B01FE7K184  2023-03-22 17:00:00  351643  1.109        €   \n",
       "263876  B01FE7K184  2023-03-22 17:00:00  351644  1.242        €   \n",
       "\n",
       "                         crawlTime condition     sellerName        sellerId  \\\n",
       "263872  2023-03-22 16:54:19.836242       Neu      GetMarket   AKAKN0OST1C61   \n",
       "263873  2023-03-22 16:54:19.836543       Neu  Solution 4YOU  A3UY995ZKNNQ2M   \n",
       "263874  2023-03-22 16:54:19.836840       Neu      E-Mistero  A1T7OOZ029MPBM   \n",
       "263875  2023-03-22 17:59:25.866981       Neu      GetMarket   AKAKN0OST1C61   \n",
       "263876  2023-03-22 17:59:25.867302       Neu  Solution 4YOU  A3UY995ZKNNQ2M   \n",
       "\n",
       "        sellerbewertung  ...  lieferpreis lieferung_durch  ranking  \\\n",
       "263872            59.22  ...         9.99       GetMarket        1   \n",
       "263873            84.46  ...         0.00   Solution 4YOU        2   \n",
       "263874            48.40  ...        78.57       E-Mistero        3   \n",
       "263875            59.22  ...         9.99       GetMarket        1   \n",
       "263876            84.46  ...         0.00   Solution 4YOU        2   \n",
       "\n",
       "       buyBoxWinner  numberOfSellers  trigByReactive  time_gap  \\\n",
       "263872        False                3           False         0   \n",
       "263873        False                3           False         0   \n",
       "263874        False                3           False         0   \n",
       "263875        False                3           False         0   \n",
       "263876        False                3           False         0   \n",
       "\n",
       "        copyed_cause_missing  Fulfillment_type  date_diff  \n",
       "263872                 False               FBM       24.0  \n",
       "263873                 False               FBM       18.0  \n",
       "263874                 False               FBM       17.0  \n",
       "263875                 False               FBM        7.0  \n",
       "263876                 False               FBM       12.0  \n",
       "\n",
       "[5 rows x 22 columns]"
      ]
     },
     "execution_count": 232,
     "metadata": {},
     "output_type": "execute_result"
    }
   ],
   "source": [
    "# Select rows where the 'price' column is between 1 and 2\n",
    "selected_rows = df[(df['price'] >= 1) & (df['price'] <= 2)]\n",
    "selected_rows.head()"
   ]
  },
  {
   "cell_type": "code",
   "execution_count": 233,
   "id": "f7d3ac30",
   "metadata": {
    "pycharm": {
     "is_executing": true
    },
    "scrolled": true
   },
   "outputs": [
    {
     "name": "stderr",
     "output_type": "stream",
     "text": [
      "C:\\Users\\Robert Betschinger\\AppData\\Local\\Temp\\ipykernel_12788\\3143074723.py:8: SettingWithCopyWarning: \n",
      "A value is trying to be set on a copy of a slice from a DataFrame.\n",
      "Try using .loc[row_indexer,col_indexer] = value instead\n",
      "\n",
      "See the caveats in the documentation: https://pandas.pydata.org/pandas-docs/stable/user_guide/indexing.html#returning-a-view-versus-a-copy\n",
      "  selected_rows.loc[(selected_rows['price'] >= 1) & (selected_rows['price'] <= 2), 'price'] *= 1000\n"
     ]
    }
   ],
   "source": [
    "#Prices over 1000 € are misinterpreted due to a wrongly placed . sign. Transforming it.\n",
    "## All Prices below 2 Euros where checked if Products where existing, for which this price is real. All Products under question are actully priced over 1000€\n",
    "\n",
    "# Select rows where the 'price' column is between 1 and 2\n",
    "selected_rows = df[(df['price'] >= 1) & (df['price'] <= 2)]\n",
    "\n",
    "# Multiply the price by 1000 for rows where the price is between 1 and 2\n",
    "selected_rows.loc[(selected_rows['price'] >= 1) & (selected_rows['price'] <= 2), 'price'] *= 1000\n",
    "\n",
    "# Update the original DataFrame with the updated values\n",
    "df.update(selected_rows)\n",
    "\n",
    "# Print the result\n",
    "#selected_rows.head()"
   ]
  },
  {
   "cell_type": "code",
   "execution_count": 234,
   "id": "da9ac5b6",
   "metadata": {
    "pycharm": {
     "is_executing": true
    },
    "scrolled": true
   },
   "outputs": [
    {
     "name": "stdout",
     "output_type": "stream",
     "text": [
      "<class 'pandas.core.frame.DataFrame'>\n",
      "RangeIndex: 1009221 entries, 0 to 1009220\n",
      "Data columns (total 22 columns):\n",
      " #   Column                Non-Null Count    Dtype  \n",
      "---  ------                --------------    -----  \n",
      " 0   asin                  1009221 non-null  object \n",
      " 1   time                  1009221 non-null  object \n",
      " 2   id                    1009221 non-null  float64\n",
      " 3   price                 1009221 non-null  float64\n",
      " 4   currency              1009221 non-null  object \n",
      " 5   crawlTime             1009221 non-null  object \n",
      " 6   condition             1009221 non-null  object \n",
      " 7   sellerName            1009221 non-null  object \n",
      " 8   sellerId              1009221 non-null  object \n",
      " 9   sellerbewertung       752384 non-null   float64\n",
      " 10  seller_sterne         1009221 non-null  float64\n",
      " 11  lieferdatum           973583 non-null   object \n",
      " 12  lieferpreis           973583 non-null   float64\n",
      " 13  lieferung_durch       1009221 non-null  object \n",
      " 14  ranking               1009221 non-null  float64\n",
      " 15  buyBoxWinner          1009221 non-null  object \n",
      " 16  numberOfSellers       1009221 non-null  float64\n",
      " 17  trigByReactive        1009221 non-null  object \n",
      " 18  time_gap              1009221 non-null  float64\n",
      " 19  copyed_cause_missing  1009221 non-null  object \n",
      " 20  Fulfillment_type      1009221 non-null  object \n",
      " 21  date_diff             955500 non-null   float64\n",
      "dtypes: float64(9), object(13)\n",
      "memory usage: 169.4+ MB\n"
     ]
    }
   ],
   "source": [
    "df.info()"
   ]
  },
  {
   "cell_type": "code",
   "execution_count": 236,
   "id": "921e463b",
   "metadata": {},
   "outputs": [],
   "source": [
    "name_for_save_file = '../Grunddatein/Zwischendatein/OffersData1MillionCleaned.csv'"
   ]
  },
  {
   "cell_type": "markdown",
   "id": "e0c54678",
   "metadata": {},
   "source": [
    "## Save Data to File"
   ]
  },
  {
   "cell_type": "code",
   "execution_count": 237,
   "id": "7433f8f2",
   "metadata": {
    "pycharm": {
     "is_executing": true
    },
    "scrolled": true
   },
   "outputs": [],
   "source": [
    "df.to_csv(name_for_save_file, index=False)\n",
    "#Relevant für RF: asin, price,(time),sellerid, sellerbewertung, seller_sterne, lieferpreis, Fulfillment_type, date_diff, ranking, numberOfSellers"
   ]
  },
  {
   "cell_type": "code",
   "execution_count": null,
   "id": "eb9d46aa",
   "metadata": {
    "pycharm": {
     "is_executing": true
    }
   },
   "outputs": [],
   "source": []
  }
 ],
 "metadata": {
  "kernelspec": {
   "display_name": "Python 3 (ipykernel)",
   "language": "python",
   "name": "python3"
  },
  "language_info": {
   "codemirror_mode": {
    "name": "ipython",
    "version": 3
   },
   "file_extension": ".py",
   "mimetype": "text/x-python",
   "name": "python",
   "nbconvert_exporter": "python",
   "pygments_lexer": "ipython3",
   "version": "3.10.9"
  }
 },
 "nbformat": 4,
 "nbformat_minor": 5
}
