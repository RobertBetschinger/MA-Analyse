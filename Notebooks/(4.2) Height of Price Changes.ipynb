{
 "cells": [
  {
   "cell_type": "code",
   "execution_count": 1,
   "id": "bca2891f",
   "metadata": {
    "scrolled": true
   },
   "outputs": [
    {
     "name": "stderr",
     "output_type": "stream",
     "text": [
      "C:\\Users\\robertbetschinger\\AppData\\Local\\Temp\\ipykernel_8424\\1313368320.py:4: DtypeWarning: Columns (11) have mixed types. Specify dtype option on import or set low_memory=False.\n",
      "  df = pd.read_csv('../Grunddatein/Zwischendatein/CleanedDataCompleteNoNulls.csv')\n"
     ]
    },
    {
     "name": "stdout",
     "output_type": "stream",
     "text": [
      "<class 'pandas.core.frame.DataFrame'>\n",
      "RangeIndex: 6591111 entries, 0 to 6591110\n",
      "Data columns (total 20 columns):\n",
      " #   Column            Dtype  \n",
      "---  ------            -----  \n",
      " 0   id                float64\n",
      " 1   asin              object \n",
      " 2   price             float64\n",
      " 3   currency          object \n",
      " 4   time              object \n",
      " 5   crawlTime         object \n",
      " 6   condition         object \n",
      " 7   sellerName        object \n",
      " 8   sellerId          object \n",
      " 9   sellerbewertung   int64  \n",
      " 10  seller_sterne     float64\n",
      " 11  lieferdatum       object \n",
      " 12  lieferpreis       float64\n",
      " 13  lieferung_durch   object \n",
      " 14  ranking           float64\n",
      " 15  buyBoxWinner      bool   \n",
      " 16  numberOfSellers   float64\n",
      " 17  trigByReactive    object \n",
      " 18  Fulfillment_type  object \n",
      " 19  date_diff         float64\n",
      "dtypes: bool(1), float64(7), int64(1), object(11)\n",
      "memory usage: 961.7+ MB\n"
     ]
    }
   ],
   "source": [
    "import pandas as pd\n",
    "import numpy as np\n",
    "\n",
    "df = pd.read_csv('../Grunddatein/Zwischendatein/CleanedDataCompleteNoNulls.csv')\n",
    "df.info()"
   ]
  },
  {
   "cell_type": "code",
   "execution_count": 2,
   "id": "9f59a4b6",
   "metadata": {},
   "outputs": [
    {
     "name": "stdout",
     "output_type": "stream",
     "text": [
      "The ASIN with the highest average price is B01FE7K184 with an average price of 1182.7076029962548\n",
      "The ASIN with the lowest average price is B00BXFPMZE with an average price of 23.958089990817264\n"
     ]
    }
   ],
   "source": [
    "# Assuming 'price' is the column in your dataframe which has the price for each ASIN\n",
    "\n",
    "# Calculate the mean price for each ASIN\n",
    "mean_prices = df.groupby('asin')['price'].mean()\n",
    "\n",
    "# Find the ASIN with the highest average price\n",
    "most_expensive_asin = mean_prices.idxmax()\n",
    "print(f\"The ASIN with the highest average price is {most_expensive_asin} with an average price of {mean_prices[most_expensive_asin]}\")\n",
    "\n",
    "# Find the ASIN with the lowest average price\n",
    "cheapest_asin = mean_prices.idxmin()\n",
    "print(f\"The ASIN with the lowest average price is {cheapest_asin} with an average price of {mean_prices[cheapest_asin]}\")\n"
   ]
  },
  {
   "cell_type": "code",
   "execution_count": 3,
   "id": "2c73959e",
   "metadata": {},
   "outputs": [
    {
     "name": "stdout",
     "output_type": "stream",
     "text": [
      "The maximum percentage difference is 4836.18530884808%\n"
     ]
    }
   ],
   "source": [
    "highest_mean_price = 1182.71\n",
    "lowest_mean_price = 23.96\n",
    "\n",
    "max_percentage_difference = ((highest_mean_price - lowest_mean_price) / abs(lowest_mean_price)) * 100\n",
    "\n",
    "print(f\"The maximum percentage difference is {max_percentage_difference}%\")"
   ]
  },
  {
   "cell_type": "markdown",
   "id": "1c7976da",
   "metadata": {},
   "source": [
    "## Get the 4 Types of Sellers"
   ]
  },
  {
   "cell_type": "code",
   "execution_count": 4,
   "id": "0fe11221",
   "metadata": {},
   "outputs": [
    {
     "name": "stdout",
     "output_type": "stream",
     "text": [
      "Es gibt so viele algorithmische Verkäufer: 575\n",
      "Es gibt so viele Amazon und Like Verkäufer 5\n",
      "Es gibt so viele nicht algorithmische Verkäufer: 1797\n",
      "Es gibt insgesamt 2377 verschiedene Verkäufer\n"
     ]
    }
   ],
   "source": [
    "##Read in the Sellers who are algorithmic\n",
    "df_algorithmic_seller_names = pd.read_csv('../Grunddatein/Zwischendatein/PA-Adopters.csv')\n",
    "df_algorithmic_seller_names = df_algorithmic_seller_names.rename(columns={'AlgorithmicSellerNames': 'sellerName'})\n",
    "\n",
    "distinct_values_verkäufer = df['sellerName'].unique()\n",
    "df_non_algorithmic_seller_names = set(distinct_values_verkäufer) - set(df_algorithmic_seller_names['sellerName'].values)\n",
    "df_non_algorithmic_seller_names = pd.DataFrame({'sellerName': list(df_non_algorithmic_seller_names)})\n",
    "\n",
    "amazon_and_like_names = ['amazon', 'Amazon US', 'Amazon UK','Amazon','Amazon Warehouse ']\n",
    "df_algorithmic_seller_names = df_algorithmic_seller_names[~df_algorithmic_seller_names['sellerName'].isin(amazon_and_like_names)]\n",
    "only_amazon =['amazon']\n",
    "amazon_like = ['Amazon US', 'Amazon UK','Amazon','Amazon Warehouse ']\n",
    "only_amazon_df = pd.DataFrame(only_amazon, columns=['sellerName'])\n",
    "amazon_like_df = pd.DataFrame(amazon_like, columns=['sellerName'])\n",
    "\n",
    "\n",
    "print(\"Es gibt so viele algorithmische Verkäufer:\",len(df_algorithmic_seller_names))\n",
    "print(\"Es gibt so viele Amazon und Like Verkäufer\", len(only_amazon) + len(amazon_like))\n",
    "print(f\"Es gibt so viele nicht algorithmische Verkäufer:\", len(df_non_algorithmic_seller_names))\n",
    "print(f\"Es gibt insgesamt {len(distinct_values_verkäufer)} verschiedene Verkäufer\")"
   ]
  },
  {
   "cell_type": "code",
   "execution_count": 5,
   "id": "fffd179e",
   "metadata": {},
   "outputs": [
    {
     "name": "stderr",
     "output_type": "stream",
     "text": [
      "\n",
      "KeyboardInterrupt\n",
      "\n"
     ]
    }
   ],
   "source": [
    "import pandas as pd\n",
    "from datetime import timedelta\n",
    "\n",
    "# Assuming your DataFrame is called df\n",
    "df[\"time\"] = pd.to_datetime(df[\"time\"], format=\"%Y-%m-%d %H:%M:%S\")\n",
    "\n",
    "# First, sort the DataFrame by 'asin', 'sellerName', 'condition', 'time', and 'price'\n",
    "df = df.sort_values(by=['asin', 'sellerName','condition', 'time','price'])\n",
    "\n",
    "# Reset the index after sorting\n",
    "df.reset_index(drop=True, inplace=True)\n",
    "\n",
    "# Compute the price changes by checking if the price in the current row is different from the previous row,\n",
    "# and if the sellerName is the same as in the previous row and if the condition is the same as in the previous row\n",
    "# and if the time difference is exactly one hour and if there is no offer one hour earlier with the same condition and the same price from the same seller\n",
    "df['price_change'] = (\n",
    "    (df['price'] != df['price'].shift(1)) &\n",
    "    (df['condition'] == df['condition'].shift(1)) &\n",
    "    (df['sellerName'] == df['sellerName'].shift(1)) &\n",
    "    (df['asin'] == df['asin'].shift(1)) &\n",
    "    ((df['time'] - df['time'].shift(1)) == timedelta(hours=1)) &\n",
    "    (~(\n",
    "        ((df['condition'] == df['condition'].shift(1)) & (df['price'] == df['price'].shift(1)) & ((df['time'] - df['time'].shift(1)) == timedelta(hours=1)) & (df['sellerName'] == df['sellerName'].shift(1))) |\n",
    "        ((df['condition'] == df['condition'].shift(2)) & (df['price'] == df['price'].shift(2)) & ((df['time'] - df['time'].shift(2)) == timedelta(hours=1)) & (df['sellerName'] == df['sellerName'].shift(2)))\n",
    "    ))\n",
    ").astype(int)\n",
    "\n",
    "# Calculate the observation time for each seller-asin combination\n",
    "observation_time = df.groupby(['asin', 'sellerName'])['time'].agg(['min', 'max']).reset_index()\n",
    "observation_time['observation_time'] = observation_time['max'] - observation_time['min']\n",
    "\n",
    "# Add a new column with the observation time in seconds\n",
    "#observation_time['observation_time_seconds'] = observation_time['observation_time'].dt.total_seconds()\n",
    "\n",
    "# Now, group by 'asin' and 'sellerName' and sum the 'price_change' column to get the number of price changes\n",
    "price_changes = df.groupby(['asin', 'sellerName'])['price_change'].sum().reset_index()\n",
    "\n",
    "# Merge the price_changes and observation_time DataFrames\n",
    "result_df = pd.merge(price_changes, observation_time[['asin', 'sellerName', 'observation_time']], on=['asin', 'sellerName'])\n",
    "\n",
    "# Convert the result to a list of tuples\n",
    "result = list(result_df.itertuples(index=False, name=None))\n",
    "\n",
    "# Print the result\n",
    "for x in result:\n",
    "    print(x)"
   ]
  },
  {
   "cell_type": "code",
   "execution_count": null,
   "id": "ab16ac3b",
   "metadata": {},
   "outputs": [],
   "source": [
    "import numpy as np\n",
    "\n",
    "# Calculate the percentage change for each row where price_change is 1\n",
    "df['price_pct_change'] = df.loc[df['price_change'] == 1, 'price'].pct_change()\n",
    "\n",
    "# Compute the mean percentage change for each ASIN/Seller combination\n",
    "mean_pct_change = df.groupby(['asin', 'sellerName'])['price_pct_change'].mean().reset_index()\n",
    "\n",
    "# Rename the column\n",
    "mean_pct_change.rename(columns={'price_pct_change': 'mean_pct_price_change'}, inplace=True)\n",
    "\n",
    "# Merge the mean_pct_change DataFrame with the result_df DataFrame\n",
    "result_df = pd.merge(result_df, mean_pct_change, on=['asin', 'sellerName'])\n",
    "\n"
   ]
  },
  {
   "cell_type": "code",
   "execution_count": null,
   "id": "243d21ab",
   "metadata": {
    "scrolled": true
   },
   "outputs": [],
   "source": [
    "result_df.info()"
   ]
  },
  {
   "cell_type": "code",
   "execution_count": null,
   "id": "1b8b7b39",
   "metadata": {
    "scrolled": true
   },
   "outputs": [],
   "source": [
    "result_df"
   ]
  },
  {
   "cell_type": "code",
   "execution_count": null,
   "id": "588ce868",
   "metadata": {},
   "outputs": [],
   "source": [
    "# Count the number of NaN values in 'mean_pct_price_change'\n",
    "nan_count = result_df['mean_pct_price_change'].isna().sum()\n",
    "print(f\"The number of NaN values in 'mean_pct_price_change' is {nan_count}\")\n",
    "\n",
    "# Count the number of rows where 'mean_pct_price_change' is NaN and 'price_change' is 0\n",
    "nan_and_zero_count = result_df[(result_df['mean_pct_price_change'].isna()) & (result_df['price_change'] == 0)].shape[0]\n",
    "print(f\"The number of rows where 'mean_pct_price_change' is NaN and 'price_change' is 0 is {nan_and_zero_count}\")\n"
   ]
  },
  {
   "cell_type": "code",
   "execution_count": null,
   "id": "9a0f98e8",
   "metadata": {},
   "outputs": [],
   "source": [
    "# Create a new column 'sellerType' in result_df\n",
    "result_df['sellerType'] = 'unknown'\n",
    "\n",
    "# Define sellerType for each sellerName\n",
    "only_amazon_sellers = only_amazon_df['sellerName'].unique()\n",
    "amazon_like_sellers = amazon_like_df['sellerName'].unique()\n",
    "algorithmic_sellers = df_algorithmic_seller_names['sellerName'].unique()\n",
    "non_algorithmic_sellers = df_non_algorithmic_seller_names['sellerName'].unique()\n",
    "\n",
    "result_df.loc[result_df['sellerName'].isin(only_amazon_sellers), 'sellerType'] = 'only_amazon'\n",
    "result_df.loc[result_df['sellerName'].isin(amazon_like_sellers), 'sellerType'] = 'amazon_like'\n",
    "result_df.loc[result_df['sellerName'].isin(algorithmic_sellers), 'sellerType'] = 'algorithmic'\n",
    "result_df.loc[result_df['sellerName'].isin(non_algorithmic_sellers), 'sellerType'] = 'non_algorithmic'\n",
    "\n",
    "# Now, group by 'sellerType' and calculate the mean of 'mean_pct_price_change'\n",
    "mean_values = result_df.groupby('sellerType')['mean_pct_price_change'].mean()\n",
    "\n",
    "# Convert the mean values to percentage and round them\n",
    "mean_values_percentage = mean_values * 100\n",
    "rounded_mean_values_percentage = mean_values_percentage.round(2)\n",
    "\n",
    "# Print the mean values in percentage format\n",
    "for seller_type, mean_value in rounded_mean_values_percentage.iteritems():\n",
    "    print(f\"{seller_type}: {mean_value}%\")\n"
   ]
  },
  {
   "cell_type": "code",
   "execution_count": null,
   "id": "3189a5bd",
   "metadata": {},
   "outputs": [],
   "source": [
    "# Create a new column 'sellerType' in result_df\n",
    "result_df['sellerType'] = 'unknown'\n",
    "\n",
    "# Define sellerType for each sellerName\n",
    "only_amazon_sellers = only_amazon_df['sellerName'].unique()\n",
    "amazon_like_sellers = amazon_like_df['sellerName'].unique()\n",
    "algorithmic_sellers = df_algorithmic_seller_names['sellerName'].unique()\n",
    "non_algorithmic_sellers = df_non_algorithmic_seller_names['sellerName'].unique()\n",
    "\n",
    "result_df.loc[result_df['sellerName'].isin(only_amazon_sellers), 'sellerType'] = 'only_amazon'\n",
    "result_df.loc[result_df['sellerName'].isin(amazon_like_sellers), 'sellerType'] = 'amazon_like'\n",
    "result_df.loc[result_df['sellerName'].isin(algorithmic_sellers), 'sellerType'] = 'algorithmic'\n",
    "result_df.loc[result_df['sellerName'].isin(non_algorithmic_sellers), 'sellerType'] = 'non_algorithmic'\n",
    "\n",
    "# Now, group by 'sellerType' and calculate the mean of 'price_change'\n",
    "mean_price_change_count = result_df.groupby('sellerType')['price_change'].mean()\n",
    "\n",
    "# Print the mean price change count\n",
    "for seller_type, mean_count in mean_price_change_count.iteritems():\n",
    "    print(f\"{seller_type}: {mean_count}\")\n"
   ]
  },
  {
   "cell_type": "code",
   "execution_count": null,
   "id": "34dd92f6",
   "metadata": {},
   "outputs": [],
   "source": [
    "result_df.info()"
   ]
  },
  {
   "cell_type": "code",
   "execution_count": null,
   "id": "46208b7f",
   "metadata": {},
   "outputs": [],
   "source": [
    "result_df.tail()"
   ]
  },
  {
   "cell_type": "code",
   "execution_count": null,
   "id": "bb38ba85",
   "metadata": {},
   "outputs": [],
   "source": [
    "distinct_seller_types = result_df['sellerType'].unique()\n",
    "distinct_seller_types"
   ]
  },
  {
   "cell_type": "code",
   "execution_count": null,
   "id": "6308155d",
   "metadata": {},
   "outputs": [],
   "source": [
    "count_price_change = result_df[result_df['price_change'] > 0].groupby('sellerType').size()\n",
    "count_price_change"
   ]
  },
  {
   "cell_type": "code",
   "execution_count": null,
   "id": "694f5b3a",
   "metadata": {},
   "outputs": [],
   "source": []
  }
 ],
 "metadata": {
  "kernelspec": {
   "display_name": "Python 3 (ipykernel)",
   "language": "python",
   "name": "python3"
  },
  "language_info": {
   "codemirror_mode": {
    "name": "ipython",
    "version": 3
   },
   "file_extension": ".py",
   "mimetype": "text/x-python",
   "name": "python",
   "nbconvert_exporter": "python",
   "pygments_lexer": "ipython3",
   "version": "3.10.9"
  }
 },
 "nbformat": 4,
 "nbformat_minor": 5
}
