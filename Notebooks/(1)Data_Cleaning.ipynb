{
 "cells": [
  {
   "cell_type": "code",
   "execution_count": 49,
   "id": "d037d742",
   "metadata": {
    "scrolled": false
   },
   "outputs": [],
   "source": [
    "import pandas as pd\n",
    "import numpy as np\n",
    "\n",
    "\n",
    "df = pd.read_csv('../Grunddatein/OffersData.csv')\n",
    "name_for_save_file = '../Grunddatein/Zwischendatein/CleanedDataComplete.csv'\n",
    "\n",
    "asins2 = pd.read_csv('../Grunddatein/ASINS.csv')\n",
    "skip_cell = True"
   ]
  },
  {
   "cell_type": "code",
   "execution_count": 50,
   "id": "f73c092a",
   "metadata": {
    "scrolled": true
   },
   "outputs": [
    {
     "name": "stdout",
     "output_type": "stream",
     "text": [
      "<class 'pandas.core.frame.DataFrame'>\n",
      "RangeIndex: 6603268 entries, 0 to 6603267\n",
      "Data columns (total 18 columns):\n",
      " #   Column           Dtype  \n",
      "---  ------           -----  \n",
      " 0   id               int64  \n",
      " 1   asin             object \n",
      " 2   price            float64\n",
      " 3   currency         object \n",
      " 4   time             object \n",
      " 5   crawlTime        object \n",
      " 6   condition        object \n",
      " 7   sellerName       object \n",
      " 8   sellerId         object \n",
      " 9   sellerbewertung  object \n",
      " 10  seller_sterne    object \n",
      " 11  lieferdatum      object \n",
      " 12  lieferpreis      object \n",
      " 13  lieferung_durch  object \n",
      " 14  ranking          int64  \n",
      " 15  buyBoxWinner     object \n",
      " 16  numberOfSellers  int64  \n",
      " 17  trigByReactive   object \n",
      "dtypes: float64(1), int64(3), object(14)\n",
      "memory usage: 906.8+ MB\n"
     ]
    }
   ],
   "source": [
    "df.info()"
   ]
  },
  {
   "cell_type": "code",
   "execution_count": 51,
   "id": "a0e34a72",
   "metadata": {
    "scrolled": false
   },
   "outputs": [
    {
     "name": "stdout",
     "output_type": "stream",
     "text": [
      "Length of the DataFrame: 6603268\n",
      "The Number of Offers winning the BuyBox is 0\n",
      "Number of distinct asins: 995\n",
      "ASINs not present in both: {'B0B2RRZLY6', 'B09MY48N93', 'B07H4FRQ4T', 'B09L6247P8', 'B09W8GB7KY'}\n"
     ]
    }
   ],
   "source": [
    "print(\"Length of the DataFrame:\", df.shape[0])\n",
    "num_true = (df['buyBoxWinner'] == True).sum()\n",
    "print(f\"The Number of Offers winning the BuyBox is {num_true}\")\n",
    "distinct_asins = df['asin'].unique()\n",
    "asins_complete = asins2['id'].unique()\n",
    "print(\"Number of distinct asins:\", len(distinct_asins))\n",
    "set_distinct_asins = set(distinct_asins)\n",
    "set_asins_complete = set(asins_complete)\n",
    "\n",
    "asins_not_in_both = set_distinct_asins.symmetric_difference(set_asins_complete)\n",
    "print(\"ASINs not present in both:\", asins_not_in_both)"
   ]
  },
  {
   "cell_type": "markdown",
   "id": "a5bde183",
   "metadata": {},
   "source": [
    "## Delete ASIN with Missing Values and Add Missing Values to the two Offers"
   ]
  },
  {
   "cell_type": "code",
   "execution_count": 55,
   "id": "4dd46e0d",
   "metadata": {},
   "outputs": [],
   "source": [
    "df = df[~(df['asin'] == 'B0743BR42Y')]\n",
    "row_index = df[df['id'] == 1637198].index[0]\n",
    "# Update the 'price' and 'currency' for the row with 'id' equal to 1637198 with the price from the hour before\n",
    "df.loc[row_index, 'price'] = 152.44\n",
    "df.loc[row_index, 'currency'] = '€'\n",
    "# Find the index of the row with 'id' equal to 2486948\n",
    "row_index = df[df['id'] == 2486948].index[0]\n",
    "# Update the 'price' and 'currency' for the row with 'id' equal to 2486948 with the price from the hour before\n",
    "df.loc[row_index, 'price'] = 185.32\n",
    "df.loc[row_index, 'currency'] = '€'\n",
    "\n"
   ]
  },
  {
   "cell_type": "markdown",
   "id": "6e270a9a",
   "metadata": {},
   "source": [
    "## Transform BuyBoxWinner Column to Boolean Format"
   ]
  },
  {
   "cell_type": "code",
   "execution_count": 56,
   "id": "13f8f682",
   "metadata": {},
   "outputs": [],
   "source": [
    "df['buyBoxWinner'] = df['buyBoxWinner'].apply(lambda x: True if x == 't' else False)"
   ]
  },
  {
   "cell_type": "markdown",
   "id": "ce77a5b3",
   "metadata": {},
   "source": [
    "## Transform Time Column to Datetime Format"
   ]
  },
  {
   "cell_type": "code",
   "execution_count": 57,
   "id": "24452563",
   "metadata": {
    "scrolled": false
   },
   "outputs": [
    {
     "data": {
      "text/html": [
       "<div>\n",
       "<style scoped>\n",
       "    .dataframe tbody tr th:only-of-type {\n",
       "        vertical-align: middle;\n",
       "    }\n",
       "\n",
       "    .dataframe tbody tr th {\n",
       "        vertical-align: top;\n",
       "    }\n",
       "\n",
       "    .dataframe thead th {\n",
       "        text-align: right;\n",
       "    }\n",
       "</style>\n",
       "<table border=\"1\" class=\"dataframe\">\n",
       "  <thead>\n",
       "    <tr style=\"text-align: right;\">\n",
       "      <th></th>\n",
       "      <th>id</th>\n",
       "      <th>asin</th>\n",
       "      <th>price</th>\n",
       "      <th>currency</th>\n",
       "      <th>time</th>\n",
       "      <th>crawlTime</th>\n",
       "      <th>condition</th>\n",
       "      <th>sellerName</th>\n",
       "      <th>sellerId</th>\n",
       "      <th>sellerbewertung</th>\n",
       "      <th>seller_sterne</th>\n",
       "      <th>lieferdatum</th>\n",
       "      <th>lieferpreis</th>\n",
       "      <th>lieferung_durch</th>\n",
       "      <th>ranking</th>\n",
       "      <th>buyBoxWinner</th>\n",
       "      <th>numberOfSellers</th>\n",
       "      <th>trigByReactive</th>\n",
       "    </tr>\n",
       "  </thead>\n",
       "  <tbody>\n",
       "    <tr>\n",
       "      <th>0</th>\n",
       "      <td>341683</td>\n",
       "      <td>B09SBXZV9V</td>\n",
       "      <td>141.55</td>\n",
       "      <td>€</td>\n",
       "      <td>2023-03-22 16:00:00</td>\n",
       "      <td>2023-03-22 16:54:19.521639</td>\n",
       "      <td>Neu</td>\n",
       "      <td>belli-shop</td>\n",
       "      <td>AOZ9PW800A1WK</td>\n",
       "      <td>(4211 Bewertungen) 100 % positiv in...</td>\n",
       "      <td>5 von 5</td>\n",
       "      <td>Samstag, 25. März</td>\n",
       "      <td>GRATIS</td>\n",
       "      <td>Amazon</td>\n",
       "      <td>0</td>\n",
       "      <td>False</td>\n",
       "      <td>13</td>\n",
       "      <td>f</td>\n",
       "    </tr>\n",
       "    <tr>\n",
       "      <th>1</th>\n",
       "      <td>341684</td>\n",
       "      <td>B0000C72GD</td>\n",
       "      <td>79.90</td>\n",
       "      <td>€</td>\n",
       "      <td>2023-03-22 16:00:00</td>\n",
       "      <td>2023-03-22 16:54:19.522425</td>\n",
       "      <td>Neu</td>\n",
       "      <td>STILE IMMAGINE DIGITAL HD</td>\n",
       "      <td>A16E8RFMSALSSB</td>\n",
       "      <td>(29 Bewertungen) 97 % positiv über ...</td>\n",
       "      <td>5 von 5</td>\n",
       "      <td>29. - 31. März</td>\n",
       "      <td>9,90 €</td>\n",
       "      <td>STILE IMMAGINE DIGITAL HD</td>\n",
       "      <td>0</td>\n",
       "      <td>False</td>\n",
       "      <td>2</td>\n",
       "      <td>f</td>\n",
       "    </tr>\n",
       "    <tr>\n",
       "      <th>2</th>\n",
       "      <td>341685</td>\n",
       "      <td>B0001GRVJQ</td>\n",
       "      <td>55.31</td>\n",
       "      <td>€</td>\n",
       "      <td>2023-03-22 16:00:00</td>\n",
       "      <td>2023-03-22 16:54:19.523125</td>\n",
       "      <td>Neu</td>\n",
       "      <td>amazon</td>\n",
       "      <td>amazon</td>\n",
       "      <td>NaN</td>\n",
       "      <td>NaN</td>\n",
       "      <td>NaN</td>\n",
       "      <td>NaN</td>\n",
       "      <td>Amazon</td>\n",
       "      <td>0</td>\n",
       "      <td>False</td>\n",
       "      <td>8</td>\n",
       "      <td>f</td>\n",
       "    </tr>\n",
       "    <tr>\n",
       "      <th>3</th>\n",
       "      <td>341686</td>\n",
       "      <td>B0002CZU1U</td>\n",
       "      <td>273.28</td>\n",
       "      <td>€</td>\n",
       "      <td>2023-03-22 16:00:00</td>\n",
       "      <td>2023-03-22 16:54:19.523736</td>\n",
       "      <td>Neu</td>\n",
       "      <td>Musikhaus Kirstein GmbH</td>\n",
       "      <td>A2LUZCVBLA57KT</td>\n",
       "      <td>(38466 Bewertungen) 95 % positiv in...</td>\n",
       "      <td>4.5 von 5</td>\n",
       "      <td>27. - 28. März</td>\n",
       "      <td>2,99 €</td>\n",
       "      <td>Musikhaus Kirstein GmbH</td>\n",
       "      <td>0</td>\n",
       "      <td>False</td>\n",
       "      <td>3</td>\n",
       "      <td>f</td>\n",
       "    </tr>\n",
       "    <tr>\n",
       "      <th>4</th>\n",
       "      <td>341687</td>\n",
       "      <td>B0002HOS7M</td>\n",
       "      <td>75.62</td>\n",
       "      <td>€</td>\n",
       "      <td>2023-03-22 16:00:00</td>\n",
       "      <td>2023-03-22 16:54:19.524467</td>\n",
       "      <td>Neu</td>\n",
       "      <td>amazon</td>\n",
       "      <td>amazon</td>\n",
       "      <td>NaN</td>\n",
       "      <td>NaN</td>\n",
       "      <td>Samstag, 25. März</td>\n",
       "      <td>GRATIS</td>\n",
       "      <td>Amazon</td>\n",
       "      <td>0</td>\n",
       "      <td>False</td>\n",
       "      <td>23</td>\n",
       "      <td>f</td>\n",
       "    </tr>\n",
       "  </tbody>\n",
       "</table>\n",
       "</div>"
      ],
      "text/plain": [
       "       id        asin   price currency                time  \\\n",
       "0  341683  B09SBXZV9V  141.55        € 2023-03-22 16:00:00   \n",
       "1  341684  B0000C72GD   79.90        € 2023-03-22 16:00:00   \n",
       "2  341685  B0001GRVJQ   55.31        € 2023-03-22 16:00:00   \n",
       "3  341686  B0002CZU1U  273.28        € 2023-03-22 16:00:00   \n",
       "4  341687  B0002HOS7M   75.62        € 2023-03-22 16:00:00   \n",
       "\n",
       "                    crawlTime condition                 sellerName  \\\n",
       "0  2023-03-22 16:54:19.521639       Neu                 belli-shop   \n",
       "1  2023-03-22 16:54:19.522425       Neu  STILE IMMAGINE DIGITAL HD   \n",
       "2  2023-03-22 16:54:19.523125       Neu                     amazon   \n",
       "3  2023-03-22 16:54:19.523736       Neu    Musikhaus Kirstein GmbH   \n",
       "4  2023-03-22 16:54:19.524467       Neu                     amazon   \n",
       "\n",
       "         sellerId                                    sellerbewertung  \\\n",
       "0   AOZ9PW800A1WK             (4211 Bewertungen) 100 % positiv in...   \n",
       "1  A16E8RFMSALSSB             (29 Bewertungen) 97 % positiv über ...   \n",
       "2          amazon                                                NaN   \n",
       "3  A2LUZCVBLA57KT             (38466 Bewertungen) 95 % positiv in...   \n",
       "4          amazon                                                NaN   \n",
       "\n",
       "  seller_sterne        lieferdatum lieferpreis            lieferung_durch  \\\n",
       "0       5 von 5  Samstag, 25. März      GRATIS                     Amazon   \n",
       "1       5 von 5     29. - 31. März      9,90 €  STILE IMMAGINE DIGITAL HD   \n",
       "2           NaN                NaN         NaN                     Amazon   \n",
       "3     4.5 von 5     27. - 28. März      2,99 €    Musikhaus Kirstein GmbH   \n",
       "4           NaN  Samstag, 25. März      GRATIS                     Amazon   \n",
       "\n",
       "   ranking  buyBoxWinner  numberOfSellers trigByReactive  \n",
       "0        0         False               13              f  \n",
       "1        0         False                2              f  \n",
       "2        0         False                8              f  \n",
       "3        0         False                3              f  \n",
       "4        0         False               23              f  "
      ]
     },
     "execution_count": 57,
     "metadata": {},
     "output_type": "execute_result"
    }
   ],
   "source": [
    "# convert the 'time' column to datetime format\n",
    "df['time'] = pd.to_datetime(df['time'], format=\"%Y-%m-%d-%H\")\n",
    "df.head()"
   ]
  },
  {
   "cell_type": "markdown",
   "id": "20011c95",
   "metadata": {},
   "source": [
    "## Transforming/Adding Missing Rows/Times\n",
    "Missing Rows are \"Replaced\" by the rows for the same asin one hour before\n",
    "Search For Asins with an Hour Gap"
   ]
  },
  {
   "cell_type": "code",
   "execution_count": 58,
   "id": "02da5024",
   "metadata": {
    "scrolled": true
   },
   "outputs": [],
   "source": [
    "if not skip_cell:\n",
    "    # create a MultiIndex using columns \"asin\", \"time\", and \"id\"\n",
    "    df.set_index(['asin', 'time'], inplace=True)\n",
    "\n",
    "    # sort the DataFrame by the MultiIndex\n",
    "    df.sort_index(inplace=True)\n",
    "\n",
    "    # Initialize an empty list called asins_and_gaps\n",
    "    asins_and_gaps = []\n",
    "\n",
    "    def check_one_hour_gap(group):\n",
    "        group = group.reset_index()  # reset index before indexing with missing_gap Series\n",
    "        time_diff = group['time'].diff()\n",
    "        one_hour_gap = pd.Timedelta(hours=1)\n",
    "        missing_gap = time_diff > one_hour_gap\n",
    "\n",
    "        if missing_gap.any():\n",
    "            gap_start_time = group['time'][missing_gap].iloc[0] - one_hour_gap\n",
    "            missing_hour = gap_start_time.strftime(\"%Y-%m-%d %H\")\n",
    "            asin = group[\"asin\"].iloc[0]\n",
    "            print(f'Missing one-hour gap in ASIN {asin} at {missing_hour}')\n",
    "            print(\"-------------------------\")\n",
    "            print(\"\\n\")\n",
    "\n",
    "            # Add the ASIN and the missing hour to the asins_and_gaps list\n",
    "            asins_and_gaps.append((asin, missing_hour))\n",
    "\n",
    "    # apply custom function to each group\n",
    "    df.groupby('asin').apply(check_one_hour_gap)\n",
    "\n",
    "    #print(\"ASINs and gaps:\")\n",
    "    #print(asins_and_gaps)\n",
    "    #asins_and_gaps\n",
    "    distinct_asins = {tup[0] for tup in asins_and_gaps}\n",
    "    print(f\"For {len(distinct_asins)} there is at least one time Gap\")\n",
    "    print(f\"In Total there are {len(asins_and_gaps)} time Gaps\")"
   ]
  },
  {
   "cell_type": "markdown",
   "id": "00b1dfc1",
   "metadata": {},
   "source": [
    "### Find Rows from one hour before and insert them into missing_data_df"
   ]
  },
  {
   "cell_type": "code",
   "execution_count": 59,
   "id": "f4bd95a3",
   "metadata": {
    "scrolled": true
   },
   "outputs": [],
   "source": [
    "if not skip_cell:\n",
    "    # Assuming you already have the DataFrame df and the asins_and_gaps list\n",
    "\n",
    "    # Initialize an empty DataFrame called missing_data_df\n",
    "    missing_data_df = pd.DataFrame()\n",
    "\n",
    "    for asin, gap_time_str in asins_and_gaps:\n",
    "        # Convert the gap time string to a datetime object\n",
    "        gap_time = pd.to_datetime(gap_time_str, format='%Y-%m-%d %H')\n",
    "\n",
    "        matching_rows = pd.DataFrame()\n",
    "        gap_found = 0\n",
    "\n",
    "        # Search for rows up to 3 hours earlier\n",
    "        for hours in range(1, 4):\n",
    "            time_earlier = gap_time - pd.Timedelta(hours=hours)\n",
    "            matching_rows = df.loc[(df.index.get_level_values('asin') == asin) & (df.index.get_level_values('time') == time_earlier)]\n",
    "\n",
    "            if not matching_rows.empty:\n",
    "                gap_found = -hours\n",
    "                break\n",
    "\n",
    "        # If matching rows are found\n",
    "        if not matching_rows.empty:\n",
    "            # Make a copy of matching_rows before modifying it\n",
    "            matching_rows = matching_rows.copy()\n",
    "\n",
    "            # Update the time column value for the copied rows to the appropriate gap\n",
    "            matching_rows.reset_index(inplace=True)\n",
    "            matching_rows[matching_rows.columns[matching_rows.columns.get_loc('time')]] = matching_rows['time'] - pd.Timedelta(hours=gap_found)\n",
    "\n",
    "            # Add a new column named \"time_gap\" to indicate the gap at which the rows were found\n",
    "            matching_rows['time_gap'] = gap_found\n",
    "\n",
    "            # Append the matching rows to the missing_data_df DataFrame\n",
    "            missing_data_df = pd.concat([missing_data_df, matching_rows])\n",
    "\n",
    "    # Reset the index of the missing_data_df DataFrame\n",
    "    missing_data_df.reset_index(drop=True, inplace=True)\n",
    "    #missing_data_df.info()\n",
    "    distinct_values = missing_data_df['asin'].nunique()\n",
    "    distinct_values\n",
    "    print(f\"For {distinct_values} there could be found rows from 1/2/3 hourls earlier to replace the time gap\")"
   ]
  },
  {
   "cell_type": "markdown",
   "id": "269a693b",
   "metadata": {},
   "source": [
    "## Concat Missing Dataframe to Normal Dataframe"
   ]
  },
  {
   "cell_type": "code",
   "execution_count": 60,
   "id": "93ce3c87",
   "metadata": {
    "scrolled": false
   },
   "outputs": [],
   "source": [
    "if not skip_cell:\n",
    "    df['time_gap'] = 0\n",
    "    df['copyed_cause_missing'] = False\n",
    "    df = df.reset_index()\n",
    "    missing_data_df['copyed_cause_missing'] = True\n",
    "    old_size = df.shape[0]\n",
    "    df = pd.concat([df, missing_data_df])\n",
    "    new_size = df.shape[0]\n",
    "    del missing_data_df\n",
    "    print(f\"The Old Size was {old_size} and the New Size is {new_size}. This Means {new_size-old_size} have been added\")"
   ]
  },
  {
   "cell_type": "code",
   "execution_count": 61,
   "id": "dd791770",
   "metadata": {},
   "outputs": [
    {
     "data": {
      "text/html": [
       "<div>\n",
       "<style scoped>\n",
       "    .dataframe tbody tr th:only-of-type {\n",
       "        vertical-align: middle;\n",
       "    }\n",
       "\n",
       "    .dataframe tbody tr th {\n",
       "        vertical-align: top;\n",
       "    }\n",
       "\n",
       "    .dataframe thead th {\n",
       "        text-align: right;\n",
       "    }\n",
       "</style>\n",
       "<table border=\"1\" class=\"dataframe\">\n",
       "  <thead>\n",
       "    <tr style=\"text-align: right;\">\n",
       "      <th></th>\n",
       "      <th>id</th>\n",
       "      <th>asin</th>\n",
       "      <th>price</th>\n",
       "      <th>currency</th>\n",
       "      <th>time</th>\n",
       "      <th>crawlTime</th>\n",
       "      <th>condition</th>\n",
       "      <th>sellerName</th>\n",
       "      <th>sellerId</th>\n",
       "      <th>sellerbewertung</th>\n",
       "      <th>seller_sterne</th>\n",
       "      <th>lieferdatum</th>\n",
       "      <th>lieferpreis</th>\n",
       "      <th>lieferung_durch</th>\n",
       "      <th>ranking</th>\n",
       "      <th>buyBoxWinner</th>\n",
       "      <th>numberOfSellers</th>\n",
       "      <th>trigByReactive</th>\n",
       "    </tr>\n",
       "  </thead>\n",
       "  <tbody>\n",
       "    <tr>\n",
       "      <th>0</th>\n",
       "      <td>341683</td>\n",
       "      <td>B09SBXZV9V</td>\n",
       "      <td>141.55</td>\n",
       "      <td>€</td>\n",
       "      <td>2023-03-22 16:00:00</td>\n",
       "      <td>2023-03-22 16:54:19.521639</td>\n",
       "      <td>Neu</td>\n",
       "      <td>belli-shop</td>\n",
       "      <td>AOZ9PW800A1WK</td>\n",
       "      <td>(4211 Bewertungen) 100 % positiv in...</td>\n",
       "      <td>5 von 5</td>\n",
       "      <td>Samstag, 25. März</td>\n",
       "      <td>GRATIS</td>\n",
       "      <td>Amazon</td>\n",
       "      <td>0</td>\n",
       "      <td>False</td>\n",
       "      <td>13</td>\n",
       "      <td>f</td>\n",
       "    </tr>\n",
       "    <tr>\n",
       "      <th>1</th>\n",
       "      <td>341684</td>\n",
       "      <td>B0000C72GD</td>\n",
       "      <td>79.90</td>\n",
       "      <td>€</td>\n",
       "      <td>2023-03-22 16:00:00</td>\n",
       "      <td>2023-03-22 16:54:19.522425</td>\n",
       "      <td>Neu</td>\n",
       "      <td>STILE IMMAGINE DIGITAL HD</td>\n",
       "      <td>A16E8RFMSALSSB</td>\n",
       "      <td>(29 Bewertungen) 97 % positiv über ...</td>\n",
       "      <td>5 von 5</td>\n",
       "      <td>29. - 31. März</td>\n",
       "      <td>9,90 €</td>\n",
       "      <td>STILE IMMAGINE DIGITAL HD</td>\n",
       "      <td>0</td>\n",
       "      <td>False</td>\n",
       "      <td>2</td>\n",
       "      <td>f</td>\n",
       "    </tr>\n",
       "    <tr>\n",
       "      <th>2</th>\n",
       "      <td>341685</td>\n",
       "      <td>B0001GRVJQ</td>\n",
       "      <td>55.31</td>\n",
       "      <td>€</td>\n",
       "      <td>2023-03-22 16:00:00</td>\n",
       "      <td>2023-03-22 16:54:19.523125</td>\n",
       "      <td>Neu</td>\n",
       "      <td>amazon</td>\n",
       "      <td>amazon</td>\n",
       "      <td>NaN</td>\n",
       "      <td>NaN</td>\n",
       "      <td>NaN</td>\n",
       "      <td>NaN</td>\n",
       "      <td>Amazon</td>\n",
       "      <td>0</td>\n",
       "      <td>False</td>\n",
       "      <td>8</td>\n",
       "      <td>f</td>\n",
       "    </tr>\n",
       "    <tr>\n",
       "      <th>3</th>\n",
       "      <td>341686</td>\n",
       "      <td>B0002CZU1U</td>\n",
       "      <td>273.28</td>\n",
       "      <td>€</td>\n",
       "      <td>2023-03-22 16:00:00</td>\n",
       "      <td>2023-03-22 16:54:19.523736</td>\n",
       "      <td>Neu</td>\n",
       "      <td>Musikhaus Kirstein GmbH</td>\n",
       "      <td>A2LUZCVBLA57KT</td>\n",
       "      <td>(38466 Bewertungen) 95 % positiv in...</td>\n",
       "      <td>4.5 von 5</td>\n",
       "      <td>27. - 28. März</td>\n",
       "      <td>2,99 €</td>\n",
       "      <td>Musikhaus Kirstein GmbH</td>\n",
       "      <td>0</td>\n",
       "      <td>False</td>\n",
       "      <td>3</td>\n",
       "      <td>f</td>\n",
       "    </tr>\n",
       "    <tr>\n",
       "      <th>4</th>\n",
       "      <td>341687</td>\n",
       "      <td>B0002HOS7M</td>\n",
       "      <td>75.62</td>\n",
       "      <td>€</td>\n",
       "      <td>2023-03-22 16:00:00</td>\n",
       "      <td>2023-03-22 16:54:19.524467</td>\n",
       "      <td>Neu</td>\n",
       "      <td>amazon</td>\n",
       "      <td>amazon</td>\n",
       "      <td>NaN</td>\n",
       "      <td>NaN</td>\n",
       "      <td>Samstag, 25. März</td>\n",
       "      <td>GRATIS</td>\n",
       "      <td>Amazon</td>\n",
       "      <td>0</td>\n",
       "      <td>False</td>\n",
       "      <td>23</td>\n",
       "      <td>f</td>\n",
       "    </tr>\n",
       "  </tbody>\n",
       "</table>\n",
       "</div>"
      ],
      "text/plain": [
       "       id        asin   price currency                time  \\\n",
       "0  341683  B09SBXZV9V  141.55        € 2023-03-22 16:00:00   \n",
       "1  341684  B0000C72GD   79.90        € 2023-03-22 16:00:00   \n",
       "2  341685  B0001GRVJQ   55.31        € 2023-03-22 16:00:00   \n",
       "3  341686  B0002CZU1U  273.28        € 2023-03-22 16:00:00   \n",
       "4  341687  B0002HOS7M   75.62        € 2023-03-22 16:00:00   \n",
       "\n",
       "                    crawlTime condition                 sellerName  \\\n",
       "0  2023-03-22 16:54:19.521639       Neu                 belli-shop   \n",
       "1  2023-03-22 16:54:19.522425       Neu  STILE IMMAGINE DIGITAL HD   \n",
       "2  2023-03-22 16:54:19.523125       Neu                     amazon   \n",
       "3  2023-03-22 16:54:19.523736       Neu    Musikhaus Kirstein GmbH   \n",
       "4  2023-03-22 16:54:19.524467       Neu                     amazon   \n",
       "\n",
       "         sellerId                                    sellerbewertung  \\\n",
       "0   AOZ9PW800A1WK             (4211 Bewertungen) 100 % positiv in...   \n",
       "1  A16E8RFMSALSSB             (29 Bewertungen) 97 % positiv über ...   \n",
       "2          amazon                                                NaN   \n",
       "3  A2LUZCVBLA57KT             (38466 Bewertungen) 95 % positiv in...   \n",
       "4          amazon                                                NaN   \n",
       "\n",
       "  seller_sterne        lieferdatum lieferpreis            lieferung_durch  \\\n",
       "0       5 von 5  Samstag, 25. März      GRATIS                     Amazon   \n",
       "1       5 von 5     29. - 31. März      9,90 €  STILE IMMAGINE DIGITAL HD   \n",
       "2           NaN                NaN         NaN                     Amazon   \n",
       "3     4.5 von 5     27. - 28. März      2,99 €    Musikhaus Kirstein GmbH   \n",
       "4           NaN  Samstag, 25. März      GRATIS                     Amazon   \n",
       "\n",
       "   ranking  buyBoxWinner  numberOfSellers trigByReactive  \n",
       "0        0         False               13              f  \n",
       "1        0         False                2              f  \n",
       "2        0         False                8              f  \n",
       "3        0         False                3              f  \n",
       "4        0         False               23              f  "
      ]
     },
     "execution_count": 61,
     "metadata": {},
     "output_type": "execute_result"
    }
   ],
   "source": [
    "df.head()"
   ]
  },
  {
   "cell_type": "code",
   "execution_count": 62,
   "id": "7f43826f",
   "metadata": {},
   "outputs": [
    {
     "name": "stdout",
     "output_type": "stream",
     "text": [
      "Number of null values per column in df:\n",
      "id                       0\n",
      "asin                     0\n",
      "price                    0\n",
      "currency                 0\n",
      "time                     0\n",
      "crawlTime                0\n",
      "condition                0\n",
      "sellerName               0\n",
      "sellerId                 0\n",
      "sellerbewertung    1587251\n",
      "seller_sterne      1628234\n",
      "lieferdatum         208608\n",
      "lieferpreis         208608\n",
      "lieferung_durch          0\n",
      "ranking                  0\n",
      "buyBoxWinner             0\n",
      "numberOfSellers          0\n",
      "trigByReactive           0\n",
      "dtype: int64\n"
     ]
    }
   ],
   "source": [
    "# Count the null values in each column of the DataFrame\n",
    "null_values_count_per_column = df.isnull().sum()\n",
    "\n",
    "# Print the number of null values for each column\n",
    "print(\"Number of null values per column in df:\")\n",
    "print(null_values_count_per_column)"
   ]
  },
  {
   "cell_type": "markdown",
   "id": "19b6bcb3",
   "metadata": {},
   "source": [
    "## Transforming Dataframe Seller Sterne"
   ]
  },
  {
   "cell_type": "code",
   "execution_count": 63,
   "id": "b1def7a4",
   "metadata": {},
   "outputs": [
    {
     "name": "stdout",
     "output_type": "stream",
     "text": [
      "Distinct values for seller_sterne: ['5 von 5' nan '4.5 von 5' '4 von 5' '3.5 von 5' '3 von 5' '2 von 5'\n",
      " '1 von 5' '2.5 von 5' '1.5 von 5']\n"
     ]
    }
   ],
   "source": [
    "# Get distinct values for the 'seller_sterne' column\n",
    "distinct_seller_sterne = df['seller_sterne'].unique()\n",
    "\n",
    "# Print the distinct values\n",
    "print(\"Distinct values for seller_sterne:\", distinct_seller_sterne)"
   ]
  },
  {
   "cell_type": "code",
   "execution_count": 64,
   "id": "6ae6f578",
   "metadata": {},
   "outputs": [
    {
     "name": "stdout",
     "output_type": "stream",
     "text": [
      "Distinct values for seller_sterne: ['5 von 5' nan '4.5 von 5' '4 von 5' '3.5 von 5' '3 von 5' '2 von 5'\n",
      " '1 von 5' '2.5 von 5' '1.5 von 5']\n",
      "Distinct values for seller_sterne after replacement: ['1.0', '1.5', '2.0', '2.5', '3.0', '3.5', '4.0', '4.5', '5.0', 'nan']\n"
     ]
    }
   ],
   "source": [
    "# Get distinct values for the 'seller_sterne' column\n",
    "distinct_seller_sterne = df['seller_sterne'].unique()\n",
    "print(\"Distinct values for seller_sterne:\", distinct_seller_sterne)\n",
    "\n",
    "# Define a lambda function to convert the string to a float or return None for null values\n",
    "str_to_float_or_none = lambda x: float(x.split()[0].replace(\",\", \".\")) if isinstance(x, str) and len(x.split()) > 0 else None\n",
    "\n",
    "# Apply the lambda function to the 'seller_sterne' column to replace the string values with their corresponding float values\n",
    "df['seller_sterne'] = df['seller_sterne'].apply(str_to_float_or_none)\n",
    "\n",
    "# Check the distinct values for 'seller_sterne' after the replacement\n",
    "new_distinct_seller_sterne = df['seller_sterne'].unique()\n",
    "new_distinct_seller_sterne = np.sort(new_distinct_seller_sterne)\n",
    "print(\"Distinct values for seller_sterne after replacement:\", [f\"{value:.1f}\" for value in new_distinct_seller_sterne])"
   ]
  },
  {
   "cell_type": "code",
   "execution_count": 66,
   "id": "5db5f006",
   "metadata": {},
   "outputs": [
    {
     "name": "stdout",
     "output_type": "stream",
     "text": [
      "Number of null values per column in df:\n",
      "id                       0\n",
      "asin                     0\n",
      "price                    0\n",
      "currency                 0\n",
      "time                     0\n",
      "crawlTime                0\n",
      "condition                0\n",
      "sellerName               0\n",
      "sellerId                 0\n",
      "sellerbewertung    1587251\n",
      "seller_sterne      1628234\n",
      "lieferdatum         208608\n",
      "lieferpreis         208608\n",
      "lieferung_durch          0\n",
      "ranking                  0\n",
      "buyBoxWinner             0\n",
      "numberOfSellers          0\n",
      "trigByReactive           0\n",
      "dtype: int64\n"
     ]
    }
   ],
   "source": [
    "# Count the null values in each column of the DataFrame\n",
    "null_values_count_per_column = df.isnull().sum()\n",
    "\n",
    "# Print the number of null values for each column\n",
    "print(\"Number of null values per column in df:\")\n",
    "print(null_values_count_per_column)"
   ]
  },
  {
   "cell_type": "markdown",
   "id": "bafa2b22",
   "metadata": {},
   "source": [
    "## Transformin Dataframe Lieferpreis\n"
   ]
  },
  {
   "cell_type": "code",
   "execution_count": 67,
   "id": "9e353f3c",
   "metadata": {},
   "outputs": [
    {
     "name": "stdout",
     "output_type": "stream",
     "text": [
      "The column 'lieferpreis' has 208608 missing values.\n"
     ]
    }
   ],
   "source": [
    "df['lieferpreis'] = df['lieferpreis'].replace(['GRATIS', 'FREE'], 0.0)\n",
    "##Replace Euro Signs\n",
    "df['lieferpreis'] = df['lieferpreis'].replace('€', '', regex=True)\n",
    "df = df.replace(',', '.', regex=True)\n",
    "df['lieferpreis'] = df['lieferpreis'].astype(float, errors='ignore')\n",
    "num_missing = df['lieferpreis'].isna().sum()\n",
    "print(f\"The column 'lieferpreis' has {num_missing} missing values.\")\n",
    "##Pls be aware that the number doesnt explicitly match tabe a.2. as some rows/one asin was deleted"
   ]
  },
  {
   "cell_type": "markdown",
   "id": "629a8ff6",
   "metadata": {},
   "source": [
    "## Transform Dataframe Sellerbewertung\n"
   ]
  },
  {
   "cell_type": "code",
   "execution_count": 68,
   "id": "4ed03872",
   "metadata": {
    "scrolled": true
   },
   "outputs": [
    {
     "name": "stderr",
     "output_type": "stream",
     "text": [
      "C:\\Users\\Robert Betschinger\\AppData\\Local\\Temp\\ipykernel_23796\\2410512019.py:2: FutureWarning: In a future version of pandas all arguments of StringMethods.split except for the argument 'pat' will be keyword-only.\n",
      "  df[['vorderer_Teil', 'hinterer_Teil']] = df['sellerbewertung'].str.split(')', 1, expand=True)\n"
     ]
    }
   ],
   "source": [
    "# Split values into two columns based on first space\n",
    "df[['vorderer_Teil', 'hinterer_Teil']] = df['sellerbewertung'].str.split(')', 1, expand=True)\n",
    "df['hinterer_Teil'] = df['hinterer_Teil'].str.replace('%.*', '', regex=True)\n",
    "# Replace NaN values in vorderer_Teil column with 0\n",
    "df['vorderer_Teil'] = df['vorderer_Teil'].fillna(0)\n",
    "df['vorderer_Teil'] = df['vorderer_Teil'].str.extract('(\\d+)').astype(float)\n",
    "df['hinterer_Teil'] = df['hinterer_Teil'].astype(float) / 100.0\n",
    "df['sellerbewertung_ausgerechnet'] = df['vorderer_Teil'] * df['hinterer_Teil']\n",
    "df['sellerbewertung'] = df['sellerbewertung_ausgerechnet']\n",
    "\n",
    "# Drop columns that were created in the process\n",
    "df = df.drop(['vorderer_Teil', 'hinterer_Teil', 'sellerbewertung_ausgerechnet'], axis=1)"
   ]
  },
  {
   "cell_type": "code",
   "execution_count": 70,
   "id": "bf948011",
   "metadata": {},
   "outputs": [
    {
     "name": "stdout",
     "output_type": "stream",
     "text": [
      "Number of null values per column in df:\n",
      "id                       0\n",
      "asin                     0\n",
      "price                    0\n",
      "currency                 0\n",
      "time                     0\n",
      "crawlTime                0\n",
      "condition                0\n",
      "sellerName               0\n",
      "sellerId                 0\n",
      "sellerbewertung    1628234\n",
      "seller_sterne      1628234\n",
      "lieferdatum         208608\n",
      "lieferpreis         208608\n",
      "lieferung_durch          0\n",
      "ranking                  0\n",
      "buyBoxWinner             0\n",
      "numberOfSellers          0\n",
      "trigByReactive           0\n",
      "dtype: int64\n"
     ]
    }
   ],
   "source": [
    "# Count the null values in each column of the DataFrame\n",
    "null_values_count_per_column = df.isnull().sum()\n",
    "\n",
    "# Print the number of null values for each column\n",
    "print(\"Number of null values per column in df:\")\n",
    "print(null_values_count_per_column)"
   ]
  },
  {
   "cell_type": "markdown",
   "id": "80e903ae",
   "metadata": {},
   "source": [
    "### Tramsform Column lieferung_durch"
   ]
  },
  {
   "cell_type": "code",
   "execution_count": 17,
   "id": "7fab49ce",
   "metadata": {},
   "outputs": [],
   "source": [
    "df['Fulfillment_type'] = ['FBA' if isinstance(x, str) and 'amazon' in x.lower() else 'FBM' for x in df['lieferung_durch']]"
   ]
  },
  {
   "cell_type": "markdown",
   "id": "8fdbf7be",
   "metadata": {},
   "source": [
    "## Transform Dataframe Lieferdauer"
   ]
  },
  {
   "cell_type": "code",
   "execution_count": 18,
   "id": "71cf5d63",
   "metadata": {},
   "outputs": [],
   "source": [
    "import pandas as pd\n",
    "dropped_rows_cause_lieferdatum_null = df[df['lieferdatum'].isna()]\n",
    "\n",
    "def replace_month_names(date_string):\n",
    "    month_map = {\n",
    "        \"Januar\": \"January\",\n",
    "        \"Februar\": \"February\",\n",
    "        \"März\": \"March\",\n",
    "        \"April\": \"April\",\n",
    "        \"Mai\": \"May\",\n",
    "        \"Juni\": \"June\",\n",
    "        \"Juli\": \"July\",\n",
    "        \"August\": \"August\",\n",
    "        \"September\": \"September\",\n",
    "        \"Oktober\": \"October\",\n",
    "        \"November\": \"November\",\n",
    "        \"Dezember\": \"December\"\n",
    "    }\n",
    "    for german, english in month_map.items():\n",
    "        date_string = date_string.replace(german, english)\n",
    "    return date_string\n",
    "\n",
    "def split_dates(date_str):\n",
    "    if '-' in date_str:\n",
    "        date_parts = date_str.split('-')\n",
    "        start_date_str = date_parts[0].strip()\n",
    "        end_date_str = date_parts[1].strip()\n",
    "    else:\n",
    "        start_date_str = date_str.strip()\n",
    "        end_date_str = None\n",
    "    return start_date_str, end_date_str\n",
    "\n",
    "df = df.dropna(subset=['lieferdatum'])\n",
    "df['start_date'], df['end_date'] = zip(*df['lieferdatum'].apply(split_dates))\n"
   ]
  },
  {
   "cell_type": "code",
   "execution_count": 19,
   "id": "dbf5010d",
   "metadata": {},
   "outputs": [],
   "source": [
    "import re\n",
    "\n",
    "# Define a function to extract the month name from a date string\n",
    "def extract_month(date_string):\n",
    "    match = re.search(r'\\b(Januar|Februar|März|April|Mai|Juni|Juli|August|September|Oktober|November|Dezember)\\b', date_string)\n",
    "    if match:\n",
    "        return match.group(1)\n",
    "    else:\n",
    "        return None\n",
    "\n",
    "# Iterate over each row in the dataframe and update the 'start_date' and 'end_date' columns as needed\n",
    "for i, row in df.iterrows():\n",
    "    # Case 1: If end_date is null, skip this row\n",
    "    if pd.isnull(row['end_date']):\n",
    "        continue\n",
    "    \n",
    "    # Case 2: If both columns contain a month name, skip this row\n",
    "    if extract_month(row['start_date']) and extract_month(row['end_date']):\n",
    "        continue\n",
    "    \n",
    "    # Case 3: If start_date doesn't contain a month name, append the month name from end_date to start_date\n",
    "    if not extract_month(row['start_date']):\n",
    "        month_name = extract_month(row['end_date'])\n",
    "        if month_name:\n",
    "            new_start_date = row['start_date'] + ' ' + month_name\n",
    "            df.at[i, 'start_date'] = new_start_date\n",
    "    \n",
    "    # Case 4: If end_date doesn't contain a month name, append the month name from start_date to end_date\n",
    "    if not extract_month(row['end_date']):\n",
    "        month_name = extract_month(row['start_date'])\n",
    "        if month_name:\n",
    "            new_end_date = row['end_date'] + ' ' + month_name\n",
    "            df.at[i, 'end_date'] = new_end_date\n",
    "    \n",
    "    # If none of the above conditions are met, do nothing and move on to the next row\n",
    "\n",
    "# The 'start_date' and 'end_date' columns in the original dataframe have been updated in-place\n"
   ]
  },
  {
   "cell_type": "code",
   "execution_count": 20,
   "id": "210f4abf",
   "metadata": {
    "scrolled": false
   },
   "outputs": [],
   "source": [
    "df['start_date'] = df['start_date'].str.extract(r'(\\d{1,2}\\.\\s[a-zA-ZäöüÄÖÜ]+)')\n",
    "# extract the day and month from the start_date column\n",
    "df['start_date'] = df['start_date'].str.extract(r'(\\d+\\.\\s\\w+)') # get the day and month\n",
    "df['start_date_day'] = df['start_date'].str.extract(r'(\\d+)').fillna(1).astype(int) # extract the day and convert to int, replace NaN with 1\n",
    "df['start_day_month'] = df['start_date'].str.extract(r'([a-zA-ZäöüÄÖÜ]+)').fillna('Jan').astype(str) # extract the month and replace NaN with 'Jan'\n",
    "\n",
    "# extract the day and month from the end_date column\n",
    "df['end_date'] = df['end_date'].str.extract(r'(\\d+\\.\\s\\w+)')\n",
    "df['end_date_day'] = df['end_date'].str.extract(r'(\\d+)').fillna(1).astype(int)\n",
    "df['end_day_month'] = df['end_date'].str.extract(r'([a-zA-ZäöüÄÖÜ]+)').fillna('Jan').astype(str)\n",
    "\n",
    "# set end_date_day and end_day_month to NaN if end_date is null\n",
    "df.loc[df['end_date'].isna(), ['end_date_day', 'end_day_month']] = np.nan"
   ]
  },
  {
   "cell_type": "code",
   "execution_count": 21,
   "id": "7266baff",
   "metadata": {},
   "outputs": [],
   "source": [
    "# Define a dictionary to map month names to integers\n",
    "month_map = {\n",
    "    'Januar': 1,\n",
    "    'Jan':1,\n",
    "    'Februar': 2,\n",
    "    'März': 3,\n",
    "    'April': 4,\n",
    "    'Mai': 5,\n",
    "    'Juni': 6,\n",
    "    'Juli': 7,\n",
    "    'August': 8,\n",
    "    'September': 9,\n",
    "    'Oktober': 10,\n",
    "    'November': 11,\n",
    "    'Dezember': 12\n",
    "}\n",
    "\n",
    "# Parse start_day_month column to integers\n",
    "df['start_day_month'] = df['start_day_month'].map(month_map)\n",
    "\n",
    "# Parse end_day_month column to integers\n",
    "df['end_day_month'] = df['end_day_month'].fillna('').map(month_map)\n",
    "df['end_day_month'] = df['end_day_month'].astype('Int64')\n",
    "df['end_date_day'] = df['end_date_day'].astype('Int64')\n",
    "# Convert start date information to datetime\n",
    "df['start_date_datetime'] = pd.to_datetime(df['start_date_day'].astype(str) + '-' + df['start_day_month'].astype(str) + '-2023', format='%d-%m-%Y', errors='coerce')\n",
    "\n",
    "# Convert end date information to datetime, if not null\n",
    "df['end_date_datetime'] = pd.to_datetime(df['end_date_day'].astype(str).fillna('').astype(str) + '-' + df['end_day_month'].astype(str).fillna('').astype(str) + '-2023', format='%d-%m-%Y', errors='coerce')"
   ]
  },
  {
   "cell_type": "code",
   "execution_count": 22,
   "id": "c1d57d31",
   "metadata": {
    "scrolled": true
   },
   "outputs": [],
   "source": [
    "df['final_delivery_datetime'] = None\n",
    "import math\n",
    "# assuming your dataframe is called df\n",
    "for index, row in df.iterrows():\n",
    "    if pd.notna(row['start_date_datetime']) and pd.isna(row['end_date_datetime']):\n",
    "        df.at[index, 'final_delivery_datetime'] = row['start_date_datetime']\n",
    "    elif pd.notna(row['start_date_datetime']) and pd.notna(row['end_date_datetime']):\n",
    "        # case 2: both columns have values\n",
    "        start_date = pd.to_datetime(row['start_date_datetime'])\n",
    "        end_date = pd.to_datetime(row['end_date_datetime'])\n",
    "        if end_date < start_date:\n",
    "            start_date, end_date = end_date, start_date  # swap the two dates\n",
    "        time_diff = math.floor((end_date - start_date) / pd.Timedelta(hours=2))\n",
    "        delivery_time = start_date + pd.Timedelta(hours=time_diff)\n",
    "        df.at[index, 'final_delivery_datetime'] = delivery_time\n",
    "\n",
    "df['date_diff'] = df.apply(lambda row: (row['final_delivery_datetime'] - pd.to_datetime(row['time'])).days if pd.notna(row['time']) else None, axis=1)"
   ]
  },
  {
   "cell_type": "code",
   "execution_count": 26,
   "id": "8f2e6269",
   "metadata": {},
   "outputs": [],
   "source": [
    "# create a new dataframe with only the rows where date_diff is less than zero\n",
    "df_second_time = df[df['date_diff'] < 0].copy()\n",
    "\n",
    "# if you want to reset the index of the new dataframe\n",
    "df_second_time.reset_index(drop=True, inplace=True)"
   ]
  },
  {
   "cell_type": "code",
   "execution_count": 27,
   "id": "f438ef08",
   "metadata": {
    "scrolled": true
   },
   "outputs": [
    {
     "name": "stdout",
     "output_type": "stream",
     "text": [
      "There are 62657 negative values in the 'date_diff' column.\n"
     ]
    }
   ],
   "source": [
    "negative_values_count = (df['date_diff'] < 0).sum()\n",
    "print(f\"There are {negative_values_count} negative values in the 'date_diff' column.\")\n",
    "negative_date_diff_rows = df[df['date_diff'] < 0]\n",
    "selected_columns = negative_date_diff_rows[['id','lieferdatum','final_delivery_datetime','end_date_datetime','start_date_datetime', 'start_date_day','start_day_month','start_date','end_date']]\n",
    "selected_columns\n",
    "df['second_time'] = df['date_diff'] < 0\n"
   ]
  },
  {
   "cell_type": "markdown",
   "id": "e3679772",
   "metadata": {},
   "source": [
    "## Second Lieferdatum for English Values"
   ]
  },
  {
   "cell_type": "code",
   "execution_count": 28,
   "id": "1514bfab",
   "metadata": {},
   "outputs": [],
   "source": [
    "import pandas as pd\n",
    "\n",
    "def replace_month_names(date_string):\n",
    "    month_map = {\n",
    "        \"Januar\": \"January\",\n",
    "        \"Februar\": \"February\",\n",
    "        \"März\": \"March\",\n",
    "        \"April\": \"April\",\n",
    "        \"Mai\": \"May\",\n",
    "        \"Juni\": \"June\",\n",
    "        \"Juli\": \"July\",\n",
    "        \"August\": \"August\",\n",
    "        \"September\": \"September\",\n",
    "        \"Oktober\": \"October\",\n",
    "        \"November\": \"November\",\n",
    "        \"Dezember\": \"December\"\n",
    "    }\n",
    "    for german, english in month_map.items():\n",
    "        date_string = date_string.replace(german, english)\n",
    "    return date_string\n",
    "\n",
    "def split_dates(date_str):\n",
    "    if '-' in date_str:\n",
    "        date_parts = date_str.split('-')\n",
    "        start_date_str = date_parts[0].strip()\n",
    "        end_date_str = date_parts[1].strip()\n",
    "    else:\n",
    "        start_date_str = date_str.strip()\n",
    "        end_date_str = None\n",
    "    return start_date_str, end_date_str\n",
    "\n",
    "# Drop NaN values in the 'lieferdatum' column for the new DataFrame\n",
    "df_second_time = df_second_time.dropna(subset=['lieferdatum'])\n",
    "\n",
    "# Apply the split_dates function to the new DataFrame\n",
    "df_second_time['start_date'], df_second_time['end_date'] = zip(*df_second_time['lieferdatum'].apply(split_dates))"
   ]
  },
  {
   "cell_type": "code",
   "execution_count": 29,
   "id": "272dc9fd",
   "metadata": {},
   "outputs": [],
   "source": [
    "import re\n",
    "\n",
    "# Define a function to extract the month name from a date string\n",
    "def extract_month(date_string):\n",
    "    match = re.search(r'\\b(Januar|Februar|März|April|Mai|Juni|Juli|August|September|Oktober|November|Dezember)\\b', date_string)\n",
    "    if match:\n",
    "        return match.group(1)\n",
    "    else:\n",
    "        return None\n",
    "\n",
    "# Iterate over each row in the dataframe and update the 'start_date' and 'end_date' columns as needed\n",
    "for i, row in df_second_time.iterrows():\n",
    "    # Case 1: If end_date is null, skip this row\n",
    "    if pd.isnull(row['end_date']):\n",
    "        continue\n",
    "    \n",
    "    # Case 2: If both columns contain a month name, skip this row\n",
    "    if extract_month(row['start_date']) and extract_month(row['end_date']):\n",
    "        continue\n",
    "    \n",
    "    # Case 3: If start_date doesn't contain a month name, append the month name from end_date to start_date\n",
    "    if not extract_month(row['start_date']):\n",
    "        month_name = extract_month(row['end_date'])\n",
    "        if month_name:\n",
    "            new_start_date = row['start_date'] + ' ' + month_name\n",
    "            df_second_time.at[i, 'start_date'] = new_start_date\n",
    "    \n",
    "    # Case 4: If end_date doesn't contain a month name, append the month name from start_date to end_date\n",
    "    if not extract_month(row['end_date']):\n",
    "        month_name = extract_month(row['start_date'])\n",
    "        if month_name:\n",
    "            new_end_date = row['end_date'] + ' ' + month_name\n",
    "            df_second_time.at[i, 'end_date'] = new_end_date\n",
    "    "
   ]
  },
  {
   "cell_type": "code",
   "execution_count": 30,
   "id": "e7e36209",
   "metadata": {},
   "outputs": [],
   "source": [
    "# extract the day and month from the start_date column\n",
    "df['start_date'] = df['start_date'].str.extract(r'(\\d{1,2}\\.\\s[a-zA-ZäöüÄÖÜ]+)')\n",
    "import re\n",
    "\n",
    "def extract_day(date_str):\n",
    "    if date_str is None or not isinstance(date_str, str):\n",
    "        return None\n",
    "\n",
    "    day = re.search(r'\\d+', date_str)\n",
    "    return int(day.group()) if day else None\n",
    "\n",
    "def extract_month(date_str):\n",
    "    if date_str is None or not isinstance(date_str, str):\n",
    "        return None\n",
    "\n",
    "    month_pattern = r'(January|February|March|April|May|June|July|August|September|October|November|December|Januar|Februar|März|April|Mai|Juni|Juli|August|September|Oktober|November|Dezember)'\n",
    "    month = re.search(month_pattern, date_str)\n",
    "    return month.group() if month else None\n",
    "\n",
    "df_second_time['start_date1'] = df_second_time['start_date'].apply(extract_day)\n",
    "df_second_time['start_date2'] = df_second_time['start_date'].apply(extract_month)\n",
    "df_second_time['start_date'] = df_second_time.apply(lambda x: f\"{x['start_date1']} {x['start_date2']}\" if x['start_date1'] is not None and x['start_date2'] is not None else None, axis=1)\n",
    "df_second_time = df_second_time.drop(['start_date1', 'start_date2'], axis=1)"
   ]
  },
  {
   "cell_type": "code",
   "execution_count": 31,
   "id": "2e6c6c7e",
   "metadata": {},
   "outputs": [],
   "source": [
    "# extract the day and month from the start_date column\n",
    "df_second_time['start_date'] = df_second_time['start_date'].str.extract(r'(\\d+\\.?\\s\\w+)')\n",
    "df_second_time['start_date_day'] = df_second_time['start_date'].str.extract(r'(\\d+)').fillna(1).astype(int)\n",
    "df_second_time['start_day_month'] = df_second_time['start_date'].str.extract(r'([a-zA-ZäöüÄÖÜ]+)').fillna('Jan').astype(str)\n",
    "\n",
    "# extract the day and month from the end_date column\n",
    "df_second_time['end_date'] = df_second_time['end_date'].str.extract(r'(\\d+\\.?\\s\\w+)')\n",
    "df_second_time['end_date_day'] = df_second_time['end_date'].str.extract(r'(\\d+)').fillna(1).astype(int)\n",
    "df_second_time['end_day_month'] = df_second_time['end_date'].str.extract(r'([a-zA-ZäöüÄÖÜ]+)').fillna('Jan').astype(str)\n",
    "\n",
    "# set end_date_day and end_day_month to NaN if end_date is null\n",
    "df_second_time.loc[df_second_time['end_date'].isna(), ['end_date_day', 'end_day_month']] = np.nan"
   ]
  },
  {
   "cell_type": "code",
   "execution_count": 32,
   "id": "38e84d4f",
   "metadata": {},
   "outputs": [],
   "source": [
    "# Define a dictionary to map month names to integers\n",
    "month_map = {\n",
    "    'Januar': 1,\n",
    "    'Jan':1,\n",
    "    'Februar': 2,\n",
    "    'März': 3,\n",
    "    'March':3,\n",
    "    'April': 4,\n",
    "    'Mai': 5,\n",
    "    'May':5,\n",
    "    'Juni': 6,\n",
    "    'Juli': 7,\n",
    "    'August': 8,\n",
    "    'September': 9,\n",
    "    'Oktober': 10,\n",
    "    'November': 11,\n",
    "    'Dezember': 12\n",
    "}\n",
    "\n",
    "# Parse start_day_month column to integers\n",
    "df_second_time['start_day_month'] = df_second_time['start_day_month'].map(month_map)\n",
    "\n",
    "# Parse end_day_month column to integers\n",
    "df_second_time['end_day_month'] = df_second_time['end_day_month'].fillna('').map(month_map)\n",
    "df_second_time['end_day_month'] = df_second_time['end_day_month'].astype('Int64')\n",
    "df_second_time['end_date_day'] = df_second_time['end_date_day'].astype('Int64')\n",
    "# Convert start date information to datetime\n",
    "df_second_time['start_date_datetime'] = pd.to_datetime(df_second_time['start_date_day'].astype(str) + '-' + df_second_time['start_day_month'].astype(str) + '-2023', format='%d-%m-%Y', errors='coerce')\n",
    "\n",
    "# Convert end date information to datetime, if not null\n",
    "df_second_time['end_date_datetime'] = pd.to_datetime(df_second_time['end_date_day'].astype(str).fillna('').astype(str) + '-' + df_second_time['end_day_month'].astype(str).fillna('').astype(str) + '-2023', format='%d-%m-%Y', errors='coerce')"
   ]
  },
  {
   "cell_type": "code",
   "execution_count": 39,
   "id": "f6674832",
   "metadata": {
    "scrolled": true
   },
   "outputs": [],
   "source": [
    "df_second_time['final_delivery_datetime'] = None\n",
    "import math\n",
    "# assuming your dataframe is called df\n",
    "for index, row in df_second_time.iterrows():\n",
    "    if pd.notna(row['start_date_datetime']) and pd.isna(row['end_date_datetime']):\n",
    "        df_second_time.at[index, 'final_delivery_datetime'] = row['start_date_datetime']\n",
    "    elif pd.notna(row['start_date_datetime']) and pd.notna(row['end_date_datetime']):\n",
    "        # case 2: both columns have values\n",
    "        start_date = pd.to_datetime(row['start_date_datetime'])\n",
    "        end_date = pd.to_datetime(row['end_date_datetime'])\n",
    "        if end_date < start_date:\n",
    "            start_date, end_date = end_date, start_date  # swap the two dates\n",
    "        time_diff = math.floor((end_date - start_date) / pd.Timedelta(hours=2))\n",
    "        delivery_time = start_date + pd.Timedelta(hours=time_diff)\n",
    "        df_second_time.at[index, 'final_delivery_datetime'] = delivery_time\n",
    "\n",
    "df_second_time['date_diff'] = df_second_time.apply(lambda row: (row['final_delivery_datetime'] - pd.to_datetime(row['time'])).days if pd.notna(row['time']) and row['final_delivery_datetime'] is not None else None, axis=1)"
   ]
  },
  {
   "cell_type": "code",
   "execution_count": 40,
   "id": "34b85bbc",
   "metadata": {},
   "outputs": [],
   "source": [
    "df.update(df_second_time)"
   ]
  },
  {
   "cell_type": "code",
   "execution_count": 41,
   "id": "ff4033c1",
   "metadata": {},
   "outputs": [
    {
     "name": "stdout",
     "output_type": "stream",
     "text": [
      "There are 62657 negative values in the 'date_diff' column.\n"
     ]
    },
    {
     "name": "stderr",
     "output_type": "stream",
     "text": [
      "C:\\Users\\Robert Betschinger\\AppData\\Local\\Temp\\ipykernel_23796\\1281477216.py:6: FutureWarning: The frame.append method is deprecated and will be removed from pandas in a future version. Use pandas.concat instead.\n",
      "  df = df.append(dropped_rows_cause_lieferdatum_null, ignore_index=True)\n",
      "C:\\Users\\Robert Betschinger\\AppData\\Local\\Temp\\ipykernel_23796\\1281477216.py:6: FutureWarning: In a future version, object-dtype columns with all-bool values will not be included in reductions with bool_only=True. Explicitly cast to bool dtype instead.\n",
      "  df = df.append(dropped_rows_cause_lieferdatum_null, ignore_index=True)\n"
     ]
    }
   ],
   "source": [
    "negative_values_count = (df['date_diff'] < 0).sum()\n",
    "print(f\"There are {negative_values_count} negative values in the 'date_diff' column.\")\n",
    "negative_date_diff_rows = df_second_time[df_second_time['date_diff'] < 0]\n",
    "selected_columns = negative_date_diff_rows[['id','lieferdatum','final_delivery_datetime','end_date_datetime','start_date_datetime', 'start_date_day','start_day_month','start_date','end_date']]\n",
    "selected_columns\n",
    "df = df.append(dropped_rows_cause_lieferdatum_null, ignore_index=True)"
   ]
  },
  {
   "cell_type": "code",
   "execution_count": 42,
   "id": "d8b82468",
   "metadata": {},
   "outputs": [
    {
     "name": "stdout",
     "output_type": "stream",
     "text": [
      "<class 'pandas.core.frame.DataFrame'>\n",
      "RangeIndex: 6591111 entries, 0 to 6591110\n",
      "Data columns (total 20 columns):\n",
      " #   Column            Dtype         \n",
      "---  ------            -----         \n",
      " 0   id                float64       \n",
      " 1   asin              object        \n",
      " 2   price             float64       \n",
      " 3   currency          object        \n",
      " 4   time              datetime64[ns]\n",
      " 5   crawlTime         object        \n",
      " 6   condition         object        \n",
      " 7   sellerName        object        \n",
      " 8   sellerId          object        \n",
      " 9   sellerbewertung   float64       \n",
      " 10  seller_sterne     float64       \n",
      " 11  lieferdatum       object        \n",
      " 12  lieferpreis       float64       \n",
      " 13  lieferung_durch   object        \n",
      " 14  ranking           float64       \n",
      " 15  buyBoxWinner      object        \n",
      " 16  numberOfSellers   float64       \n",
      " 17  trigByReactive    object        \n",
      " 18  Fulfillment_type  object        \n",
      " 19  date_diff         float64       \n",
      "dtypes: datetime64[ns](1), float64(8), object(11)\n",
      "memory usage: 1005.7+ MB\n"
     ]
    }
   ],
   "source": [
    "columns_to_drop = [\n",
    "    \"start_date\",\n",
    "    \"end_date\",\n",
    "    \"start_date_day\",\n",
    "    \"start_day_month\",\n",
    "    \"end_date_day\",\n",
    "    \"end_day_month\",\n",
    "    \"start_date_datetime\",\n",
    "    \"end_date_datetime\",\n",
    "    \"final_delivery_datetime\",\n",
    "    \"second_time\"\n",
    "]\n",
    "\n",
    "df = df.drop(columns=columns_to_drop, axis=1)\n",
    "df.info()"
   ]
  },
  {
   "cell_type": "markdown",
   "id": "380eaca4",
   "metadata": {},
   "source": [
    "## Transform Time Column Again"
   ]
  },
  {
   "cell_type": "code",
   "execution_count": 43,
   "id": "a28f0bd8",
   "metadata": {},
   "outputs": [],
   "source": [
    "df['time'] = pd.to_datetime(df['time'], format=\"%Y-%m-%d %H:%M:%S\")\n",
    "## Set Vales for Date_diff <0 to NAN. \n",
    "## They are gonna replcaed later on in 1.2\n",
    "df.loc[df['date_diff'] < 0, 'date_diff'] = np.nan"
   ]
  },
  {
   "cell_type": "markdown",
   "id": "e272bfa8",
   "metadata": {},
   "source": [
    "## Transform Price"
   ]
  },
  {
   "cell_type": "code",
   "execution_count": 44,
   "id": "f7d3ac30",
   "metadata": {
    "pycharm": {
     "is_executing": true
    },
    "scrolled": true
   },
   "outputs": [
    {
     "name": "stdout",
     "output_type": "stream",
     "text": [
      "Number of rows with price between 1 and 2: 12119\n"
     ]
    },
    {
     "name": "stderr",
     "output_type": "stream",
     "text": [
      "C:\\Users\\Robert Betschinger\\AppData\\Local\\Temp\\ipykernel_23796\\3675216797.py:11: SettingWithCopyWarning: \n",
      "A value is trying to be set on a copy of a slice from a DataFrame.\n",
      "Try using .loc[row_indexer,col_indexer] = value instead\n",
      "\n",
      "See the caveats in the documentation: https://pandas.pydata.org/pandas-docs/stable/user_guide/indexing.html#returning-a-view-versus-a-copy\n",
      "  selected_rows.loc[(selected_rows['price'] >= 1) & (selected_rows['price'] <= 2), 'price'] *= 1000\n"
     ]
    },
    {
     "name": "stdout",
     "output_type": "stream",
     "text": [
      "Selected rows with updated price:\n",
      "\n",
      "Distinct ASINs related to the selected rows:\n"
     ]
    },
    {
     "data": {
      "text/plain": [
       "array(['B07PWXN3RG', 'B07KSBWFZS', 'B07HRW7DBC', 'B07B2WQPR3',\n",
       "       'B0BJN4T6NJ', 'B01FE7K184', 'B08WPV9RM7', 'B08N5R7XXZ',\n",
       "       'B08N5S64Z2', 'B08N5S9B8X', 'B09V4478YQ', 'B08WJBVM5G'],\n",
       "      dtype=object)"
      ]
     },
     "execution_count": 44,
     "metadata": {},
     "output_type": "execute_result"
    }
   ],
   "source": [
    "# Prices over 1000 € are misinterpreted due to a wrongly placed . sign. Transforming it.\n",
    "# All Prices below 2 Euros where checked if Products where existing, for which this price is real. All Products under question are actually priced over 1000€\n",
    "\n",
    "# Select rows where the 'price' column is between 1 and 2\n",
    "selected_rows = df[(df['price'] >= 1) & (df['price'] <= 2)]\n",
    "\n",
    "# Print the number of selected rows\n",
    "print(f\"Number of rows with price between 1 and 2: {len(selected_rows)}\")\n",
    "\n",
    "# Multiply the price by 1000 for rows where the price is between 1 and 2\n",
    "selected_rows.loc[(selected_rows['price'] >= 1) & (selected_rows['price'] <= 2), 'price'] *= 1000\n",
    "\n",
    "# Update the original DataFrame with the updated values\n",
    "df.update(selected_rows)\n",
    "\n",
    "# Print the result\n",
    "print(\"Selected rows with updated price:\")\n",
    "selected_rows.head()\n",
    "\n",
    "# Print distinct ASINs related to the selected rows\n",
    "distinct_asins = selected_rows['asin'].unique()\n",
    "print(\"\\nDistinct ASINs related to the selected rows:\")\n",
    "distinct_asins\n"
   ]
  },
  {
   "cell_type": "markdown",
   "id": "e0c54678",
   "metadata": {},
   "source": [
    "## Save Data to File"
   ]
  },
  {
   "cell_type": "code",
   "execution_count": 45,
   "id": "7433f8f2",
   "metadata": {
    "pycharm": {
     "is_executing": true
    },
    "scrolled": true
   },
   "outputs": [],
   "source": [
    "df.to_csv(name_for_save_file, index=False)\n",
    "#Relevant für RF: asin, price,(time),sellerid, sellerbewertung, seller_sterne, lieferpreis, Fulfillment_type, date_diff, ranking, numberOfSellers"
   ]
  },
  {
   "cell_type": "code",
   "execution_count": 48,
   "id": "19dd6d4c",
   "metadata": {},
   "outputs": [
    {
     "name": "stdout",
     "output_type": "stream",
     "text": [
      "<class 'pandas.core.frame.DataFrame'>\n",
      "RangeIndex: 6591111 entries, 0 to 6591110\n",
      "Data columns (total 20 columns):\n",
      " #   Column            Dtype         \n",
      "---  ------            -----         \n",
      " 0   id                float64       \n",
      " 1   asin              object        \n",
      " 2   price             float64       \n",
      " 3   currency          object        \n",
      " 4   time              datetime64[ns]\n",
      " 5   crawlTime         object        \n",
      " 6   condition         object        \n",
      " 7   sellerName        object        \n",
      " 8   sellerId          object        \n",
      " 9   sellerbewertung   float64       \n",
      " 10  seller_sterne     float64       \n",
      " 11  lieferdatum       object        \n",
      " 12  lieferpreis       float64       \n",
      " 13  lieferung_durch   object        \n",
      " 14  ranking           float64       \n",
      " 15  buyBoxWinner      object        \n",
      " 16  numberOfSellers   float64       \n",
      " 17  trigByReactive    object        \n",
      " 18  Fulfillment_type  object        \n",
      " 19  date_diff         float64       \n",
      "dtypes: datetime64[ns](1), float64(8), object(11)\n",
      "memory usage: 1005.7+ MB\n"
     ]
    }
   ],
   "source": [
    "df.info()"
   ]
  },
  {
   "cell_type": "code",
   "execution_count": 46,
   "id": "1ee730eb",
   "metadata": {
    "scrolled": true
   },
   "outputs": [
    {
     "name": "stdout",
     "output_type": "stream",
     "text": [
      "Number of null values per column in df:\n",
      "id                        0\n",
      "asin                      0\n",
      "price                     0\n",
      "currency                  0\n",
      "time                      0\n",
      "crawlTime                 0\n",
      "condition                 0\n",
      "sellerName                0\n",
      "sellerId                  0\n",
      "sellerbewertung     1617113\n",
      "seller_sterne       1617113\n",
      "lieferdatum          208608\n",
      "lieferpreis          208608\n",
      "lieferung_durch           0\n",
      "ranking                   0\n",
      "buyBoxWinner              0\n",
      "numberOfSellers           0\n",
      "trigByReactive            0\n",
      "Fulfillment_type          0\n",
      "date_diff            271265\n",
      "dtype: int64\n"
     ]
    }
   ],
   "source": [
    "# Count the null values in each column of the DataFrame\n",
    "null_values_count_per_column = df.isnull().sum()\n",
    "\n",
    "# Print the number of null values for each column\n",
    "print(\"Number of null values per column in df:\")\n",
    "print(null_values_count_per_column)"
   ]
  },
  {
   "cell_type": "code",
   "execution_count": 47,
   "id": "0bbd243a",
   "metadata": {},
   "outputs": [],
   "source": [
    "#Was erwarte ich: date diff null values, sellberwertung, lieferdatum, seller_sterne, lieferpreis. Und date_diff sollte höher sein als lieferdatum"
   ]
  },
  {
   "cell_type": "code",
   "execution_count": null,
   "id": "76d34bb9",
   "metadata": {},
   "outputs": [],
   "source": []
  }
 ],
 "metadata": {
  "kernelspec": {
   "display_name": "Python 3 (ipykernel)",
   "language": "python",
   "name": "python3"
  },
  "language_info": {
   "codemirror_mode": {
    "name": "ipython",
    "version": 3
   },
   "file_extension": ".py",
   "mimetype": "text/x-python",
   "name": "python",
   "nbconvert_exporter": "python",
   "pygments_lexer": "ipython3",
   "version": "3.10.9"
  }
 },
 "nbformat": 4,
 "nbformat_minor": 5
}
