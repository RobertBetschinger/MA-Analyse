{
 "cells": [
  {
   "cell_type": "code",
   "execution_count": 25,
   "id": "bdc4dbdf",
   "metadata": {},
   "outputs": [],
   "source": [
    "import pandas as pd\n",
    "import numpy as np\n",
    "df = pd.read_csv('../Grunddatein/Zwischendatein/CleanedDataCompleteFor1.1.csv')"
   ]
  },
  {
   "cell_type": "code",
   "execution_count": 26,
   "id": "c3d10d12",
   "metadata": {
    "scrolled": true
   },
   "outputs": [
    {
     "name": "stdout",
     "output_type": "stream",
     "text": [
      "<class 'pandas.core.frame.DataFrame'>\n",
      "RangeIndex: 6591111 entries, 0 to 6591110\n",
      "Data columns (total 20 columns):\n",
      " #   Column            Dtype  \n",
      "---  ------            -----  \n",
      " 0   id                float64\n",
      " 1   asin              object \n",
      " 2   price             float64\n",
      " 3   currency          object \n",
      " 4   time              object \n",
      " 5   crawlTime         object \n",
      " 6   condition         object \n",
      " 7   sellerName        object \n",
      " 8   sellerId          object \n",
      " 9   sellerbewertung   float64\n",
      " 10  seller_sterne     object \n",
      " 11  lieferdatum       object \n",
      " 12  lieferpreis       float64\n",
      " 13  lieferung_durch   object \n",
      " 14  ranking           float64\n",
      " 15  buyBoxWinner      object \n",
      " 16  numberOfSellers   float64\n",
      " 17  trigByReactive    object \n",
      " 18  Fulfillment_type  object \n",
      " 19  date_diff         float64\n",
      "dtypes: float64(7), object(13)\n",
      "memory usage: 1005.7+ MB\n"
     ]
    }
   ],
   "source": [
    "df.info()"
   ]
  },
  {
   "cell_type": "code",
   "execution_count": 27,
   "id": "6c209196",
   "metadata": {},
   "outputs": [
    {
     "name": "stdout",
     "output_type": "stream",
     "text": [
      "Number of null values per column in df:\n",
      "id                        0\n",
      "asin                      0\n",
      "price                     0\n",
      "currency                  0\n",
      "time                      0\n",
      "crawlTime                 0\n",
      "condition                 0\n",
      "sellerName                0\n",
      "sellerId                  0\n",
      "sellerbewertung     1628234\n",
      "seller_sterne       1628234\n",
      "lieferdatum          208608\n",
      "lieferpreis          208608\n",
      "lieferung_durch           0\n",
      "ranking                   0\n",
      "buyBoxWinner              0\n",
      "numberOfSellers           0\n",
      "trigByReactive            0\n",
      "Fulfillment_type          0\n",
      "date_diff            593143\n",
      "dtype: int64\n"
     ]
    }
   ],
   "source": [
    "# Count the null values in each column of the DataFrame\n",
    "null_values_count_per_column = df.isnull().sum()\n",
    "\n",
    "# Print the number of null values for each column\n",
    "print(\"Number of null values per column in df:\")\n",
    "print(null_values_count_per_column)"
   ]
  },
  {
   "cell_type": "code",
   "execution_count": null,
   "id": "5abbdc7c",
   "metadata": {},
   "outputs": [],
   "source": [
    "# Filter the DataFrame to keep rows where 'sellerName' is 'Amazon', 'Amazon Warehouse', 'Amazon US', 'Amazon UK'\n",
    "amazon_sellers_df = df[df['sellerName'].isin(['amazon', 'Amazon Warehouse ', 'Amazon US', 'Amazon', 'Amazon UK'])]\n",
    "\n",
    "# Print the length of the Amazon sellers DataFrame\n",
    "print(\"Length of Amazon sellers DataFrame:\", len(amazon_sellers_df))"
   ]
  },
  {
   "cell_type": "code",
   "execution_count": 28,
   "id": "78a0c3f3",
   "metadata": {},
   "outputs": [
    {
     "name": "stdout",
     "output_type": "stream",
     "text": [
      "Mean Price: 150.47\n",
      "Standard Deviation: 139.76\n"
     ]
    }
   ],
   "source": [
    "sub_df = df[df['buyBoxWinner'] == 't']\n",
    "mean_price = round(sub_df['price'].mean(), 2)\n",
    "standard_deviation = round(sub_df['price'].std(), 2)\n",
    "\n",
    "print(f\"Mean Price: {mean_price}\")\n",
    "print(f\"Standard Deviation: {standard_deviation}\")"
   ]
  },
  {
   "cell_type": "code",
   "execution_count": 29,
   "id": "9aef8668",
   "metadata": {},
   "outputs": [
    {
     "name": "stdout",
     "output_type": "stream",
     "text": [
      "Mean Price: 162.06\n",
      "Standard Deviation: 137.91\n"
     ]
    }
   ],
   "source": [
    "mean_price = round(df['price'].mean(), 2)\n",
    "standard_deviation = round(df['price'].std(), 2)\n",
    "\n",
    "print(f\"Mean Price: {mean_price}\")\n",
    "print(f\"Standard Deviation: {standard_deviation}\")"
   ]
  },
  {
   "cell_type": "code",
   "execution_count": 30,
   "id": "0d3c26c2",
   "metadata": {
    "scrolled": true
   },
   "outputs": [
    {
     "name": "stdout",
     "output_type": "stream",
     "text": [
      "Mean Price: 21557.93\n",
      "Standard Deviation: 88586.97\n"
     ]
    }
   ],
   "source": [
    "mean_score = round(df['sellerbewertung'].mean(), 2)\n",
    "sd_score = round(df['sellerbewertung'].std(), 2)\n",
    "\n",
    "print(f\"Mean SellerBewertung: {mean_score}\")\n",
    "print(f\"Standard Deviation: {sd_score}\")"
   ]
  },
  {
   "cell_type": "code",
   "execution_count": 31,
   "id": "1ae1eb57",
   "metadata": {},
   "outputs": [
    {
     "name": "stdout",
     "output_type": "stream",
     "text": [
      "Distinct values for seller_sterne: ['5 von 5' nan '4.5 von 5' '4 von 5' '3.5 von 5' '3 von 5' '2 von 5'\n",
      " '1 von 5' '2.5 von 5' '1.5 von 5']\n",
      "Mean Sterne: 4.31\n",
      "Standard Deviation: 0.63\n",
      "Distinct values for seller_sterne: [5.  nan 4.5 4.  3.5 3.  2.  1.  2.5 1.5]\n"
     ]
    }
   ],
   "source": [
    "# Get distinct values for the 'seller_sterne' column\n",
    "distinct_seller_sterne = df['seller_sterne'].unique()\n",
    "print(\"Distinct values for seller_sterne:\", distinct_seller_sterne)\n",
    "\n",
    "mean_score = round(df['seller_sterne'].mean(), 2)\n",
    "sd_score = round(df['seller_sterne'].std(), 2)\n",
    "\n",
    "print(f\"Mean Sterne: {mean_score}\")\n",
    "print(f\"Standard Deviation: {sd_score}\")"
   ]
  },
  {
   "cell_type": "code",
   "execution_count": 32,
   "id": "215a5424",
   "metadata": {},
   "outputs": [
    {
     "name": "stdout",
     "output_type": "stream",
     "text": [
      "Mean Delivery Price: 0.09\n",
      "Standard Deviation: 1.17\n"
     ]
    }
   ],
   "source": [
    "sub_df = df[df['Fulfillment_type'] == 'FBA']\n",
    "mean_price = round(sub_df['lieferpreis'].mean(), 2)\n",
    "standard_deviation = round(sub_df['lieferpreis'].std(), 2)\n",
    "\n",
    "print(f\"Mean Delivery Price: {mean_price}\")\n",
    "print(f\"Standard Deviation: {standard_deviation}\")"
   ]
  },
  {
   "cell_type": "code",
   "execution_count": 33,
   "id": "a9033e25",
   "metadata": {
    "scrolled": true
   },
   "outputs": [
    {
     "name": "stdout",
     "output_type": "stream",
     "text": [
      "Length of the DataFrame: 1866065\n",
      "Mean Delivery Time: 4.11\n",
      "Standard Deviation: 2.09\n"
     ]
    }
   ],
   "source": [
    "sub_df = df[df['Fulfillment_type'] == 'FBA']\n",
    "print(\"Length of the DataFrame:\", sub_df.shape[0])\n",
    "mean_price = round(sub_df['date_diff'].mean(), 2)\n",
    "standard_deviation = round(sub_df['date_diff'].std(), 2)\n",
    "\n",
    "print(f\"Mean Delivery Time: {mean_price}\")\n",
    "print(f\"Standard Deviation: {standard_deviation}\")"
   ]
  },
  {
   "cell_type": "code",
   "execution_count": 34,
   "id": "b655a5b6",
   "metadata": {},
   "outputs": [
    {
     "name": "stdout",
     "output_type": "stream",
     "text": [
      "Length of the DataFrame: 4725046\n",
      "Mean Delivery Price: 10.03\n",
      "Standard Deviation: 14.41\n"
     ]
    }
   ],
   "source": [
    "sub_df = df[df['Fulfillment_type'] == 'FBM']\n",
    "print(\"Length of the DataFrame:\", sub_df.shape[0])\n",
    "mean_price = round(sub_df['lieferpreis'].mean(), 2)\n",
    "standard_deviation = round(sub_df['lieferpreis'].std(), 2)\n",
    "\n",
    "print(f\"Mean Delivery Price: {mean_price}\")\n",
    "print(f\"Standard Deviation: {standard_deviation}\")"
   ]
  },
  {
   "cell_type": "code",
   "execution_count": 35,
   "id": "5d586a76",
   "metadata": {},
   "outputs": [
    {
     "name": "stdout",
     "output_type": "stream",
     "text": [
      "Length of the DataFrame: 4725046\n",
      "Mean Delivery Time: 8.84\n",
      "Standard Deviation: 6.83\n"
     ]
    }
   ],
   "source": [
    "sub_df = df[df['Fulfillment_type'] == 'FBM']\n",
    "print(\"Length of the DataFrame:\", sub_df.shape[0])\n",
    "mean_price = round(sub_df['date_diff'].mean(), 2)\n",
    "standard_deviation = round(sub_df['date_diff'].std(), 2)\n",
    "\n",
    "print(f\"Mean Delivery Time: {mean_price}\")\n",
    "print(f\"Standard Deviation: {standard_deviation}\")"
   ]
  },
  {
   "cell_type": "code",
   "execution_count": 36,
   "id": "ef0fa37c",
   "metadata": {},
   "outputs": [
    {
     "name": "stdout",
     "output_type": "stream",
     "text": [
      "Mean Number of Offers: 13.94\n",
      "Standard Deviation: 20.11\n"
     ]
    }
   ],
   "source": [
    "sub_df = df[df['buyBoxWinner'] == 't']\n",
    "mean_price = round(sub_df['numberOfSellers'].mean(), 2)\n",
    "standard_deviation = round(sub_df['numberOfSellers'].std(), 2)\n",
    "\n",
    "print(f\"Mean Number of Offers: {mean_price}\")\n",
    "print(f\"Standard Deviation: {standard_deviation}\")"
   ]
  },
  {
   "cell_type": "code",
   "execution_count": 37,
   "id": "7ced61be",
   "metadata": {},
   "outputs": [
    {
     "name": "stdout",
     "output_type": "stream",
     "text": [
      "Mean number of unique sellers per product: 14.82\n",
      "Standard Deviation of the number of unique sellers per product: 19.26\n"
     ]
    }
   ],
   "source": [
    "import pandas as pd\n",
    "\n",
    "# Assuming you have already loaded your dataframe as 'df'\n",
    "unique_sellers_per_asin = df.groupby('asin')['sellerId'].nunique()\n",
    "\n",
    "# Calculate the mean number of unique sellers per product\n",
    "mean_unique_sellers_per_product = unique_sellers_per_asin.mean()\n",
    "\n",
    "# Calculate the standard deviation of the number of unique sellers per product\n",
    "sd_unique_sellers_per_product = unique_sellers_per_asin.std()\n",
    "\n",
    "# Round the results to 2 decimal places (or adjust as needed)\n",
    "mean_unique_sellers_per_product_rounded = round(mean_unique_sellers_per_product, 2)\n",
    "sd_unique_sellers_per_product_rounded = round(sd_unique_sellers_per_product, 2)\n",
    "\n",
    "print(f\"Mean number of unique sellers per product: {mean_unique_sellers_per_product_rounded}\")\n",
    "print(f\"Standard Deviation of the number of unique sellers per product: {sd_unique_sellers_per_product_rounded}\")\n"
   ]
  },
  {
   "cell_type": "code",
   "execution_count": 38,
   "id": "fe0f45c4",
   "metadata": {},
   "outputs": [
    {
     "name": "stdout",
     "output_type": "stream",
     "text": [
      "Mean of maximum number of sellers per product: 20.27\n",
      "Standard deviation of maximum number of sellers per product: 30.18\n"
     ]
    }
   ],
   "source": [
    "import pandas as pd\n",
    "\n",
    "# Assuming you have already loaded your dataframe as 'df'\n",
    "max_sellers_per_asin = df.groupby('asin')['numberOfSellers'].max()\n",
    "\n",
    "# Calculate the mean and standard deviation for the maximum number of sellers per product\n",
    "mean_max_sellers = round(max_sellers_per_asin.mean(), 2)\n",
    "std_max_sellers = round(max_sellers_per_asin.std(), 2)\n",
    "\n",
    "print(f\"Mean of maximum number of sellers per product: {mean_max_sellers}\")\n",
    "print(f\"Standard deviation of maximum number of sellers per product: {std_max_sellers}\")\n"
   ]
  },
  {
   "cell_type": "code",
   "execution_count": null,
   "id": "9852265d",
   "metadata": {},
   "outputs": [],
   "source": []
  }
 ],
 "metadata": {
  "kernelspec": {
   "display_name": "Python 3 (ipykernel)",
   "language": "python",
   "name": "python3"
  },
  "language_info": {
   "codemirror_mode": {
    "name": "ipython",
    "version": 3
   },
   "file_extension": ".py",
   "mimetype": "text/x-python",
   "name": "python",
   "nbconvert_exporter": "python",
   "pygments_lexer": "ipython3",
   "version": "3.10.9"
  }
 },
 "nbformat": 4,
 "nbformat_minor": 5
}
