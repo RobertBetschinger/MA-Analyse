{
 "cells": [
  {
   "cell_type": "code",
   "execution_count": 52,
   "id": "bdc4dbdf",
   "metadata": {},
   "outputs": [
    {
     "name": "stderr",
     "output_type": "stream",
     "text": [
      "C:\\Users\\Robert Betschinger\\AppData\\Local\\Temp\\ipykernel_7232\\2860131813.py:3: DtypeWarning: Columns (11) have mixed types. Specify dtype option on import or set low_memory=False.\n",
      "  df = pd.read_csv('../Grunddatein/Zwischendatein/CleanedDataComplete.csv')\n"
     ]
    }
   ],
   "source": [
    "import pandas as pd\n",
    "import numpy as np\n",
    "df = pd.read_csv('../Grunddatein/Zwischendatein/CleanedDataComplete.csv')"
   ]
  },
  {
   "cell_type": "code",
   "execution_count": 53,
   "id": "c66c3248",
   "metadata": {
    "scrolled": true
   },
   "outputs": [
    {
     "name": "stdout",
     "output_type": "stream",
     "text": [
      "Seller names containing 'amazon':\n",
      "amazon\n",
      "Amazon Warehouse \n",
      "Amazon\n",
      "Amazon UK\n",
      "Amazon US\n"
     ]
    }
   ],
   "source": [
    "# Get all distinct seller names\n",
    "distinct_seller_names = df['sellerName'].unique()\n",
    "\n",
    "# Filter the seller names containing 'amazon' (case-insensitive)\n",
    "amazon_seller_names = [seller for seller in distinct_seller_names if 'amazon' in seller.lower()]\n",
    "\n",
    "# Print the Amazon seller names\n",
    "print(\"Seller names containing 'amazon':\")\n",
    "for seller_name in amazon_seller_names:\n",
    "    print(seller_name)\n"
   ]
  },
  {
   "cell_type": "code",
   "execution_count": 54,
   "id": "c3d10d12",
   "metadata": {
    "scrolled": true
   },
   "outputs": [
    {
     "name": "stdout",
     "output_type": "stream",
     "text": [
      "<class 'pandas.core.frame.DataFrame'>\n",
      "RangeIndex: 6591111 entries, 0 to 6591110\n",
      "Data columns (total 20 columns):\n",
      " #   Column            Dtype  \n",
      "---  ------            -----  \n",
      " 0   id                float64\n",
      " 1   asin              object \n",
      " 2   price             float64\n",
      " 3   currency          object \n",
      " 4   time              object \n",
      " 5   crawlTime         object \n",
      " 6   condition         object \n",
      " 7   sellerName        object \n",
      " 8   sellerId          object \n",
      " 9   sellerbewertung   float64\n",
      " 10  seller_sterne     float64\n",
      " 11  lieferdatum       object \n",
      " 12  lieferpreis       float64\n",
      " 13  lieferung_durch   object \n",
      " 14  ranking           float64\n",
      " 15  buyBoxWinner      bool   \n",
      " 16  numberOfSellers   float64\n",
      " 17  trigByReactive    object \n",
      " 18  Fulfillment_type  object \n",
      " 19  date_diff         float64\n",
      "dtypes: bool(1), float64(8), object(11)\n",
      "memory usage: 961.7+ MB\n"
     ]
    }
   ],
   "source": [
    "df.info()"
   ]
  },
  {
   "cell_type": "code",
   "execution_count": 55,
   "id": "6c209196",
   "metadata": {},
   "outputs": [
    {
     "name": "stdout",
     "output_type": "stream",
     "text": [
      "Number of null values per column in df:\n",
      "id                        0\n",
      "asin                      0\n",
      "price                     0\n",
      "currency                  0\n",
      "time                      0\n",
      "crawlTime                 0\n",
      "condition                 0\n",
      "sellerName                0\n",
      "sellerId                  0\n",
      "sellerbewertung     1617113\n",
      "seller_sterne       1617113\n",
      "lieferdatum          208608\n",
      "lieferpreis          208608\n",
      "lieferung_durch           0\n",
      "ranking                   0\n",
      "buyBoxWinner              0\n",
      "numberOfSellers           0\n",
      "trigByReactive            0\n",
      "Fulfillment_type          0\n",
      "date_diff            271265\n",
      "dtype: int64\n"
     ]
    }
   ],
   "source": [
    "# Count the null values in each column of the DataFrame\n",
    "null_values_count_per_column = df.isnull().sum()\n",
    "\n",
    "# Print the number of null values for each column\n",
    "print(\"Number of null values per column in df:\")\n",
    "print(null_values_count_per_column)"
   ]
  },
  {
   "cell_type": "code",
   "execution_count": 69,
   "id": "5abbdc7c",
   "metadata": {},
   "outputs": [
    {
     "name": "stdout",
     "output_type": "stream",
     "text": [
      "Length of Amazon sellers DataFrame: 405118\n",
      "Number of Amazon sellers who won the Buy Box: 350363\n"
     ]
    }
   ],
   "source": [
    "# Filter the DataFrame to keep rows where 'sellerName' is 'Amazon', 'Amazon Warehouse', 'Amazon US', 'Amazon UK'\n",
    "amazon_sellers_df = df[df['sellerName'].isin(['amazon', 'Amazon Warehouse ', 'Amazon US', 'Amazon', 'Amazon UK'])]\n",
    "amazon_sellers_df = df[df['sellerName'].isin(['amazon'])]\n",
    "# Print the length of the Amazon sellers DataFrame\n",
    "print(\"Length of Amazon sellers DataFrame:\", len(amazon_sellers_df))\n",
    "# Count the rows where 'buyBoxWinner' is True\n",
    "amazon_buybox_wins = amazon_sellers_df[amazon_sellers_df['buyBoxWinner'] == True]\n",
    "\n",
    "# Print the number of Amazon sellers who won the Buy Box\n",
    "print(\"Number of Amazon sellers who won the Buy Box:\", len(amazon_buybox_wins))\n"
   ]
  },
  {
   "cell_type": "code",
   "execution_count": 57,
   "id": "78a0c3f3",
   "metadata": {},
   "outputs": [
    {
     "name": "stdout",
     "output_type": "stream",
     "text": [
      "Mean Price: 150.47\n",
      "Standard Deviation: 139.78\n"
     ]
    }
   ],
   "source": [
    "sub_df = df[df['buyBoxWinner'] == True]\n",
    "mean_price = round(sub_df['price'].mean(), 2)\n",
    "standard_deviation = round(sub_df['price'].std(), 2)\n",
    "\n",
    "print(f\"Mean Price: {mean_price}\")\n",
    "print(f\"Standard Deviation: {standard_deviation}\")"
   ]
  },
  {
   "cell_type": "code",
   "execution_count": 58,
   "id": "9aef8668",
   "metadata": {},
   "outputs": [
    {
     "name": "stdout",
     "output_type": "stream",
     "text": [
      "Mean Price: 162.06\n",
      "Standard Deviation: 137.92\n"
     ]
    }
   ],
   "source": [
    "mean_price = round(df['price'].mean(), 2)\n",
    "standard_deviation = round(df['price'].std(), 2)\n",
    "\n",
    "print(f\"Mean Price: {mean_price}\")\n",
    "print(f\"Standard Deviation: {standard_deviation}\")"
   ]
  },
  {
   "cell_type": "code",
   "execution_count": 59,
   "id": "0d3c26c2",
   "metadata": {
    "scrolled": true
   },
   "outputs": [
    {
     "name": "stdout",
     "output_type": "stream",
     "text": [
      "Mean SellerBewertung: 21565.79\n",
      "Standard Deviation: 88615.69\n"
     ]
    }
   ],
   "source": [
    "mean_score = round(df['sellerbewertung'].mean(), 2)\n",
    "sd_score = round(df['sellerbewertung'].std(), 2)\n",
    "\n",
    "print(f\"Mean SellerBewertung: {mean_score}\")\n",
    "print(f\"Standard Deviation: {sd_score}\")"
   ]
  },
  {
   "cell_type": "code",
   "execution_count": 60,
   "id": "1ae1eb57",
   "metadata": {},
   "outputs": [
    {
     "name": "stdout",
     "output_type": "stream",
     "text": [
      "Distinct values for seller_sterne: [5.  nan 4.5 3.5 4.  3.  2.  1.  2.5 1.5]\n",
      "Mean Sterne: 4.31\n",
      "Standard Deviation: 0.63\n"
     ]
    }
   ],
   "source": [
    "# Get distinct values for the 'seller_sterne' column\n",
    "distinct_seller_sterne = df['seller_sterne'].unique()\n",
    "print(\"Distinct values for seller_sterne:\", distinct_seller_sterne)\n",
    "\n",
    "mean_score = round(df['seller_sterne'].mean(), 2)\n",
    "sd_score = round(df['seller_sterne'].std(), 2)\n",
    "\n",
    "print(f\"Mean Sterne: {mean_score}\")\n",
    "print(f\"Standard Deviation: {sd_score}\")"
   ]
  },
  {
   "cell_type": "code",
   "execution_count": 61,
   "id": "215a5424",
   "metadata": {},
   "outputs": [
    {
     "name": "stdout",
     "output_type": "stream",
     "text": [
      "Mean Delivery Price: 0.12\n",
      "Standard Deviation: 1.32\n"
     ]
    }
   ],
   "source": [
    "sub_df = df[df['Fulfillment_type'] == 'FBA']\n",
    "mean_price = round(sub_df['lieferpreis'].mean(), 2)\n",
    "standard_deviation = round(sub_df['lieferpreis'].std(), 2)\n",
    "\n",
    "print(f\"Mean Delivery Price: {mean_price}\")\n",
    "print(f\"Standard Deviation: {standard_deviation}\")"
   ]
  },
  {
   "cell_type": "code",
   "execution_count": 62,
   "id": "a9033e25",
   "metadata": {
    "scrolled": true
   },
   "outputs": [
    {
     "name": "stdout",
     "output_type": "stream",
     "text": [
      "Length of the DataFrame: 1867405\n",
      "Mean Delivery Time: 3.5\n",
      "Standard Deviation: 3.6\n"
     ]
    }
   ],
   "source": [
    "sub_df = df[df['Fulfillment_type'] == 'FBA']\n",
    "print(\"Length of the DataFrame:\", sub_df.shape[0])\n",
    "mean_price = round(sub_df['date_diff'].mean(), 2)\n",
    "standard_deviation = round(sub_df['date_diff'].std(), 2)\n",
    "\n",
    "print(f\"Mean Delivery Time: {mean_price}\")\n",
    "print(f\"Standard Deviation: {standard_deviation}\")"
   ]
  },
  {
   "cell_type": "code",
   "execution_count": 63,
   "id": "b655a5b6",
   "metadata": {},
   "outputs": [
    {
     "name": "stdout",
     "output_type": "stream",
     "text": [
      "Length of the DataFrame: 4723706\n",
      "Mean Delivery Price: 10.07\n",
      "Standard Deviation: 14.64\n"
     ]
    }
   ],
   "source": [
    "sub_df = df[df['Fulfillment_type'] == 'FBM']\n",
    "print(\"Length of the DataFrame:\", sub_df.shape[0])\n",
    "mean_price = round(sub_df['lieferpreis'].mean(), 2)\n",
    "standard_deviation = round(sub_df['lieferpreis'].std(), 2)\n",
    "\n",
    "print(f\"Mean Delivery Price: {mean_price}\")\n",
    "print(f\"Standard Deviation: {standard_deviation}\")"
   ]
  },
  {
   "cell_type": "code",
   "execution_count": 64,
   "id": "5d586a76",
   "metadata": {},
   "outputs": [
    {
     "name": "stdout",
     "output_type": "stream",
     "text": [
      "Length of the DataFrame: 4723706\n",
      "Mean Delivery Time: 9.8\n",
      "Standard Deviation: 6.4\n"
     ]
    }
   ],
   "source": [
    "sub_df = df[df['Fulfillment_type'] == 'FBM']\n",
    "print(\"Length of the DataFrame:\", sub_df.shape[0])\n",
    "mean_price = round(sub_df['date_diff'].mean(), 2)\n",
    "standard_deviation = round(sub_df['date_diff'].std(), 2)\n",
    "\n",
    "print(f\"Mean Delivery Time: {mean_price}\")\n",
    "print(f\"Standard Deviation: {standard_deviation}\")"
   ]
  },
  {
   "cell_type": "code",
   "execution_count": 65,
   "id": "ef0fa37c",
   "metadata": {},
   "outputs": [
    {
     "name": "stdout",
     "output_type": "stream",
     "text": [
      "Mean Number of Offers: 13.93\n",
      "Standard Deviation: 20.1\n"
     ]
    }
   ],
   "source": [
    "sub_df = df[df['buyBoxWinner'] == True]\n",
    "mean_price = round(sub_df['numberOfSellers'].mean(), 2)\n",
    "standard_deviation = round(sub_df['numberOfSellers'].std(), 2)\n",
    "\n",
    "print(f\"Mean Number of Offers: {mean_price}\")\n",
    "print(f\"Standard Deviation: {standard_deviation}\")"
   ]
  },
  {
   "cell_type": "code",
   "execution_count": 66,
   "id": "7ced61be",
   "metadata": {},
   "outputs": [
    {
     "name": "stdout",
     "output_type": "stream",
     "text": [
      "Mean number of unique sellers per product: 14.8\n",
      "Standard Deviation of the number of unique sellers per product: 19.23\n"
     ]
    }
   ],
   "source": [
    "import pandas as pd\n",
    "\n",
    "# Assuming you have already loaded your dataframe as 'df'\n",
    "unique_sellers_per_asin = df.groupby('asin')['sellerId'].nunique()\n",
    "\n",
    "# Calculate the mean number of unique sellers per product\n",
    "mean_unique_sellers_per_product = unique_sellers_per_asin.mean()\n",
    "\n",
    "# Calculate the standard deviation of the number of unique sellers per product\n",
    "sd_unique_sellers_per_product = unique_sellers_per_asin.std()\n",
    "\n",
    "# Round the results to 2 decimal places (or adjust as needed)\n",
    "mean_unique_sellers_per_product_rounded = round(mean_unique_sellers_per_product, 2)\n",
    "sd_unique_sellers_per_product_rounded = round(sd_unique_sellers_per_product, 2)\n",
    "\n",
    "print(f\"Mean number of unique sellers per product: {mean_unique_sellers_per_product_rounded}\")\n",
    "print(f\"Standard Deviation of the number of unique sellers per product: {sd_unique_sellers_per_product_rounded}\")\n"
   ]
  },
  {
   "cell_type": "code",
   "execution_count": 67,
   "id": "fe0f45c4",
   "metadata": {},
   "outputs": [
    {
     "name": "stdout",
     "output_type": "stream",
     "text": [
      "Mean of maximum number of sellers per product: 20.26\n",
      "Standard deviation of maximum number of sellers per product: 30.18\n"
     ]
    }
   ],
   "source": [
    "import pandas as pd\n",
    "\n",
    "# Assuming you have already loaded your dataframe as 'df'\n",
    "max_sellers_per_asin = df.groupby('asin')['numberOfSellers'].max()\n",
    "\n",
    "# Calculate the mean and standard deviation for the maximum number of sellers per product\n",
    "mean_max_sellers = round(max_sellers_per_asin.mean(), 2)\n",
    "std_max_sellers = round(max_sellers_per_asin.std(), 2)\n",
    "\n",
    "print(f\"Mean of maximum number of sellers per product: {mean_max_sellers}\")\n",
    "print(f\"Standard deviation of maximum number of sellers per product: {std_max_sellers}\")\n"
   ]
  },
  {
   "cell_type": "code",
   "execution_count": null,
   "id": "9852265d",
   "metadata": {},
   "outputs": [],
   "source": []
  }
 ],
 "metadata": {
  "kernelspec": {
   "display_name": "Python 3 (ipykernel)",
   "language": "python",
   "name": "python3"
  },
  "language_info": {
   "codemirror_mode": {
    "name": "ipython",
    "version": 3
   },
   "file_extension": ".py",
   "mimetype": "text/x-python",
   "name": "python",
   "nbconvert_exporter": "python",
   "pygments_lexer": "ipython3",
   "version": "3.10.9"
  }
 },
 "nbformat": 4,
 "nbformat_minor": 5
}
