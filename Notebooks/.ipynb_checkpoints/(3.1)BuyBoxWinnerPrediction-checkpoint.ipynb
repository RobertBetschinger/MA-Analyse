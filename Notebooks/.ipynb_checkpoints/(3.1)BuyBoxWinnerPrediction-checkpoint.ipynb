{
 "cells": [
  {
   "cell_type": "markdown",
   "id": "98a79ffe",
   "metadata": {},
   "source": [
    "## Random Forest Classifier\n",
    "### 0. Excluding Not New Offers and Reactive Offers\n",
    "### 1. Imputting Missing Data\n",
    "### 2. Encoding Data (All String Values)\n",
    "### 3. Building Training and Testing Dataset"
   ]
  },
  {
   "cell_type": "markdown",
   "id": "4df8bfa9",
   "metadata": {},
   "source": [
    "## Exclude Not New Offers and Reactive Offers"
   ]
  },
  {
   "cell_type": "code",
   "execution_count": 1,
   "id": "72f403f4",
   "metadata": {},
   "outputs": [],
   "source": [
    "import pandas as pd\n",
    "import numpy as np\n",
    "df = pd.read_csv('../Grunddatein/Zwischendatein/cleaned_data.csv')\n",
    "print(\"Length of the DataFrame:\", df.shape[0])\n",
    "num_true = (df['buyBoxWinner'] == True).sum()\n",
    "print(f\"The Number of Offers winning the BuyBox is {num_true}\")"
   ]
  },
  {
   "cell_type": "code",
   "execution_count": 2,
   "id": "26eaa7e2",
   "metadata": {},
   "outputs": [],
   "source": [
    "## Exclude all Rows where condition isnt New and which where a reactive Crawl\n",
    "df = df[df['trigByReactive'] != True]\n",
    "df = df[df['condition'].isin(['Neu', 'New'])]"
   ]
  },
  {
   "cell_type": "code",
   "execution_count": 4,
   "id": "17f43843",
   "metadata": {
    "scrolled": false
   },
   "outputs": [
    {
     "name": "stdout",
     "output_type": "stream",
     "text": [
      "Length of NAN Values for Lieferpreis: 0\n"
     ]
    }
   ],
   "source": [
    "## Encode Features with Label Encoding\n",
    "##Lieferpreis\n",
    "nan_rows = df[df['lieferpreis'].isna()]\n",
    "amazon_count = nan_rows['sellerName'].str.contains('amazon', case=False).sum()\n",
    "amazon_count\n",
    "df['lieferpreis'] = df['lieferpreis'].fillna(0)\n",
    "nan_rows = df[df['lieferpreis'].isna()]\n",
    "print(f\"Length of NAN Values for Lieferpreis: {len(nan_rows)}\")"
   ]
  },
  {
   "cell_type": "code",
   "execution_count": 5,
   "id": "7b47eab9",
   "metadata": {
    "scrolled": true
   },
   "outputs": [
    {
     "name": "stdout",
     "output_type": "stream",
     "text": [
      "7973\n"
     ]
    },
    {
     "data": {
      "text/plain": [
       "7267"
      ]
     },
     "execution_count": 5,
     "metadata": {},
     "output_type": "execute_result"
    }
   ],
   "source": [
    "## Sellerbewertung\n",
    "nan_rows = df[df['sellerbewertung'].isna()]\n",
    "print(len(nan_rows))\n",
    "amazon_count = nan_rows['sellerName'].str.contains('amazon', case=False).sum()\n",
    "amazon_count"
   ]
  },
  {
   "cell_type": "code",
   "execution_count": 6,
   "id": "137fdb4e",
   "metadata": {
    "scrolled": true
   },
   "outputs": [
    {
     "name": "stdout",
     "output_type": "stream",
     "text": [
      "21418.24931189116\n",
      "<class 'pandas.core.frame.DataFrame'>\n",
      "Int64Index: 86914 entries, 0 to 109214\n",
      "Data columns (total 22 columns):\n",
      " #   Column                Non-Null Count  Dtype  \n",
      "---  ------                --------------  -----  \n",
      " 0   asin                  86914 non-null  object \n",
      " 1   time                  86914 non-null  object \n",
      " 2   id                    86914 non-null  float64\n",
      " 3   price                 86914 non-null  float64\n",
      " 4   currency              86914 non-null  object \n",
      " 5   crawlTime             86914 non-null  object \n",
      " 6   condition             86914 non-null  object \n",
      " 7   sellerName            86914 non-null  object \n",
      " 8   sellerId              86914 non-null  object \n",
      " 9   sellerbewertung       86914 non-null  int32  \n",
      " 10  seller_sterne         86914 non-null  float64\n",
      " 11  lieferdatum           83417 non-null  object \n",
      " 12  lieferpreis           86914 non-null  float64\n",
      " 13  lieferung_durch       86914 non-null  object \n",
      " 14  ranking               86914 non-null  float64\n",
      " 15  buyBoxWinner          86914 non-null  bool   \n",
      " 16  numberOfSellers       86914 non-null  float64\n",
      " 17  trigByReactive        86914 non-null  bool   \n",
      " 18  time_gap              86914 non-null  float64\n",
      " 19  copyed_cause_missing  86914 non-null  bool   \n",
      " 20  Fulfillment_type      86914 non-null  object \n",
      " 21  date_diff             81772 non-null  float64\n",
      "dtypes: bool(3), float64(8), int32(1), object(10)\n",
      "memory usage: 13.2+ MB\n"
     ]
    }
   ],
   "source": [
    "# Calculate the mean value of the \"sellerbewertung\" column\n",
    "mean_sellerbewertung = df['sellerbewertung'].mean()\n",
    "print(mean_sellerbewertung)\n",
    "\n",
    "# Replace all NaN values in the \"sellerbewertung\" column with the mean value\n",
    "df['sellerbewertung'] = df['sellerbewertung'].fillna(mean_sellerbewertung)\n",
    "df['sellerbewertung'] = df['sellerbewertung'].round().astype(int)"
   ]
  },
  {
   "cell_type": "code",
   "execution_count": 7,
   "id": "e79a6e94",
   "metadata": {},
   "outputs": [],
   "source": [
    "##Datediff\n",
    "fba_rows = df[df['Fulfillment_type'] == 'FBA']\n",
    "if fba_rows.empty:\n",
    "    print('There are no rows where \"Fulfillment_type\" is \"fba\".')\n",
    "else:\n",
    "    # Calculate the mean value of the \"date_diff\" column where \"fulfillment_type\" is \"fba\"\n",
    "    mean_date_diff_fba = fba_rows['date_diff'].mean()\n",
    "    #print(f'The mean value of \"date_diff\" where \"Fulfillment_type  \" is \"fba\" is: {mean_date_diff_fba}')\n",
    "\n",
    "# Round the mean value to the nearest integer\n",
    "rounded_mean_date_diff_fba = round(mean_date_diff_fba)\n",
    "# Replace all NaN values in the \"date_diff\" column with the rounded mean value\n",
    "df['date_diff'] = df['date_diff'].fillna(rounded_mean_date_diff_fba).astype(int)"
   ]
  },
  {
   "cell_type": "code",
   "execution_count": 8,
   "id": "c5acc876",
   "metadata": {},
   "outputs": [],
   "source": [
    "from sklearn.preprocessing import LabelEncoder\n",
    "categorical_features = ['asin', 'sellerId', 'Fulfillment_type']\n",
    "\n",
    "# Create a LabelEncoder object and fit it to each categorical feature\n",
    "for feature in categorical_features:\n",
    "    le = LabelEncoder()\n",
    "    df[feature] = le.fit_transform(df[feature])"
   ]
  },
  {
   "cell_type": "code",
   "execution_count": 9,
   "id": "11a5f9bf",
   "metadata": {
    "scrolled": true
   },
   "outputs": [
    {
     "data": {
      "text/html": [
       "<div>\n",
       "<style scoped>\n",
       "    .dataframe tbody tr th:only-of-type {\n",
       "        vertical-align: middle;\n",
       "    }\n",
       "\n",
       "    .dataframe tbody tr th {\n",
       "        vertical-align: top;\n",
       "    }\n",
       "\n",
       "    .dataframe thead th {\n",
       "        text-align: right;\n",
       "    }\n",
       "</style>\n",
       "<table border=\"1\" class=\"dataframe\">\n",
       "  <thead>\n",
       "    <tr style=\"text-align: right;\">\n",
       "      <th></th>\n",
       "      <th>asin</th>\n",
       "      <th>time</th>\n",
       "      <th>id</th>\n",
       "      <th>price</th>\n",
       "      <th>currency</th>\n",
       "      <th>crawlTime</th>\n",
       "      <th>condition</th>\n",
       "      <th>sellerName</th>\n",
       "      <th>sellerId</th>\n",
       "      <th>sellerbewertung</th>\n",
       "      <th>...</th>\n",
       "      <th>lieferpreis</th>\n",
       "      <th>lieferung_durch</th>\n",
       "      <th>ranking</th>\n",
       "      <th>buyBoxWinner</th>\n",
       "      <th>numberOfSellers</th>\n",
       "      <th>trigByReactive</th>\n",
       "      <th>time_gap</th>\n",
       "      <th>copyed_cause_missing</th>\n",
       "      <th>Fulfillment_type</th>\n",
       "      <th>date_diff</th>\n",
       "    </tr>\n",
       "  </thead>\n",
       "  <tbody>\n",
       "    <tr>\n",
       "      <th>109210</th>\n",
       "      <td>963</td>\n",
       "      <td>1.679504e+09</td>\n",
       "      <td>344192.0</td>\n",
       "      <td>47.18</td>\n",
       "      <td>€</td>\n",
       "      <td>2023-03-22 16:55:20.369848</td>\n",
       "      <td>Neu</td>\n",
       "      <td>e-joker</td>\n",
       "      <td>54</td>\n",
       "      <td>147500</td>\n",
       "      <td>...</td>\n",
       "      <td>6.99</td>\n",
       "      <td>e-joker</td>\n",
       "      <td>4.0</td>\n",
       "      <td>False</td>\n",
       "      <td>8.0</td>\n",
       "      <td>False</td>\n",
       "      <td>-1.0</td>\n",
       "      <td>True</td>\n",
       "      <td>1</td>\n",
       "      <td>25</td>\n",
       "    </tr>\n",
       "    <tr>\n",
       "      <th>109211</th>\n",
       "      <td>963</td>\n",
       "      <td>1.679504e+09</td>\n",
       "      <td>344193.0</td>\n",
       "      <td>43.37</td>\n",
       "      <td>€</td>\n",
       "      <td>2023-03-22 16:55:20.370174</td>\n",
       "      <td>Neu</td>\n",
       "      <td>Taschengelddieb</td>\n",
       "      <td>613</td>\n",
       "      <td>286</td>\n",
       "      <td>...</td>\n",
       "      <td>12.99</td>\n",
       "      <td>Taschengelddieb</td>\n",
       "      <td>5.0</td>\n",
       "      <td>False</td>\n",
       "      <td>8.0</td>\n",
       "      <td>False</td>\n",
       "      <td>-1.0</td>\n",
       "      <td>True</td>\n",
       "      <td>1</td>\n",
       "      <td>7</td>\n",
       "    </tr>\n",
       "    <tr>\n",
       "      <th>109212</th>\n",
       "      <td>963</td>\n",
       "      <td>1.679504e+09</td>\n",
       "      <td>344194.0</td>\n",
       "      <td>36.89</td>\n",
       "      <td>€</td>\n",
       "      <td>2023-03-22 16:55:20.370495</td>\n",
       "      <td>Neu</td>\n",
       "      <td>Renax Toys - Schnelle Lieferung</td>\n",
       "      <td>1718</td>\n",
       "      <td>234</td>\n",
       "      <td>...</td>\n",
       "      <td>22.00</td>\n",
       "      <td>Renax Toys - Schnelle Lieferung</td>\n",
       "      <td>6.0</td>\n",
       "      <td>False</td>\n",
       "      <td>8.0</td>\n",
       "      <td>False</td>\n",
       "      <td>-1.0</td>\n",
       "      <td>True</td>\n",
       "      <td>1</td>\n",
       "      <td>7</td>\n",
       "    </tr>\n",
       "    <tr>\n",
       "      <th>109213</th>\n",
       "      <td>963</td>\n",
       "      <td>1.679504e+09</td>\n",
       "      <td>344195.0</td>\n",
       "      <td>42.99</td>\n",
       "      <td>€</td>\n",
       "      <td>2023-03-22 16:55:20.370791</td>\n",
       "      <td>Neu</td>\n",
       "      <td>ms-plueth</td>\n",
       "      <td>1040</td>\n",
       "      <td>305</td>\n",
       "      <td>...</td>\n",
       "      <td>17.95</td>\n",
       "      <td>ms-plueth</td>\n",
       "      <td>7.0</td>\n",
       "      <td>False</td>\n",
       "      <td>8.0</td>\n",
       "      <td>False</td>\n",
       "      <td>-1.0</td>\n",
       "      <td>True</td>\n",
       "      <td>1</td>\n",
       "      <td>7</td>\n",
       "    </tr>\n",
       "    <tr>\n",
       "      <th>109214</th>\n",
       "      <td>963</td>\n",
       "      <td>1.679504e+09</td>\n",
       "      <td>344196.0</td>\n",
       "      <td>47.17</td>\n",
       "      <td>€</td>\n",
       "      <td>2023-03-22 16:55:20.371094</td>\n",
       "      <td>Neu</td>\n",
       "      <td>trendmile</td>\n",
       "      <td>1129</td>\n",
       "      <td>40937</td>\n",
       "      <td>...</td>\n",
       "      <td>16.77</td>\n",
       "      <td>trendmile</td>\n",
       "      <td>8.0</td>\n",
       "      <td>False</td>\n",
       "      <td>8.0</td>\n",
       "      <td>False</td>\n",
       "      <td>-1.0</td>\n",
       "      <td>True</td>\n",
       "      <td>1</td>\n",
       "      <td>6</td>\n",
       "    </tr>\n",
       "  </tbody>\n",
       "</table>\n",
       "<p>5 rows × 22 columns</p>\n",
       "</div>"
      ],
      "text/plain": [
       "        asin          time        id  price currency  \\\n",
       "109210   963  1.679504e+09  344192.0  47.18        €   \n",
       "109211   963  1.679504e+09  344193.0  43.37        €   \n",
       "109212   963  1.679504e+09  344194.0  36.89        €   \n",
       "109213   963  1.679504e+09  344195.0  42.99        €   \n",
       "109214   963  1.679504e+09  344196.0  47.17        €   \n",
       "\n",
       "                         crawlTime condition                       sellerName  \\\n",
       "109210  2023-03-22 16:55:20.369848       Neu                          e-joker   \n",
       "109211  2023-03-22 16:55:20.370174       Neu                  Taschengelddieb   \n",
       "109212  2023-03-22 16:55:20.370495       Neu  Renax Toys - Schnelle Lieferung   \n",
       "109213  2023-03-22 16:55:20.370791       Neu                        ms-plueth   \n",
       "109214  2023-03-22 16:55:20.371094       Neu                        trendmile   \n",
       "\n",
       "        sellerId  sellerbewertung  ...  lieferpreis  \\\n",
       "109210        54           147500  ...         6.99   \n",
       "109211       613              286  ...        12.99   \n",
       "109212      1718              234  ...        22.00   \n",
       "109213      1040              305  ...        17.95   \n",
       "109214      1129            40937  ...        16.77   \n",
       "\n",
       "                        lieferung_durch  ranking buyBoxWinner  \\\n",
       "109210                          e-joker      4.0        False   \n",
       "109211                  Taschengelddieb      5.0        False   \n",
       "109212  Renax Toys - Schnelle Lieferung      6.0        False   \n",
       "109213                        ms-plueth      7.0        False   \n",
       "109214                        trendmile      8.0        False   \n",
       "\n",
       "        numberOfSellers  trigByReactive  time_gap  copyed_cause_missing  \\\n",
       "109210              8.0           False      -1.0                  True   \n",
       "109211              8.0           False      -1.0                  True   \n",
       "109212              8.0           False      -1.0                  True   \n",
       "109213              8.0           False      -1.0                  True   \n",
       "109214              8.0           False      -1.0                  True   \n",
       "\n",
       "        Fulfillment_type  date_diff  \n",
       "109210                 1         25  \n",
       "109211                 1          7  \n",
       "109212                 1          7  \n",
       "109213                 1          7  \n",
       "109214                 1          6  \n",
       "\n",
       "[5 rows x 22 columns]"
      ]
     },
     "execution_count": 9,
     "metadata": {},
     "output_type": "execute_result"
    }
   ],
   "source": [
    "# Convert the datetime column to a numeric value\n",
    "df[\"time\"] = pd.to_datetime(df[\"time\"], format=\"%Y-%m-%d %H:%M:%S\")\n",
    "df[\"time\"] = df[\"time\"].apply(lambda x: x.timestamp())\n",
    "df.tail()"
   ]
  },
  {
   "cell_type": "code",
   "execution_count": 10,
   "id": "3d1dca53",
   "metadata": {},
   "outputs": [
    {
     "data": {
      "text/html": [
       "<div>\n",
       "<style scoped>\n",
       "    .dataframe tbody tr th:only-of-type {\n",
       "        vertical-align: middle;\n",
       "    }\n",
       "\n",
       "    .dataframe tbody tr th {\n",
       "        vertical-align: top;\n",
       "    }\n",
       "\n",
       "    .dataframe thead th {\n",
       "        text-align: right;\n",
       "    }\n",
       "</style>\n",
       "<table border=\"1\" class=\"dataframe\">\n",
       "  <thead>\n",
       "    <tr style=\"text-align: right;\">\n",
       "      <th></th>\n",
       "      <th>asin</th>\n",
       "      <th>time</th>\n",
       "      <th>id</th>\n",
       "      <th>price</th>\n",
       "      <th>currency</th>\n",
       "      <th>crawlTime</th>\n",
       "      <th>condition</th>\n",
       "      <th>sellerName</th>\n",
       "      <th>sellerId</th>\n",
       "      <th>sellerbewertung</th>\n",
       "      <th>...</th>\n",
       "      <th>lieferpreis</th>\n",
       "      <th>lieferung_durch</th>\n",
       "      <th>ranking</th>\n",
       "      <th>buyBoxWinner</th>\n",
       "      <th>numberOfSellers</th>\n",
       "      <th>trigByReactive</th>\n",
       "      <th>time_gap</th>\n",
       "      <th>copyed_cause_missing</th>\n",
       "      <th>Fulfillment_type</th>\n",
       "      <th>date_diff</th>\n",
       "    </tr>\n",
       "  </thead>\n",
       "  <tbody>\n",
       "    <tr>\n",
       "      <th>0</th>\n",
       "      <td>0</td>\n",
       "      <td>1.679501e+09</td>\n",
       "      <td>343568.0</td>\n",
       "      <td>95.8</td>\n",
       "      <td>€</td>\n",
       "      <td>2023-03-22 16:55:20.125842</td>\n",
       "      <td>Neu</td>\n",
       "      <td>Kidia</td>\n",
       "      <td>924</td>\n",
       "      <td>47</td>\n",
       "      <td>...</td>\n",
       "      <td>0.0</td>\n",
       "      <td>Amazon</td>\n",
       "      <td>0.0</td>\n",
       "      <td>True</td>\n",
       "      <td>2.0</td>\n",
       "      <td>False</td>\n",
       "      <td>0.0</td>\n",
       "      <td>False</td>\n",
       "      <td>0</td>\n",
       "      <td>3</td>\n",
       "    </tr>\n",
       "    <tr>\n",
       "      <th>1</th>\n",
       "      <td>0</td>\n",
       "      <td>1.679501e+09</td>\n",
       "      <td>344038.0</td>\n",
       "      <td>86.9</td>\n",
       "      <td>€</td>\n",
       "      <td>2023-03-22 16:55:20.315580</td>\n",
       "      <td>Neu</td>\n",
       "      <td>STILE IMMAGINE DIGITAL HD</td>\n",
       "      <td>89</td>\n",
       "      <td>28</td>\n",
       "      <td>...</td>\n",
       "      <td>9.9</td>\n",
       "      <td>STILE IMMAGINE DIGITAL HD</td>\n",
       "      <td>1.0</td>\n",
       "      <td>False</td>\n",
       "      <td>1.0</td>\n",
       "      <td>False</td>\n",
       "      <td>0.0</td>\n",
       "      <td>False</td>\n",
       "      <td>1</td>\n",
       "      <td>27</td>\n",
       "    </tr>\n",
       "    <tr>\n",
       "      <th>2</th>\n",
       "      <td>0</td>\n",
       "      <td>1.679508e+09</td>\n",
       "      <td>352772.0</td>\n",
       "      <td>95.8</td>\n",
       "      <td>€</td>\n",
       "      <td>2023-03-22 18:00:22.914723</td>\n",
       "      <td>Neu</td>\n",
       "      <td>Kidia</td>\n",
       "      <td>924</td>\n",
       "      <td>47</td>\n",
       "      <td>...</td>\n",
       "      <td>0.0</td>\n",
       "      <td>Amazon</td>\n",
       "      <td>0.0</td>\n",
       "      <td>True</td>\n",
       "      <td>2.0</td>\n",
       "      <td>False</td>\n",
       "      <td>0.0</td>\n",
       "      <td>False</td>\n",
       "      <td>0</td>\n",
       "      <td>3</td>\n",
       "    </tr>\n",
       "    <tr>\n",
       "      <th>3</th>\n",
       "      <td>0</td>\n",
       "      <td>1.679508e+09</td>\n",
       "      <td>353250.0</td>\n",
       "      <td>86.9</td>\n",
       "      <td>€</td>\n",
       "      <td>2023-03-22 18:00:23.106664</td>\n",
       "      <td>Neu</td>\n",
       "      <td>STILE IMMAGINE DIGITAL HD</td>\n",
       "      <td>89</td>\n",
       "      <td>28</td>\n",
       "      <td>...</td>\n",
       "      <td>9.9</td>\n",
       "      <td>STILE IMMAGINE DIGITAL HD</td>\n",
       "      <td>1.0</td>\n",
       "      <td>False</td>\n",
       "      <td>1.0</td>\n",
       "      <td>False</td>\n",
       "      <td>0.0</td>\n",
       "      <td>False</td>\n",
       "      <td>1</td>\n",
       "      <td>27</td>\n",
       "    </tr>\n",
       "    <tr>\n",
       "      <th>4</th>\n",
       "      <td>0</td>\n",
       "      <td>1.679512e+09</td>\n",
       "      <td>361969.0</td>\n",
       "      <td>86.9</td>\n",
       "      <td>€</td>\n",
       "      <td>2023-03-22 19:05:33.089028</td>\n",
       "      <td>Neu</td>\n",
       "      <td>STILE IMMAGINE DIGITAL HD</td>\n",
       "      <td>89</td>\n",
       "      <td>28</td>\n",
       "      <td>...</td>\n",
       "      <td>9.9</td>\n",
       "      <td>STILE IMMAGINE DIGITAL HD</td>\n",
       "      <td>0.0</td>\n",
       "      <td>True</td>\n",
       "      <td>2.0</td>\n",
       "      <td>False</td>\n",
       "      <td>0.0</td>\n",
       "      <td>False</td>\n",
       "      <td>1</td>\n",
       "      <td>25</td>\n",
       "    </tr>\n",
       "  </tbody>\n",
       "</table>\n",
       "<p>5 rows × 22 columns</p>\n",
       "</div>"
      ],
      "text/plain": [
       "   asin          time        id  price currency                   crawlTime  \\\n",
       "0     0  1.679501e+09  343568.0   95.8        €  2023-03-22 16:55:20.125842   \n",
       "1     0  1.679501e+09  344038.0   86.9        €  2023-03-22 16:55:20.315580   \n",
       "2     0  1.679508e+09  352772.0   95.8        €  2023-03-22 18:00:22.914723   \n",
       "3     0  1.679508e+09  353250.0   86.9        €  2023-03-22 18:00:23.106664   \n",
       "4     0  1.679512e+09  361969.0   86.9        €  2023-03-22 19:05:33.089028   \n",
       "\n",
       "  condition                 sellerName  sellerId  sellerbewertung  ...  \\\n",
       "0       Neu                      Kidia       924               47  ...   \n",
       "1       Neu  STILE IMMAGINE DIGITAL HD        89               28  ...   \n",
       "2       Neu                      Kidia       924               47  ...   \n",
       "3       Neu  STILE IMMAGINE DIGITAL HD        89               28  ...   \n",
       "4       Neu  STILE IMMAGINE DIGITAL HD        89               28  ...   \n",
       "\n",
       "   lieferpreis            lieferung_durch  ranking buyBoxWinner  \\\n",
       "0          0.0                     Amazon      0.0         True   \n",
       "1          9.9  STILE IMMAGINE DIGITAL HD      1.0        False   \n",
       "2          0.0                     Amazon      0.0         True   \n",
       "3          9.9  STILE IMMAGINE DIGITAL HD      1.0        False   \n",
       "4          9.9  STILE IMMAGINE DIGITAL HD      0.0         True   \n",
       "\n",
       "   numberOfSellers  trigByReactive  time_gap  copyed_cause_missing  \\\n",
       "0              2.0           False       0.0                 False   \n",
       "1              1.0           False       0.0                 False   \n",
       "2              2.0           False       0.0                 False   \n",
       "3              1.0           False       0.0                 False   \n",
       "4              2.0           False       0.0                 False   \n",
       "\n",
       "   Fulfillment_type  date_diff  \n",
       "0                 0          3  \n",
       "1                 1         27  \n",
       "2                 0          3  \n",
       "3                 1         27  \n",
       "4                 1         25  \n",
       "\n",
       "[5 rows x 22 columns]"
      ]
     },
     "execution_count": 10,
     "metadata": {},
     "output_type": "execute_result"
    }
   ],
   "source": [
    "df.head()"
   ]
  },
  {
   "cell_type": "markdown",
   "id": "a0a9b5e0",
   "metadata": {},
   "source": [
    "# Actual Random Forrest Classifier"
   ]
  },
  {
   "cell_type": "code",
   "execution_count": 11,
   "id": "d4beb4f8",
   "metadata": {
    "scrolled": true
   },
   "outputs": [
    {
     "data": {
      "image/png": "[encoded data removed]",
      "text/plain": [
       "<Figure size 300x300 with 1 Axes>"
      ]
     },
     "metadata": {},
     "output_type": "display_data"
    },
    {
     "name": "stdout",
     "output_type": "stream",
     "text": [
      "AUC: 0.9738342692131579\n"
     ]
    }
   ],
   "source": [
    "from sklearn.model_selection import train_test_split\n",
    "from sklearn.ensemble import RandomForestClassifier\n",
    "from sklearn.metrics import accuracy_score, classification_report, confusion_matrix\n",
    "from sklearn.metrics import roc_auc_score\n",
    "from sklearn.metrics import balanced_accuracy_score\n",
    "import matplotlib.pyplot as plt\n",
    "\n",
    "#Maybe its better to ignore the Column Sellerbewertung\n",
    "#Testing without SellerID\n",
    "\n",
    "X = df[['asin','time', 'price','sellerbewertung','seller_sterne','lieferpreis','Fulfillment_type','date_diff','numberOfSellers']]\n",
    "y = df['buyBoxWinner']\n",
    "\n",
    "X_train, X_test, y_train, y_test = train_test_split(X, y, test_size=0.3, random_state=42,stratify=y)\n",
    "\n",
    "# Create and train the Random Forest Classifier\n",
    "rfc = RandomForestClassifier(n_estimators=100, random_state=42)\n",
    "rfc.fit(X_train, y_train)\n",
    "\n",
    "# Make predictions on the test set\n",
    "y_pred = rfc.predict(X_test)\n",
    "\n",
    "\n",
    "# Calculate the confusion matrix\n",
    "# The Printing of the confusion matrix, is partially buggy. Follow this Tutorial to retrive the right matrix:\n",
    "##This Code is based on the Example from: https://vitalflux.com/python-draw-confusion-matrix-matplotlib/\n",
    "conf_matrix = confusion_matrix(y_true=y_test, y_pred=y_pred)\n",
    "\n",
    "# Swap True Positives and True Negatives\n",
    "conf_matrix[0,0], conf_matrix[1,1] = conf_matrix[1,1], conf_matrix[0,0]\n",
    "\n",
    "# Print the confusion matrix using Matplotlib\n",
    "fig, ax = plt.subplots(figsize=(3, 3))\n",
    "ax.matshow(conf_matrix, cmap=plt.cm.Blues, alpha=0.3)\n",
    "for i in range(conf_matrix.shape[0]):\n",
    "    for j in range(conf_matrix.shape[1]):\n",
    "        ax.text(x=j, y=i,s=conf_matrix[i, j], va='center', ha='center', size='x-large')\n",
    "\n",
    "plt.xlabel('Actuals', fontsize=15)\n",
    "plt.ylabel('Predictions', fontsize=15)\n",
    "plt.title('Confusion Matrix', fontsize=15)\n",
    "plt.show()\n",
    "\n",
    "\n",
    "#Area under The Curve ausrechnen lassen\n",
    "# Calculate the AUC\n",
    "#The AUC (area under the ROC curve) is a measure of the performance of a binary classification model. \n",
    "#It represents the degree to which the model is able to distinguish between positive and negative examples. \n",
    "#The AUC ranges from 0 to 1, with higher values indicating better performance.\n",
    "auc = roc_auc_score(y_test, y_pred)\n",
    "print(\"AUC:\", auc)\n",
    "\n",
    "#Balanced ACC\n",
    "#bal_acc = balanced_accuracy_score(y_test, y_pred)\n",
    "#print(\"Balanced accuracy:\", bal_acc)"
   ]
  },
  {
   "cell_type": "code",
   "execution_count": 12,
   "id": "57531fdd",
   "metadata": {},
   "outputs": [
    {
     "name": "stdout",
     "output_type": "stream",
     "text": [
      "The Number of Rows winning the BuyBox in the total Dataframe is 9923\n",
      "The Number of Rows winning the BuyBox in the Test-Set is 2977\n"
     ]
    }
   ],
   "source": [
    "num_true = (df['buyBoxWinner'] == True).sum()\n",
    "num_true\n",
    "print(f\"The Number of Rows winning the BuyBox in the total Dataframe is {num_true}\")\n",
    "print(f\"The Number of Rows winning the BuyBox in the Test-Set is {conf_matrix[0,0] + conf_matrix[1,0]}\")"
   ]
  },
  {
   "cell_type": "code",
   "execution_count": 13,
   "id": "ea207604",
   "metadata": {
    "scrolled": true
   },
   "outputs": [
    {
     "name": "stdout",
     "output_type": "stream",
     "text": [
      "False    23098\n",
      "True      2977\n",
      "Name: buyBoxWinner, dtype: int64\n",
      "The number of rows in the train set is: 60839\n",
      "The number of rows in the test set is: 26075\n"
     ]
    }
   ],
   "source": [
    "value_counts = y_test.value_counts()\n",
    "# print the result\n",
    "print(value_counts)\n",
    "# Count the number of rows in the train and test sets\n",
    "num_rows_train = X_train.shape[0]\n",
    "num_rows_test = X_test.shape[0]\n",
    "# Print the results\n",
    "print(f'The number of rows in the train set is: {num_rows_train}')\n",
    "print(f'The number of rows in the test set is: {num_rows_test}')"
   ]
  },
  {
   "cell_type": "code",
   "execution_count": 14,
   "id": "5f0532ed",
   "metadata": {
    "scrolled": true
   },
   "outputs": [
    {
     "name": "stdout",
     "output_type": "stream",
     "text": [
      "Accuracy: 99.05%\n",
      "Classification Report:\n",
      "               precision    recall  f1-score   support\n",
      "\n",
      "       False       0.99      1.00      0.99     23098\n",
      "        True       0.96      0.95      0.96      2977\n",
      "\n",
      "    accuracy                           0.99     26075\n",
      "   macro avg       0.98      0.97      0.98     26075\n",
      "weighted avg       0.99      0.99      0.99     26075\n",
      "\n"
     ]
    }
   ],
   "source": [
    "##Qualitätsmaße\n",
    "# Calculate the accuracy, aber ansich nicht so gutes Maß, da imbalanced Verteilung von BuyBox\n",
    "#Gewichtete Accuracy berechnen\n",
    "acc = accuracy_score(y_test, y_pred)\n",
    "print(\"Accuracy: {:.2f}%\".format(acc * 100))\n",
    "print(\"Classification Report:\\n\", classification_report(y_test, y_pred))\n"
   ]
  },
  {
   "cell_type": "code",
   "execution_count": 15,
   "id": "7a38cea4",
   "metadata": {
    "scrolled": true
   },
   "outputs": [
    {
     "name": "stdout",
     "output_type": "stream",
     "text": [
      "            Feature  Importance\n",
      "4     seller_sterne    0.238668\n",
      "6  Fulfillment_type    0.160305\n",
      "2             price    0.120373\n",
      "8   numberOfSellers    0.113599\n",
      "3   sellerbewertung    0.111802\n",
      "0              asin    0.102162\n",
      "7         date_diff    0.084563\n",
      "5       lieferpreis    0.047471\n",
      "1              time    0.021057\n"
     ]
    }
   ],
   "source": [
    "## Print out Feature Importances\n",
    "feature_importances = rfc.feature_importances_\n",
    "feature_names = X.columns\n",
    "# Create a DataFrame of the feature importances and their names\n",
    "feature_importances_df = pd.DataFrame({'Feature': feature_names, 'Importance': feature_importances})\n",
    "\n",
    "# Sort the DataFrame by feature importances in descending order\n",
    "feature_importances_df = feature_importances_df.sort_values(by='Importance', ascending=False)\n",
    "\n",
    "# Print the DataFrame of feature importances and their names\n",
    "print(feature_importances_df)"
   ]
  },
  {
   "cell_type": "markdown",
   "id": "f04c3a4d",
   "metadata": {},
   "source": [
    "## Random Forrest but with relative Data (Similar to Chen Paper)"
   ]
  },
  {
   "cell_type": "code",
   "execution_count": 16,
   "id": "c7464321",
   "metadata": {},
   "outputs": [
    {
     "name": "stderr",
     "output_type": "stream",
     "text": [
      "C:\\Users\\Robert Betschinger\\AppData\\Local\\Temp\\ipykernel_19836\\3212222985.py:9: FutureWarning: Not prepending group keys to the result index of transform-like apply. In the future, the group keys will be included in the index, regardless of whether the applied function returns a like-indexed object.\n",
      "To preserve the previous behavior, use\n",
      "\n",
      "\t>>> .groupby(..., group_keys=False)\n",
      "\n",
      "To adopt the future behavior and silence this warning, use \n",
      "\n",
      "\t>>> .groupby(..., group_keys=True)\n",
      "  df = grouped_df.apply(calculate_price_diff_and_ratio)\n"
     ]
    },
    {
     "name": "stdout",
     "output_type": "stream",
     "text": [
      "Number of rows sold by Amazon: 13099\n"
     ]
    }
   ],
   "source": [
    "df = pd.read_csv('cleaned_data.csv')\n",
    "def calculate_price_diff_and_ratio(group):\n",
    "    min_price = group['price'].min()\n",
    "    group['price_diff'] = group['price'] - min_price\n",
    "    group['price_ratio'] = group['price'] / min_price\n",
    "    return group\n",
    "\n",
    "grouped_df = df.groupby(['asin', 'time'])\n",
    "df = grouped_df.apply(calculate_price_diff_and_ratio)\n",
    "\n",
    "# Create a new column 'is_amazon' and set its value to True if the sellerName is 'Amazon', else set it to False\n",
    "df['is_amazon'] = df['sellerName'] == 'amazon'\n",
    "\n",
    "# Count the number of rows where 'is_amazon' is True\n",
    "amazon_count = df['is_amazon'].sum()\n",
    "\n",
    "print(f\"Number of rows sold by Amazon: {amazon_count}\")\n"
   ]
  },
  {
   "cell_type": "code",
   "execution_count": 17,
   "id": "951f4f9a",
   "metadata": {},
   "outputs": [
    {
     "name": "stdout",
     "output_type": "stream",
     "text": [
      "Top 5 most frequent seller names:\n",
      "Amazon Warehouse     37877\n",
      "amazon               13099\n",
      "Happy Home Srl        3720\n",
      "price-guard           2786\n",
      "computeruniverse      2612\n",
      "Name: sellerName, dtype: int64\n"
     ]
    }
   ],
   "source": [
    "top_5_seller_names = df['sellerName'].value_counts().head(5)\n",
    "\n",
    "print(\"Top 5 most frequent seller names:\")\n",
    "print(top_5_seller_names)"
   ]
  },
  {
   "cell_type": "code",
   "execution_count": null,
   "id": "f0858fc8",
   "metadata": {},
   "outputs": [],
   "source": []
  },
  {
   "cell_type": "code",
   "execution_count": null,
   "id": "f4c39554",
   "metadata": {},
   "outputs": [],
   "source": []
  },
  {
   "cell_type": "markdown",
   "id": "904e6542",
   "metadata": {},
   "source": [
    "## K-Fold Cross Validation"
   ]
  },
  {
   "cell_type": "code",
   "execution_count": 18,
   "id": "2c7ef976",
   "metadata": {},
   "outputs": [
    {
     "name": "stdout",
     "output_type": "stream",
     "text": [
      "Mean Accuracy: 96.30%\n",
      "Mean F1 Score: 90.66%\n",
      "Mean Precision: 91.93%\n",
      "Mean Recall: 89.92%\n"
     ]
    }
   ],
   "source": [
    "from sklearn.model_selection import cross_val_score\n",
    "from sklearn.model_selection import cross_validate\n",
    "from sklearn.ensemble import RandomForestClassifier\n",
    "\n",
    "# Define the scoring metrics to be used\n",
    "scoring = ['accuracy', 'f1_macro', 'precision_macro', 'recall_macro']\n",
    "\n",
    "# Perform 10-fold cross-validation\n",
    "scores = cross_validate(rfc, X, y, cv=10, scoring=scoring)\n",
    "\n",
    "# Print the mean F1 score, precision, and recall across all folds\n",
    "print(\"Mean Accuracy: {:.2f}%\".format(scores['test_accuracy'].mean() * 100))\n",
    "print(\"Mean F1 Score: {:.2f}%\".format(scores['test_f1_macro'].mean() * 100))\n",
    "print(\"Mean Precision: {:.2f}%\".format(scores['test_precision_macro'].mean() * 100))\n",
    "print(\"Mean Recall: {:.2f}%\".format(scores['test_recall_macro'].mean() * 100))"
   ]
  },
  {
   "attachments": {
    "ConfusionMatrix.PNG": {
     "image/png": "[encoded data removed]"
    }
   },
   "cell_type": "markdown",
   "id": "1f07f741",
   "metadata": {},
   "source": [
    "![ConfusionMatrix.PNG](attachment:ConfusionMatrix.PNG)"
   ]
  },
  {
   "cell_type": "markdown",
   "id": "eee584ff",
   "metadata": {},
   "source": [
    "ACC: proportion of correctly classified samples out of the total number of samples. It is calculated as the number of true positives plus the number of true negatives, divided by the total number of samples. \n",
    "Precision: represents the proportion of true positive predictions out of the total number of positive predictions (i.e., the sum of true positives and false positives). It is calculated as the number of true positives, divided by the sum of true positives and false positives TP/(TP+FP)"
   ]
  }
 ],
 "metadata": {
  "kernelspec": {
   "display_name": "Python 3 (ipykernel)",
   "language": "python",
   "name": "python3"
  },
  "language_info": {
   "codemirror_mode": {
    "name": "ipython",
    "version": 3
   },
   "file_extension": ".py",
   "mimetype": "text/x-python",
   "name": "python",
   "nbconvert_exporter": "python",
   "pygments_lexer": "ipython3",
   "version": "3.10.9"
  }
 },
 "nbformat": 4,
 "nbformat_minor": 5
}
