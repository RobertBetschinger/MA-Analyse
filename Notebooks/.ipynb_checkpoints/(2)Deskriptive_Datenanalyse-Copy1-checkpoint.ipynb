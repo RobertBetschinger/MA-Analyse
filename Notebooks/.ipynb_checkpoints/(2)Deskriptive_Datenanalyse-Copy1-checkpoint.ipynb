{
 "cells": [
  {
   "cell_type": "markdown",
   "id": "f58639a1",
   "metadata": {},
   "source": [
    "## Buy Box Datenanalyse"
   ]
  },
  {
   "cell_type": "code",
   "execution_count": 69,
   "id": "434e3b9d",
   "metadata": {
    "scrolled": true
   },
   "outputs": [
    {
     "name": "stdout",
     "output_type": "stream",
     "text": [
      "<class 'pandas.core.frame.DataFrame'>\n",
      "RangeIndex: 6591111 entries, 0 to 6591110\n",
      "Data columns (total 20 columns):\n",
      " #   Column            Dtype  \n",
      "---  ------            -----  \n",
      " 0   id                float64\n",
      " 1   asin              object \n",
      " 2   price             float64\n",
      " 3   currency          object \n",
      " 4   time              object \n",
      " 5   crawlTime         object \n",
      " 6   condition         object \n",
      " 7   sellerName        object \n",
      " 8   sellerId          object \n",
      " 9   sellerbewertung   float64\n",
      " 10  seller_sterne     float64\n",
      " 11  lieferdatum       object \n",
      " 12  lieferpreis       float64\n",
      " 13  lieferung_durch   object \n",
      " 14  ranking           float64\n",
      " 15  buyBoxWinner      object \n",
      " 16  numberOfSellers   float64\n",
      " 17  trigByReactive    object \n",
      " 18  Fulfillment_type  object \n",
      " 19  date_diff         float64\n",
      "dtypes: float64(8), object(12)\n",
      "memory usage: 1005.7+ MB\n"
     ]
    }
   ],
   "source": [
    "import pandas as pd\n",
    "import numpy as np\n",
    "\n",
    "df = pd.read_csv('../Grunddatein/Zwischendatein/CleanedDataComplete.csv')\n",
    "df.info()"
   ]
  },
  {
   "cell_type": "code",
   "execution_count": 70,
   "id": "b28168a2",
   "metadata": {},
   "outputs": [
    {
     "name": "stdout",
     "output_type": "stream",
     "text": [
      "Length of the DataFrame: 6591111\n",
      "The Number of Offers winning the BuyBox is 0\n"
     ]
    }
   ],
   "source": [
    "print(\"Length of the DataFrame:\", df.shape[0])\n",
    "num_true = (df['buyBoxWinner'] == True).sum()\n",
    "print(f\"The Number of Offers winning the BuyBox is {num_true}\")"
   ]
  },
  {
   "cell_type": "code",
   "execution_count": 71,
   "id": "15aa7337",
   "metadata": {},
   "outputs": [
    {
     "data": {
      "text/plain": [
       "f    5980676\n",
       "t     610435\n",
       "Name: buyBoxWinner, dtype: int64"
      ]
     },
     "execution_count": 71,
     "metadata": {},
     "output_type": "execute_result"
    }
   ],
   "source": [
    "buy_box_counts = df['buyBoxWinner'].value_counts()\n",
    "buy_box_counts"
   ]
  },
  {
   "cell_type": "markdown",
   "id": "fb2342d3",
   "metadata": {},
   "source": [
    "## Generating Lists Of Asins Where Amazon is Present as a Seller and where Not"
   ]
  },
  {
   "cell_type": "code",
   "execution_count": 72,
   "id": "cfe27b8b",
   "metadata": {},
   "outputs": [
    {
     "name": "stdout",
     "output_type": "stream",
     "text": [
      "An so vielen Asins ist Amazon als Verkäufer eingetragen:672\n",
      "An so vielen Asins ist Amazon nicht als Verkäufer eingetragen:322\n",
      "So Viele unterschiedliche Asins gibt es maximal 994\n"
     ]
    }
   ],
   "source": [
    "amazon_asin_values = df.loc[df['sellerName'].isin(['amazon']), 'asin'].unique()\n",
    "print(f\"An so vielen Asins ist Amazon als Verkäufer eingetragen:{len(amazon_asin_values)}\")\n",
    "\n",
    "# Assuming the DataFrame is named 'df'\n",
    "all_asin_values = df['asin'].unique()\n",
    "\n",
    "# Subtract the values that exist in the 'amazon_asin_values' list\n",
    "non_amazon_asin_values = set(all_asin_values) - set(amazon_asin_values)\n",
    "print(f\"An so vielen Asins ist Amazon nicht als Verkäufer eingetragen:{len(non_amazon_asin_values)}\")\n",
    "print(f\"So Viele unterschiedliche Asins gibt es maximal {len(all_asin_values)}\")"
   ]
  },
  {
   "cell_type": "code",
   "execution_count": 73,
   "id": "a7dc1bd1",
   "metadata": {
    "scrolled": true
   },
   "outputs": [
    {
     "name": "stdout",
     "output_type": "stream",
     "text": [
      "An so vielen Asins ist Amazon als Verkäufer eingetragen:743\n",
      "An so vielen Asins ist Amazon nicht als Verkäufer eingetragen:251\n",
      "So Viele unterschiedliche Asins gibt es maximal 994\n"
     ]
    }
   ],
   "source": [
    "amazon_asin_values = df.loc[df['sellerName'].isin(['amazon', 'Amazon Warehouse ', 'Amazon US', 'Amazon UK']), 'asin'].unique()\n",
    "print(f\"An so vielen Asins ist Amazon als Verkäufer eingetragen:{len(amazon_asin_values)}\")\n",
    "\n",
    "# Assuming the DataFrame is named 'df'\n",
    "all_asin_values = df['asin'].unique()\n",
    "\n",
    "# Subtract the values that exist in the 'amazon_asin_values' list\n",
    "non_amazon_asin_values = set(all_asin_values) - set(amazon_asin_values)\n",
    "print(f\"An so vielen Asins ist Amazon nicht als Verkäufer eingetragen:{len(non_amazon_asin_values)}\")\n",
    "print(f\"So Viele unterschiedliche Asins gibt es maximal {len(all_asin_values)}\")"
   ]
  },
  {
   "cell_type": "markdown",
   "id": "5d53db71",
   "metadata": {},
   "source": [
    "## Vergleich wie Oft die Seller die BuyBox gewinnen wenn Amazon nicht dabei ist."
   ]
  },
  {
   "cell_type": "code",
   "execution_count": 74,
   "id": "794691e1",
   "metadata": {},
   "outputs": [
    {
     "name": "stdout",
     "output_type": "stream",
     "text": [
      "100.0\n"
     ]
    }
   ],
   "source": [
    "## Vergleich wie Oft die Seller die BuyBox gewinnen wenn Amazon dabei ist, nicht dabei ist.\n",
    "##Wie oft Seller unter Sich gewinnen\n",
    "# Get the rows where the asin is in 'non_amazon_asin_values' and the 'buyBoxWinner' column is True\n",
    "df_non_amazon_buy_box_winners = df.loc[(df['asin'].isin(non_amazon_asin_values)) & (df['buyBoxWinner'] == )]\n",
    "amazon_seller_names = ['amazon', 'Amazon Warehouse', 'Amazon US', 'Amazon UK']\n",
    "\n",
    "# Get the total count of rows where the asin is in 'non_amazon_asin_values' and the 'buyBoxWinner' column is True\n",
    "total_count = len(df_non_amazon_buy_box_winners)\n",
    "\n",
    "# Get the count of rows where the value in the 'sellerName' column is not in the 'amazon_seller_names' list\n",
    "seller_count = len(df_non_amazon_buy_box_winners.loc[~df_non_amazon_buy_box_winners['sellerName'].isin(amazon_seller_names)])\n",
    "\n",
    "# Calculate the percentage\n",
    "if total_count > 0:\n",
    "    percentage = (seller_count / total_count) * 100\n",
    "else:\n",
    "    percentage = 0\n",
    "\n",
    "# Print the percentage\n",
    "print(percentage)\n"
   ]
  },
  {
   "cell_type": "markdown",
   "id": "379e5d53",
   "metadata": {},
   "source": [
    "## Wie oft FremdSeller die BuyBox gewinnen wenn Amazon dabei ist"
   ]
  },
  {
   "cell_type": "code",
   "execution_count": 75,
   "id": "7fd5dbdb",
   "metadata": {
    "scrolled": true
   },
   "outputs": [
    {
     "name": "stdout",
     "output_type": "stream",
     "text": [
      "The Number of BuyBoxWinning Rows for products where Amazon as a seller is present 472534\n",
      "The Number of BuyBoxWinning Rows where Amazon is not the winner is 122254\n",
      "The Number of BuyBoxWinning Rows where Amazon is the winner is 350280\n",
      "25.872000744919944\n"
     ]
    }
   ],
   "source": [
    "#Wie oft Seller mit Amazon gewinnen\n",
    "# Get the rows where the asin is in 'amazon_asin_values' and the 'buyBoxWinner' column is True\n",
    "df_amazon_buy_box_winners = df.loc[(df['asin'].isin(amazon_asin_values)) & (df['buyBoxWinner'] == true)]\n",
    "\n",
    "# Get the total count of rows where the asin is in 'amazon_asin_values' and the 'buyBoxWinner' column is True\n",
    "total_count = len(df_amazon_buy_box_winners)\n",
    "print(f\"The Number of BuyBoxWinning Rows for products where Amazon as a seller is present {total_count}\")\n",
    "\n",
    "# Get the count of rows where the value in the 'sellerName' column is not 'amazon' or 'Amazon Warehouse'\n",
    "offer_without_amazon = df_amazon_buy_box_winners.loc[(df_amazon_buy_box_winners['sellerName'] != 'amazon') & (df_amazon_buy_box_winners['sellerName'] != 'Amazon Warehouse')]\n",
    "#print(offer_without_amazon)\n",
    "seller_count = len(offer_without_amazon)\n",
    "print(f\"The Number of BuyBoxWinning Rows where Amazon is not the winner is {seller_count}\")\n",
    "\n",
    "offer_without_amazon = df_amazon_buy_box_winners.loc[(df_amazon_buy_box_winners['sellerName'] == 'amazon') | (df_amazon_buy_box_winners['sellerName'] == 'Amazon Warehouse')]\n",
    "print(f\"The Number of BuyBoxWinning Rows where Amazon is the winner is {len(offer_without_amazon)}\")\n",
    "# Calculate the percentage\n",
    "if total_count > 0:\n",
    "    percentage = (seller_count / total_count) * 100\n",
    "else:\n",
    "    percentage = 0\n",
    "\n",
    "# Print the percentage\n",
    "print(percentage)\n"
   ]
  },
  {
   "cell_type": "markdown",
   "id": "9181e3b0",
   "metadata": {},
   "source": [
    "## Wie oft ist der niedrigste Preis auch der Gewinner?"
   ]
  },
  {
   "cell_type": "code",
   "execution_count": 77,
   "id": "5f0ac1ac",
   "metadata": {
    "scrolled": true
   },
   "outputs": [
    {
     "data": {
      "text/html": [
       "<div>\n",
       "<style scoped>\n",
       "    .dataframe tbody tr th:only-of-type {\n",
       "        vertical-align: middle;\n",
       "    }\n",
       "\n",
       "    .dataframe tbody tr th {\n",
       "        vertical-align: top;\n",
       "    }\n",
       "\n",
       "    .dataframe thead th {\n",
       "        text-align: right;\n",
       "    }\n",
       "</style>\n",
       "<table border=\"1\" class=\"dataframe\">\n",
       "  <thead>\n",
       "    <tr style=\"text-align: right;\">\n",
       "      <th></th>\n",
       "      <th>id</th>\n",
       "      <th>asin</th>\n",
       "      <th>price</th>\n",
       "      <th>currency</th>\n",
       "      <th>time</th>\n",
       "      <th>crawlTime</th>\n",
       "      <th>condition</th>\n",
       "      <th>sellerName</th>\n",
       "      <th>sellerId</th>\n",
       "      <th>sellerbewertung</th>\n",
       "      <th>seller_sterne</th>\n",
       "      <th>lieferdatum</th>\n",
       "      <th>lieferpreis</th>\n",
       "      <th>lieferung_durch</th>\n",
       "      <th>ranking</th>\n",
       "      <th>buyBoxWinner</th>\n",
       "      <th>numberOfSellers</th>\n",
       "      <th>trigByReactive</th>\n",
       "      <th>Fulfillment_type</th>\n",
       "      <th>date_diff</th>\n",
       "    </tr>\n",
       "  </thead>\n",
       "  <tbody>\n",
       "    <tr>\n",
       "      <th>6591106</th>\n",
       "      <td>6944946.0</td>\n",
       "      <td>B09V7ZTP7T</td>\n",
       "      <td>168.72</td>\n",
       "      <td>€</td>\n",
       "      <td>2023-04-23 23:00:00</td>\n",
       "      <td>2023-04-23 23:55:40.056150</td>\n",
       "      <td>Gebraucht-Wieneu</td>\n",
       "      <td>Amazon Warehouse</td>\n",
       "      <td>Amazon-Warehouse</td>\n",
       "      <td>NaN</td>\n",
       "      <td>5.0</td>\n",
       "      <td>Mittwoch. 26. April</td>\n",
       "      <td>0.0</td>\n",
       "      <td>Amazon</td>\n",
       "      <td>23.0</td>\n",
       "      <td>False</td>\n",
       "      <td>30.0</td>\n",
       "      <td>f</td>\n",
       "      <td>FBA</td>\n",
       "      <td>3.0</td>\n",
       "    </tr>\n",
       "    <tr>\n",
       "      <th>6591107</th>\n",
       "      <td>6944947.0</td>\n",
       "      <td>B09V7ZTP7T</td>\n",
       "      <td>168.72</td>\n",
       "      <td>€</td>\n",
       "      <td>2023-04-23 23:00:00</td>\n",
       "      <td>2023-04-23 23:55:40.056395</td>\n",
       "      <td>Gebraucht-Wieneu</td>\n",
       "      <td>Amazon Warehouse</td>\n",
       "      <td>Amazon-Warehouse</td>\n",
       "      <td>NaN</td>\n",
       "      <td>5.0</td>\n",
       "      <td>Mittwoch. 26. April</td>\n",
       "      <td>0.0</td>\n",
       "      <td>Amazon</td>\n",
       "      <td>24.0</td>\n",
       "      <td>False</td>\n",
       "      <td>30.0</td>\n",
       "      <td>f</td>\n",
       "      <td>FBA</td>\n",
       "      <td>3.0</td>\n",
       "    </tr>\n",
       "    <tr>\n",
       "      <th>6591108</th>\n",
       "      <td>6944948.0</td>\n",
       "      <td>B09V7ZTP7T</td>\n",
       "      <td>168.72</td>\n",
       "      <td>€</td>\n",
       "      <td>2023-04-23 23:00:00</td>\n",
       "      <td>2023-04-23 23:55:40.056683</td>\n",
       "      <td>Gebraucht-Wieneu</td>\n",
       "      <td>Amazon Warehouse</td>\n",
       "      <td>Amazon-Warehouse</td>\n",
       "      <td>NaN</td>\n",
       "      <td>5.0</td>\n",
       "      <td>Mittwoch. 26. April</td>\n",
       "      <td>0.0</td>\n",
       "      <td>Amazon</td>\n",
       "      <td>25.0</td>\n",
       "      <td>False</td>\n",
       "      <td>30.0</td>\n",
       "      <td>f</td>\n",
       "      <td>FBA</td>\n",
       "      <td>3.0</td>\n",
       "    </tr>\n",
       "    <tr>\n",
       "      <th>6591109</th>\n",
       "      <td>6944949.0</td>\n",
       "      <td>B09V7ZTP7T</td>\n",
       "      <td>168.72</td>\n",
       "      <td>€</td>\n",
       "      <td>2023-04-23 23:00:00</td>\n",
       "      <td>2023-04-23 23:55:40.056951</td>\n",
       "      <td>Gebraucht-Wieneu</td>\n",
       "      <td>Amazon Warehouse</td>\n",
       "      <td>Amazon-Warehouse</td>\n",
       "      <td>NaN</td>\n",
       "      <td>5.0</td>\n",
       "      <td>Mittwoch. 26. April</td>\n",
       "      <td>0.0</td>\n",
       "      <td>Amazon</td>\n",
       "      <td>26.0</td>\n",
       "      <td>False</td>\n",
       "      <td>30.0</td>\n",
       "      <td>f</td>\n",
       "      <td>FBA</td>\n",
       "      <td>3.0</td>\n",
       "    </tr>\n",
       "    <tr>\n",
       "      <th>6591110</th>\n",
       "      <td>6944950.0</td>\n",
       "      <td>B09V7ZTP7T</td>\n",
       "      <td>168.72</td>\n",
       "      <td>€</td>\n",
       "      <td>2023-04-23 23:00:00</td>\n",
       "      <td>2023-04-23 23:55:40.057218</td>\n",
       "      <td>Gebraucht-Wieneu</td>\n",
       "      <td>Amazon Warehouse</td>\n",
       "      <td>Amazon-Warehouse</td>\n",
       "      <td>NaN</td>\n",
       "      <td>5.0</td>\n",
       "      <td>Mittwoch. 26. April</td>\n",
       "      <td>0.0</td>\n",
       "      <td>Amazon</td>\n",
       "      <td>27.0</td>\n",
       "      <td>False</td>\n",
       "      <td>30.0</td>\n",
       "      <td>f</td>\n",
       "      <td>FBA</td>\n",
       "      <td>3.0</td>\n",
       "    </tr>\n",
       "  </tbody>\n",
       "</table>\n",
       "</div>"
      ],
      "text/plain": [
       "                id        asin   price currency                 time  \\\n",
       "6591106  6944946.0  B09V7ZTP7T  168.72        €  2023-04-23 23:00:00   \n",
       "6591107  6944947.0  B09V7ZTP7T  168.72        €  2023-04-23 23:00:00   \n",
       "6591108  6944948.0  B09V7ZTP7T  168.72        €  2023-04-23 23:00:00   \n",
       "6591109  6944949.0  B09V7ZTP7T  168.72        €  2023-04-23 23:00:00   \n",
       "6591110  6944950.0  B09V7ZTP7T  168.72        €  2023-04-23 23:00:00   \n",
       "\n",
       "                          crawlTime         condition         sellerName  \\\n",
       "6591106  2023-04-23 23:55:40.056150  Gebraucht-Wieneu  Amazon Warehouse    \n",
       "6591107  2023-04-23 23:55:40.056395  Gebraucht-Wieneu  Amazon Warehouse    \n",
       "6591108  2023-04-23 23:55:40.056683  Gebraucht-Wieneu  Amazon Warehouse    \n",
       "6591109  2023-04-23 23:55:40.056951  Gebraucht-Wieneu  Amazon Warehouse    \n",
       "6591110  2023-04-23 23:55:40.057218  Gebraucht-Wieneu  Amazon Warehouse    \n",
       "\n",
       "                 sellerId  sellerbewertung  seller_sterne  \\\n",
       "6591106  Amazon-Warehouse              NaN            5.0   \n",
       "6591107  Amazon-Warehouse              NaN            5.0   \n",
       "6591108  Amazon-Warehouse              NaN            5.0   \n",
       "6591109  Amazon-Warehouse              NaN            5.0   \n",
       "6591110  Amazon-Warehouse              NaN            5.0   \n",
       "\n",
       "                 lieferdatum  lieferpreis lieferung_durch  ranking  \\\n",
       "6591106  Mittwoch. 26. April          0.0          Amazon     23.0   \n",
       "6591107  Mittwoch. 26. April          0.0          Amazon     24.0   \n",
       "6591108  Mittwoch. 26. April          0.0          Amazon     25.0   \n",
       "6591109  Mittwoch. 26. April          0.0          Amazon     26.0   \n",
       "6591110  Mittwoch. 26. April          0.0          Amazon     27.0   \n",
       "\n",
       "         buyBoxWinner  numberOfSellers trigByReactive Fulfillment_type  \\\n",
       "6591106         False             30.0              f              FBA   \n",
       "6591107         False             30.0              f              FBA   \n",
       "6591108         False             30.0              f              FBA   \n",
       "6591109         False             30.0              f              FBA   \n",
       "6591110         False             30.0              f              FBA   \n",
       "\n",
       "         date_diff  \n",
       "6591106        3.0  \n",
       "6591107        3.0  \n",
       "6591108        3.0  \n",
       "6591109        3.0  \n",
       "6591110        3.0  "
      ]
     },
     "execution_count": 77,
     "metadata": {},
     "output_type": "execute_result"
    }
   ],
   "source": [
    "df.tail()"
   ]
  },
  {
   "cell_type": "code",
   "execution_count": 78,
   "id": "269c4ac2",
   "metadata": {},
   "outputs": [
    {
     "name": "stdout",
     "output_type": "stream",
     "text": [
      "Percentage of times the cheapest price wins the Buy Box across all groups: 67.51%\n"
     ]
    }
   ],
   "source": [
    "df['time'] = pd.to_datetime(df['time'], format=\"%Y-%m-%d %H:%M:%S\")\n",
    "\n",
    "# Filter rows with 'New' or 'Neu' condition and ranking less than or equal to 4\n",
    "selected_rows = df[df['condition'].isin(['Neu', 'New']) & (df['ranking'] <= 4)]\n",
    "\n",
    "# Group the DataFrame by 'asin' and time slot (hour)\n",
    "grouped_df = selected_rows.groupby(['asin', pd.Grouper(key='time', freq='H')])\n",
    "\n",
    "# Define a custom function to check if the cheapest row wins the Buy Box\n",
    "def cheapest_wins_buy_box(group):\n",
    "    cheapest_row = group.loc[group['price'] == group['price'].min()]\n",
    "    return cheapest_row['buyBoxWinner'].any()\n",
    "\n",
    "# Apply the custom function to each group and store the results in a list\n",
    "cheapest_wins_list = grouped_df.apply(cheapest_wins_buy_box)\n",
    "\n",
    "# Calculate the overall percentage\n",
    "total_groups = len(cheapest_wins_list)\n",
    "cheapest_buy_box_winners = sum(cheapest_wins_list)\n",
    "percentage = (cheapest_buy_box_winners / total_groups) * 100\n",
    "\n",
    "# Print the overall percentage with a descriptive message\n",
    "print(f\"Percentage of times the cheapest price wins the Buy Box across all groups: {percentage:.2f}%\")\n"
   ]
  },
  {
   "cell_type": "markdown",
   "id": "35233754",
   "metadata": {},
   "source": [
    "## Wie oft ist der niedrigste Preis nicht der Gewinner?"
   ]
  },
  {
   "cell_type": "code",
   "execution_count": 80,
   "id": "4667f147",
   "metadata": {},
   "outputs": [
    {
     "name": "stdout",
     "output_type": "stream",
     "text": [
      "Percentage of times the cheapest price wins not the Buy Box: 32.49%\n"
     ]
    }
   ],
   "source": [
    "val = 100 - percentage\n",
    "print(f\"Percentage of times the cheapest price wins not the Buy Box: {val:.2f}%\")"
   ]
  },
  {
   "cell_type": "markdown",
   "id": "0f99356d",
   "metadata": {},
   "source": [
    "## Exclude Not New Offers and Reactive Offers"
   ]
  },
  {
   "cell_type": "code",
   "execution_count": 81,
   "id": "9bd6dc41",
   "metadata": {},
   "outputs": [],
   "source": [
    "## Exclude all Rows where condition isnt New and which where a reactive Crawl\n",
    "df = df[df['trigByReactive'] != True]\n",
    "df = df[df['condition'].isin(['Neu', 'New'])]"
   ]
  },
  {
   "cell_type": "markdown",
   "id": "346092f4",
   "metadata": {},
   "source": [
    "# Wie hoch ist der Unterschied zwischen Maximalen Offerpreis und Minimalen Offerpreis. Absolut"
   ]
  },
  {
   "cell_type": "code",
   "execution_count": null,
   "id": "45f70db5",
   "metadata": {},
   "outputs": [],
   "source": [
    "### Wie hoch ist der Unterschied zwischen Maximalen Offerpreis und BuyBoxPreis. Absolut, Prozentual, Median, Durchschnitt\n",
    "# Group the DataFrame by 'asin' and time slot (hour)\n",
    "# Only use New Offers, because used objects are not obligated to win the buyBox\n",
    "selected_rows = df[df['condition'].isin(['Neu', 'New'])]\n",
    "grouped_df = selected_rows.groupby(['asin', pd.Grouper(key='time', freq='H')])\n",
    "\n",
    "# Define a custom function to calculate the difference between the highest and cheapest price\n",
    "def difference_between_highest_and_cheapest(group):\n",
    "    # Get the row with the cheapest price\n",
    "    cheapest_row = group.loc[group['price'] == group['price'].min()]\n",
    "    # Get the row with the highest price\n",
    "    highest_row = group.loc[group['price'] == group['price'].max()]\n",
    "    # Calculate the difference between the highest price and the cheapest price\n",
    "    difference = highest_row.iloc[0]['price'] - cheapest_row.iloc[0]['price']\n",
    "    # Return the difference as a single value\n",
    "    #print(\"--------------------------------------------\")\n",
    "    #print(cheapest_row[['asin', 'price', 'time','buyBoxWinner']])\n",
    "    #print(highest_row[['asin', 'price', 'time','buyBoxWinner']])\n",
    "    #print(difference)\n",
    "    #print(\"--------------------------------------------\")\n",
    "    return difference\n",
    "\n",
    "# Apply the custom function to each group\n",
    "results = grouped_df.apply(difference_between_highest_and_cheapest)\n",
    "\n",
    "# Find the row/asin with the highest difference\n",
    "highest_difference = results.max()\n",
    "highest_difference_row = results.idxmax()\n",
    "\n",
    "# Print the results\n",
    "#print(\"Highest Difference:\", highest_difference)\n",
    "#print(\"Highest Difference Row/Asin:\", highest_difference_row)\n"
   ]
  },
  {
   "cell_type": "code",
   "execution_count": null,
   "id": "bde4e139",
   "metadata": {
    "scrolled": true
   },
   "outputs": [],
   "source": [
    "# Print the results\n",
    "print(\"Highest Difference:\", highest_difference)\n",
    "print(\"Highest Difference Row/Asin:\", highest_difference_row)"
   ]
  },
  {
   "cell_type": "markdown",
   "id": "72eeee09",
   "metadata": {},
   "source": [
    "# Prozentualer Unterschied zwischen minimalen und maximalen Preis über alle Produkte hinweg"
   ]
  },
  {
   "cell_type": "code",
   "execution_count": null,
   "id": "7bba6eb8",
   "metadata": {},
   "outputs": [],
   "source": [
    "# Convert the 'time' column to a DatetimeIndex\n",
    "df['time'] = pd.to_datetime(df['time'], format='%Y-%m-%d-%H')\n",
    "\n",
    "# Group the DataFrame by 'asin' and time slot (hour)\n",
    "selected_rows = df[df['condition'].isin(['Neu', 'New'])]\n",
    "grouped_df = selected_rows.groupby(['asin', pd.Grouper(key='time', freq='H')])\n",
    "\n",
    "# Define a custom function to calculate the average percentage difference between the Price of the buyBoxWinning Row and the most expensive row\n",
    "def avg_price_diff(group):\n",
    "    # Get the row with the highest price\n",
    "    highest_price_row = group.loc[group['price'] == group['price'].max()]\n",
    "    highest_price = highest_price_row.iloc[0]['price']\n",
    "    \n",
    "    # Get the row with the buyBox winning offer\n",
    "    buyBox_winner_row = group.loc[group['buyBoxWinner'] == True]\n",
    "    \n",
    "    # Check if there is a buyBox winner for the group\n",
    "    if buyBox_winner_row.empty:\n",
    "        return None\n",
    "    \n",
    "    # Get the price of the buyBox winning offer\n",
    "    buyBox_winner_price = buyBox_winner_row.iloc[0]['price']\n",
    "    \n",
    "    # Calculate the percentage difference between the highest price and the buyBox winning price\n",
    "    diff_percent = ((highest_price - buyBox_winner_price) / highest_price) * 100\n",
    "    \n",
    "    # Return the percentage difference\n",
    "    return diff_percent\n",
    "\n",
    "# Apply the custom function to each group\n",
    "price_diffs = grouped_df.apply(avg_price_diff)\n",
    "\n",
    "# Drop the groups where there is no buyBox winner\n",
    "price_diffs = price_diffs.dropna()\n",
    "\n",
    "# Calculate the overall average percentage difference\n",
    "overall_avg_diff = price_diffs.mean()\n",
    "\n",
    "# Print the overall average percentage difference\n",
    "print(f\"Overall average percentage difference between the highest price and the Buy Box-winning price: {overall_avg_diff:.2f}%\")"
   ]
  },
  {
   "cell_type": "markdown",
   "id": "0f7459b0",
   "metadata": {},
   "source": [
    "# Prozentualer Unterschied zwischen BuyBoxPreis und maximalen Preis über alle Produkte hinweg"
   ]
  },
  {
   "cell_type": "code",
   "execution_count": null,
   "id": "14609f36",
   "metadata": {},
   "outputs": [],
   "source": [
    "# Group the DataFrame by 'asin' and time slot (hour)\n",
    "selected_rows = df[df['condition'].isin(['Neu', 'New'])]\n",
    "grouped_df = selected_rows.groupby(['asin', pd.Grouper(key='time', freq='H')])\n",
    "\n",
    "# Define a custom function to calculate the average percentage difference between the Price of the buyBoxWinning Row and the most expensive row\n",
    "def avg_price_diff(group):\n",
    "    # Get the row with the highest price\n",
    "    highest_price_row = group.loc[group['price'] == group['price'].max()]\n",
    "    highest_price = highest_price_row.iloc[0]['price']\n",
    "    \n",
    "    # Get the row with the cheapest price\n",
    "    cheapest_row = group.loc[group['price'] == group['price'].min()]\n",
    "    cheapest_price = cheapest_row.iloc[0]['price']\n",
    "    \n",
    "    # Check if the buyBoxWinner is True for the cheapest price row\n",
    "    cheapest_bb_winner = cheapest_row.iloc[0]['buyBoxWinner']\n",
    "    \n",
    "    # Calculate the percentage difference\n",
    "    if cheapest_bb_winner:\n",
    "        diff_percent = ((highest_price - cheapest_price) / highest_price) * 100\n",
    "        return diff_percent\n",
    "    else:\n",
    "        return None\n",
    "\n",
    "# Apply the custom function to each group\n",
    "price_diffs = grouped_df.apply(avg_price_diff)\n",
    "\n",
    "# Calculate the overall average percentage difference\n",
    "overall_avg_diff = price_diffs.mean()\n",
    "\n",
    "# Print the overall average percentage difference\n",
    "print(f\"Overall average percentage difference between the price of the Buy Box-winning row and the most expensive row: {overall_avg_diff:.2f}%\")"
   ]
  },
  {
   "cell_type": "markdown",
   "id": "1104eb94",
   "metadata": {},
   "source": [
    "# Wie hoch ist der Unterschied zwischen Maximalen Offerpreis und BuyBoxWinning Preis. Absolut und Prozentual"
   ]
  },
  {
   "cell_type": "code",
   "execution_count": null,
   "id": "8957f072",
   "metadata": {},
   "outputs": [],
   "source": [
    "# Print the results\n",
    "print(\"Highest Difference:\", highest_difference)\n",
    "print(\"Highest Difference Row/Asin:\", highest_difference_row)"
   ]
  },
  {
   "cell_type": "markdown",
   "id": "3354055d",
   "metadata": {},
   "source": [
    "# Wie lange hält ein Verkäufer die BuyBox im Schnitt"
   ]
  },
  {
   "cell_type": "code",
   "execution_count": null,
   "id": "f5f89f59",
   "metadata": {
    "scrolled": true
   },
   "outputs": [],
   "source": [
    "# Group the dataframe by 'asin' and sort the rows within each group by the 'time' column\n",
    "df_grouped = df.groupby('asin', group_keys=False).apply(lambda x: x.sort_values('time'))\n",
    "\n",
    "# If you want to reset the index of the resulting dataframe, you can use the reset_index method\n",
    "df_grouped = df_grouped.reset_index(drop=True)\n",
    "\n",
    "# Print the sorted dataframe\n",
    "df_grouped.head()\n"
   ]
  },
  {
   "cell_type": "code",
   "execution_count": null,
   "id": "e4c9e146",
   "metadata": {
    "scrolled": true
   },
   "outputs": [],
   "source": [
    "# Filter the rows where 'buyBoxWinner' is True\n",
    "winning_rows = df[df['buyBoxWinner']]\n",
    "\n",
    "# Sort the winning rows by 'asin' and 'time'\n",
    "winning_rows = winning_rows.sort_values(['asin', 'time'])\n",
    "\n",
    "# Calculate the time difference between consecutive winning rows for each ASIN\n",
    "winning_rows['time_diff'] = winning_rows.groupby('asin')['time'].diff()\n",
    "\n",
    "# Only include time differences greater than 0\n",
    "winning_rows = winning_rows[winning_rows['time_diff'].dt.total_seconds() > 0]\n",
    "\n",
    "# Aggregate the time differences by ASIN and by 'sellerName'\n",
    "time_agg = winning_rows.groupby(['asin', 'sellerName'])['time_diff'].sum().reset_index()\n",
    "\n",
    "# Calculate the average winning time across all sellers who win the BuyBox\n",
    "average_winning_time = time_agg['time_diff'].mean()\n",
    "\n",
    "# Calculate the minimum, and maximum winning time across all groups\n",
    "min_winning_time = time_agg['time_diff'].min()\n",
    "max_winning_time = time_agg['time_diff'].max()\n",
    "\n",
    "# Find the seller with the longest BuyBox holding time\n",
    "longest_buybox_holder = time_agg.loc[time_agg['time_diff'].idxmax(), 'sellerName']\n",
    "\n",
    "# Filter sellers with winning time longer than 9 hours\n",
    "sellers_longer_than_9_hours = time_agg[time_agg['time_diff'] > pd.Timedelta(hours=4)]\n",
    "\n",
    "print(\"Average winning time:\", average_winning_time)\n",
    "print(\"Minimum winning time:\", min_winning_time)\n",
    "print(\"Maximum winning time:\", max_winning_time)\n",
    "print(\"Seller holding the BuyBox the longest:\", longest_buybox_holder)\n",
    "\n",
    "print(\"\\nSellers with winning time longer than 9 hours:\")\n",
    "for index, row in sellers_longer_than_9_hours.iterrows():\n",
    "    print(f\"ASIN: {row['asin']}, Seller: {row['sellerName']}, Winning Time: {row['time_diff']}\")\n"
   ]
  },
  {
   "cell_type": "markdown",
   "id": "216d0fad",
   "metadata": {},
   "source": [
    "## Price changes while winning the BuyBox?"
   ]
  },
  {
   "cell_type": "code",
   "execution_count": null,
   "id": "6f69b77b",
   "metadata": {
    "scrolled": true
   },
   "outputs": [],
   "source": [
    "# 1. Filter out the rows where buyBoxWinner is True\n",
    "winning_rows = df[df['buyBoxWinner']]\n",
    "\n",
    "# 2. Group the data by asin and sellerName\n",
    "grouped = winning_rows.groupby(['asin', 'sellerName'])\n",
    "\n",
    "# 3. Calculate the number of price changes for each group\n",
    "price_changes = grouped['price'].apply(lambda x: x.ne(x.shift()).sum()).reset_index(name='price_change_count')\n",
    "\n",
    "# Merge price_changes back to the winning_rows dataframe\n",
    "winning_rows = winning_rows.merge(price_changes, on=['asin', 'sellerName'])\n",
    "\n",
    "# 4. Calculate the average and maximum number of price changes\n",
    "avg_price_changes = winning_rows['price_change_count'].mean()\n",
    "max_price_changes = winning_rows['price_change_count'].max()\n",
    "\n",
    "print(f\"Average price changes: {avg_price_changes}\")\n",
    "print(f\"Maximum price changes: {max_price_changes}\")\n",
    "\n",
    "# 5. Calculate the average percent difference in price changes\n",
    "winning_rows['price_pct_change'] = winning_rows.groupby(['asin', 'sellerName'])['price'].pct_change()\n",
    "avg_pct_diff = winning_rows['price_pct_change'].mean() * 100\n",
    "\n",
    "print(f\"Average percent difference in price changes: {avg_pct_diff}%\")\n",
    "\n",
    "# 6. Find the seller with the most price changes and print their rows\n",
    "max_changes_seller = winning_rows.loc[winning_rows['price_change_count'] == max_price_changes]\n",
    "max_seller_name = max_changes_seller['sellerName'].iloc[0]\n",
    "max_seller_asin = max_changes_seller['asin'].iloc[0]\n",
    "\n",
    "print(f\"Seller with most price changes: {max_seller_name}, ASIN: {max_seller_asin}\")\n",
    "\n",
    "max_seller_rows = winning_rows[(winning_rows['sellerName'] == max_seller_name) & (winning_rows['asin'] == max_seller_asin)]\n",
    "print(\"Rows where the seller with the most price changes updates their price:\")\n",
    "max_seller_rows\n",
    "\n",
    "\n"
   ]
  },
  {
   "cell_type": "code",
   "execution_count": null,
   "id": "127e7eee",
   "metadata": {},
   "outputs": [],
   "source": [
    "max_seller_rows.to_csv('../Grunddatein/Zwischendatein/SellerWithMostPriceChanges.csv', index=False)"
   ]
  }
 ],
 "metadata": {
  "kernelspec": {
   "display_name": "Python 3 (ipykernel)",
   "language": "python",
   "name": "python3"
  },
  "language_info": {
   "codemirror_mode": {
    "name": "ipython",
    "version": 3
   },
   "file_extension": ".py",
   "mimetype": "text/x-python",
   "name": "python",
   "nbconvert_exporter": "python",
   "pygments_lexer": "ipython3",
   "version": "3.10.9"
  }
 },
 "nbformat": 4,
 "nbformat_minor": 5
}
