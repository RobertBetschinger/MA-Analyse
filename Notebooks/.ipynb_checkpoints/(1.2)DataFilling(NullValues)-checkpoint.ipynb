{
 "cells": [
  {
   "cell_type": "markdown",
   "id": "bb888bee",
   "metadata": {},
   "source": [
    "## Replace Null Values by Mean Values"
   ]
  },
  {
   "cell_type": "code",
   "execution_count": 1,
   "id": "044cbdaf",
   "metadata": {},
   "outputs": [],
   "source": [
    "import pandas as pd\n",
    "import numpy as np\n",
    "df = pd.read_csv('../Grunddatein/Zwischendatein/CleanedDataComplete.csv')"
   ]
  },
  {
   "cell_type": "markdown",
   "id": "2de2be64",
   "metadata": {},
   "source": [
    "### Seller Sterne"
   ]
  },
  {
   "cell_type": "code",
   "execution_count": 2,
   "id": "01141af2",
   "metadata": {},
   "outputs": [
    {
     "name": "stdout",
     "output_type": "stream",
     "text": [
      "4.3098022738892325\n",
      "4.5\n",
      "Distinct values for seller_sterne after replacement: ['1.0', '1.5', '2.0', '2.5', '3.0', '3.5', '4.0', '4.5', '5.0']\n"
     ]
    }
   ],
   "source": [
    "    # Select the rows where 'sellerName' does not contain 'amazon'\n",
    "    no_amazon_df = df[~df['sellerName'].str.contains('amazon', case=False)]\n",
    "\n",
    "    # Calculate the rounded value of 'seller_sterne'\n",
    "    average_sterne = no_amazon_df['seller_sterne'].mean()\n",
    "    print(average_sterne)\n",
    "    # Round to the nearest 0.5 or full value\n",
    "    rounded_sterne = round(average_sterne * 2) / 2\n",
    "    print(rounded_sterne)\n",
    "\n",
    "    # Replace the null values in 'seller_sterne' with the rounded value for non-amazon rows, and with 5.0 for amazon rows\n",
    "    df.loc[df['seller_sterne'].isnull() & ~df['sellerName'].str.contains('amazon', case=False), 'seller_sterne'] = rounded_sterne\n",
    "    df.loc[df['seller_sterne'].isnull() & df['sellerName'].str.contains('amazon', case=False), 'seller_sterne'] = 5.0\n",
    "\n",
    "    # Check the distinct values for 'seller_sterne' after the replacement\n",
    "    new_distinct_seller_sterne = df['seller_sterne'].unique()\n",
    "    new_distinct_seller_sterne = np.sort(new_distinct_seller_sterne)\n",
    "    print(\"Distinct values for seller_sterne after replacement:\", [f\"{value:.1f}\" for value in new_distinct_seller_sterne])"
   ]
  },
  {
   "cell_type": "markdown",
   "id": "5c6f8a26",
   "metadata": {},
   "source": [
    "### Seller Bewertung\n",
    "## Amazon Braucht noch einen Replace Value für Seller Bewertung"
   ]
  },
  {
   "cell_type": "code",
   "execution_count": 3,
   "id": "bfdf6f1c",
   "metadata": {},
   "outputs": [],
   "source": [
    "mean_score = round(df['sellerbewertung'].mean(), 2)\n",
    "sd_score = round(df['sellerbewertung'].std(), 2)\n",
    "df.loc[df['sellerbewertung'].isnull() & ~df['sellerName'].str.contains('amazon', case=False), 'sellerbewertung'] = mean_score\n",
    "\n",
    "# Replace all NaN values in the \"sellerbewertung\" column with the mean value\n",
    "df['sellerbewertung'] = df['sellerbewertung'].fillna(mean_score)\n",
    "df['sellerbewertung'] = df['sellerbewertung'].round().astype(int)"
   ]
  },
  {
   "cell_type": "code",
   "execution_count": 4,
   "id": "49b4209f",
   "metadata": {},
   "outputs": [
    {
     "data": {
      "text/html": [
       "<div>\n",
       "<style scoped>\n",
       "    .dataframe tbody tr th:only-of-type {\n",
       "        vertical-align: middle;\n",
       "    }\n",
       "\n",
       "    .dataframe tbody tr th {\n",
       "        vertical-align: top;\n",
       "    }\n",
       "\n",
       "    .dataframe thead th {\n",
       "        text-align: right;\n",
       "    }\n",
       "</style>\n",
       "<table border=\"1\" class=\"dataframe\">\n",
       "  <thead>\n",
       "    <tr style=\"text-align: right;\">\n",
       "      <th></th>\n",
       "      <th>id</th>\n",
       "      <th>asin</th>\n",
       "      <th>price</th>\n",
       "      <th>currency</th>\n",
       "      <th>time</th>\n",
       "      <th>crawlTime</th>\n",
       "      <th>condition</th>\n",
       "      <th>sellerName</th>\n",
       "      <th>sellerId</th>\n",
       "      <th>sellerbewertung</th>\n",
       "      <th>seller_sterne</th>\n",
       "      <th>lieferdatum</th>\n",
       "      <th>lieferpreis</th>\n",
       "      <th>lieferung_durch</th>\n",
       "      <th>ranking</th>\n",
       "      <th>buyBoxWinner</th>\n",
       "      <th>numberOfSellers</th>\n",
       "      <th>trigByReactive</th>\n",
       "      <th>Fulfillment_type</th>\n",
       "      <th>date_diff</th>\n",
       "    </tr>\n",
       "  </thead>\n",
       "  <tbody>\n",
       "    <tr>\n",
       "      <th>0</th>\n",
       "      <td>341683.0</td>\n",
       "      <td>B09SBXZV9V</td>\n",
       "      <td>141.55</td>\n",
       "      <td>€</td>\n",
       "      <td>2023-03-22 16:00:00</td>\n",
       "      <td>2023-03-22 16:54:19.521639</td>\n",
       "      <td>Neu</td>\n",
       "      <td>belli-shop</td>\n",
       "      <td>AOZ9PW800A1WK</td>\n",
       "      <td>4211.00</td>\n",
       "      <td>5.0</td>\n",
       "      <td>Samstag. 25. März</td>\n",
       "      <td>0.00</td>\n",
       "      <td>Amazon</td>\n",
       "      <td>0.0</td>\n",
       "      <td>True</td>\n",
       "      <td>13.0</td>\n",
       "      <td>f</td>\n",
       "      <td>FBA</td>\n",
       "      <td>3.00</td>\n",
       "    </tr>\n",
       "    <tr>\n",
       "      <th>1</th>\n",
       "      <td>341684.0</td>\n",
       "      <td>B0000C72GD</td>\n",
       "      <td>79.90</td>\n",
       "      <td>€</td>\n",
       "      <td>2023-03-22 16:00:00</td>\n",
       "      <td>2023-03-22 16:54:19.522425</td>\n",
       "      <td>Neu</td>\n",
       "      <td>STILE IMMAGINE DIGITAL HD</td>\n",
       "      <td>A16E8RFMSALSSB</td>\n",
       "      <td>28.13</td>\n",
       "      <td>5.0</td>\n",
       "      <td>29. - 31. März</td>\n",
       "      <td>9.90</td>\n",
       "      <td>STILE IMMAGINE DIGITAL HD</td>\n",
       "      <td>0.0</td>\n",
       "      <td>True</td>\n",
       "      <td>2.0</td>\n",
       "      <td>f</td>\n",
       "      <td>FBM</td>\n",
       "      <td>8.00</td>\n",
       "    </tr>\n",
       "    <tr>\n",
       "      <th>2</th>\n",
       "      <td>341685.0</td>\n",
       "      <td>B0001GRVJQ</td>\n",
       "      <td>55.31</td>\n",
       "      <td>€</td>\n",
       "      <td>2023-03-22 16:00:00</td>\n",
       "      <td>2023-03-22 16:54:19.523125</td>\n",
       "      <td>Neu</td>\n",
       "      <td>amazon</td>\n",
       "      <td>amazon</td>\n",
       "      <td>NaN</td>\n",
       "      <td>5.0</td>\n",
       "      <td>NaN</td>\n",
       "      <td>0.09</td>\n",
       "      <td>Amazon</td>\n",
       "      <td>0.0</td>\n",
       "      <td>True</td>\n",
       "      <td>8.0</td>\n",
       "      <td>f</td>\n",
       "      <td>FBA</td>\n",
       "      <td>4.11</td>\n",
       "    </tr>\n",
       "    <tr>\n",
       "      <th>3</th>\n",
       "      <td>341686.0</td>\n",
       "      <td>B0002CZU1U</td>\n",
       "      <td>273.28</td>\n",
       "      <td>€</td>\n",
       "      <td>2023-03-22 16:00:00</td>\n",
       "      <td>2023-03-22 16:54:19.523736</td>\n",
       "      <td>Neu</td>\n",
       "      <td>Musikhaus Kirstein GmbH</td>\n",
       "      <td>A2LUZCVBLA57KT</td>\n",
       "      <td>36542.70</td>\n",
       "      <td>4.5</td>\n",
       "      <td>27. - 28. März</td>\n",
       "      <td>2.99</td>\n",
       "      <td>Musikhaus Kirstein GmbH</td>\n",
       "      <td>0.0</td>\n",
       "      <td>True</td>\n",
       "      <td>3.0</td>\n",
       "      <td>f</td>\n",
       "      <td>FBM</td>\n",
       "      <td>5.00</td>\n",
       "    </tr>\n",
       "    <tr>\n",
       "      <th>4</th>\n",
       "      <td>341687.0</td>\n",
       "      <td>B0002HOS7M</td>\n",
       "      <td>75.62</td>\n",
       "      <td>€</td>\n",
       "      <td>2023-03-22 16:00:00</td>\n",
       "      <td>2023-03-22 16:54:19.524467</td>\n",
       "      <td>Neu</td>\n",
       "      <td>amazon</td>\n",
       "      <td>amazon</td>\n",
       "      <td>NaN</td>\n",
       "      <td>5.0</td>\n",
       "      <td>Samstag. 25. März</td>\n",
       "      <td>0.00</td>\n",
       "      <td>Amazon</td>\n",
       "      <td>0.0</td>\n",
       "      <td>True</td>\n",
       "      <td>23.0</td>\n",
       "      <td>f</td>\n",
       "      <td>FBA</td>\n",
       "      <td>3.00</td>\n",
       "    </tr>\n",
       "  </tbody>\n",
       "</table>\n",
       "</div>"
      ],
      "text/plain": [
       "         id        asin   price currency                 time  \\\n",
       "0  341683.0  B09SBXZV9V  141.55        €  2023-03-22 16:00:00   \n",
       "1  341684.0  B0000C72GD   79.90        €  2023-03-22 16:00:00   \n",
       "2  341685.0  B0001GRVJQ   55.31        €  2023-03-22 16:00:00   \n",
       "3  341686.0  B0002CZU1U  273.28        €  2023-03-22 16:00:00   \n",
       "4  341687.0  B0002HOS7M   75.62        €  2023-03-22 16:00:00   \n",
       "\n",
       "                    crawlTime condition                 sellerName  \\\n",
       "0  2023-03-22 16:54:19.521639       Neu                 belli-shop   \n",
       "1  2023-03-22 16:54:19.522425       Neu  STILE IMMAGINE DIGITAL HD   \n",
       "2  2023-03-22 16:54:19.523125       Neu                     amazon   \n",
       "3  2023-03-22 16:54:19.523736       Neu    Musikhaus Kirstein GmbH   \n",
       "4  2023-03-22 16:54:19.524467       Neu                     amazon   \n",
       "\n",
       "         sellerId  sellerbewertung  seller_sterne        lieferdatum  \\\n",
       "0   AOZ9PW800A1WK          4211.00            5.0  Samstag. 25. März   \n",
       "1  A16E8RFMSALSSB            28.13            5.0     29. - 31. März   \n",
       "2          amazon              NaN            5.0                NaN   \n",
       "3  A2LUZCVBLA57KT         36542.70            4.5     27. - 28. März   \n",
       "4          amazon              NaN            5.0  Samstag. 25. März   \n",
       "\n",
       "   lieferpreis            lieferung_durch  ranking  buyBoxWinner  \\\n",
       "0         0.00                     Amazon      0.0          True   \n",
       "1         9.90  STILE IMMAGINE DIGITAL HD      0.0          True   \n",
       "2         0.09                     Amazon      0.0          True   \n",
       "3         2.99    Musikhaus Kirstein GmbH      0.0          True   \n",
       "4         0.00                     Amazon      0.0          True   \n",
       "\n",
       "   numberOfSellers trigByReactive Fulfillment_type  date_diff  \n",
       "0             13.0              f              FBA       3.00  \n",
       "1              2.0              f              FBM       8.00  \n",
       "2              8.0              f              FBA       4.11  \n",
       "3              3.0              f              FBM       5.00  \n",
       "4             23.0              f              FBA       3.00  "
      ]
     },
     "execution_count": 4,
     "metadata": {},
     "output_type": "execute_result"
    }
   ],
   "source": [
    "df.head()"
   ]
  },
  {
   "cell_type": "markdown",
   "id": "33b55d38",
   "metadata": {},
   "source": [
    "### FBA Delivery Price and Delivery Duration"
   ]
  },
  {
   "cell_type": "code",
   "execution_count": 5,
   "id": "e3030380",
   "metadata": {},
   "outputs": [
    {
     "name": "stdout",
     "output_type": "stream",
     "text": [
      "Mean Delivery Price: 0.08\n",
      "Standard Deviation: 1.04\n"
     ]
    }
   ],
   "source": [
    "sub_df = df[df['Fulfillment_type'] == 'FBA']\n",
    "mean_price = round(sub_df['lieferpreis'].mean(), 2)\n",
    "standard_deviation = round(sub_df['lieferpreis'].std(), 2)\n",
    "mean_delivery_time = round(sub_df['date_diff'].mean(), 2)\n",
    "delivery_time_sd = round(sub_df['date_diff'].std(), 2)\n",
    "\n",
    "print(f\"Mean Delivery Price: {mean_price}\")\n",
    "print(f\"Standard Deviation: {standard_deviation}\")\n",
    "\n",
    "df.loc[(df['date_diff'].isnull()) & (df['Fulfillment_type'] == 'FBA'), 'lieferpreis'] = mean_price\n",
    "df.loc[(df['date_diff'].isnull()) & (df['Fulfillment_type'] == 'FBA'), 'date_diff'] = mean_delivery_time"
   ]
  },
  {
   "cell_type": "markdown",
   "id": "5cb7dd6d",
   "metadata": {},
   "source": [
    "### FBM Delivery Price and Delivery Duration"
   ]
  },
  {
   "cell_type": "code",
   "execution_count": 6,
   "id": "f189198c",
   "metadata": {},
   "outputs": [
    {
     "name": "stdout",
     "output_type": "stream",
     "text": [
      "Mean Delivery Price: 9.79\n",
      "Standard Deviation: 13.56\n"
     ]
    }
   ],
   "source": [
    "sub_df = df[df['Fulfillment_type'] == 'FBM']\n",
    "mean_price = round(sub_df['lieferpreis'].mean(), 2)\n",
    "standard_deviation = round(sub_df['lieferpreis'].std(), 2)\n",
    "mean_delivery_time = round(sub_df['date_diff'].mean(), 2)\n",
    "delivery_time_sd = round(sub_df['date_diff'].std(), 2)\n",
    "\n",
    "print(f\"Mean Delivery Price: {mean_price}\")\n",
    "print(f\"Standard Deviation: {standard_deviation}\")\n",
    "\n",
    "df.loc[(df['date_diff'].isnull()) & (df['Fulfillment_type'] == 'FBM'), 'lieferpreis'] = mean_price\n",
    "df.loc[(df['date_diff'].isnull()) & (df['Fulfillment_type'] == 'FBM'), 'date_diff'] = mean_delivery_time"
   ]
  },
  {
   "cell_type": "code",
   "execution_count": 7,
   "id": "3ed3eaa0",
   "metadata": {},
   "outputs": [],
   "source": [
    "## Overwrite File\n",
    "df.to_csv('../Grunddatein/Zwischendatein/CleanedDataCompleteNoNulls.csv', index=False)"
   ]
  },
  {
   "cell_type": "code",
   "execution_count": 8,
   "id": "1b0e2f15",
   "metadata": {},
   "outputs": [
    {
     "name": "stdout",
     "output_type": "stream",
     "text": [
      "Number of null values per column in df:\n",
      "id                        0\n",
      "asin                      0\n",
      "price                     0\n",
      "currency                  0\n",
      "time                      0\n",
      "crawlTime                 0\n",
      "condition                 0\n",
      "sellerName                0\n",
      "sellerId                  0\n",
      "sellerbewertung     1585854\n",
      "seller_sterne             0\n",
      "lieferdatum          208608\n",
      "lieferpreis               0\n",
      "lieferung_durch           0\n",
      "ranking                   0\n",
      "buyBoxWinner              0\n",
      "numberOfSellers           0\n",
      "trigByReactive            0\n",
      "Fulfillment_type          0\n",
      "date_diff                 0\n",
      "dtype: int64\n"
     ]
    }
   ],
   "source": [
    "# Count the null values in each column of the DataFrame\n",
    "null_values_count_per_column = df.isnull().sum()\n",
    "\n",
    "# Print the number of null values for each column\n",
    "print(\"Number of null values per column in df:\")\n",
    "print(null_values_count_per_column)"
   ]
  },
  {
   "cell_type": "code",
   "execution_count": null,
   "id": "5f5ba0d7",
   "metadata": {},
   "outputs": [],
   "source": []
  }
 ],
 "metadata": {
  "kernelspec": {
   "display_name": "Python 3 (ipykernel)",
   "language": "python",
   "name": "python3"
  },
  "language_info": {
   "codemirror_mode": {
    "name": "ipython",
    "version": 3
   },
   "file_extension": ".py",
   "mimetype": "text/x-python",
   "name": "python",
   "nbconvert_exporter": "python",
   "pygments_lexer": "ipython3",
   "version": "3.10.9"
  }
 },
 "nbformat": 4,
 "nbformat_minor": 5
}
