{
 "cells": [
  {
   "cell_type": "code",
   "execution_count": 2,
   "id": "e6bb0a78",
   "metadata": {
    "scrolled": true
   },
   "outputs": [
    {
     "name": "stderr",
     "output_type": "stream",
     "text": [
      "C:\\Users\\Robert Betschinger\\AppData\\Local\\Temp\\ipykernel_8092\\1409483830.py:4: DtypeWarning: Columns (11) have mixed types. Specify dtype option on import or set low_memory=False.\n",
      "  df = pd.read_csv('../Grunddatein/Zwischendatein/CleanedDataCompleteNoNulls.csv')\n"
     ]
    },
    {
     "name": "stdout",
     "output_type": "stream",
     "text": [
      "Es gibt insgesamt 2377 verschiedene Verkäufer\n",
      "Es gibt insgesamt 1766 Non-Algo Verkäufer\n",
      "Es gibt insgesamt 611 Algo Verkäufer\n",
      "Es gibt insgesamt 1766 Non-Algo Verkäufer\n",
      "Es gibt insgesamt 611 Algo Verkäufer\n"
     ]
    }
   ],
   "source": [
    "import pandas as pd\n",
    "import numpy as np\n",
    "\n",
    "df = pd.read_csv('../Grunddatein/Zwischendatein/CleanedDataCompleteNoNulls.csv')\n",
    "distinct_values_verkäufer = df['sellerName'].unique()\n",
    "print(f\"Es gibt insgesamt {len(distinct_values_verkäufer)} verschiedene Verkäufer\")\n",
    "\n",
    "df_algorithmic_seller_names = pd.read_csv('../Grunddatein/Zwischendatein/PA-Adopters.csv')\n",
    "df_algorithmic_seller_names = df_algorithmic_seller_names.rename(columns={'AlgorithmicSellerNames': 'sellerName'})  # rename column\n",
    "\n",
    "df_non_algorithmic_seller_names = set(distinct_values_verkäufer) - set(df_algorithmic_seller_names['sellerName'].values)\n",
    "df_non_algorithmic_seller_names = pd.DataFrame({'sellerName': list(df_non_algorithmic_seller_names)})\n",
    "\n",
    "\n",
    "print(f\"Es gibt insgesamt {len(df_non_algorithmic_seller_names)} Non-Algo Verkäufer\")\n",
    "print(f\"Es gibt insgesamt {len(df_algorithmic_seller_names) } Algo Verkäufer\")\n",
    "\n",
    "#Drop Duplicates if necessary. Shoudnt be the case\n",
    "df_non_algorithmic_seller_names = df_non_algorithmic_seller_names.drop_duplicates()\n",
    "df_algorithmic_seller_names = df_algorithmic_seller_names.drop_duplicates()\n",
    "\n",
    "print(f\"Es gibt insgesamt {len(df_non_algorithmic_seller_names)} Non-Algo Verkäufer\")\n",
    "print(f\"Es gibt insgesamt {len(df_algorithmic_seller_names) } Algo Verkäufer\")"
   ]
  },
  {
   "cell_type": "code",
   "execution_count": 3,
   "id": "9370da24",
   "metadata": {
    "scrolled": false
   },
   "outputs": [
    {
     "name": "stdout",
     "output_type": "stream",
     "text": [
      "<class 'pandas.core.frame.DataFrame'>\n",
      "Int64Index: 1766 entries, 0 to 1765\n",
      "Data columns (total 1 columns):\n",
      " #   Column      Non-Null Count  Dtype \n",
      "---  ------      --------------  ----- \n",
      " 0   sellerName  1766 non-null   object\n",
      "dtypes: object(1)\n",
      "memory usage: 27.6+ KB\n"
     ]
    }
   ],
   "source": [
    "\n",
    "df_non_algorithmic_seller_names.info()"
   ]
  },
  {
   "cell_type": "code",
   "execution_count": 4,
   "id": "fcb1ddfa",
   "metadata": {},
   "outputs": [
    {
     "name": "stdout",
     "output_type": "stream",
     "text": [
      "<class 'pandas.core.frame.DataFrame'>\n",
      "Int64Index: 611 entries, 0 to 610\n",
      "Data columns (total 1 columns):\n",
      " #   Column      Non-Null Count  Dtype \n",
      "---  ------      --------------  ----- \n",
      " 0   sellerName  611 non-null    object\n",
      "dtypes: object(1)\n",
      "memory usage: 9.5+ KB\n"
     ]
    }
   ],
   "source": [
    "df_algorithmic_seller_names.info()"
   ]
  },
  {
   "cell_type": "code",
   "execution_count": 5,
   "id": "d6ca69ff",
   "metadata": {
    "scrolled": true
   },
   "outputs": [
    {
     "name": "stdout",
     "output_type": "stream",
     "text": [
      "Es gibt insgesamt 1766 Non-Algo Verkäufer\n",
      "Es gibt insgesamt 607 Algo Verkäufer\n",
      "Es gibt insgesamt 4 Amazon Verkäufer\n"
     ]
    }
   ],
   "source": [
    "seller_names = ['amazon', 'Amazon US', 'Amazon UK','Amazon Warehouse ']\n",
    "\n",
    "# Drop rows with seller names in the seller_names list\n",
    "df_algorithmic_seller_names = df_algorithmic_seller_names[~df_algorithmic_seller_names['sellerName'].isin(seller_names)]\n",
    "df_non_algorithmic_seller_names = df_non_algorithmic_seller_names[~df_non_algorithmic_seller_names['sellerName'].isin(seller_names)]\n",
    "\n",
    "# Transform the seller_names list into a DataFrame\n",
    "amazon_seller_names_df = pd.DataFrame(seller_names, columns=['sellerName'])\n",
    "\n",
    "print(f\"Es gibt insgesamt {len(df_non_algorithmic_seller_names)} Non-Algo Verkäufer\")\n",
    "print(f\"Es gibt insgesamt {len(df_algorithmic_seller_names) } Algo Verkäufer\")\n",
    "print(f\"Es gibt insgesamt {len(amazon_seller_names_df) } Amazon Verkäufer\")"
   ]
  },
  {
   "cell_type": "code",
   "execution_count": 6,
   "id": "1a5aea36",
   "metadata": {},
   "outputs": [
    {
     "name": "stdout",
     "output_type": "stream",
     "text": [
      "An so vielen Asins ist Amazon als Verkäufer eingetragen:743\n",
      "An so vielen Asins ist Amazon nicht als Verkäufer eingetragen:251\n",
      "So Viele unterschiedliche Asins gibt es maximal 994\n"
     ]
    }
   ],
   "source": [
    "amazon_asin_values = df.loc[df['sellerName'].isin(['amazon', 'Amazon Warehouse ', 'Amazon US', 'Amazon UK']), 'asin'].unique()\n",
    "print(f\"An so vielen Asins ist Amazon als Verkäufer eingetragen:{len(amazon_asin_values)}\")\n",
    "\n",
    "# Assuming the DataFrame is named 'df'\n",
    "all_asin_values = df['asin'].unique()\n",
    "\n",
    "# Subtract the values that exist in the 'amazon_asin_values' list\n",
    "non_amazon_asin_values = set(all_asin_values) - set(amazon_asin_values)\n",
    "print(f\"An so vielen Asins ist Amazon nicht als Verkäufer eingetragen:{len(non_amazon_asin_values)}\")\n",
    "print(f\"So Viele unterschiedliche Asins gibt es maximal {len(all_asin_values)}\")\n",
    "\n",
    "# Create a DataFrame with only Amazon-sold products\n",
    "amazon_df = df[df['asin'].isin(amazon_asin_values)]\n",
    "# Create a DataFrame with only non-Amazon-sold products\n",
    "non_amazon_df = df[df['asin'].isin(non_amazon_asin_values)]"
   ]
  },
  {
   "cell_type": "code",
   "execution_count": 6,
   "id": "fa88948f",
   "metadata": {
    "scrolled": true
   },
   "outputs": [
    {
     "name": "stdout",
     "output_type": "stream",
     "text": [
      "Gegencheck 272\n",
      "Gegencheck 716\n"
     ]
    }
   ],
   "source": [
    "non_amazon_check_number_asins = non_amazon_df['asin'].nunique()\n",
    "print(\"Gegencheck\", non_amazon_check_number_asins)\n",
    "amazon_check = amazon_df['asin'].nunique()\n",
    "print(\"Gegencheck\", amazon_check)"
   ]
  },
  {
   "cell_type": "code",
   "execution_count": 7,
   "id": "03e11854",
   "metadata": {},
   "outputs": [],
   "source": [
    "## Amazon present products"
   ]
  },
  {
   "cell_type": "code",
   "execution_count": null,
   "id": "b3d4af1f",
   "metadata": {},
   "outputs": [],
   "source": [
    "import pandas as pd\n",
    "\n",
    "# Step 1: Group non_amazon_df by 'asin' and 'time'\n",
    "amazon_df = amazon_df.groupby(['asin', 'time'])\n",
    "#amazon_df = amazon_df.groupby(['asin'])\n",
    "# Step 2: Define a function to filter groups with at least one algorithmic and one non-algorithmic seller\n",
    "def filter_mixed_sellers(group):\n",
    "    algorithmic_present = group['sellerName'].isin(df_algorithmic_seller_names['sellerName']).any()\n",
    "    non_algorithmic_present = group['sellerName'].isin(df_non_algorithmic_seller_names['sellerName']).any()\n",
    "    return algorithmic_present and non_algorithmic_present\n",
    "\n",
    "# Step 3: Apply the function to the grouped data and save the results in a new DataFrame\n",
    "mixed_sellers_df_amazon_products = amazon_df.filter(filter_mixed_sellers)\n",
    "\n",
    "# Add a new column 'is_algorithmic' to the mixed_sellers_df DataFrame\n",
    "mixed_sellers_df_amazon_products['is_algorithmic'] = mixed_sellers_df_amazon_products['sellerName'].isin(df_algorithmic_seller_names['sellerName'])\n",
    "\n",
    "# Step 4: Investigate the new DataFrame to see who is winning the Buy Box more often\n",
    "algorithmic_buybox_wins = mixed_sellers_df_amazon_products[mixed_sellers_df_amazon_products['sellerName'].isin(df_algorithmic_seller_names['sellerName']) & (mixed_sellers_df_amazon_products['buyBoxWinner'] == True)].shape[0]\n",
    "non_algorithmic_buybox_wins = mixed_sellers_df_amazon_products[mixed_sellers_df_amazon_products['sellerName'].isin(df_non_algorithmic_seller_names['sellerName']) & (mixed_sellers_df_amazon_products['buyBoxWinner'] == True)].shape[0]\n",
    "amazon_wins_buy_box = mixed_sellers_df_amazon_products[mixed_sellers_df_amazon_products['sellerName'].isin(amazon_seller_names_df['sellerName']) & (mixed_sellers_df_amazon_products['buyBoxWinner'] == True)].shape[0]\n",
    "\n",
    "print(f\"Algorithmic sellers won the Buy Box {algorithmic_buybox_wins} times.\")\n",
    "print(f\"Non-algorithmic sellers won the Buy Box {non_algorithmic_buybox_wins} times.\")\n",
    "print(f\"Amazon sellers won the Buy Box {amazon_wins_buy_box} times.\")"
   ]
  },
  {
   "cell_type": "code",
   "execution_count": 9,
   "id": "ee23d3ff",
   "metadata": {},
   "outputs": [],
   "source": [
    "## Non Amazon Products"
   ]
  },
  {
   "cell_type": "code",
   "execution_count": null,
   "id": "f52f1b9b",
   "metadata": {},
   "outputs": [],
   "source": [
    "import pandas as pd\n",
    "\n",
    "# Step 1: Group non_amazon_df by 'asin' and 'time'\n",
    "grouped_non_amazon_df = non_amazon_df.groupby(['asin', 'time'])\n",
    "\n",
    "# Step 2: Define a function to filter groups with at least one algorithmic and one non-algorithmic seller\n",
    "def filter_mixed_sellers(group):\n",
    "    algorithmic_present = group['sellerName'].isin(df_algorithmic_seller_names['sellerName']).any()\n",
    "    non_algorithmic_present = group['sellerName'].isin(df_non_algorithmic_seller_names['sellerName']).any()\n",
    "    return algorithmic_present and non_algorithmic_present\n",
    "\n",
    "# Step 3: Apply the function to the grouped data and save the results in a new DataFrame\n",
    "mixed_sellers_df = grouped_non_amazon_df.filter(filter_mixed_sellers)\n",
    "\n",
    "# Add a new column 'is_algorithmic' to the mixed_sellers_df DataFrame\n",
    "mixed_sellers_df['is_algorithmic'] = mixed_sellers_df['sellerName'].isin(df_algorithmic_seller_names['sellerName'])\n",
    "\n",
    "# Step 4: Investigate the new DataFrame to see who is winning the Buy Box more often\n",
    "algorithmic_buybox_wins = mixed_sellers_df[mixed_sellers_df['sellerName'].isin(df_algorithmic_seller_names['sellerName']) & (mixed_sellers_df['buyBoxWinner'] == True)].shape[0]\n",
    "non_algorithmic_buybox_wins = mixed_sellers_df[mixed_sellers_df['sellerName'].isin(df_non_algorithmic_seller_names['sellerName']) & (mixed_sellers_df['buyBoxWinner'] == True)].shape[0]\n",
    "\n",
    "print(f\"Algorithmic sellers won the Buy Box {algorithmic_buybox_wins} times.\")\n",
    "print(f\"Non-algorithmic sellers won the Buy Box {non_algorithmic_buybox_wins} times.\")\n"
   ]
  },
  {
   "cell_type": "code",
   "execution_count": null,
   "id": "6b11bb32",
   "metadata": {},
   "outputs": [],
   "source": []
  }
 ],
 "metadata": {
  "kernelspec": {
   "display_name": "Python 3 (ipykernel)",
   "language": "python",
   "name": "python3"
  },
  "language_info": {
   "codemirror_mode": {
    "name": "ipython",
    "version": 3
   },
   "file_extension": ".py",
   "mimetype": "text/x-python",
   "name": "python",
   "nbconvert_exporter": "python",
   "pygments_lexer": "ipython3",
   "version": "3.10.9"
  }
 },
 "nbformat": 4,
 "nbformat_minor": 5
}
