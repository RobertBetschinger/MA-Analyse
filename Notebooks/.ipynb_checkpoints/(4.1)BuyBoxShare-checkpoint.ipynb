{
 "cells": [
  {
   "cell_type": "code",
   "execution_count": 1,
   "id": "e6bb0a78",
   "metadata": {
    "scrolled": false
   },
   "outputs": [
    {
     "name": "stderr",
     "output_type": "stream",
     "text": [
      "C:\\Users\\robertbetschinger\\AppData\\Local\\Temp\\ipykernel_11844\\2401567251.py:4: DtypeWarning: Columns (11) have mixed types. Specify dtype option on import or set low_memory=False.\n",
      "  df = pd.read_csv('../Grunddatein/Zwischendatein/CleanedDataCompleteNoNulls.csv')\n"
     ]
    },
    {
     "name": "stdout",
     "output_type": "stream",
     "text": [
      "Es gibt insgesamt 2377 verschiedene Verkäufer\n",
      "Es gibt insgesamt 1797 Non-Algo Verkäufer\n",
      "Es gibt insgesamt 580 Algo Verkäufer\n"
     ]
    }
   ],
   "source": [
    "import pandas as pd\n",
    "import numpy as np\n",
    "\n",
    "df = pd.read_csv('../Grunddatein/Zwischendatein/CleanedDataCompleteNoNulls.csv')\n",
    "distinct_values_verkäufer = df['sellerName'].unique()\n",
    "print(f\"Es gibt insgesamt {len(distinct_values_verkäufer)} verschiedene Verkäufer\")\n",
    "\n",
    "df_algorithmic_seller_names = pd.read_csv('../Grunddatein/Zwischendatein/PA-Adopters.csv')\n",
    "df_algorithmic_seller_names = df_algorithmic_seller_names.rename(columns={'AlgorithmicSellerNames': 'sellerName'})  # rename column\n",
    "\n",
    "df_non_algorithmic_seller_names = set(distinct_values_verkäufer) - set(df_algorithmic_seller_names['sellerName'].values)\n",
    "df_non_algorithmic_seller_names = pd.DataFrame({'sellerName': list(df_non_algorithmic_seller_names)})\n",
    "\n",
    "\n",
    "print(f\"Es gibt insgesamt {len(df_non_algorithmic_seller_names)} Non-Algo Verkäufer\")\n",
    "print(f\"Es gibt insgesamt {len(df_algorithmic_seller_names) } Algo Verkäufer\")\n",
    "\n",
    "#Drop Duplicates if necessary. Shoudnt be the case\n",
    "df_non_algorithmic_seller_names = df_non_algorithmic_seller_names.drop_duplicates()\n",
    "df_algorithmic_seller_names = df_algorithmic_seller_names.drop_duplicates()"
   ]
  },
  {
   "cell_type": "code",
   "execution_count": 2,
   "id": "195c1c6e",
   "metadata": {},
   "outputs": [],
   "source": [
    "\n",
    "# If you want to use drop instead, here's how you would do it:\n",
    "columns_to_drop = ['price', 'currency', 'crawlTime', 'condition', 'sellerbewertung', \n",
    "                   'seller_sterne', 'lieferdatum', 'lieferpreis', 'lieferung_durch', \n",
    "                   'numberOfSellers', 'trigByReactive', 'Fulfillment_type', 'date_diff']\n",
    "\n",
    "df = df.drop(columns=columns_to_drop)\n"
   ]
  },
  {
   "cell_type": "code",
   "execution_count": 3,
   "id": "d5e17de4",
   "metadata": {
    "scrolled": true
   },
   "outputs": [
    {
     "name": "stdout",
     "output_type": "stream",
     "text": [
      "<class 'pandas.core.frame.DataFrame'>\n",
      "RangeIndex: 6591111 entries, 0 to 6591110\n",
      "Data columns (total 7 columns):\n",
      " #   Column        Dtype  \n",
      "---  ------        -----  \n",
      " 0   id            float64\n",
      " 1   asin          object \n",
      " 2   time          object \n",
      " 3   sellerName    object \n",
      " 4   sellerId      object \n",
      " 5   ranking       float64\n",
      " 6   buyBoxWinner  bool   \n",
      "dtypes: bool(1), float64(2), object(4)\n",
      "memory usage: 308.0+ MB\n"
     ]
    }
   ],
   "source": [
    "df.info()"
   ]
  },
  {
   "cell_type": "code",
   "execution_count": 4,
   "id": "262aa832",
   "metadata": {},
   "outputs": [
    {
     "name": "stdout",
     "output_type": "stream",
     "text": [
      "Es gibt insgesamt 1797 Non-Algo Verkäufer\n",
      "Es gibt insgesamt 575 Algo Verkäufer\n",
      "Es gibt insgesamt 5 Amazon Verkäufer\n",
      "Die Summe an verschiedenen Verkäufern beträgt also: 2377\n"
     ]
    }
   ],
   "source": [
    "seller_names = ['amazon', 'Amazon US', 'Amazon UK','Amazon Warehouse ','Amazon']\n",
    "\n",
    "# Drop rows with seller names in the seller_names list\n",
    "df_algorithmic_seller_names = df_algorithmic_seller_names[~df_algorithmic_seller_names['sellerName'].isin(seller_names)]\n",
    "df_non_algorithmic_seller_names = df_non_algorithmic_seller_names[~df_non_algorithmic_seller_names['sellerName'].isin(seller_names)]\n",
    "\n",
    "# Transform the seller_names list into a DataFrame\n",
    "amazon_seller_names_df = pd.DataFrame(seller_names, columns=['sellerName'])\n",
    "\n",
    "print(f\"Es gibt insgesamt {len(df_non_algorithmic_seller_names)} Non-Algo Verkäufer\")\n",
    "print(f\"Es gibt insgesamt {len(df_algorithmic_seller_names) } Algo Verkäufer\")\n",
    "print(f\"Es gibt insgesamt {len(amazon_seller_names_df) } Amazon Verkäufer\")\n",
    "print(f\"Die Summe an verschiedenen Verkäufern beträgt also:\", len(df_algorithmic_seller_names) + len(df_non_algorithmic_seller_names)+ len(amazon_seller_names_df))"
   ]
  },
  {
   "cell_type": "code",
   "execution_count": 5,
   "id": "1a5aea36",
   "metadata": {
    "scrolled": true
   },
   "outputs": [
    {
     "name": "stdout",
     "output_type": "stream",
     "text": [
      "An so vielen Asins ist Amazon als Verkäufer eingetragen:747\n",
      "An so vielen Asins ist Amazon nicht als Verkäufer eingetragen:247\n",
      "So Viele unterschiedliche Asins gibt es maximal 994\n"
     ]
    }
   ],
   "source": [
    "amazon_asin_values = df.loc[df['sellerName'].isin(['amazon', 'Amazon Warehouse ', 'Amazon US', 'Amazon UK','Amazon']), 'asin'].unique()\n",
    "print(f\"An so vielen Asins ist Amazon als Verkäufer eingetragen:{len(amazon_asin_values)}\")\n",
    "\n",
    "# Assuming the DataFrame is named 'df'\n",
    "all_asin_values = df['asin'].unique()\n",
    "\n",
    "# Subtract the values that exist in the 'amazon_asin_values' list\n",
    "non_amazon_asin_values = set(all_asin_values) - set(amazon_asin_values)\n",
    "print(f\"An so vielen Asins ist Amazon nicht als Verkäufer eingetragen:{len(non_amazon_asin_values)}\")\n",
    "print(f\"So Viele unterschiedliche Asins gibt es maximal {len(all_asin_values)}\")\n",
    "\n",
    "# Create a DataFrame with only Amazon-sold products\n",
    "amazon_df = df[df['asin'].isin(amazon_asin_values)]\n",
    "# Create a DataFrame with only non-Amazon-sold products\n",
    "non_amazon_df = df[df['asin'].isin(non_amazon_asin_values)]"
   ]
  },
  {
   "cell_type": "code",
   "execution_count": 6,
   "id": "c1e4e9f4",
   "metadata": {
    "scrolled": true
   },
   "outputs": [],
   "source": [
    "# Keep only the first row\n",
    "amazon_seller_names_df_only_amazon = amazon_seller_names_df.iloc[0:1]\n",
    "amazon_seller_names_df_and_like = amazon_seller_names_df.iloc[1:5]"
   ]
  },
  {
   "cell_type": "markdown",
   "id": "eb9b5316",
   "metadata": {},
   "source": [
    "## Ranking"
   ]
  },
  {
   "cell_type": "code",
   "execution_count": 15,
   "id": "1ea77824",
   "metadata": {
    "scrolled": true
   },
   "outputs": [
    {
     "name": "stdout",
     "output_type": "stream",
     "text": [
      "So viele Asins gibt es in meinem Dataframe mit midnest 1|1 Seller 682\n",
      "Ranking Metrics for all Products\n",
      "Ranking Metrics for only Amazon sellers: {'mean': 0.3969596254247682, 'median': 0.0, 'std_dev': 1.2304968983199966, 'min': 0.0, 'max': 20.0}\n",
      "Ranking Metrics for non-algorithmic sellers: {'mean': 9.736726882372079, 'median': 8.0, 'std_dev': 7.655982716906328, 'min': 0.0, 'max': 29.0}\n",
      "Ranking Metrics for algorithmic sellers: {'mean': 10.28748323933966, 'median': 8.0, 'std_dev': 8.336353356521744, 'min': 0.0, 'max': 29.0}\n"
     ]
    },
    {
     "ename": "KeyError",
     "evalue": "'sellerType'",
     "output_type": "error",
     "traceback": [
      "\u001b[1;31m---------------------------------------------------------------------------\u001b[0m",
      "\u001b[1;31mKeyError\u001b[0m                                  Traceback (most recent call last)",
      "File \u001b[1;32m~\\anaconda3\\lib\\site-packages\\pandas\\core\\indexes\\base.py:3802\u001b[0m, in \u001b[0;36mIndex.get_loc\u001b[1;34m(self, key, method, tolerance)\u001b[0m\n\u001b[0;32m   3801\u001b[0m \u001b[38;5;28;01mtry\u001b[39;00m:\n\u001b[1;32m-> 3802\u001b[0m     \u001b[38;5;28;01mreturn\u001b[39;00m \u001b[38;5;28;43mself\u001b[39;49m\u001b[38;5;241;43m.\u001b[39;49m\u001b[43m_engine\u001b[49m\u001b[38;5;241;43m.\u001b[39;49m\u001b[43mget_loc\u001b[49m\u001b[43m(\u001b[49m\u001b[43mcasted_key\u001b[49m\u001b[43m)\u001b[49m\n\u001b[0;32m   3803\u001b[0m \u001b[38;5;28;01mexcept\u001b[39;00m \u001b[38;5;167;01mKeyError\u001b[39;00m \u001b[38;5;28;01mas\u001b[39;00m err:\n",
      "File \u001b[1;32m~\\anaconda3\\lib\\site-packages\\pandas\\_libs\\index.pyx:138\u001b[0m, in \u001b[0;36mpandas._libs.index.IndexEngine.get_loc\u001b[1;34m()\u001b[0m\n",
      "File \u001b[1;32m~\\anaconda3\\lib\\site-packages\\pandas\\_libs\\index.pyx:165\u001b[0m, in \u001b[0;36mpandas._libs.index.IndexEngine.get_loc\u001b[1;34m()\u001b[0m\n",
      "File \u001b[1;32mpandas\\_libs\\hashtable_class_helper.pxi:5745\u001b[0m, in \u001b[0;36mpandas._libs.hashtable.PyObjectHashTable.get_item\u001b[1;34m()\u001b[0m\n",
      "File \u001b[1;32mpandas\\_libs\\hashtable_class_helper.pxi:5753\u001b[0m, in \u001b[0;36mpandas._libs.hashtable.PyObjectHashTable.get_item\u001b[1;34m()\u001b[0m\n",
      "\u001b[1;31mKeyError\u001b[0m: 'sellerType'",
      "\nThe above exception was the direct cause of the following exception:\n",
      "\u001b[1;31mKeyError\u001b[0m                                  Traceback (most recent call last)",
      "Cell \u001b[1;32mIn[15], line 58\u001b[0m\n\u001b[0;32m     55\u001b[0m grouped_asin_seller_df \u001b[38;5;241m=\u001b[39m grouped_asin_seller\u001b[38;5;241m.\u001b[39mapply(identify_seller_type)\u001b[38;5;241m.\u001b[39mreset_index()\n\u001b[0;32m     57\u001b[0m \u001b[38;5;66;03m# Step 7: Filter the DataFrame to only include rows where 'sellerType' is 'algorithmic', 'non_algorithmic', or 'amazon'\u001b[39;00m\n\u001b[1;32m---> 58\u001b[0m filtered_asin_seller \u001b[38;5;241m=\u001b[39m grouped_asin_seller_df[\u001b[43mgrouped_asin_seller_df\u001b[49m\u001b[43m[\u001b[49m\u001b[38;5;124;43m'\u001b[39;49m\u001b[38;5;124;43msellerType\u001b[39;49m\u001b[38;5;124;43m'\u001b[39;49m\u001b[43m]\u001b[49m\u001b[38;5;241m.\u001b[39misin([\u001b[38;5;124m'\u001b[39m\u001b[38;5;124malgorithmic\u001b[39m\u001b[38;5;124m'\u001b[39m, \u001b[38;5;124m'\u001b[39m\u001b[38;5;124mnon_algorithmic\u001b[39m\u001b[38;5;124m'\u001b[39m, \u001b[38;5;124m'\u001b[39m\u001b[38;5;124mamazon\u001b[39m\u001b[38;5;124m'\u001b[39m])]\n\u001b[0;32m     60\u001b[0m \u001b[38;5;66;03m# Step 8: Print the counts of algorithmic, non-algorithmic, and Amazon ASIN/seller pairs\u001b[39;00m\n\u001b[0;32m     61\u001b[0m \u001b[38;5;28mprint\u001b[39m(\u001b[38;5;124mf\u001b[39m\u001b[38;5;124m\"\u001b[39m\u001b[38;5;124mThere are \u001b[39m\u001b[38;5;132;01m{\u001b[39;00mfiltered_asin_seller[filtered_asin_seller[\u001b[38;5;124m'\u001b[39m\u001b[38;5;124msellerType\u001b[39m\u001b[38;5;124m'\u001b[39m] \u001b[38;5;241m==\u001b[39m \u001b[38;5;124m'\u001b[39m\u001b[38;5;124malgorithmic\u001b[39m\u001b[38;5;124m'\u001b[39m]\u001b[38;5;241m.\u001b[39mshape[\u001b[38;5;241m0\u001b[39m]\u001b[38;5;132;01m}\u001b[39;00m\u001b[38;5;124m algorithmic ASIN/seller pairs.\u001b[39m\u001b[38;5;124m\"\u001b[39m)\n",
      "File \u001b[1;32m~\\anaconda3\\lib\\site-packages\\pandas\\core\\frame.py:3807\u001b[0m, in \u001b[0;36mDataFrame.__getitem__\u001b[1;34m(self, key)\u001b[0m\n\u001b[0;32m   3805\u001b[0m \u001b[38;5;28;01mif\u001b[39;00m \u001b[38;5;28mself\u001b[39m\u001b[38;5;241m.\u001b[39mcolumns\u001b[38;5;241m.\u001b[39mnlevels \u001b[38;5;241m>\u001b[39m \u001b[38;5;241m1\u001b[39m:\n\u001b[0;32m   3806\u001b[0m     \u001b[38;5;28;01mreturn\u001b[39;00m \u001b[38;5;28mself\u001b[39m\u001b[38;5;241m.\u001b[39m_getitem_multilevel(key)\n\u001b[1;32m-> 3807\u001b[0m indexer \u001b[38;5;241m=\u001b[39m \u001b[38;5;28;43mself\u001b[39;49m\u001b[38;5;241;43m.\u001b[39;49m\u001b[43mcolumns\u001b[49m\u001b[38;5;241;43m.\u001b[39;49m\u001b[43mget_loc\u001b[49m\u001b[43m(\u001b[49m\u001b[43mkey\u001b[49m\u001b[43m)\u001b[49m\n\u001b[0;32m   3808\u001b[0m \u001b[38;5;28;01mif\u001b[39;00m is_integer(indexer):\n\u001b[0;32m   3809\u001b[0m     indexer \u001b[38;5;241m=\u001b[39m [indexer]\n",
      "File \u001b[1;32m~\\anaconda3\\lib\\site-packages\\pandas\\core\\indexes\\base.py:3804\u001b[0m, in \u001b[0;36mIndex.get_loc\u001b[1;34m(self, key, method, tolerance)\u001b[0m\n\u001b[0;32m   3802\u001b[0m     \u001b[38;5;28;01mreturn\u001b[39;00m \u001b[38;5;28mself\u001b[39m\u001b[38;5;241m.\u001b[39m_engine\u001b[38;5;241m.\u001b[39mget_loc(casted_key)\n\u001b[0;32m   3803\u001b[0m \u001b[38;5;28;01mexcept\u001b[39;00m \u001b[38;5;167;01mKeyError\u001b[39;00m \u001b[38;5;28;01mas\u001b[39;00m err:\n\u001b[1;32m-> 3804\u001b[0m     \u001b[38;5;28;01mraise\u001b[39;00m \u001b[38;5;167;01mKeyError\u001b[39;00m(key) \u001b[38;5;28;01mfrom\u001b[39;00m \u001b[38;5;21;01merr\u001b[39;00m\n\u001b[0;32m   3805\u001b[0m \u001b[38;5;28;01mexcept\u001b[39;00m \u001b[38;5;167;01mTypeError\u001b[39;00m:\n\u001b[0;32m   3806\u001b[0m     \u001b[38;5;66;03m# If we have a listlike key, _check_indexing_error will raise\u001b[39;00m\n\u001b[0;32m   3807\u001b[0m     \u001b[38;5;66;03m#  InvalidIndexError. Otherwise we fall through and re-raise\u001b[39;00m\n\u001b[0;32m   3808\u001b[0m     \u001b[38;5;66;03m#  the TypeError.\u001b[39;00m\n\u001b[0;32m   3809\u001b[0m     \u001b[38;5;28mself\u001b[39m\u001b[38;5;241m.\u001b[39m_check_indexing_error(key)\n",
      "\u001b[1;31mKeyError\u001b[0m: 'sellerType'"
     ]
    }
   ],
   "source": [
    "# Step 1: Group amazon_df by 'asin' and 'time'\n",
    "grouped_df = df.groupby(['asin'])\n",
    "\n",
    "# Step 2: Define a function to filter groups with at least one algorithmic and one non-algorithmic seller\n",
    "def filter_mixed_sellers(group):\n",
    "    algorithmic_present = any(name in df_algorithmic_seller_names['sellerName'].values for name in group['sellerName'])\n",
    "    non_algorithmic_present = any(name in df_non_algorithmic_seller_names['sellerName'].values for name in group['sellerName'])\n",
    "    return algorithmic_present and non_algorithmic_present\n",
    "\n",
    "# Step 3: Apply the function to the grouped data and save the results in a new DataFrame\n",
    "mixed_sellers_df = grouped_df.filter(filter_mixed_sellers)\n",
    "\n",
    "print(f\"So viele Asins gibt es in meinem Dataframe mit midnest 1|1 Seller\",mixed_sellers_df['asin'].nunique())\n",
    "\n",
    "\n",
    "def calculate_ranking_metrics(df, amazon_df):\n",
    "    merged_df = amazon_df.merge(df, on='sellerName')\n",
    "    ranking_values = merged_df['ranking']\n",
    "    return {\n",
    "        'mean': ranking_values.mean(),\n",
    "        'median': ranking_values.median(),\n",
    "        'std_dev': ranking_values.std(),\n",
    "        'min': ranking_values.min(),\n",
    "        'max': ranking_values.max(),\n",
    "    }\n",
    "\n",
    "ranking_metrics_only_amazon = calculate_ranking_metrics(amazon_seller_names_df_only_amazon, mixed_sellers_df)\n",
    "ranking_metrics_and_like = calculate_ranking_metrics(amazon_seller_names_df_and_like, mixed_sellers_df)\n",
    "ranking_metrics_non_algo = calculate_ranking_metrics(df_non_algorithmic_seller_names, mixed_sellers_df)\n",
    "ranking_metrics_algo = calculate_ranking_metrics(df_algorithmic_seller_names, mixed_sellers_df)\n",
    "ranking_metrics_all_amazon = calculate_ranking_metrics(amazon_seller_names_df, mixed_sellers_df)\n",
    "\n",
    "print(\"Ranking Metrics for all Products\")\n",
    "print(f\"Ranking Metrics for only Amazon sellers: {ranking_metrics_only_amazon}\")\n",
    "#print(f\"Ranking Metrics for Amazon and like sellers: {ranking_metrics_and_like}\")\n",
    "print(f\"Ranking Metrics for non-algorithmic sellers: {ranking_metrics_non_algo}\")\n",
    "print(f\"Ranking Metrics for algorithmic sellers: {ranking_metrics_algo}\")\n",
    "#print(f\"Ranking Metrics for All Amazon sellers: {ranking_metrics_all_amazon}\")\n",
    "\n",
    "# Step 4: Group the mixed_sellers_df DataFrame by 'asin', 'sellerName'\n",
    "grouped_asin_seller = mixed_sellers_df.groupby(['asin', 'sellerName'])\n",
    "\n",
    "# Step 5: Define a function to identify algorithmic, non-algorithmic, and Amazon seller pairs\n",
    "def identify_seller_type(group):\n",
    "    if group['sellerName'].values[0] in df_algorithmic_seller_names['sellerName'].values:\n",
    "        return 'algorithmic'\n",
    "    elif group['sellerName'].values[0] in df_non_algorithmic_seller_names['sellerName'].values:\n",
    "        return 'non_algorithmic'\n",
    "    elif group['sellerName'].values[0] in amazon_seller_names_df_only_amazon['sellerName'].values:\n",
    "        return 'amazon'\n",
    "    else:\n",
    "        return 'other'"
   ]
  },
  {
   "cell_type": "code",
   "execution_count": 16,
   "id": "70ef49ec",
   "metadata": {},
   "outputs": [
    {
     "name": "stdout",
     "output_type": "stream",
     "text": [
      "There are 4364 algorithmic ASIN/seller pairs.\n",
      "There are 8544 non-algorithmic ASIN/seller pairs.\n",
      "There are 489 Amazon ASIN/seller pairs.\n"
     ]
    }
   ],
   "source": [
    "# Step 6: Apply the function to the grouped data and save the results in a new DataFrame\n",
    "grouped_asin_seller_df = grouped_asin_seller.apply(identify_seller_type).reset_index(name='sellerType')\n",
    "\n",
    "# Step 7: Filter the DataFrame to only include rows where 'sellerType' is 'algorithmic', 'non_algorithmic', or 'amazon'\n",
    "filtered_asin_seller = grouped_asin_seller_df[grouped_asin_seller_df['sellerType'].isin(['algorithmic', 'non_algorithmic', 'amazon'])]\n",
    "\n",
    "# Step 8: Print the counts of algorithmic, non-algorithmic, and Amazon ASIN/seller pairs\n",
    "print(f\"There are {filtered_asin_seller[filtered_asin_seller['sellerType'] == 'algorithmic'].shape[0]} algorithmic ASIN/seller pairs.\")\n",
    "print(f\"There are {filtered_asin_seller[filtered_asin_seller['sellerType'] == 'non_algorithmic'].shape[0]} non-algorithmic ASIN/seller pairs.\")\n",
    "print(f\"There are {filtered_asin_seller[filtered_asin_seller['sellerType'] == 'amazon'].shape[0]} Amazon ASIN/seller pairs.\")\n"
   ]
  },
  {
   "cell_type": "code",
   "execution_count": 9,
   "id": "d3eaf59d",
   "metadata": {},
   "outputs": [
    {
     "data": {
      "image/png": "[encoded data removed]",
      "text/plain": [
       "<Figure size 640x480 with 1 Axes>"
      ]
     },
     "metadata": {},
     "output_type": "display_data"
    }
   ],
   "source": [
    "from matplotlib import pyplot as plt\n",
    "def calculate_ranking_values(df, amazon_df):\n",
    "    merged_df = amazon_df.merge(df, on='sellerName')\n",
    "    return merged_df['ranking']\n",
    "\n",
    "ranking_values_only_amazon = calculate_ranking_values(amazon_seller_names_df_only_amazon, df)\n",
    "ranking_values_and_like = calculate_ranking_values(amazon_seller_names_df_and_like, df)\n",
    "ranking_values_non_algo = calculate_ranking_values(df_non_algorithmic_seller_names, df)\n",
    "ranking_values_algo = calculate_ranking_values(df_algorithmic_seller_names, df)\n",
    "ranking_values_all_amazon = calculate_ranking_values(amazon_seller_names_df, df)\n",
    "\n",
    "# Now we can create the boxplot\n",
    "plt.boxplot([ranking_values_non_algo, ranking_values_algo], labels=['Non-Algo', 'Algo'], vert=False)\n",
    "plt.title('Ranking for Different Seller Types')\n",
    "plt.xlabel('Ranking Value')\n",
    "\n",
    "plt.savefig(\"boxplot.png\", dpi=300, bbox_inches='tight')\n",
    "plt.show()\n",
    "\n",
    "# Save the figure\n"
   ]
  },
  {
   "cell_type": "markdown",
   "id": "adda6401",
   "metadata": {},
   "source": [
    "## Product Range"
   ]
  },
  {
   "cell_type": "code",
   "execution_count": 11,
   "id": "c41806e2",
   "metadata": {},
   "outputs": [
    {
     "name": "stdout",
     "output_type": "stream",
     "text": [
      "All Results for all Products\n",
      "Metrics for only Amazon sellers: {'mean': 671.0, 'median': 671.0, 'std_dev': nan, 'min': 671, 'max': 671}\n",
      "Metrics for non-algorithmic sellers: {'mean': 5.017807456872565, 'median': 1.0, 'std_dev': 12.908954570672076, 'min': 1, 'max': 164}\n",
      "Metrics for algorithmic sellers: {'mean': 7.822608695652174, 'median': 2.0, 'std_dev': 18.25133788647465, 'min': 1, 'max': 160}\n"
     ]
    }
   ],
   "source": [
    "import matplotlib.pyplot as plt\n",
    "\n",
    "def calculate_product_range_metrics(df, amazon_df):\n",
    "    merged_df = amazon_df.merge(df, on='sellerName')\n",
    "    product_counts = merged_df.groupby('sellerName')['asin'].nunique()\n",
    "    return {\n",
    "        'mean': product_counts.mean(),\n",
    "        'median': product_counts.median(),\n",
    "        'std_dev': product_counts.std(),\n",
    "        'min': product_counts.min(),\n",
    "        'max': product_counts.max(),\n",
    "    }\n",
    "\n",
    "metrics_only_amazon = calculate_product_range_metrics(amazon_seller_names_df_only_amazon, df)\n",
    "metrics_and_like = calculate_product_range_metrics(amazon_seller_names_df_and_like, df)\n",
    "metrics_non_algo = calculate_product_range_metrics(df_non_algorithmic_seller_names, df)\n",
    "metrics_algo = calculate_product_range_metrics(df_algorithmic_seller_names, df)\n",
    "metrics_all_amazon = calculate_product_range_metrics(amazon_seller_names_df, df)\n",
    "\n",
    "print(\"All Results for all Products\")\n",
    "print(f\"Metrics for only Amazon sellers: {metrics_only_amazon}\")\n",
    "#print(f\"Metrics for Amazon and like sellers: {metrics_and_like}\")\n",
    "print(f\"Metrics for non-algorithmic sellers: {metrics_non_algo}\")\n",
    "print(f\"Metrics for algorithmic sellers: {metrics_algo}\")\n",
    "#print(f\"Metrics for All Amazon sellers: {metrics_all_amazon}\")"
   ]
  },
  {
   "cell_type": "code",
   "execution_count": 12,
   "id": "f7666077",
   "metadata": {},
   "outputs": [
    {
     "data": {
      "image/png": "[encoded data removed]",
      "text/plain": [
       "<Figure size 640x480 with 1 Axes>"
      ]
     },
     "metadata": {},
     "output_type": "display_data"
    }
   ],
   "source": [
    "import numpy as np\n",
    "import matplotlib.pyplot as plt\n",
    "\n",
    "def calculate_product_counts(df, amazon_df):\n",
    "    merged_df = amazon_df.merge(df, on='sellerName')\n",
    "    return merged_df.groupby('sellerName')['asin'].nunique()\n",
    "\n",
    "product_counts_only_amazon = calculate_product_counts(amazon_seller_names_df_only_amazon, amazon_df)\n",
    "product_counts_and_like = calculate_product_counts(amazon_seller_names_df_and_like, amazon_df)\n",
    "product_counts_non_algo = calculate_product_counts(df_non_algorithmic_seller_names, amazon_df)\n",
    "product_counts_algo = calculate_product_counts(df_algorithmic_seller_names, amazon_df)\n",
    "product_counts_all_amazon = calculate_product_counts(amazon_seller_names_df, amazon_df)\n",
    "\n",
    "# Apply square root transformation to the product counts\n",
    "sqrt_product_counts_non_algo = np.sqrt(product_counts_non_algo)\n",
    "sqrt_product_counts_algo = np.sqrt(product_counts_algo)\n",
    "\n",
    "# Calculate the maximum square root count to help set the y-ticks\n",
    "max_sqrt_count = int(np.sqrt(max(max(product_counts_non_algo), max(product_counts_algo))))\n",
    "\n",
    "# Now we can create the boxplot\n",
    "plt.boxplot([sqrt_product_counts_non_algo, sqrt_product_counts_algo], labels=['Non-Algo', 'Algo'])\n",
    "plt.title('Product Range for Different Seller Types')\n",
    "plt.ylabel('Square Root of Number of Sold Products')\n",
    "\n",
    "# Set the y-ticks to be at regular intervals\n",
    "plt.yticks(range(max_sqrt_count+1))\n",
    "\n",
    "plt.show()\n"
   ]
  },
  {
   "cell_type": "code",
   "execution_count": 10,
   "id": "2eba5951",
   "metadata": {},
   "outputs": [
    {
     "data": {
      "image/png": "[encoded data removed]",
      "text/plain": [
       "<Figure size 640x480 with 1 Axes>"
      ]
     },
     "metadata": {},
     "output_type": "display_data"
    }
   ],
   "source": [
    "# For the boxplot, we'll need to collect all the product_counts in a list\n",
    "def calculate_product_counts(df, amazon_df):\n",
    "    merged_df = amazon_df.merge(df, on='sellerName')\n",
    "    return merged_df.groupby('sellerName')['asin'].nunique()\n",
    "\n",
    "product_counts_only_amazon = calculate_product_counts(amazon_seller_names_df_only_amazon, df)\n",
    "product_counts_and_like = calculate_product_counts(amazon_seller_names_df_and_like, df)\n",
    "product_counts_non_algo = calculate_product_counts(df_non_algorithmic_seller_names, df)\n",
    "product_counts_algo = calculate_product_counts(df_algorithmic_seller_names, df)\n",
    "product_counts_all_amazon = calculate_product_counts(amazon_seller_names_df, df)\n",
    "\n",
    "# Now we can create the boxplot\n",
    "#plt.boxplot([product_counts_only_amazon, product_counts_and_like, product_counts_non_algo, product_counts_algo, product_counts_all_amazon], labels=['Amazon Only', 'Amazon & Like', 'Non-Algo', 'Algo', 'All Amazon'])\n",
    "plt.boxplot([product_counts_non_algo, product_counts_algo], labels=['Non-Algo', 'Algo'])\n",
    "plt.title('Product Range for Different Seller Types')\n",
    "plt.ylabel('Number of Unique Products (Log Scale)')\n",
    "plt.yscale('log')  # Apply a logarithmic scale to the y-axis\n",
    "plt.show()"
   ]
  },
  {
   "cell_type": "markdown",
   "id": "416cc439",
   "metadata": {},
   "source": [
    "# BuyBoxShare"
   ]
  },
  {
   "cell_type": "markdown",
   "id": "d5f03cb9",
   "metadata": {},
   "source": [
    "## Amazon present products"
   ]
  },
  {
   "cell_type": "code",
   "execution_count": 21,
   "id": "5c27c02b",
   "metadata": {},
   "outputs": [
    {
     "name": "stdout",
     "output_type": "stream",
     "text": [
      "Number of BuyBoxWinning rows: 334506\n",
      "These BuyBoxWinning rows belong to so many ASINS: 527\n",
      "Non-algorithmic sellers: 37143\n",
      "Algorithmic sellers: 38406\n",
      "Amazon sellers: 249755\n",
      "Amazon Like sellers: 9202\n",
      "Summe: 334506\n",
      "Algorithmic sellers won the Buy Box 11.48% of the time.\n",
      "Non-algorithmic sellers won the Buy Box 11.10% of the time.\n",
      "Amazon sellers won the Buy Box 74.66% of the time.\n",
      "Amazon Like sellers won the Buy Box 2.75% of the time.\n",
      "There are 368 algorithmic ASIN/seller pairs.\n",
      "There are 592 non-algorithmic ASIN/seller pairs.\n",
      "There are 474 Amazon ASIN/seller pairs.\n",
      "There are 86 Amazon Like ASIN/seller pairs.\n"
     ]
    }
   ],
   "source": [
    "# Step 1: Group amazon_df by 'asin' and 'time'\n",
    "grouped_amazon_df = amazon_df.groupby(['asin'])\n",
    "\n",
    "# Step 2: Define a function to filter groups with at least one algorithmic and one non-algorithmic seller\n",
    "def filter_mixed_sellers(group):\n",
    "    algorithmic_present = any(name in df_algorithmic_seller_names['sellerName'].values for name in group['sellerName'])\n",
    "    non_algorithmic_present = any(name in df_non_algorithmic_seller_names['sellerName'].values for name in group['sellerName'])\n",
    "    return algorithmic_present and non_algorithmic_present\n",
    "\n",
    "# Step 3: Apply the function to the grouped data and save the results in a new DataFrame\n",
    "mixed_sellers_df = grouped_amazon_df.filter(filter_mixed_sellers)\n",
    "\n",
    "# Filter the DataFrame to only include rows where 'buyBoxWinner' is True\n",
    "filtered_mixed_sellers_df = mixed_sellers_df[mixed_sellers_df['buyBoxWinner'] == True]\n",
    "\n",
    "# Print the number of rows left\n",
    "print(f\"Number of BuyBoxWinning rows: {filtered_mixed_sellers_df.shape[0]}\")\n",
    "print(f\"These BuyBoxWinning rows belong to so many ASINS: {mixed_sellers_df['asin'].nunique()}\")\n",
    "\n",
    "# Initialize counters\n",
    "non_algorithmic_seller_count = 0\n",
    "algorithmic_seller_count = 0\n",
    "amazon_seller_count = 0\n",
    "amazon_like_count = 0\n",
    "\n",
    "# Count through all rows\n",
    "for index, row in filtered_mixed_sellers_df.iterrows():\n",
    "    if row['sellerName'] in df_non_algorithmic_seller_names['sellerName'].values:\n",
    "        non_algorithmic_seller_count += 1\n",
    "    elif row['sellerName'] in df_algorithmic_seller_names['sellerName'].values:\n",
    "        algorithmic_seller_count += 1\n",
    "    elif row['sellerName'] in amazon_seller_names_df_only_amazon['sellerName'].values:\n",
    "        amazon_seller_count += 1\n",
    "    elif row['sellerName'] in amazon_seller_names_df_and_like['sellerName'].values:\n",
    "        amazon_like_count += 1\n",
    "\n",
    "# Print the counts\n",
    "print(f\"Non-algorithmic sellers: {non_algorithmic_seller_count}\")\n",
    "print(f\"Algorithmic sellers: {algorithmic_seller_count}\")\n",
    "print(f\"Amazon sellers: {amazon_seller_count}\")\n",
    "print(f\"Amazon Like sellers: {amazon_like_count}\")\n",
    "print(f\"Summe: {non_algorithmic_seller_count + algorithmic_seller_count + amazon_seller_count + amazon_like_count}\")\n",
    "\n",
    "# Step 5: Calculate the total number of Buy Box opportunities\n",
    "total_buybox_opportunities = filtered_mixed_sellers_df.shape[0]\n",
    "\n",
    "# Step 6: Calculate and print the percentage of Buy Box wins\n",
    "algorithmic_seller_count_percentage = algorithmic_seller_count / total_buybox_opportunities * 100\n",
    "non_algorithmic_seller_count_percentage = non_algorithmic_seller_count / total_buybox_opportunities * 100\n",
    "amazon_seller_count_percentage = amazon_seller_count / total_buybox_opportunities * 100\n",
    "amazon_like_count_percentage = amazon_like_count / total_buybox_opportunities * 100\n",
    "print(f\"Algorithmic sellers won the Buy Box {algorithmic_seller_count_percentage:.2f}% of the time.\")\n",
    "print(f\"Non-algorithmic sellers won the Buy Box {non_algorithmic_seller_count_percentage:.2f}% of the time.\")\n",
    "print(f\"Amazon sellers won the Buy Box {amazon_seller_count_percentage:.2f}% of the time.\")\n",
    "print(f\"Amazon Like sellers won the Buy Box {amazon_like_count_percentage:.2f}% of the time.\")\n",
    "\n",
    "#Step 7: Group the filtered_mixed_sellers_df DataFrame by 'asin', 'sellerName'\n",
    "grouped_asin_seller = filtered_mixed_sellers_df.groupby(['asin', 'sellerName'])\n",
    "\n",
    "#Step 8: Define a function to identify algorithmic, non-algorithmic, Amazon, and Amazon Like seller pairs\n",
    "def identify_seller_type(group):\n",
    "    if group['sellerName'].values[0] in df_algorithmic_seller_names['sellerName'].values:\n",
    "        return 'algorithmic'\n",
    "    elif group['sellerName'].values[0] in df_non_algorithmic_seller_names['sellerName'].values:\n",
    "        return 'non_algorithmic'\n",
    "    elif group['sellerName'].values[0] in amazon_seller_names_df_only_amazon['sellerName'].values:\n",
    "        return 'amazon'\n",
    "    elif group['sellerName'].values[0] in amazon_seller_names_df_and_like['sellerName'].values:\n",
    "        return 'amazon_like'\n",
    "    else:\n",
    "        return 'other'\n",
    "\n",
    "#Step 9: Apply the function to the grouped data and save the results in a new DataFrame\n",
    "grouped_asin_seller_df = grouped_asin_seller.apply(identify_seller_type).reset_index()\n",
    "grouped_asin_seller_df.columns = ['asin', 'sellerName', 'sellerType'] # Assign column names explicitly\n",
    "\n",
    "#Step 10: Filter the DataFrame to include rows where 'sellerType' is 'algorithmic', 'non_algorithmic', 'amazon', or 'amazon_like'\n",
    "filtered_asin_seller = grouped_asin_seller_df[grouped_asin_seller_df['sellerType'].isin(['algorithmic', 'non_algorithmic', 'amazon', 'amazon_like'])]\n",
    "\n",
    "#Step 11: Print the counts of algorithmic, non-algorithmic, Amazon, and Amazon Like ASIN/seller pairs\n",
    "print(f\"There are {filtered_asin_seller[filtered_asin_seller['sellerType'] == 'algorithmic'].shape[0]} algorithmic ASIN/seller pairs.\")\n",
    "print(f\"There are {filtered_asin_seller[filtered_asin_seller['sellerType'] == 'non_algorithmic'].shape[0]} non-algorithmic ASIN/seller pairs.\")\n",
    "print(f\"There are {filtered_asin_seller[filtered_asin_seller['sellerType'] == 'amazon'].shape[0]} Amazon ASIN/seller pairs.\")\n",
    "print(f\"There are {filtered_asin_seller[filtered_asin_seller['sellerType'] == 'amazon_like'].shape[0]} Amazon Like ASIN/seller pairs.\")\n"
   ]
  },
  {
   "cell_type": "markdown",
   "id": "c10febda",
   "metadata": {},
   "source": [
    "## Non Amazon Products"
   ]
  },
  {
   "cell_type": "code",
   "execution_count": 10,
   "id": "f52f1b9b",
   "metadata": {},
   "outputs": [
    {
     "name": "stdout",
     "output_type": "stream",
     "text": [
      "Algorithmic sellers won the Buy Box 55.65% of the time.\n",
      "Non-algorithmic sellers won the Buy Box 44.35% of the time.\n",
      "There are 153 unique ASINs in the mixed_sellers_df DataFrame.\n",
      "There are 431 algorithmic ASIN/seller pairs.\n",
      "There are 729 non-algorithmic ASIN/seller pairs.\n"
     ]
    }
   ],
   "source": [
    "import pandas as pd\n",
    "\n",
    "# Step 1: Group non_amazon_df by 'asin' and 'time'\n",
    "grouped_non_amazon_df = non_amazon_df.groupby(['asin', 'time'])\n",
    "\n",
    "# Step 2: Define a function to filter groups with at least one algorithmic and one non-algorithmic seller\n",
    "def filter_mixed_sellers(group):\n",
    "    algorithmic_present = group['sellerName'].isin(df_algorithmic_seller_names['sellerName']).any()\n",
    "    non_algorithmic_present = group['sellerName'].isin(df_non_algorithmic_seller_names['sellerName']).any()\n",
    "    return algorithmic_present and non_algorithmic_present\n",
    "\n",
    "# Step 3: Apply the function to the grouped data and save the results in a new DataFrame\n",
    "mixed_sellers_df = grouped_non_amazon_df.filter(filter_mixed_sellers)\n",
    "\n",
    "# Add a new column 'is_algorithmic' to the mixed_sellers_df DataFrame\n",
    "mixed_sellers_df['is_algorithmic'] = mixed_sellers_df['sellerName'].isin(df_algorithmic_seller_names['sellerName'])\n",
    "\n",
    "# Step 4: Calculate the number of Buy Box wins\n",
    "algorithmic_buybox_wins = mixed_sellers_df[mixed_sellers_df['sellerName'].isin(df_algorithmic_seller_names['sellerName']) & (mixed_sellers_df['buyBoxWinner'] == True)].shape[0]\n",
    "non_algorithmic_buybox_wins = mixed_sellers_df[mixed_sellers_df['sellerName'].isin(df_non_algorithmic_seller_names['sellerName']) & (mixed_sellers_df['buyBoxWinner'] == True)].shape[0]\n",
    "\n",
    "# Step 5: Calculate the total number of Buy Box opportunities\n",
    "total_buybox_opportunities = mixed_sellers_df[mixed_sellers_df['buyBoxWinner'] == True].shape[0]\n",
    "\n",
    "# Step 6: Calculate and print the percentage of Buy Box wins\n",
    "algorithmic_buybox_win_rate = algorithmic_buybox_wins / total_buybox_opportunities * 100\n",
    "non_algorithmic_buybox_win_rate = non_algorithmic_buybox_wins / total_buybox_opportunities * 100\n",
    "\n",
    "print(f\"Algorithmic sellers won the Buy Box {algorithmic_buybox_win_rate:.2f}% of the time.\")\n",
    "print(f\"Non-algorithmic sellers won the Buy Box {non_algorithmic_buybox_win_rate:.2f}% of the time.\")\n",
    "\n",
    "# Step 7: Find the number of unique ASINs in the mixed_sellers_df DataFrame\n",
    "unique_asins = mixed_sellers_df['asin'].nunique()\n",
    "print(f\"There are {unique_asins} unique ASINs in the mixed_sellers_df DataFrame.\")\n",
    "\n",
    "# Step 8: Create a new DataFrame that groups by 'asin', 'sellerName' and 'is_algorithmic'\n",
    "grouped_asin_seller = mixed_sellers_df.groupby(['asin', 'sellerName', 'is_algorithmic'])\n",
    "\n",
    "# Step 9: Define a function to count unique ASIN/seller pairs\n",
    "def count_unique_pairs(group):\n",
    "    return group['asin'].nunique(), group['sellerName'].nunique()\n",
    "\n",
    "# Step 10: Apply the function to the grouped data and save the results in a new DataFrame\n",
    "asin_seller_counts = grouped_asin_seller.apply(count_unique_pairs).reset_index()\n",
    "\n",
    "# Step 11: Separate the counts of algorithmic and non-algorithmic ASIN/seller pairs\n",
    "algorithmic_asin_seller_counts = asin_seller_counts[asin_seller_counts['is_algorithmic'] == True]\n",
    "non_algorithmic_asin_seller_counts = asin_seller_counts[asin_seller_counts['is_algorithmic'] == False]\n",
    "\n",
    "# Step 12: Print the counts of algorithmic and non-algorithmic ASIN/seller pairs\n",
    "print(f\"There are {len(algorithmic_asin_seller_counts)} algorithmic ASIN/seller pairs.\")\n",
    "print(f\"There are {len(non_algorithmic_asin_seller_counts)} non-algorithmic ASIN/seller pairs.\")\n"
   ]
  },
  {
   "cell_type": "code",
   "execution_count": null,
   "id": "0f86d70d",
   "metadata": {},
   "outputs": [],
   "source": []
  }
 ],
 "metadata": {
  "kernelspec": {
   "display_name": "Python 3 (ipykernel)",
   "language": "python",
   "name": "python3"
  },
  "language_info": {
   "codemirror_mode": {
    "name": "ipython",
    "version": 3
   },
   "file_extension": ".py",
   "mimetype": "text/x-python",
   "name": "python",
   "nbconvert_exporter": "python",
   "pygments_lexer": "ipython3",
   "version": "3.10.9"
  }
 },
 "nbformat": 4,
 "nbformat_minor": 5
}
