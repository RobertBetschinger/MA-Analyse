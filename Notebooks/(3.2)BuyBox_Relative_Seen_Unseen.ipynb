{
 "cells": [
  {
   "cell_type": "markdown",
   "id": "6951ce2f",
   "metadata": {},
   "source": [
    "## Random Forrest but with relative Data (Similar to Chen Paper)"
   ]
  },
  {
   "cell_type": "code",
   "execution_count": 30,
   "id": "ed05fba1",
   "metadata": {},
   "outputs": [],
   "source": [
    "import pandas as pd\n",
    "import numpy as np\n",
    "df = pd.read_csv('../Grunddatein/Zwischendatein/CleanedDataComplete.csv')"
   ]
  },
  {
   "cell_type": "code",
   "execution_count": 31,
   "id": "ef303f7d",
   "metadata": {},
   "outputs": [
    {
     "name": "stdout",
     "output_type": "stream",
     "text": [
      "Length of the DataFrame: 6591111\n",
      "The Number of Offers winning the BuyBox is 610435\n"
     ]
    }
   ],
   "source": [
    "print(\"Length of the DataFrame:\", df.shape[0])\n",
    "num_true = (df['buyBoxWinner'] == 't').sum()\n",
    "print(f\"The Number of Offers winning the BuyBox is {num_true}\")\n"
   ]
  },
  {
   "cell_type": "code",
   "execution_count": 32,
   "id": "78a19c0f",
   "metadata": {},
   "outputs": [
    {
     "name": "stdout",
     "output_type": "stream",
     "text": [
      "Number of rows sold by Amazon: 405018\n"
     ]
    }
   ],
   "source": [
    "## Exclude all Rows where condition isnt New and which where a reactive Crawl\n",
    "df = df[df['trigByReactive'] != True]\n",
    "df = df[df['condition'].isin(['Neu', 'New'])]\n",
    "\n",
    "## Calculate the Price Diff For each Offer Timestamp Combination\n",
    "def calculate_price_diff_and_ratio(group):\n",
    "    min_price = group['price'].min()\n",
    "    group['price_diff'] = group['price'] - min_price\n",
    "    group['price_ratio'] = group['price'] / min_price\n",
    "    return group\n",
    "\n",
    "grouped_df = df.groupby(['asin', 'time'],group_keys=True)\n",
    "df = grouped_df.apply(calculate_price_diff_and_ratio)\n",
    "\n",
    "# Create a new column 'is_amazon' and set its value to True if the sellerName is 'Amazon', else set it to False\n",
    "df['is_amazon'] = df['sellerName'] == 'amazon'\n",
    "\n",
    "# Count the number of rows where 'is_amazon' is True\n",
    "amazon_count = df['is_amazon'].sum()\n",
    "print(f\"Number of rows sold by Amazon: {amazon_count}\")\n"
   ]
  },
  {
   "cell_type": "code",
   "execution_count": 33,
   "id": "dafbeb41",
   "metadata": {
    "scrolled": true
   },
   "outputs": [
    {
     "name": "stdout",
     "output_type": "stream",
     "text": [
      "Length of NAN Values for Lieferpreis: 0\n",
      "469475\n",
      "20699.60122189167\n"
     ]
    }
   ],
   "source": [
    "## Encode Features with Label Encoding\n",
    "##Lieferpreis\n",
    "nan_rows = df[df['lieferpreis'].isna()]\n",
    "amazon_count = nan_rows['sellerName'].str.contains('amazon', case=False).sum()\n",
    "amazon_count\n",
    "df['lieferpreis'] = df['lieferpreis'].fillna(0)\n",
    "nan_rows = df[df['lieferpreis'].isna()]\n",
    "print(f\"Length of NAN Values for Lieferpreis: {len(nan_rows)}\")\n",
    "## Sellerbewertung\n",
    "nan_rows = df[df['sellerbewertung'].isna()]\n",
    "print(len(nan_rows))\n",
    "amazon_count = nan_rows['sellerName'].str.contains('amazon', case=False).sum()\n",
    "amazon_count\n",
    "\n",
    "# Calculate the mean value of the \"sellerbewertung\" column\n",
    "mean_sellerbewertung = df['sellerbewertung'].mean()\n",
    "print(mean_sellerbewertung)\n",
    "\n",
    "# Replace all NaN values in the \"sellerbewertung\" column with the mean value\n",
    "df['sellerbewertung'] = df['sellerbewertung'].fillna(mean_sellerbewertung)\n",
    "df['sellerbewertung'] = df['sellerbewertung'].round().astype(int)"
   ]
  },
  {
   "cell_type": "code",
   "execution_count": 34,
   "id": "6424f988",
   "metadata": {},
   "outputs": [],
   "source": [
    "##Datediff\n",
    "fba_rows = df[df['Fulfillment_type'] == 'FBA']\n",
    "if fba_rows.empty:\n",
    "    print('There are no rows where \"Fulfillment_type\" is \"fba\".')\n",
    "else:\n",
    "    # Calculate the mean value of the \"date_diff\" column where \"fulfillment_type\" is \"fba\"\n",
    "    mean_date_diff_fba = fba_rows['date_diff'].mean()\n",
    "    #print(f'The mean value of \"date_diff\" where \"Fulfillment_type  \" is \"fba\" is: {mean_date_diff_fba}')\n",
    "\n",
    "# Round the mean value to the nearest integer\n",
    "rounded_mean_date_diff_fba = round(mean_date_diff_fba)\n",
    "# Replace all NaN values in the \"date_diff\" column with the rounded mean value\n",
    "df['date_diff'] = df['date_diff'].fillna(rounded_mean_date_diff_fba).astype(int)"
   ]
  },
  {
   "cell_type": "code",
   "execution_count": 35,
   "id": "28e19c00",
   "metadata": {},
   "outputs": [],
   "source": [
    "from sklearn.preprocessing import LabelEncoder\n",
    "categorical_features = ['asin', 'sellerId', 'Fulfillment_type']\n",
    "\n",
    "# Create a LabelEncoder object and fit it to each categorical feature\n",
    "for feature in categorical_features:\n",
    "    le = LabelEncoder()\n",
    "    df[feature] = le.fit_transform(df[feature])"
   ]
  },
  {
   "cell_type": "code",
   "execution_count": 36,
   "id": "0cd5895e",
   "metadata": {},
   "outputs": [],
   "source": [
    "# Convert the datetime column to a numeric value\n",
    "df[\"time\"] = pd.to_datetime(df[\"time\"], format=\"%Y-%m-%d %H:%M:%S\")\n",
    "df[\"time\"] = df[\"time\"].apply(lambda x: x.timestamp())"
   ]
  },
  {
   "cell_type": "markdown",
   "id": "9714a4aa",
   "metadata": {},
   "source": [
    "# Actual Random Forrest Classifier"
   ]
  },
  {
   "cell_type": "code",
   "execution_count": 37,
   "id": "b97d4060",
   "metadata": {},
   "outputs": [
    {
     "data": {
      "image/png": "[encoded data removed]",
      "text/plain": [
       "<Figure size 300x300 with 1 Axes>"
      ]
     },
     "metadata": {},
     "output_type": "display_data"
    },
    {
     "name": "stdout",
     "output_type": "stream",
     "text": [
      "AUC: 0.9989502670347579\n"
     ]
    }
   ],
   "source": [
    "from sklearn.model_selection import train_test_split\n",
    "from sklearn.ensemble import RandomForestClassifier\n",
    "from sklearn.metrics import accuracy_score, classification_report, confusion_matrix\n",
    "from sklearn.metrics import roc_auc_score\n",
    "from sklearn.metrics import balanced_accuracy_score\n",
    "import matplotlib.pyplot as plt\n",
    "\n",
    "X = df[['price_diff','price_ratio','seller_sterne','sellerbewertung','Fulfillment_type','lieferpreis','date_diff','is_amazon','numberOfSellers']]\n",
    "y = df['buyBoxWinner']\n",
    "\n",
    "X_train, X_test, y_train, y_test = train_test_split(X, y, test_size=0.3, random_state=42,stratify=y)\n",
    "\n",
    "# Create and train the Random Forest Classifier\n",
    "rfc = RandomForestClassifier(n_estimators=100, random_state=42)\n",
    "rfc.fit(X_train, y_train)\n",
    "\n",
    "# Make predictions on the test set\n",
    "y_pred_proba = rfc.predict_proba(X_test)[:, 1]  # Only take the probabilities for the positive class\n",
    "\n",
    "# Calculate the confusion matrix\n",
    "y_pred = rfc.predict(X_test)\n",
    "conf_matrix = confusion_matrix(y_true=y_test, y_pred=y_pred)\n",
    "\n",
    "# Swap True Positives and True Negatives\n",
    "conf_matrix[0,0], conf_matrix[1,1] = conf_matrix[1,1], conf_matrix[0,0]\n",
    "\n",
    "# Print the confusion matrix using Matplotlib\n",
    "fig, ax = plt.subplots(figsize=(3, 3))\n",
    "ax.matshow(conf_matrix, cmap=plt.cm.Blues, alpha=0.3)\n",
    "for i in range(conf_matrix.shape[0]):\n",
    "    for j in range(conf_matrix.shape[1]):\n",
    "        ax.text(x=j, y=i,s=conf_matrix[i, j], va='center', ha='center', size='x-large')\n",
    "\n",
    "plt.xlabel('Actuals', fontsize=15)\n",
    "plt.ylabel('Predictions', fontsize=15)\n",
    "plt.title('Confusion Matrix', fontsize=15)\n",
    "plt.show()\n",
    "\n",
    "# Calculate the AUC\n",
    "auc = roc_auc_score(y_test, y_pred_proba)\n",
    "print(\"AUC:\", auc)\n"
   ]
  },
  {
   "cell_type": "code",
   "execution_count": 38,
   "id": "d48c2839",
   "metadata": {},
   "outputs": [
    {
     "name": "stdout",
     "output_type": "stream",
     "text": [
      "The Number of Rows winning the BuyBox in the total Dataframe is 588907\n",
      "The Number of Rows winning the BuyBox in the Test-Set is 176672\n"
     ]
    }
   ],
   "source": [
    "num_true = (df['buyBoxWinner'] == 't').sum()\n",
    "num_true\n",
    "print(f\"The Number of Rows winning the BuyBox in the total Dataframe is {num_true}\")\n",
    "print(f\"The Number of Rows winning the BuyBox in the Test-Set is {conf_matrix[0,0] + conf_matrix[1,0]}\")"
   ]
  },
  {
   "cell_type": "code",
   "execution_count": 39,
   "id": "d1e0ec5d",
   "metadata": {},
   "outputs": [
    {
     "name": "stdout",
     "output_type": "stream",
     "text": [
      "f    1404291\n",
      "t     176672\n",
      "Name: buyBoxWinner, dtype: int64\n",
      "The number of rows in the train set is: 3688913\n",
      "The number of rows in the test set is: 1580963\n"
     ]
    }
   ],
   "source": [
    "value_counts = y_test.value_counts()\n",
    "# print the result\n",
    "print(value_counts)\n",
    "# Count the number of rows in the train and test sets\n",
    "num_rows_train = X_train.shape[0]\n",
    "num_rows_test = X_test.shape[0]\n",
    "# Print the results\n",
    "print(f'The number of rows in the train set is: {num_rows_train}')\n",
    "print(f'The number of rows in the test set is: {num_rows_test}')"
   ]
  },
  {
   "cell_type": "code",
   "execution_count": 40,
   "id": "91a5e287",
   "metadata": {},
   "outputs": [
    {
     "name": "stdout",
     "output_type": "stream",
     "text": [
      "Accuracy: 99.27%\n",
      "Classification Report:\n",
      "               precision    recall  f1-score   support\n",
      "\n",
      "           f       1.00      1.00      1.00   1404291\n",
      "           t       0.96      0.97      0.97    176672\n",
      "\n",
      "    accuracy                           0.99   1580963\n",
      "   macro avg       0.98      0.98      0.98   1580963\n",
      "weighted avg       0.99      0.99      0.99   1580963\n",
      "\n"
     ]
    }
   ],
   "source": [
    "##Qualitätsmaße\n",
    "# Calculate the accuracy, aber ansich nicht so gutes Maß, da imbalanced Verteilung von BuyBox\n",
    "#Gewichtete Accuracy berechnen\n",
    "acc = accuracy_score(y_test, y_pred)\n",
    "print(\"Accuracy: {:.2f}%\".format(acc * 100))\n",
    "print(\"Classification Report:\\n\", classification_report(y_test, y_pred))\n"
   ]
  },
  {
   "cell_type": "code",
   "execution_count": 41,
   "id": "d6306e16",
   "metadata": {
    "scrolled": true
   },
   "outputs": [
    {
     "name": "stdout",
     "output_type": "stream",
     "text": [
      "            Feature  Importance\n",
      "7         is_amazon    0.237709\n",
      "1       price_ratio    0.162070\n",
      "0        price_diff    0.150239\n",
      "4  Fulfillment_type    0.138919\n",
      "3   sellerbewertung    0.122852\n",
      "8   numberOfSellers    0.075405\n",
      "5       lieferpreis    0.061262\n",
      "6         date_diff    0.028157\n",
      "2     seller_sterne    0.023388\n"
     ]
    }
   ],
   "source": [
    "## Print out Feature Importances\n",
    "feature_importances = rfc.feature_importances_\n",
    "feature_names = X.columns\n",
    "# Create a DataFrame of the feature importances and their names\n",
    "feature_importances_df = pd.DataFrame({'Feature': feature_names, 'Importance': feature_importances})\n",
    "\n",
    "# Sort the DataFrame by feature importances in descending order\n",
    "feature_importances_df = feature_importances_df.sort_values(by='Importance', ascending=False)\n",
    "\n",
    "# Print the DataFrame of feature importances and their names\n",
    "print(feature_importances_df)"
   ]
  },
  {
   "cell_type": "markdown",
   "id": "0cc3d9b0",
   "metadata": {},
   "source": [
    "## Second Actual Random Forest with Seen and Unseen Data"
   ]
  },
  {
   "cell_type": "code",
   "execution_count": 42,
   "id": "8e940c55",
   "metadata": {},
   "outputs": [
    {
     "data": {
      "image/png": "[encoded data removed]",
      "text/plain": [
       "<Figure size 300x300 with 1 Axes>"
      ]
     },
     "metadata": {},
     "output_type": "display_data"
    },
    {
     "name": "stdout",
     "output_type": "stream",
     "text": [
      "AUC: 0.957539347229057\n"
     ]
    }
   ],
   "source": [
    "import pandas as pd\n",
    "from sklearn.model_selection import train_test_split\n",
    "from sklearn.ensemble import RandomForestClassifier\n",
    "from sklearn.metrics import accuracy_score, classification_report, confusion_matrix\n",
    "from sklearn.metrics import roc_auc_score\n",
    "from sklearn.metrics import balanced_accuracy_score\n",
    "import matplotlib.pyplot as plt\n",
    "\n",
    "unique_asins = df['asin'].unique()\n",
    "train_asins, test_asins = train_test_split(unique_asins, test_size=0.25, random_state=56)\n",
    "\n",
    "seen_data = df[df['asin'].isin(train_asins)]\n",
    "unseen_data = df[df['asin'].isin(test_asins)]\n",
    "\n",
    "X_train_seen = seen_data[['is_amazon','price_diff','price_ratio','seller_sterne','sellerbewertung','Fulfillment_type','lieferpreis','date_diff','numberOfSellers']]\n",
    "y_train_seen = seen_data['buyBoxWinner']\n",
    "\n",
    "X_test_unseen = unseen_data[['is_amazon','price_diff','price_ratio','seller_sterne','sellerbewertung','Fulfillment_type','lieferpreis','date_diff','numberOfSellers']]\n",
    "y_test_unseen = unseen_data['buyBoxWinner']\n",
    "\n",
    "rfc = RandomForestClassifier(n_estimators=100, random_state=42)\n",
    "rfc.fit(X_train_seen, y_train_seen)\n",
    "\n",
    "y_pred_proba = rfc.predict_proba(X_test_unseen)[:, 1]  # Only take the probabilities for the positive class\n",
    "y_pred = rfc.predict(X_test_unseen)\n",
    "\n",
    "conf_matrix = confusion_matrix(y_true=y_test_unseen, y_pred=y_pred)\n",
    "\n",
    "conf_matrix[0,0], conf_matrix[1,1] = conf_matrix[1,1], conf_matrix[0,0]\n",
    "\n",
    "fig, ax = plt.subplots(figsize=(3, 3))\n",
    "ax.matshow(conf_matrix, cmap=plt.cm.Blues, alpha=0.3)\n",
    "for i in range(conf_matrix.shape[0]):\n",
    "    for j in range(conf_matrix.shape[1]):\n",
    "        ax.text(x=j, y=i,s=conf_matrix[i, j], va='center', ha='center', size='x-large')\n",
    "\n",
    "plt.xlabel('Actuals', fontsize=15)\n",
    "plt.ylabel('Predictions', fontsize=15)\n",
    "plt.title('Confusion Matrix', fontsize=15)\n",
    "plt.show()\n",
    "\n",
    "auc = roc_auc_score(y_test_unseen, y_pred_proba)\n",
    "print(\"AUC:\", auc)\n"
   ]
  },
  {
   "cell_type": "code",
   "execution_count": 47,
   "id": "68e3fc9e",
   "metadata": {
    "scrolled": true
   },
   "outputs": [
    {
     "name": "stdout",
     "output_type": "stream",
     "text": [
      "The Number of Rows winning the BuyBox in the total Dataframe is 588907\n",
      "The Number of Rows winning the BuyBox in the Test-Set is 145983\n"
     ]
    }
   ],
   "source": [
    "num_true = (df['buyBoxWinner'] == 't').sum()\n",
    "num_true\n",
    "print(f\"The Number of Rows winning the BuyBox in the total Dataframe is {num_true}\")\n",
    "print(f\"The Number of Rows winning the BuyBox in the Test-Set is {conf_matrix[0,0] + conf_matrix[1,0]}\")"
   ]
  },
  {
   "cell_type": "code",
   "execution_count": 48,
   "id": "4c245a6e",
   "metadata": {},
   "outputs": [
    {
     "name": "stdout",
     "output_type": "stream",
     "text": [
      "f    1126833\n",
      "t     145983\n",
      "Name: buyBoxWinner, dtype: int64\n",
      "The number of rows in the train set is: 3997060\n",
      "The number of rows in the test set is: 1272816\n"
     ]
    }
   ],
   "source": [
    "value_counts = y_test_unseen.value_counts()\n",
    "# print the result\n",
    "print(value_counts)\n",
    "# Count the number of rows in the train and test sets\n",
    "num_rows_train = X_train_seen.shape[0]\n",
    "num_rows_test = X_test_unseen.shape[0]\n",
    "# Print the results\n",
    "print(f'The number of rows in the train set is: {num_rows_train}')\n",
    "print(f'The number of rows in the test set is: {num_rows_test}')"
   ]
  },
  {
   "cell_type": "code",
   "execution_count": 49,
   "id": "dd13eaaf",
   "metadata": {
    "scrolled": true
   },
   "outputs": [
    {
     "name": "stdout",
     "output_type": "stream",
     "text": [
      "Accuracy: 94.83%\n",
      "Classification Report:\n",
      "               precision    recall  f1-score   support\n",
      "\n",
      "           f       0.96      0.98      0.97   1126833\n",
      "           t       0.82      0.71      0.76    145983\n",
      "\n",
      "    accuracy                           0.95   1272816\n",
      "   macro avg       0.89      0.84      0.86   1272816\n",
      "weighted avg       0.95      0.95      0.95   1272816\n",
      "\n"
     ]
    }
   ],
   "source": [
    "##Qualitätsmaße\n",
    "# Calculate the accuracy, aber ansich nicht so gutes Maß, da imbalanced Verteilung von BuyBox\n",
    "#Gewichtete Accuracy berechnen\n",
    "acc = accuracy_score(y_test_unseen, y_pred)\n",
    "print(\"Accuracy: {:.2f}%\".format(acc * 100))\n",
    "print(\"Classification Report:\\n\", classification_report(y_test_unseen, y_pred))\n"
   ]
  },
  {
   "cell_type": "code",
   "execution_count": 50,
   "id": "13669650",
   "metadata": {},
   "outputs": [
    {
     "name": "stdout",
     "output_type": "stream",
     "text": [
      "Index(['is_amazon', 'price_diff', 'price_ratio', 'seller_sterne',\n",
      "       'sellerbewertung', 'Fulfillment_type', 'lieferpreis', 'date_diff',\n",
      "       'numberOfSellers'],\n",
      "      dtype='object')\n",
      "            Feature  Importance\n",
      "0         is_amazon    0.228729\n",
      "2       price_ratio    0.180731\n",
      "1        price_diff    0.166957\n",
      "5  Fulfillment_type    0.121081\n",
      "4   sellerbewertung    0.113387\n",
      "8   numberOfSellers    0.077816\n",
      "6       lieferpreis    0.058588\n",
      "7         date_diff    0.027439\n",
      "3     seller_sterne    0.025273\n"
     ]
    }
   ],
   "source": [
    "## Print out Feature Importances\n",
    "feature_importances = rfc.feature_importances_\n",
    "feature_names = X_train_seen.columns\n",
    "print(feature_names)\n",
    "# Create a DataFrame of the feature importances and their names\n",
    "feature_importances_df = pd.DataFrame({'Feature': feature_names, 'Importance': feature_importances})\n",
    "\n",
    "# Sort the DataFrame by feature importances in descending order\n",
    "feature_importances_df = feature_importances_df.sort_values(by='Importance', ascending=False)\n",
    "\n",
    "# Print the DataFrame of feature importances and their names\n",
    "print(feature_importances_df)"
   ]
  },
  {
   "cell_type": "code",
   "execution_count": null,
   "id": "71de9241",
   "metadata": {},
   "outputs": [],
   "source": []
  }
 ],
 "metadata": {
  "kernelspec": {
   "display_name": "Python 3 (ipykernel)",
   "language": "python",
   "name": "python3"
  },
  "language_info": {
   "codemirror_mode": {
    "name": "ipython",
    "version": 3
   },
   "file_extension": ".py",
   "mimetype": "text/x-python",
   "name": "python",
   "nbconvert_exporter": "python",
   "pygments_lexer": "ipython3",
   "version": "3.10.9"
  }
 },
 "nbformat": 4,
 "nbformat_minor": 5
}
