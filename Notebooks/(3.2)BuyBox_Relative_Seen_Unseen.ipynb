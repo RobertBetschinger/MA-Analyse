{
 "cells": [
  {
   "cell_type": "markdown",
   "id": "6951ce2f",
   "metadata": {},
   "source": [
    "## Random Forrest but with relative Data (Similar to Chen Paper)"
   ]
  },
  {
   "cell_type": "code",
   "execution_count": 2,
   "id": "78a19c0f",
   "metadata": {},
   "outputs": [
    {
     "name": "stdout",
     "output_type": "stream",
     "text": [
      "Number of rows sold by Amazon: 6848\n"
     ]
    }
   ],
   "source": [
    "import pandas as pd\n",
    "import numpy as np\n",
    "df = pd.read_csv('../Grunddatein/Zwischendatein/cleaned_data.csv')\n",
    "## Exclude all Rows where condition isnt New and which where a reactive Crawl\n",
    "df = df[df['trigByReactive'] != True]\n",
    "df = df[df['condition'].isin(['Neu', 'New'])]\n",
    "\n",
    "def calculate_price_diff_and_ratio(group):\n",
    "    min_price = group['price'].min()\n",
    "    group['price_diff'] = group['price'] - min_price\n",
    "    group['price_ratio'] = group['price'] / min_price\n",
    "    return group\n",
    "\n",
    "grouped_df = df.groupby(['asin', 'time'],group_keys=True)\n",
    "df = grouped_df.apply(calculate_price_diff_and_ratio)\n",
    "\n",
    "# Create a new column 'is_amazon' and set its value to True if the sellerName is 'Amazon', else set it to False\n",
    "df['is_amazon'] = df['sellerName'] == 'amazon'\n",
    "\n",
    "# Count the number of rows where 'is_amazon' is True\n",
    "amazon_count = df['is_amazon'].sum()\n",
    "print(f\"Number of rows sold by Amazon: {amazon_count}\")\n"
   ]
  },
  {
   "cell_type": "code",
   "execution_count": 3,
   "id": "dafbeb41",
   "metadata": {
    "scrolled": true
   },
   "outputs": [
    {
     "name": "stdout",
     "output_type": "stream",
     "text": [
      "Length of NAN Values for Lieferpreis: 0\n",
      "7973\n",
      "21418.24931189116\n"
     ]
    }
   ],
   "source": [
    "## Encode Features with Label Encoding\n",
    "##Lieferpreis\n",
    "nan_rows = df[df['lieferpreis'].isna()]\n",
    "amazon_count = nan_rows['sellerName'].str.contains('amazon', case=False).sum()\n",
    "amazon_count\n",
    "df['lieferpreis'] = df['lieferpreis'].fillna(0)\n",
    "nan_rows = df[df['lieferpreis'].isna()]\n",
    "print(f\"Length of NAN Values for Lieferpreis: {len(nan_rows)}\")\n",
    "## Sellerbewertung\n",
    "nan_rows = df[df['sellerbewertung'].isna()]\n",
    "print(len(nan_rows))\n",
    "amazon_count = nan_rows['sellerName'].str.contains('amazon', case=False).sum()\n",
    "amazon_count\n",
    "\n",
    "# Calculate the mean value of the \"sellerbewertung\" column\n",
    "mean_sellerbewertung = df['sellerbewertung'].mean()\n",
    "print(mean_sellerbewertung)\n",
    "\n",
    "# Replace all NaN values in the \"sellerbewertung\" column with the mean value\n",
    "df['sellerbewertung'] = df['sellerbewertung'].fillna(mean_sellerbewertung)\n",
    "df['sellerbewertung'] = df['sellerbewertung'].round().astype(int)"
   ]
  },
  {
   "cell_type": "code",
   "execution_count": 4,
   "id": "6424f988",
   "metadata": {},
   "outputs": [],
   "source": [
    "##Datediff\n",
    "fba_rows = df[df['Fulfillment_type'] == 'FBA']\n",
    "if fba_rows.empty:\n",
    "    print('There are no rows where \"Fulfillment_type\" is \"fba\".')\n",
    "else:\n",
    "    # Calculate the mean value of the \"date_diff\" column where \"fulfillment_type\" is \"fba\"\n",
    "    mean_date_diff_fba = fba_rows['date_diff'].mean()\n",
    "    #print(f'The mean value of \"date_diff\" where \"Fulfillment_type  \" is \"fba\" is: {mean_date_diff_fba}')\n",
    "\n",
    "# Round the mean value to the nearest integer\n",
    "rounded_mean_date_diff_fba = round(mean_date_diff_fba)\n",
    "# Replace all NaN values in the \"date_diff\" column with the rounded mean value\n",
    "df['date_diff'] = df['date_diff'].fillna(rounded_mean_date_diff_fba).astype(int)"
   ]
  },
  {
   "cell_type": "code",
   "execution_count": 5,
   "id": "28e19c00",
   "metadata": {},
   "outputs": [],
   "source": [
    "from sklearn.preprocessing import LabelEncoder\n",
    "categorical_features = ['asin', 'sellerId', 'Fulfillment_type']\n",
    "\n",
    "# Create a LabelEncoder object and fit it to each categorical feature\n",
    "for feature in categorical_features:\n",
    "    le = LabelEncoder()\n",
    "    df[feature] = le.fit_transform(df[feature])"
   ]
  },
  {
   "cell_type": "code",
   "execution_count": 12,
   "id": "0cd5895e",
   "metadata": {},
   "outputs": [],
   "source": [
    "# Convert the datetime column to a numeric value\n",
    "df[\"time\"] = pd.to_datetime(df[\"time\"], format=\"%Y-%m-%d %H:%M:%S\")\n",
    "df[\"time\"] = df[\"time\"].apply(lambda x: x.timestamp())"
   ]
  },
  {
   "cell_type": "markdown",
   "id": "9714a4aa",
   "metadata": {},
   "source": [
    "# Actual Random Forrest Classifier"
   ]
  },
  {
   "cell_type": "code",
   "execution_count": 13,
   "id": "09e5006c",
   "metadata": {},
   "outputs": [
    {
     "data": {
      "image/png": "[encoded data removed]",
      "text/plain": [
       "<Figure size 300x300 with 1 Axes>"
      ]
     },
     "metadata": {},
     "output_type": "display_data"
    },
    {
     "name": "stdout",
     "output_type": "stream",
     "text": [
      "AUC: 0.9789430602436965\n"
     ]
    }
   ],
   "source": [
    "from sklearn.model_selection import train_test_split\n",
    "from sklearn.ensemble import RandomForestClassifier\n",
    "from sklearn.metrics import accuracy_score, classification_report, confusion_matrix\n",
    "from sklearn.metrics import roc_auc_score\n",
    "from sklearn.metrics import balanced_accuracy_score\n",
    "import matplotlib.pyplot as plt\n",
    "\n",
    "#Maybe its better to ignore the Column Sellerbewertung\n",
    "#Testing without SellerID\n",
    "\n",
    "#X = df[['asin','time', 'price','sellerbewertung','seller_sterne','lieferpreis','Fulfillment_type','date_diff','numberOfSellers']]\n",
    "X = df[['price_diff','price_ratio','seller_sterne','sellerbewertung','Fulfillment_type','lieferpreis','date_diff','is_amazon','numberOfSellers']]\n",
    "#X = df[['price_diff','price_ratio','seller_sterne','sellerbewertung','Fulfillment_type','is_amazon']]\n",
    "y = df['buyBoxWinner']\n",
    "\n",
    "X_train, X_test, y_train, y_test = train_test_split(X, y, test_size=0.3, random_state=42,stratify=y)\n",
    "\n",
    "# Create and train the Random Forest Classifier\n",
    "rfc = RandomForestClassifier(n_estimators=100, random_state=42)\n",
    "rfc.fit(X_train, y_train)\n",
    "\n",
    "# Make predictions on the test set\n",
    "y_pred = rfc.predict(X_test)\n",
    "\n",
    "\n",
    "# Calculate the confusion matrix\n",
    "# The Printing of the confusion matrix, is partially buggy. Follow this Tutorial to retrive the right matrix:\n",
    "##This Code is based on the Example from: https://vitalflux.com/python-draw-confusion-matrix-matplotlib/\n",
    "conf_matrix = confusion_matrix(y_true=y_test, y_pred=y_pred)\n",
    "\n",
    "# Swap True Positives and True Negatives\n",
    "conf_matrix[0,0], conf_matrix[1,1] = conf_matrix[1,1], conf_matrix[0,0]\n",
    "\n",
    "# Print the confusion matrix using Matplotlib\n",
    "fig, ax = plt.subplots(figsize=(3, 3))\n",
    "ax.matshow(conf_matrix, cmap=plt.cm.Blues, alpha=0.3)\n",
    "for i in range(conf_matrix.shape[0]):\n",
    "    for j in range(conf_matrix.shape[1]):\n",
    "        ax.text(x=j, y=i,s=conf_matrix[i, j], va='center', ha='center', size='x-large')\n",
    "\n",
    "plt.xlabel('Actuals', fontsize=15)\n",
    "plt.ylabel('Predictions', fontsize=15)\n",
    "plt.title('Confusion Matrix', fontsize=15)\n",
    "plt.show()\n",
    "\n",
    "\n",
    "#Area under The Curve ausrechnen lassen\n",
    "# Calculate the AUC\n",
    "#The AUC (area under the ROC curve) is a measure of the performance of a binary classification model. \n",
    "#It represents the degree to which the model is able to distinguish between positive and negative examples. \n",
    "#The AUC ranges from 0 to 1, with higher values indicating better performance.\n",
    "auc = roc_auc_score(y_test, y_pred)\n",
    "print(\"AUC:\", auc)\n",
    "\n",
    "#Balanced ACC\n",
    "#bal_acc = balanced_accuracy_score(y_test, y_pred)\n",
    "#print(\"Balanced accuracy:\", bal_acc)"
   ]
  },
  {
   "cell_type": "code",
   "execution_count": 14,
   "id": "d48c2839",
   "metadata": {},
   "outputs": [
    {
     "name": "stdout",
     "output_type": "stream",
     "text": [
      "The Number of Rows winning the BuyBox in the total Dataframe is 9923\n",
      "The Number of Rows winning the BuyBox in the Test-Set is 2977\n"
     ]
    }
   ],
   "source": [
    "num_true = (df['buyBoxWinner'] == True).sum()\n",
    "num_true\n",
    "print(f\"The Number of Rows winning the BuyBox in the total Dataframe is {num_true}\")\n",
    "print(f\"The Number of Rows winning the BuyBox in the Test-Set is {conf_matrix[0,0] + conf_matrix[1,0]}\")"
   ]
  },
  {
   "cell_type": "code",
   "execution_count": 15,
   "id": "d1e0ec5d",
   "metadata": {},
   "outputs": [
    {
     "name": "stdout",
     "output_type": "stream",
     "text": [
      "False    23098\n",
      "True      2977\n",
      "Name: buyBoxWinner, dtype: int64\n",
      "The number of rows in the train set is: 60839\n",
      "The number of rows in the test set is: 26075\n"
     ]
    }
   ],
   "source": [
    "value_counts = y_test.value_counts()\n",
    "# print the result\n",
    "print(value_counts)\n",
    "# Count the number of rows in the train and test sets\n",
    "num_rows_train = X_train.shape[0]\n",
    "num_rows_test = X_test.shape[0]\n",
    "# Print the results\n",
    "print(f'The number of rows in the train set is: {num_rows_train}')\n",
    "print(f'The number of rows in the test set is: {num_rows_test}')"
   ]
  },
  {
   "cell_type": "code",
   "execution_count": 16,
   "id": "91a5e287",
   "metadata": {},
   "outputs": [
    {
     "name": "stdout",
     "output_type": "stream",
     "text": [
      "Accuracy: 99.20%\n",
      "Classification Report:\n",
      "               precision    recall  f1-score   support\n",
      "\n",
      "       False       1.00      1.00      1.00     23098\n",
      "        True       0.97      0.96      0.96      2977\n",
      "\n",
      "    accuracy                           0.99     26075\n",
      "   macro avg       0.98      0.98      0.98     26075\n",
      "weighted avg       0.99      0.99      0.99     26075\n",
      "\n"
     ]
    }
   ],
   "source": [
    "##Qualitätsmaße\n",
    "# Calculate the accuracy, aber ansich nicht so gutes Maß, da imbalanced Verteilung von BuyBox\n",
    "#Gewichtete Accuracy berechnen\n",
    "acc = accuracy_score(y_test, y_pred)\n",
    "print(\"Accuracy: {:.2f}%\".format(acc * 100))\n",
    "print(\"Classification Report:\\n\", classification_report(y_test, y_pred))\n"
   ]
  },
  {
   "cell_type": "code",
   "execution_count": 17,
   "id": "d6306e16",
   "metadata": {
    "scrolled": true
   },
   "outputs": [
    {
     "name": "stdout",
     "output_type": "stream",
     "text": [
      "            Feature  Importance\n",
      "7         is_amazon    0.221173\n",
      "2     seller_sterne    0.156991\n",
      "1       price_ratio    0.132801\n",
      "0        price_diff    0.113132\n",
      "4  Fulfillment_type    0.098088\n",
      "3   sellerbewertung    0.090301\n",
      "8   numberOfSellers    0.084667\n",
      "6         date_diff    0.051822\n",
      "5       lieferpreis    0.051026\n"
     ]
    }
   ],
   "source": [
    "## Print out Feature Importances\n",
    "feature_importances = rfc.feature_importances_\n",
    "feature_names = X.columns\n",
    "# Create a DataFrame of the feature importances and their names\n",
    "feature_importances_df = pd.DataFrame({'Feature': feature_names, 'Importance': feature_importances})\n",
    "\n",
    "# Sort the DataFrame by feature importances in descending order\n",
    "feature_importances_df = feature_importances_df.sort_values(by='Importance', ascending=False)\n",
    "\n",
    "# Print the DataFrame of feature importances and their names\n",
    "print(feature_importances_df)"
   ]
  },
  {
   "cell_type": "markdown",
   "id": "0cc3d9b0",
   "metadata": {},
   "source": [
    "## Second Actual Random Forest with Seen and Unseen Data"
   ]
  },
  {
   "cell_type": "code",
   "execution_count": 23,
   "id": "8e940c55",
   "metadata": {},
   "outputs": [
    {
     "data": {
      "image/png": "[encoded data removed]",
      "text/plain": [
       "<Figure size 300x300 with 1 Axes>"
      ]
     },
     "metadata": {},
     "output_type": "display_data"
    },
    {
     "name": "stdout",
     "output_type": "stream",
     "text": [
      "AUC: 0.88605876037008\n"
     ]
    }
   ],
   "source": [
    "import pandas as pd\n",
    "from sklearn.model_selection import train_test_split\n",
    "from sklearn.ensemble import RandomForestClassifier\n",
    "from sklearn.metrics import accuracy_score, classification_report, confusion_matrix\n",
    "from sklearn.metrics import roc_auc_score\n",
    "from sklearn.metrics import balanced_accuracy_score\n",
    "import matplotlib.pyplot as plt\n",
    "\n",
    "\n",
    "# Get unique 'asin' values and split them into train and test sets\n",
    "unique_asins = df['asin'].unique()\n",
    "train_asins, test_asins = train_test_split(unique_asins, test_size=0.25, random_state=56)\n",
    "\n",
    "# Split the DataFrame into seen (training) and unseen (testing) data based on the train and test 'asin' sets\n",
    "seen_data = df[df['asin'].isin(train_asins)]\n",
    "unseen_data = df[df['asin'].isin(test_asins)]\n",
    "\n",
    "# Prepare the seen and unseen data for the model\n",
    "X_train_seen = seen_data[['is_amazon','price_diff','price_ratio','seller_sterne','sellerbewertung','Fulfillment_type','lieferpreis','date_diff','numberOfSellers']]\n",
    "y_train_seen = seen_data['buyBoxWinner']\n",
    "\n",
    "X_test_unseen = unseen_data[['is_amazon','price_diff','price_ratio','seller_sterne','sellerbewertung','Fulfillment_type','lieferpreis','date_diff','numberOfSellers']]\n",
    "y_test_unseen = unseen_data['buyBoxWinner']\n",
    "\n",
    "# Your original code to train the model and evaluate it (unchanged)\n",
    "# Create and train the Random Forest Classifier\n",
    "rfc = RandomForestClassifier(n_estimators=100, random_state=42)\n",
    "rfc.fit(X_train_seen, y_train_seen)\n",
    "\n",
    "# Make predictions on the test set\n",
    "y_pred = rfc.predict(X_test_unseen)\n",
    "\n",
    "\n",
    "# Calculate the confusion matrix\n",
    "# The Printing of the confusion matrix, is partially buggy. Follow this Tutorial to retrive the right matrix:\n",
    "##This Code is based on the Example from: https://vitalflux.com/python-draw-confusion-matrix-matplotlib/\n",
    "conf_matrix = confusion_matrix(y_true=y_test_unseen, y_pred=y_pred)\n",
    "\n",
    "# Swap True Positives and True Negatives\n",
    "conf_matrix[0,0], conf_matrix[1,1] = conf_matrix[1,1], conf_matrix[0,0]\n",
    "\n",
    "# Print the confusion matrix using Matplotlib\n",
    "fig, ax = plt.subplots(figsize=(3, 3))\n",
    "ax.matshow(conf_matrix, cmap=plt.cm.Blues, alpha=0.3)\n",
    "for i in range(conf_matrix.shape[0]):\n",
    "    for j in range(conf_matrix.shape[1]):\n",
    "        ax.text(x=j, y=i,s=conf_matrix[i, j], va='center', ha='center', size='x-large')\n",
    "\n",
    "plt.xlabel('Actuals', fontsize=15)\n",
    "plt.ylabel('Predictions', fontsize=15)\n",
    "plt.title('Confusion Matrix', fontsize=15)\n",
    "plt.show()\n",
    "\n",
    "\n",
    "#Area under The Curve ausrechnen lassen\n",
    "# Calculate the AUC\n",
    "#The AUC (area under the ROC curve) is a measure of the performance of a binary classification model. \n",
    "#It represents the degree to which the model is able to distinguish between positive and negative examples. \n",
    "#The AUC ranges from 0 to 1, with higher values indicating better performance.\n",
    "auc = roc_auc_score(y_test_unseen, y_pred)\n",
    "print(\"AUC:\", auc)\n",
    "\n",
    "#Balanced ACC\n",
    "#bal_acc = balanced_accuracy_score(y_test, y_pred)\n",
    "#print(\"Balanced accuracy:\", bal_acc)"
   ]
  },
  {
   "cell_type": "code",
   "execution_count": 24,
   "id": "68e3fc9e",
   "metadata": {
    "scrolled": true
   },
   "outputs": [
    {
     "name": "stdout",
     "output_type": "stream",
     "text": [
      "The Number of Rows winning the BuyBox in the total Dataframe is 9923\n",
      "The Number of Rows winning the BuyBox in the Test-Set is 2555\n"
     ]
    }
   ],
   "source": [
    "num_true = (df['buyBoxWinner'] == True).sum()\n",
    "num_true\n",
    "print(f\"The Number of Rows winning the BuyBox in the total Dataframe is {num_true}\")\n",
    "print(f\"The Number of Rows winning the BuyBox in the Test-Set is {conf_matrix[0,0] + conf_matrix[1,0]}\")"
   ]
  },
  {
   "cell_type": "code",
   "execution_count": 25,
   "id": "4c245a6e",
   "metadata": {},
   "outputs": [
    {
     "name": "stdout",
     "output_type": "stream",
     "text": [
      "False    20189\n",
      "True      2555\n",
      "Name: buyBoxWinner, dtype: int64\n",
      "The number of rows in the train set is: 64170\n",
      "The number of rows in the test set is: 22744\n"
     ]
    }
   ],
   "source": [
    "value_counts = y_test_unseen.value_counts()\n",
    "# print the result\n",
    "print(value_counts)\n",
    "# Count the number of rows in the train and test sets\n",
    "num_rows_train = X_train_seen.shape[0]\n",
    "num_rows_test = X_test_unseen.shape[0]\n",
    "# Print the results\n",
    "print(f'The number of rows in the train set is: {num_rows_train}')\n",
    "print(f'The number of rows in the test set is: {num_rows_test}')"
   ]
  },
  {
   "cell_type": "code",
   "execution_count": 26,
   "id": "dd13eaaf",
   "metadata": {
    "scrolled": true
   },
   "outputs": [
    {
     "name": "stdout",
     "output_type": "stream",
     "text": [
      "Accuracy: 95.61%\n",
      "Classification Report:\n",
      "               precision    recall  f1-score   support\n",
      "\n",
      "       False       0.97      0.98      0.98     20189\n",
      "        True       0.81      0.80      0.80      2555\n",
      "\n",
      "    accuracy                           0.96     22744\n",
      "   macro avg       0.89      0.89      0.89     22744\n",
      "weighted avg       0.96      0.96      0.96     22744\n",
      "\n"
     ]
    }
   ],
   "source": [
    "##Qualitätsmaße\n",
    "# Calculate the accuracy, aber ansich nicht so gutes Maß, da imbalanced Verteilung von BuyBox\n",
    "#Gewichtete Accuracy berechnen\n",
    "acc = accuracy_score(y_test_unseen, y_pred)\n",
    "print(\"Accuracy: {:.2f}%\".format(acc * 100))\n",
    "print(\"Classification Report:\\n\", classification_report(y_test_unseen, y_pred))\n"
   ]
  },
  {
   "cell_type": "code",
   "execution_count": 27,
   "id": "13669650",
   "metadata": {},
   "outputs": [
    {
     "name": "stdout",
     "output_type": "stream",
     "text": [
      "Index(['is_amazon', 'price_diff', 'price_ratio', 'seller_sterne',\n",
      "       'sellerbewertung', 'Fulfillment_type', 'lieferpreis', 'date_diff',\n",
      "       'numberOfSellers'],\n",
      "      dtype='object')\n",
      "            Feature  Importance\n",
      "0         is_amazon    0.211544\n",
      "2       price_ratio    0.172460\n",
      "3     seller_sterne    0.142686\n",
      "1        price_diff    0.113654\n",
      "8   numberOfSellers    0.089423\n",
      "4   sellerbewertung    0.087693\n",
      "5  Fulfillment_type    0.081635\n",
      "6       lieferpreis    0.053121\n",
      "7         date_diff    0.047784\n"
     ]
    }
   ],
   "source": [
    "## Print out Feature Importances\n",
    "feature_importances = rfc.feature_importances_\n",
    "feature_names = X_train_seen.columns\n",
    "print(feature_names)\n",
    "# Create a DataFrame of the feature importances and their names\n",
    "feature_importances_df = pd.DataFrame({'Feature': feature_names, 'Importance': feature_importances})\n",
    "\n",
    "# Sort the DataFrame by feature importances in descending order\n",
    "feature_importances_df = feature_importances_df.sort_values(by='Importance', ascending=False)\n",
    "\n",
    "# Print the DataFrame of feature importances and their names\n",
    "print(feature_importances_df)"
   ]
  },
  {
   "cell_type": "code",
   "execution_count": null,
   "id": "71de9241",
   "metadata": {},
   "outputs": [],
   "source": []
  }
 ],
 "metadata": {
  "kernelspec": {
   "display_name": "Python 3 (ipykernel)",
   "language": "python",
   "name": "python3"
  },
  "language_info": {
   "codemirror_mode": {
    "name": "ipython",
    "version": 3
   },
   "file_extension": ".py",
   "mimetype": "text/x-python",
   "name": "python",
   "nbconvert_exporter": "python",
   "pygments_lexer": "ipython3",
   "version": "3.10.9"
  }
 },
 "nbformat": 4,
 "nbformat_minor": 5
}
